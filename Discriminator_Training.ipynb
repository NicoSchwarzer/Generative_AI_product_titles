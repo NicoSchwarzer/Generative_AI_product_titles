{
  "cells": [
    {
      "attachments": {},
      "cell_type": "markdown",
      "metadata": {
        "id": "F9WXjbyyLT72"
      },
      "source": [
        "This File sets up the large Multi-Modal discriminator model which is compromised of a visual model, SBERT embeddings for the textual data and fully connected layers.\n",
        "\n",
        "\n",
        "MORE EXPLANATIONS\n",
        "\n",
        "Note that the execution of this notebook requires a lot of RAM and GPU RAM!"
      ]
    },
    {
      "cell_type": "code",
      "execution_count": 1,
      "metadata": {
        "colab": {
          "base_uri": "https://localhost:8080/"
        },
        "id": "fZzzBVB9LS9Z",
        "outputId": "ea862992-fec5-400f-d11b-43c637534093"
      },
      "outputs": [
        {
          "name": "stdout",
          "output_type": "stream",
          "text": [
            "Requirement already satisfied: transformers in c:\\users\\nico\\appdata\\local\\programs\\python\\python39\\lib\\site-packages (4.14.1)\n",
            "Requirement already satisfied: pyyaml>=5.1 in c:\\users\\nico\\appdata\\local\\programs\\python\\python39\\lib\\site-packages (from transformers) (6.0)\n",
            "Requirement already satisfied: requests in c:\\users\\nico\\appdata\\local\\programs\\python\\python39\\lib\\site-packages (from transformers) (2.28.1)\n",
            "Requirement already satisfied: tqdm>=4.27 in c:\\users\\nico\\appdata\\local\\programs\\python\\python39\\lib\\site-packages (from transformers) (4.62.3)\n"
          ]
        },
        {
          "name": "stderr",
          "output_type": "stream",
          "text": [
            "WARNING: Ignoring invalid distribution -orch (c:\\users\\nico\\appdata\\local\\programs\\python\\python39\\lib\\site-packages)\n",
            "WARNING: Ignoring invalid distribution -orch (c:\\users\\nico\\appdata\\local\\programs\\python\\python39\\lib\\site-packages)\n",
            "WARNING: Ignoring invalid distribution -orch (c:\\users\\nico\\appdata\\local\\programs\\python\\python39\\lib\\site-packages)\n",
            "WARNING: Ignoring invalid distribution -orch (c:\\users\\nico\\appdata\\local\\programs\\python\\python39\\lib\\site-packages)\n",
            "WARNING: Ignoring invalid distribution -orch (c:\\users\\nico\\appdata\\local\\programs\\python\\python39\\lib\\site-packages)\n",
            "WARNING: Ignoring invalid distribution -orch (c:\\users\\nico\\appdata\\local\\programs\\python\\python39\\lib\\site-packages)\n",
            "\n",
            "[notice] A new release of pip available: 22.3.1 -> 23.1.2\n",
            "[notice] To update, run: python.exe -m pip install --upgrade pip\n"
          ]
        },
        {
          "name": "stdout",
          "output_type": "stream",
          "text": [
            "Requirement already satisfied: huggingface-hub<1.0,>=0.1.0 in c:\\users\\nico\\appdata\\local\\programs\\python\\python39\\lib\\site-packages (from transformers) (0.14.1)\n",
            "Requirement already satisfied: regex!=2019.12.17 in c:\\users\\nico\\appdata\\local\\programs\\python\\python39\\lib\\site-packages (from transformers) (2021.11.10)\n",
            "Requirement already satisfied: sacremoses in c:\\users\\nico\\appdata\\local\\programs\\python\\python39\\lib\\site-packages (from transformers) (0.0.46)\n",
            "Requirement already satisfied: tokenizers<0.11,>=0.10.1 in c:\\users\\nico\\appdata\\local\\programs\\python\\python39\\lib\\site-packages (from transformers) (0.10.3)\n",
            "Requirement already satisfied: filelock in c:\\users\\nico\\appdata\\local\\programs\\python\\python39\\lib\\site-packages (from transformers) (3.4.0)\n",
            "Requirement already satisfied: packaging>=20.0 in c:\\users\\nico\\appdata\\local\\programs\\python\\python39\\lib\\site-packages (from transformers) (21.3)\n",
            "Requirement already satisfied: numpy>=1.17 in c:\\users\\nico\\appdata\\local\\programs\\python\\python39\\lib\\site-packages (from transformers) (1.24.3)\n",
            "Requirement already satisfied: typing-extensions>=3.7.4.3 in c:\\users\\nico\\appdata\\local\\programs\\python\\python39\\lib\\site-packages (from huggingface-hub<1.0,>=0.1.0->transformers) (4.4.0)\n",
            "Requirement already satisfied: fsspec in c:\\users\\nico\\appdata\\local\\programs\\python\\python39\\lib\\site-packages (from huggingface-hub<1.0,>=0.1.0->transformers) (2023.5.0)\n",
            "Requirement already satisfied: pyparsing!=3.0.5,>=2.0.2 in c:\\users\\nico\\appdata\\local\\programs\\python\\python39\\lib\\site-packages (from packaging>=20.0->transformers) (3.0.6)\n",
            "Requirement already satisfied: colorama in c:\\users\\nico\\appdata\\local\\programs\\python\\python39\\lib\\site-packages (from tqdm>=4.27->transformers) (0.4.4)\n",
            "Requirement already satisfied: charset-normalizer<3,>=2 in c:\\users\\nico\\appdata\\local\\programs\\python\\python39\\lib\\site-packages (from requests->transformers) (2.0.9)\n",
            "Requirement already satisfied: certifi>=2017.4.17 in c:\\users\\nico\\appdata\\local\\programs\\python\\python39\\lib\\site-packages (from requests->transformers) (2021.10.8)\n",
            "Requirement already satisfied: idna<4,>=2.5 in c:\\users\\nico\\appdata\\local\\programs\\python\\python39\\lib\\site-packages (from requests->transformers) (2.10)\n",
            "Requirement already satisfied: urllib3<1.27,>=1.21.1 in c:\\users\\nico\\appdata\\local\\programs\\python\\python39\\lib\\site-packages (from requests->transformers) (1.26.7)\n",
            "Requirement already satisfied: click in c:\\users\\nico\\appdata\\local\\programs\\python\\python39\\lib\\site-packages (from sacremoses->transformers) (8.0.3)\n",
            "Requirement already satisfied: six in c:\\users\\nico\\appdata\\local\\programs\\python\\python39\\lib\\site-packages (from sacremoses->transformers) (1.16.0)\n",
            "Requirement already satisfied: joblib in c:\\users\\nico\\appdata\\local\\programs\\python\\python39\\lib\\site-packages (from sacremoses->transformers) (1.1.0)\n",
            "Collecting miceforest\n",
            "  Downloading miceforest-5.6.3-py3-none-any.whl (57 kB)\n",
            "     -------------------------------------- 58.0/58.0 kB 101.7 kB/s eta 0:00:00\n",
            "Requirement already satisfied: numpy in c:\\users\\nico\\appdata\\local\\programs\\python\\python39\\lib\\site-packages (from miceforest) (1.24.3)\n",
            "Requirement already satisfied: dill in c:\\users\\nico\\appdata\\local\\programs\\python\\python39\\lib\\site-packages (from miceforest) (0.3.6)\n",
            "Collecting blosc\n",
            "  Downloading blosc-1.11.1-cp39-cp39-win_amd64.whl (1.7 MB)\n",
            "     ---------------------------------------- 1.7/1.7 MB 8.8 MB/s eta 0:00:00\n",
            "Collecting lightgbm>=3.3.1\n",
            "  Downloading lightgbm-3.3.5-py3-none-win_amd64.whl (1.0 MB)\n",
            "     ---------------------------------------- 1.0/1.0 MB 9.2 MB/s eta 0:00:00\n",
            "Requirement already satisfied: wheel in c:\\users\\nico\\appdata\\local\\programs\\python\\python39\\lib\\site-packages (from lightgbm>=3.3.1->miceforest) (0.38.4)\n",
            "Requirement already satisfied: scikit-learn!=0.22.0 in c:\\users\\nico\\appdata\\local\\programs\\python\\python39\\lib\\site-packages (from lightgbm>=3.3.1->miceforest) (1.1.3)\n",
            "Requirement already satisfied: scipy in c:\\users\\nico\\appdata\\local\\programs\\python\\python39\\lib\\site-packages (from lightgbm>=3.3.1->miceforest) (1.7.3)\n",
            "Requirement already satisfied: joblib>=1.0.0 in c:\\users\\nico\\appdata\\local\\programs\\python\\python39\\lib\\site-packages (from scikit-learn!=0.22.0->lightgbm>=3.3.1->miceforest) (1.1.0)\n",
            "Requirement already satisfied: threadpoolctl>=2.0.0 in c:\\users\\nico\\appdata\\local\\programs\\python\\python39\\lib\\site-packages (from scikit-learn!=0.22.0->lightgbm>=3.3.1->miceforest) (3.0.0)\n",
            "Collecting numpy\n",
            "  Downloading numpy-1.22.4-cp39-cp39-win_amd64.whl (14.7 MB)\n",
            "     ---------------------------------------- 14.7/14.7 MB 9.8 MB/s eta 0:00:00\n",
            "Installing collected packages: numpy, blosc, lightgbm, miceforest\n",
            "  Attempting uninstall: numpy\n",
            "    Found existing installation: numpy 1.24.3\n",
            "    Uninstalling numpy-1.24.3:\n",
            "      Successfully uninstalled numpy-1.24.3\n",
            "Successfully installed blosc-1.11.1 lightgbm-3.3.5 miceforest-5.6.3 numpy-1.22.4"
          ]
        },
        {
          "name": "stderr",
          "output_type": "stream",
          "text": [
            "WARNING: Ignoring invalid distribution -orch (c:\\users\\nico\\appdata\\local\\programs\\python\\python39\\lib\\site-packages)\n",
            "WARNING: Ignoring invalid distribution -orch (c:\\users\\nico\\appdata\\local\\programs\\python\\python39\\lib\\site-packages)\n",
            "WARNING: Ignoring invalid distribution -orch (c:\\users\\nico\\appdata\\local\\programs\\python\\python39\\lib\\site-packages)\n",
            "    WARNING: Ignoring invalid distribution -orch (c:\\users\\nico\\appdata\\local\\programs\\python\\python39\\lib\\site-packages)\n",
            "WARNING: Ignoring invalid distribution -orch (c:\\users\\nico\\appdata\\local\\programs\\python\\python39\\lib\\site-packages)\n",
            "WARNING: Ignoring invalid distribution -orch (c:\\users\\nico\\appdata\\local\\programs\\python\\python39\\lib\\site-packages)\n",
            "WARNING: Ignoring invalid distribution -orch (c:\\users\\nico\\appdata\\local\\programs\\python\\python39\\lib\\site-packages)\n",
            "WARNING: Ignoring invalid distribution -orch (c:\\users\\nico\\appdata\\local\\programs\\python\\python39\\lib\\site-packages)\n",
            "ERROR: pip's dependency resolver does not currently take into account all the packages that are installed. This behaviour is the source of the following dependency conflicts.\n",
            "torchvision 0.15.2+cu117 requires torch==2.0.1, but you have torch 2.0.0 which is incompatible.\n",
            "torchtext 0.11.1 requires torch==1.10.1, but you have torch 2.0.0 which is incompatible.\n",
            "WARNING: Ignoring invalid distribution -orch (c:\\users\\nico\\appdata\\local\\programs\\python\\python39\\lib\\site-packages)\n",
            "WARNING: Ignoring invalid distribution -orch (c:\\users\\nico\\appdata\\local\\programs\\python\\python39\\lib\\site-packages)\n",
            "WARNING: Ignoring invalid distribution -orch (c:\\users\\nico\\appdata\\local\\programs\\python\\python39\\lib\\site-packages)\n",
            "\n",
            "[notice] A new release of pip available: 22.3.1 -> 23.1.2\n",
            "[notice] To update, run: python.exe -m pip install --upgrade pip\n"
          ]
        },
        {
          "name": "stdout",
          "output_type": "stream",
          "text": [
            "\n",
            "Requirement already satisfied: sentence_transformers in c:\\users\\nico\\appdata\\local\\programs\\python\\python39\\lib\\site-packages (2.1.0)"
          ]
        },
        {
          "name": "stderr",
          "output_type": "stream",
          "text": [
            "WARNING: Ignoring invalid distribution -orch (c:\\users\\nico\\appdata\\local\\programs\\python\\python39\\lib\\site-packages)\n",
            "WARNING: Ignoring invalid distribution -orch (c:\\users\\nico\\appdata\\local\\programs\\python\\python39\\lib\\site-packages)\n",
            "WARNING: Ignoring invalid distribution -orch (c:\\users\\nico\\appdata\\local\\programs\\python\\python39\\lib\\site-packages)\n",
            "    WARNING: Ignoring invalid distribution -orch (c:\\users\\nico\\appdata\\local\\programs\\python\\python39\\lib\\site-packages)\n",
            "WARNING: Ignoring invalid distribution -orch (c:\\users\\nico\\appdata\\local\\programs\\python\\python39\\lib\\site-packages)\n",
            "ERROR: pip's dependency resolver does not currently take into account all the packages that are installed. This behaviour is the source of the following dependency conflicts.\n",
            "torchtext 0.11.1 requires torch==1.10.1, but you have torch 2.0.1 which is incompatible.\n",
            "WARNING: Ignoring invalid distribution -orch (c:\\users\\nico\\appdata\\local\\programs\\python\\python39\\lib\\site-packages)\n",
            "WARNING: Ignoring invalid distribution -orch (c:\\users\\nico\\appdata\\local\\programs\\python\\python39\\lib\\site-packages)\n",
            "WARNING: Ignoring invalid distribution -orch (c:\\users\\nico\\appdata\\local\\programs\\python\\python39\\lib\\site-packages)\n",
            "\n",
            "[notice] A new release of pip available: 22.3.1 -> 23.1.2\n",
            "[notice] To update, run: python.exe -m pip install --upgrade pip\n"
          ]
        },
        {
          "name": "stdout",
          "output_type": "stream",
          "text": [
            "\n",
            "Requirement already satisfied: transformers<5.0.0,>=4.6.0 in c:\\users\\nico\\appdata\\local\\programs\\python\\python39\\lib\\site-packages (from sentence_transformers) (4.14.1)\n",
            "Requirement already satisfied: tokenizers>=0.10.3 in c:\\users\\nico\\appdata\\local\\programs\\python\\python39\\lib\\site-packages (from sentence_transformers) (0.10.3)\n",
            "Requirement already satisfied: tqdm in c:\\users\\nico\\appdata\\local\\programs\\python\\python39\\lib\\site-packages (from sentence_transformers) (4.62.3)\n",
            "Requirement already satisfied: torch>=1.6.0 in c:\\users\\nico\\appdata\\local\\programs\\python\\python39\\lib\\site-packages (from sentence_transformers) (2.0.0)\n",
            "Requirement already satisfied: torchvision in c:\\users\\nico\\appdata\\local\\programs\\python\\python39\\lib\\site-packages (from sentence_transformers) (0.15.2+cu117)\n",
            "Requirement already satisfied: numpy in c:\\users\\nico\\appdata\\local\\programs\\python\\python39\\lib\\site-packages (from sentence_transformers) (1.22.4)\n",
            "Requirement already satisfied: scikit-learn in c:\\users\\nico\\appdata\\local\\programs\\python\\python39\\lib\\site-packages (from sentence_transformers) (1.1.3)\n",
            "Requirement already satisfied: scipy in c:\\users\\nico\\appdata\\local\\programs\\python\\python39\\lib\\site-packages (from sentence_transformers) (1.7.3)\n",
            "Requirement already satisfied: nltk in c:\\users\\nico\\appdata\\local\\programs\\python\\python39\\lib\\site-packages (from sentence_transformers) (3.6.5)\n",
            "Requirement already satisfied: sentencepiece in c:\\users\\nico\\appdata\\local\\programs\\python\\python39\\lib\\site-packages (from sentence_transformers) (0.1.96)\n",
            "Requirement already satisfied: huggingface-hub in c:\\users\\nico\\appdata\\local\\programs\\python\\python39\\lib\\site-packages (from sentence_transformers) (0.14.1)\n",
            "Requirement already satisfied: networkx in c:\\users\\nico\\appdata\\local\\programs\\python\\python39\\lib\\site-packages (from torch>=1.6.0->sentence_transformers) (3.1)\n",
            "Requirement already satisfied: typing-extensions in c:\\users\\nico\\appdata\\local\\programs\\python\\python39\\lib\\site-packages (from torch>=1.6.0->sentence_transformers) (4.4.0)\n",
            "Requirement already satisfied: filelock in c:\\users\\nico\\appdata\\local\\programs\\python\\python39\\lib\\site-packages (from torch>=1.6.0->sentence_transformers) (3.4.0)\n",
            "Requirement already satisfied: jinja2 in c:\\users\\nico\\appdata\\local\\programs\\python\\python39\\lib\\site-packages (from torch>=1.6.0->sentence_transformers) (3.1.2)\n",
            "Requirement already satisfied: sympy in c:\\users\\nico\\appdata\\local\\programs\\python\\python39\\lib\\site-packages (from torch>=1.6.0->sentence_transformers) (1.11.1)\n",
            "Requirement already satisfied: sacremoses in c:\\users\\nico\\appdata\\local\\programs\\python\\python39\\lib\\site-packages (from transformers<5.0.0,>=4.6.0->sentence_transformers) (0.0.46)\n",
            "Requirement already satisfied: packaging>=20.0 in c:\\users\\nico\\appdata\\local\\programs\\python\\python39\\lib\\site-packages (from transformers<5.0.0,>=4.6.0->sentence_transformers) (21.3)\n",
            "Requirement already satisfied: pyyaml>=5.1 in c:\\users\\nico\\appdata\\local\\programs\\python\\python39\\lib\\site-packages (from transformers<5.0.0,>=4.6.0->sentence_transformers) (6.0)\n",
            "Requirement already satisfied: regex!=2019.12.17 in c:\\users\\nico\\appdata\\local\\programs\\python\\python39\\lib\\site-packages (from transformers<5.0.0,>=4.6.0->sentence_transformers) (2021.11.10)\n",
            "Requirement already satisfied: requests in c:\\users\\nico\\appdata\\local\\programs\\python\\python39\\lib\\site-packages (from transformers<5.0.0,>=4.6.0->sentence_transformers) (2.28.1)\n",
            "Requirement already satisfied: fsspec in c:\\users\\nico\\appdata\\local\\programs\\python\\python39\\lib\\site-packages (from huggingface-hub->sentence_transformers) (2023.5.0)\n",
            "Requirement already satisfied: colorama in c:\\users\\nico\\appdata\\local\\programs\\python\\python39\\lib\\site-packages (from tqdm->sentence_transformers) (0.4.4)\n",
            "Requirement already satisfied: click in c:\\users\\nico\\appdata\\local\\programs\\python\\python39\\lib\\site-packages (from nltk->sentence_transformers) (8.0.3)\n",
            "Requirement already satisfied: joblib in c:\\users\\nico\\appdata\\local\\programs\\python\\python39\\lib\\site-packages (from nltk->sentence_transformers) (1.1.0)\n",
            "Requirement already satisfied: threadpoolctl>=2.0.0 in c:\\users\\nico\\appdata\\local\\programs\\python\\python39\\lib\\site-packages (from scikit-learn->sentence_transformers) (3.0.0)\n",
            "Requirement already satisfied: pillow!=8.3.*,>=5.3.0 in c:\\users\\nico\\appdata\\local\\programs\\python\\python39\\lib\\site-packages (from torchvision->sentence_transformers) (9.0.0)\n",
            "Collecting torch>=1.6.0\n",
            "  Downloading torch-2.0.1-cp39-cp39-win_amd64.whl (172.4 MB)\n",
            "     -------------------------------------- 172.4/172.4 MB 4.4 MB/s eta 0:00:00\n",
            "Requirement already satisfied: pyparsing!=3.0.5,>=2.0.2 in c:\\users\\nico\\appdata\\local\\programs\\python\\python39\\lib\\site-packages (from packaging>=20.0->transformers<5.0.0,>=4.6.0->sentence_transformers) (3.0.6)\n",
            "Requirement already satisfied: MarkupSafe>=2.0 in c:\\users\\nico\\appdata\\local\\programs\\python\\python39\\lib\\site-packages (from jinja2->torch>=1.6.0->sentence_transformers) (2.1.1)\n",
            "Requirement already satisfied: charset-normalizer<3,>=2 in c:\\users\\nico\\appdata\\local\\programs\\python\\python39\\lib\\site-packages (from requests->transformers<5.0.0,>=4.6.0->sentence_transformers) (2.0.9)\n",
            "Requirement already satisfied: certifi>=2017.4.17 in c:\\users\\nico\\appdata\\local\\programs\\python\\python39\\lib\\site-packages (from requests->transformers<5.0.0,>=4.6.0->sentence_transformers) (2021.10.8)\n",
            "Requirement already satisfied: idna<4,>=2.5 in c:\\users\\nico\\appdata\\local\\programs\\python\\python39\\lib\\site-packages (from requests->transformers<5.0.0,>=4.6.0->sentence_transformers) (2.10)\n",
            "Requirement already satisfied: urllib3<1.27,>=1.21.1 in c:\\users\\nico\\appdata\\local\\programs\\python\\python39\\lib\\site-packages (from requests->transformers<5.0.0,>=4.6.0->sentence_transformers) (1.26.7)\n",
            "Requirement already satisfied: six in c:\\users\\nico\\appdata\\local\\programs\\python\\python39\\lib\\site-packages (from sacremoses->transformers<5.0.0,>=4.6.0->sentence_transformers) (1.16.0)\n",
            "Requirement already satisfied: mpmath>=0.19 in c:\\users\\nico\\appdata\\local\\programs\\python\\python39\\lib\\site-packages (from sympy->torch>=1.6.0->sentence_transformers) (1.3.0)\n",
            "Installing collected packages: torch\n",
            "  Attempting uninstall: torch\n",
            "    Found existing installation: torch 2.0.0\n",
            "    Uninstalling torch-2.0.0:\n",
            "      Successfully uninstalled torch-2.0.0\n",
            "Successfully installed torch-2.0.1\n",
            "Collecting accelerate\n"
          ]
        },
        {
          "name": "stderr",
          "output_type": "stream",
          "text": [
            "WARNING: Ignoring invalid distribution -orch (c:\\users\\nico\\appdata\\local\\programs\\python\\python39\\lib\\site-packages)\n",
            "WARNING: Ignoring invalid distribution -orch (c:\\users\\nico\\appdata\\local\\programs\\python\\python39\\lib\\site-packages)\n",
            "WARNING: Ignoring invalid distribution -orch (c:\\users\\nico\\appdata\\local\\programs\\python\\python39\\lib\\site-packages)\n",
            "WARNING: Ignoring invalid distribution -orch (c:\\users\\nico\\appdata\\local\\programs\\python\\python39\\lib\\site-packages)\n",
            "WARNING: Ignoring invalid distribution -orch (c:\\users\\nico\\appdata\\local\\programs\\python\\python39\\lib\\site-packages)\n",
            "WARNING: Ignoring invalid distribution -orch (c:\\users\\nico\\appdata\\local\\programs\\python\\python39\\lib\\site-packages)\n",
            "WARNING: Ignoring invalid distribution -orch (c:\\users\\nico\\appdata\\local\\programs\\python\\python39\\lib\\site-packages)\n",
            "\n",
            "[notice] A new release of pip available: 22.3.1 -> 23.1.2\n",
            "[notice] To update, run: python.exe -m pip install --upgrade pip\n"
          ]
        },
        {
          "name": "stdout",
          "output_type": "stream",
          "text": [
            "  Downloading accelerate-0.19.0-py3-none-any.whl (219 kB)\n",
            "     -------------------------------------- 219.1/219.1 kB 2.7 MB/s eta 0:00:00\n",
            "Requirement already satisfied: psutil in c:\\users\\nico\\appdata\\local\\programs\\python\\python39\\lib\\site-packages (from accelerate) (5.9.4)\n",
            "Requirement already satisfied: pyyaml in c:\\users\\nico\\appdata\\local\\programs\\python\\python39\\lib\\site-packages (from accelerate) (6.0)\n",
            "Requirement already satisfied: torch>=1.6.0 in c:\\users\\nico\\appdata\\local\\programs\\python\\python39\\lib\\site-packages (from accelerate) (2.0.1)\n",
            "Requirement already satisfied: numpy>=1.17 in c:\\users\\nico\\appdata\\local\\programs\\python\\python39\\lib\\site-packages (from accelerate) (1.22.4)\n",
            "Requirement already satisfied: packaging>=20.0 in c:\\users\\nico\\appdata\\local\\programs\\python\\python39\\lib\\site-packages (from accelerate) (21.3)\n",
            "Requirement already satisfied: pyparsing!=3.0.5,>=2.0.2 in c:\\users\\nico\\appdata\\local\\programs\\python\\python39\\lib\\site-packages (from packaging>=20.0->accelerate) (3.0.6)\n",
            "Requirement already satisfied: jinja2 in c:\\users\\nico\\appdata\\local\\programs\\python\\python39\\lib\\site-packages (from torch>=1.6.0->accelerate) (3.1.2)\n",
            "Requirement already satisfied: sympy in c:\\users\\nico\\appdata\\local\\programs\\python\\python39\\lib\\site-packages (from torch>=1.6.0->accelerate) (1.11.1)\n",
            "Requirement already satisfied: typing-extensions in c:\\users\\nico\\appdata\\local\\programs\\python\\python39\\lib\\site-packages (from torch>=1.6.0->accelerate) (4.4.0)\n",
            "Requirement already satisfied: networkx in c:\\users\\nico\\appdata\\local\\programs\\python\\python39\\lib\\site-packages (from torch>=1.6.0->accelerate) (3.1)\n",
            "Requirement already satisfied: filelock in c:\\users\\nico\\appdata\\local\\programs\\python\\python39\\lib\\site-packages (from torch>=1.6.0->accelerate) (3.4.0)\n",
            "Requirement already satisfied: MarkupSafe>=2.0 in c:\\users\\nico\\appdata\\local\\programs\\python\\python39\\lib\\site-packages (from jinja2->torch>=1.6.0->accelerate) (2.1.1)\n",
            "Requirement already satisfied: mpmath>=0.19 in c:\\users\\nico\\appdata\\local\\programs\\python\\python39\\lib\\site-packages (from sympy->torch>=1.6.0->accelerate) (1.3.0)\n",
            "Installing collected packages: accelerate\n",
            "Successfully installed accelerate-0.19.0\n"
          ]
        }
      ],
      "source": [
        "!pip install transformers\n",
        "!pip install miceforest\n",
        "!pip install sentence_transformers\n",
        "!pip install accelerate\n"
      ]
    },
    {
      "cell_type": "code",
      "execution_count": 8,
      "metadata": {},
      "outputs": [
        {
          "name": "stdout",
          "output_type": "stream",
          "text": [
            "Collecting opencv-python\n",
            "  Downloading opencv_python-4.7.0.72-cp37-abi3-win_amd64.whl (38.2 MB)\n",
            "     ---------------------------------------- 38.2/38.2 MB 9.5 MB/s eta 0:00:00\n"
          ]
        },
        {
          "name": "stderr",
          "output_type": "stream",
          "text": [
            "WARNING: Ignoring invalid distribution -orch (c:\\users\\nico\\appdata\\local\\programs\\python\\python39\\lib\\site-packages)\n",
            "WARNING: Ignoring invalid distribution -orch (c:\\users\\nico\\appdata\\local\\programs\\python\\python39\\lib\\site-packages)\n",
            "WARNING: Ignoring invalid distribution -orch (c:\\users\\nico\\appdata\\local\\programs\\python\\python39\\lib\\site-packages)\n",
            "WARNING: Ignoring invalid distribution -orch (c:\\users\\nico\\appdata\\local\\programs\\python\\python39\\lib\\site-packages)\n",
            "WARNING: Ignoring invalid distribution -orch (c:\\users\\nico\\appdata\\local\\programs\\python\\python39\\lib\\site-packages)\n",
            "WARNING: Ignoring invalid distribution -orch (c:\\users\\nico\\appdata\\local\\programs\\python\\python39\\lib\\site-packages)\n",
            "WARNING: Ignoring invalid distribution -orch (c:\\users\\nico\\appdata\\local\\programs\\python\\python39\\lib\\site-packages)\n",
            "\n",
            "[notice] A new release of pip available: 22.3.1 -> 23.1.2\n",
            "[notice] To update, run: python.exe -m pip install --upgrade pip\n"
          ]
        },
        {
          "name": "stdout",
          "output_type": "stream",
          "text": [
            "Requirement already satisfied: numpy>=1.19.3 in c:\\users\\nico\\appdata\\local\\programs\\python\\python39\\lib\\site-packages (from opencv-python) (1.22.4)\n",
            "Installing collected packages: opencv-python\n",
            "Successfully installed opencv-python-4.7.0.72\n"
          ]
        }
      ],
      "source": [
        "!pip install opencv-python\n"
      ]
    },
    {
      "cell_type": "code",
      "execution_count": 9,
      "metadata": {
        "id": "k6nTNMeXAqqE"
      },
      "outputs": [],
      "source": [
        "import torch\n",
        "import numpy as np\n",
        "import torchvision.transforms as transforms\n",
        "from torch.utils.data.sampler import SubsetRandomSampler\n",
        "#import matplotlib.pyplot as plt\n",
        "import torch.nn as nn\n",
        "import torch.nn.functional as F\n",
        "import torch.optim as optim\n",
        "import pandas as pd\n",
        "import numpy as np\n",
        "from PIL import Image\n",
        "from torch.utils.data import Dataset, DataLoader\n",
        "from sklearn.metrics import classification_report\n",
        "import json \n",
        "import cv2\n"
      ]
    },
    {
      "cell_type": "code",
      "execution_count": 10,
      "metadata": {
        "id": "hFR71WyUhrPg"
      },
      "outputs": [],
      "source": [
        "## reading in tabuar data \n",
        "\n",
        "import pandas as pd \n",
        "airbnb_london_filtered_images = pd.read_csv(\"C:/Users/Nico/Documents/Uni/Thesis/extra/discriminator_tabular_data_images.csv\")\n"
      ]
    },
    {
      "attachments": {},
      "cell_type": "markdown",
      "metadata": {
        "id": "QeZTONnXLBSR"
      },
      "source": [
        "## Preparing the Visual Sub-Model \n",
        "\n",
        "The images shall be embedded through a pre-trained Visual Transformer Model (fine-tuned on hotel images) and thus need to be passed through the corresponding Extractor Function (e.g. for image resizing and normalization).\n",
        "\n",
        "However, before loading in this model, I shall downsize all pictures and save the resukting arrays in a JSON to avoild having load them from Drive which solws down the training greatly!"
      ]
    },
    {
      "cell_type": "code",
      "execution_count": 18,
      "metadata": {},
      "outputs": [
        {
          "data": {
            "text/plain": [
              "67934"
            ]
          },
          "execution_count": 18,
          "metadata": {},
          "output_type": "execute_result"
        }
      ],
      "source": [
        "id\n",
        "#img_current = cv2.imread(f\"C:/Users/Nico/Documents/Uni/Thesis/extra/Image_data/Image_data/img_{id}.jpg\")\n",
        "#img_current\n"
      ]
    },
    {
      "cell_type": "code",
      "execution_count": 15,
      "metadata": {},
      "outputs": [],
      "source": [
        "img_current"
      ]
    },
    {
      "cell_type": "code",
      "execution_count": 17,
      "metadata": {
        "colab": {
          "base_uri": "https://localhost:8080/"
        },
        "id": "BRcBiHD1iwSE",
        "outputId": "037adeec-4a80-4e26-f372-8cc69acbb9df"
      },
      "outputs": [
        {
          "name": "stdout",
          "output_type": "stream",
          "text": [
            "0.0\n",
            "4.4306601683650866e-05\n",
            "8.861320336730173e-05\n",
            "0.00013291980505095258\n",
            "0.00017722640673460346\n",
            "0.00022153300841825432\n",
            "0.00026583961010190517\n",
            "0.0003101462117855561\n",
            "0.0003544528134692069\n",
            "0.0003987594151528578\n",
            "0.00044306601683650863\n",
            "0.0004873726185201595\n",
            "0.0005316792202038103\n",
            "0.0005759858218874612\n",
            "0.0006202924235711121\n",
            "0.000664599025254763\n",
            "0.0007089056269384139\n",
            "0.0007532122286220647\n",
            "0.0007975188303057156\n",
            "0.0008418254319893664\n",
            "0.0008861320336730173\n",
            "0.0009304386353566681\n",
            "0.000974745237040319\n",
            "0.0010190518387239698\n",
            "0.0010633584404076207\n"
          ]
        },
        {
          "ename": "error",
          "evalue": "OpenCV(4.7.0) D:\\a\\opencv-python\\opencv-python\\opencv\\modules\\imgproc\\src\\color.cpp:182: error: (-215:Assertion failed) !_src.empty() in function 'cv::cvtColor'\n",
          "output_type": "error",
          "traceback": [
            "\u001b[1;31m---------------------------------------------------------------------------\u001b[0m",
            "\u001b[1;31merror\u001b[0m                                     Traceback (most recent call last)",
            "\u001b[1;32m~\\AppData\\Local\\Temp/ipykernel_11000/2866351072.py\u001b[0m in \u001b[0;36m<module>\u001b[1;34m\u001b[0m\n\u001b[0;32m      7\u001b[0m   \u001b[0mid\u001b[0m \u001b[1;33m=\u001b[0m \u001b[0mairbnb_london_filtered_images\u001b[0m\u001b[1;33m.\u001b[0m\u001b[0mid\u001b[0m\u001b[1;33m[\u001b[0m\u001b[0midx\u001b[0m\u001b[1;33m]\u001b[0m\u001b[1;33m\u001b[0m\u001b[1;33m\u001b[0m\u001b[0m\n\u001b[0;32m      8\u001b[0m   \u001b[0mimg_current\u001b[0m \u001b[1;33m=\u001b[0m \u001b[0mcv2\u001b[0m\u001b[1;33m.\u001b[0m\u001b[0mimread\u001b[0m\u001b[1;33m(\u001b[0m\u001b[1;34mf\"C:/Users/Nico/Documents/Uni/Thesis/extra/Image_data/Image_data/img_{id}.jpg\"\u001b[0m\u001b[1;33m)\u001b[0m\u001b[1;33m\u001b[0m\u001b[1;33m\u001b[0m\u001b[0m\n\u001b[1;32m----> 9\u001b[1;33m   \u001b[0mimg_current\u001b[0m \u001b[1;33m=\u001b[0m \u001b[0mcv2\u001b[0m\u001b[1;33m.\u001b[0m\u001b[0mcvtColor\u001b[0m\u001b[1;33m(\u001b[0m\u001b[0mimg_current\u001b[0m\u001b[1;33m,\u001b[0m\u001b[0mcv2\u001b[0m\u001b[1;33m.\u001b[0m\u001b[0mCOLOR_BGR2RGB\u001b[0m\u001b[1;33m)\u001b[0m\u001b[1;33m\u001b[0m\u001b[1;33m\u001b[0m\u001b[0m\n\u001b[0m\u001b[0;32m     10\u001b[0m   \u001b[0mimg_current\u001b[0m \u001b[1;33m=\u001b[0m \u001b[0mcv2\u001b[0m\u001b[1;33m.\u001b[0m\u001b[0mresize\u001b[0m\u001b[1;33m(\u001b[0m\u001b[0mimg_current\u001b[0m\u001b[1;33m,\u001b[0m\u001b[1;33m(\u001b[0m\u001b[1;36m224\u001b[0m\u001b[1;33m,\u001b[0m\u001b[1;36m224\u001b[0m\u001b[1;33m)\u001b[0m\u001b[1;33m)\u001b[0m\u001b[1;33m\u001b[0m\u001b[1;33m\u001b[0m\u001b[0m\n\u001b[0;32m     11\u001b[0m \u001b[1;33m\u001b[0m\u001b[0m\n",
            "\u001b[1;31merror\u001b[0m: OpenCV(4.7.0) D:\\a\\opencv-python\\opencv-python\\opencv\\modules\\imgproc\\src\\color.cpp:182: error: (-215:Assertion failed) !_src.empty() in function 'cv::cvtColor'\n"
          ]
        }
      ],
      "source": [
        "\n",
        "dict_images = {}\n",
        "\n",
        "for idx in range(airbnb_london_filtered_images.shape[0]):\n",
        "  \n",
        "  print(idx/airbnb_london_filtered_images.shape[0])\n",
        "\n",
        "  id = airbnb_london_filtered_images.id[idx]\n",
        "  img_current = cv2.imread(f\"C:/Users/Nico/Documents/Uni/Thesis/extra/Image_data/Image_data/img_{id}.jpg\")\n",
        "  img_current = cv2.cvtColor(img_current,cv2.COLOR_BGR2RGB)\n",
        "  img_current = cv2.resize(img_current,(224,224))\n",
        "\n",
        "  dict_images[int(id)] = img_current.tolist() \n",
        "\n",
        "  if idx % 200 == 0:\n",
        "    x = json.dumps(dict_images)\n",
        "    with open(\"C:/Users/Nico/Documents/Uni/Thesis/extra/json_images.json\", 'w') as f:\n",
        "      f.write(x)\n",
        "\n",
        "x = json.dumps(dict_images)\n",
        "with open(\"C:/Users/Nico/Documents/Uni/Thesis/extra//json_images.json\", 'w') as f:\n",
        "  f.write(x)"
      ]
    },
    {
      "cell_type": "code",
      "execution_count": null,
      "metadata": {
        "id": "JzRzLVT7wQUL"
      },
      "outputs": [],
      "source": [
        "# for some reason, this fails the first time and gets executed only on the second run ...\n",
        "\n",
        "path = '/content/gdrive/My Drive/Thesis/Image_data/json_images.json'\n",
        "\n",
        "with open(path, \"r\") as read_file:\n",
        "    image_dict = json.load(read_file)"
      ]
    },
    {
      "cell_type": "code",
      "execution_count": null,
      "metadata": {
        "colab": {
          "base_uri": "https://localhost:8080/"
        },
        "id": "Y222y00ch9vh",
        "outputId": "9385894e-75af-4e30-8974-a54aee36f9f9"
      },
      "outputs": [
        {
          "name": "stderr",
          "output_type": "stream",
          "text": [
            "/usr/local/lib/python3.10/dist-packages/transformers/models/vit/feature_extraction_vit.py:28: FutureWarning: The class ViTFeatureExtractor is deprecated and will be removed in version 5 of Transformers. Please use ViTImageProcessor instead.\n",
            "  warnings.warn(\n"
          ]
        }
      ],
      "source": [
        "from transformers import AutoFeatureExtractor, AutoModelForImageClassification, TFViTModel\n",
        "\n",
        "extractor = AutoFeatureExtractor.from_pretrained(\"faisalabidi/hotel-image-classifier\")\n",
        "visual_model = AutoModelForImageClassification.from_pretrained(\"faisalabidi/hotel-image-classifier\")\n"
      ]
    },
    {
      "cell_type": "code",
      "execution_count": 8,
      "metadata": {
        "colab": {
          "base_uri": "https://localhost:8080/"
        },
        "id": "rpLxvG66s_dt",
        "outputId": "166a1281-adfd-4fa0-c432-e914471d784b"
      },
      "outputs": [
        {
          "data": {
            "text/plain": [
              "10.24"
            ]
          },
          "execution_count": 8,
          "metadata": {},
          "output_type": "execute_result"
        }
      ],
      "source": [
        "(224*224)/(70*70)\n"
      ]
    },
    {
      "cell_type": "code",
      "execution_count": null,
      "metadata": {
        "colab": {
          "base_uri": "https://localhost:8080/"
        },
        "id": "o4zMDU9dM5rJ",
        "outputId": "7fdfd9fe-b87b-483f-abcf-a6475a69c21d"
      },
      "outputs": [
        {
          "name": "stdout",
          "output_type": "stream",
          "text": [
            "ViTFeatureExtractor {\n",
            "  \"do_normalize\": true,\n",
            "  \"do_rescale\": true,\n",
            "  \"do_resize\": true,\n",
            "  \"image_mean\": [\n",
            "    0.5,\n",
            "    0.5,\n",
            "    0.5\n",
            "  ],\n",
            "  \"image_processor_type\": \"ViTFeatureExtractor\",\n",
            "  \"image_std\": [\n",
            "    0.5,\n",
            "    0.5,\n",
            "    0.5\n",
            "  ],\n",
            "  \"resample\": 2,\n",
            "  \"rescale_factor\": 0.00392156862745098,\n",
            "  \"size\": {\n",
            "    \"height\": 224,\n",
            "    \"width\": 224\n",
            "  }\n",
            "}\n",
            "\n"
          ]
        }
      ],
      "source": [
        "print(extractor)"
      ]
    },
    {
      "attachments": {},
      "cell_type": "markdown",
      "metadata": {
        "id": "sPtYC-Xji_Mx"
      },
      "source": [
        "This function applies padding to map the image to a 244 * 244 dimension. This has however not been found to have an effect on the predictive quality of the discrininator models which rely on the extractor and the corresponding model."
      ]
    },
    {
      "cell_type": "code",
      "execution_count": null,
      "metadata": {
        "colab": {
          "base_uri": "https://localhost:8080/"
        },
        "id": "j1H2906pMobk",
        "outputId": "3903b543-5e90-4cd4-b1fd-be6b730d58b0"
      },
      "outputs": [
        {
          "name": "stdout",
          "output_type": "stream",
          "text": [
            "ViTForImageClassification(\n",
            "  (vit): ViTModel(\n",
            "    (embeddings): ViTEmbeddings(\n",
            "      (patch_embeddings): ViTPatchEmbeddings(\n",
            "        (projection): Conv2d(3, 768, kernel_size=(16, 16), stride=(16, 16))\n",
            "      )\n",
            "      (dropout): Dropout(p=0.0, inplace=False)\n",
            "    )\n",
            "    (encoder): ViTEncoder(\n",
            "      (layer): ModuleList(\n",
            "        (0-11): 12 x ViTLayer(\n",
            "          (attention): ViTAttention(\n",
            "            (attention): ViTSelfAttention(\n",
            "              (query): Linear(in_features=768, out_features=768, bias=True)\n",
            "              (key): Linear(in_features=768, out_features=768, bias=True)\n",
            "              (value): Linear(in_features=768, out_features=768, bias=True)\n",
            "              (dropout): Dropout(p=0.0, inplace=False)\n",
            "            )\n",
            "            (output): ViTSelfOutput(\n",
            "              (dense): Linear(in_features=768, out_features=768, bias=True)\n",
            "              (dropout): Dropout(p=0.0, inplace=False)\n",
            "            )\n",
            "          )\n",
            "          (intermediate): ViTIntermediate(\n",
            "            (dense): Linear(in_features=768, out_features=3072, bias=True)\n",
            "            (intermediate_act_fn): GELUActivation()\n",
            "          )\n",
            "          (output): ViTOutput(\n",
            "            (dense): Linear(in_features=3072, out_features=768, bias=True)\n",
            "            (dropout): Dropout(p=0.0, inplace=False)\n",
            "          )\n",
            "          (layernorm_before): LayerNorm((768,), eps=1e-12, elementwise_affine=True)\n",
            "          (layernorm_after): LayerNorm((768,), eps=1e-12, elementwise_affine=True)\n",
            "        )\n",
            "      )\n",
            "    )\n",
            "    (layernorm): LayerNorm((768,), eps=1e-12, elementwise_affine=True)\n",
            "  )\n",
            "  (classifier): Linear(in_features=768, out_features=11, bias=True)\n",
            ")\n"
          ]
        }
      ],
      "source": [
        "print(visual_model)"
      ]
    },
    {
      "attachments": {},
      "cell_type": "markdown",
      "metadata": {
        "id": "GL1CXeU-MsUw"
      },
      "source": [
        "The last layer is only used for classification purposes (i.e. mapping to 11 classes) and shall thus not be used here."
      ]
    },
    {
      "cell_type": "code",
      "execution_count": null,
      "metadata": {
        "id": "c040-XGkiOTD"
      },
      "outputs": [],
      "source": [
        "model_vit = visual_model.vit "
      ]
    },
    {
      "attachments": {},
      "cell_type": "markdown",
      "metadata": {
        "id": "A7PJeesOS85t"
      },
      "source": [
        "## Preparing the Textual Sub-Model\n",
        "\n",
        "After experimentation with different models, including task-related pretrained models, I have decided to go with an SBERT model for the encoding of both the Name and the description. Also, I found that having a joint description of both the actual description and the space description works best. This also works because the joint description does not exceed the maximum number of input tokens."
      ]
    },
    {
      "cell_type": "code",
      "execution_count": null,
      "metadata": {
        "id": "ViveTFZ2XfC7"
      },
      "outputs": [],
      "source": [
        "from sentence_transformers  import SentenceTransformer\n",
        "\n",
        "text_model = SentenceTransformer('sentence-transformers/all-mpnet-base-v2')\n"
      ]
    },
    {
      "cell_type": "code",
      "execution_count": null,
      "metadata": {
        "id": "n8O1Xc3pbGdD"
      },
      "outputs": [],
      "source": [
        "text_model = text_model.to(\"cuda\") ## already here so that an efficient collate batch fuunction can be set up ( see below)"
      ]
    },
    {
      "attachments": {},
      "cell_type": "markdown",
      "metadata": {
        "id": "oJ7wkKlKQIfB"
      },
      "source": [
        "## Discriminator Approach 1)  Training on Sparse Data\n",
        "\n"
      ]
    },
    {
      "attachments": {},
      "cell_type": "markdown",
      "metadata": {
        "id": "pjD3ybn7Tjmy"
      },
      "source": [
        "Setting up a (rather sparse) DF for which the variable selection is motivated by other papers trying to work out what influences a listings' succes.\n",
        "E.g. this DF does not include the Sub Review Scores (lie Review Scores on location, communication etc) and the binary variables for the amenities.\n",
        "\n",
        "The variable 'host acceptance rate' might also be interesting but contains more than 50% NA.\n",
        "\n",
        "I shall refrain from normilzation becasue the values in the numeric columns are within a certain range (like e.g. for beds, bedrooms, reviews etc.)\n",
        "\n",
        "The id column is also passed to the DFto identify and load images later on.\n"
      ]
    },
    {
      "cell_type": "code",
      "execution_count": null,
      "metadata": {
        "id": "k3_377EwUPnA"
      },
      "outputs": [],
      "source": [
        "sparse_columns = ['id', 'name', 'description', 'neighborhood_overview', 'in_inner_boundary', 'host_is_superhost', 'host_identity_verified', 'room_type', 'accommodates', 'bedrooms', 'beds', 'price', 'minimum_nights', 'maximum_nights', 'review_scores_rating', 'number_of_reviews', 'len_amenities', 'in_inner_boundary', 'proxy', 'review_diff']\n",
        "airbnb_london_filtered_images_sparse = airbnb_london_filtered_images[sparse_columns]"
      ]
    },
    {
      "cell_type": "code",
      "execution_count": null,
      "metadata": {
        "colab": {
          "base_uri": "https://localhost:8080/"
        },
        "id": "Dmo-ArAuVj8u",
        "outputId": "6376ff63-4cf4-4da7-a6bb-8f0a762b86fa"
      },
      "outputs": [
        {
          "data": {
            "text/plain": [
              "id                           0\n",
              "name                         0\n",
              "description                  0\n",
              "neighborhood_overview     6828\n",
              "in_inner_boundary            0\n",
              "host_is_superhost            0\n",
              "host_identity_verified       0\n",
              "room_type                    0\n",
              "accommodates                 0\n",
              "bedrooms                   976\n",
              "beds                       267\n",
              "price                        0\n",
              "minimum_nights               0\n",
              "maximum_nights               0\n",
              "review_scores_rating        67\n",
              "number_of_reviews            0\n",
              "len_amenities                0\n",
              "in_inner_boundary            0\n",
              "proxy                        0\n",
              "review_diff                  0\n",
              "dtype: int64"
            ]
          },
          "execution_count": 7,
          "metadata": {},
          "output_type": "execute_result"
        }
      ],
      "source": [
        "airbnb_london_filtered_images_sparse.isna().sum()"
      ]
    },
    {
      "attachments": {},
      "cell_type": "markdown",
      "metadata": {
        "id": "jr_tIpcTUBGo"
      },
      "source": []
    },
    {
      "attachments": {},
      "cell_type": "markdown",
      "metadata": {
        "id": "TJ_vL3Cni-pf"
      },
      "source": [
        "Dealing with missing data\n",
        "\n",
        "* Replacing NaNs in Space description with text that indicates no given information!\n",
        "* FOr the reiview scores, the data points shall just be dropped as this variable is hard to infer from the others and only very few data points are affected!\n",
        "* For other tabular, continuous varables with missing values, ML-based imputation using Light GB and MICE (Multiple Imputation by Chained Equation) shall be deployed (https://pypi.org/project/miceforest/)\n",
        "\n"
      ]
    },
    {
      "cell_type": "code",
      "execution_count": null,
      "metadata": {
        "id": "HI6ygQfbV6Oj"
      },
      "outputs": [],
      "source": [
        "airbnb_london_filtered_images_sparse = airbnb_london_filtered_images_sparse[airbnb_london_filtered_images_sparse.review_scores_rating.isna() == False]"
      ]
    },
    {
      "cell_type": "code",
      "execution_count": null,
      "metadata": {
        "id": "q7JDY2AFe7mr"
      },
      "outputs": [],
      "source": [
        "airbnb_london_filtered_images_sparse.neighborhood_overview = airbnb_london_filtered_images_sparse.neighborhood_overview.fillna(\"No description\")\n",
        "airbnb_london_filtered_images_sparse[\"joint_description\"] = airbnb_london_filtered_images_sparse.description + \" . \" + airbnb_london_filtered_images_sparse.neighborhood_overview\n"
      ]
    },
    {
      "cell_type": "code",
      "execution_count": null,
      "metadata": {
        "colab": {
          "base_uri": "https://localhost:8080/"
        },
        "id": "D5mKSQZgij-R",
        "outputId": "24517970-37a7-4196-e1f2-043254b5ad77"
      },
      "outputs": [
        {
          "name": "stdout",
          "output_type": "stream",
          "text": [
            "26\n"
          ]
        }
      ],
      "source": [
        "## are the listings that contin neither bedroom nor bathroom info the same? \n",
        "print(airbnb_london_filtered_images_sparse[(airbnb_london_filtered_images_sparse.beds.isna()==True)  &  (airbnb_london_filtered_images_sparse.bedrooms.isna()==True)].shape[0])\n"
      ]
    },
    {
      "cell_type": "code",
      "execution_count": null,
      "metadata": {
        "id": "eL1knBHptwED"
      },
      "outputs": [],
      "source": [
        "airbnb_london_filtered_images_sparse.room_type = cat_to_numeric(airbnb_london_filtered_images_sparse.room_type).astype(\"int\")\n",
        "df_imputed = apply_gbm_impute(airbnb_london_filtered_images_sparse[['room_type', 'accommodates', 'bedrooms', 'beds']], 5)"
      ]
    },
    {
      "cell_type": "code",
      "execution_count": null,
      "metadata": {
        "id": "Ii0GmPafvWro"
      },
      "outputs": [],
      "source": [
        "airbnb_london_filtered_images_sparse[\"bedrooms\"] = df_imputed[\"bedrooms\"]\n",
        "airbnb_london_filtered_images_sparse[\"beds\"] = df_imputed[\"beds\"]\n"
      ]
    },
    {
      "cell_type": "code",
      "execution_count": null,
      "metadata": {
        "id": "6DUteIOJxAOw"
      },
      "outputs": [],
      "source": [
        "# from categorical to numeric\n",
        "airbnb_london_filtered_images_sparse.host_is_superhost = cat_to_numeric(airbnb_london_filtered_images_sparse.host_is_superhost).astype(\"int\")\n",
        "airbnb_london_filtered_images_sparse.host_identity_verified = cat_to_numeric(airbnb_london_filtered_images_sparse.host_identity_verified).astype(\"int\")\n",
        "\n"
      ]
    },
    {
      "cell_type": "code",
      "execution_count": null,
      "metadata": {
        "id": "OrqBq9FFbu6E"
      },
      "outputs": [],
      "source": [
        "airbnb_london_filtered_images_sparse_train = airbnb_london_filtered_images_sparse.sample(n = int( np.ceil(0.7*airbnb_london_filtered_images_sparse.shape[0])), random_state = 100)\n",
        "airbnb_london_filtered_images_sparse_eval = airbnb_london_filtered_images_sparse.drop(airbnb_london_filtered_images_sparse_train.index, axis = 0)"
      ]
    },
    {
      "cell_type": "code",
      "execution_count": null,
      "metadata": {
        "colab": {
          "base_uri": "https://localhost:8080/"
        },
        "id": "S2iXq7NadQGP",
        "outputId": "ba49a709-0a8d-4ea7-dd80-9b10a5a1b389"
      },
      "outputs": [
        {
          "data": {
            "text/plain": [
              "21"
            ]
          },
          "execution_count": 15,
          "metadata": {},
          "output_type": "execute_result"
        }
      ],
      "source": [
        "len(airbnb_london_filtered_images_sparse_train.columns)\n"
      ]
    },
    {
      "cell_type": "code",
      "execution_count": null,
      "metadata": {
        "id": "CQ9z-hOb6px-"
      },
      "outputs": [],
      "source": [
        "data_sparse_train = Simple_Dataset(airbnb_london_filtered_images_sparse_train)\n",
        "data_sparse_eval = Simple_Dataset(airbnb_london_filtered_images_sparse_eval)\n"
      ]
    },
    {
      "cell_type": "code",
      "execution_count": null,
      "metadata": {
        "id": "oHcwQi1pAO8a"
      },
      "outputs": [],
      "source": [
        "def collate_batch_sparse(batch):\n",
        "\n",
        "  list_images = []   # for the images passed through extractor function \n",
        "  tabular_list = []\n",
        "  list_proxies = []\n",
        "  list_review_diff = []\n",
        "  list_name = []\n",
        "  list_joint_description = []\n",
        "  list_ids = []\n",
        "\n",
        "  for data in batch:\n",
        "\n",
        "    # indexing the image pixels form the dict\n",
        "    list_images.append( extractor(torch.tensor(image_dict[str(data[0])]))['pixel_values'][0] )\n",
        "    list_ids.append(data[0]) # for saving the predictions\n",
        "\n",
        "    list_name.append(text_model.encode(data[1]))\n",
        "    \n",
        "    tabular_list.append(data[4:18]) ## locations of tabular data \n",
        "    if int(data[18]) == 1:  ## location of categorical proxy variable \n",
        "      list_proxies.append([1,0,0])\n",
        "    elif int(data[18]) == 2: \n",
        "      list_proxies.append([0,1,0])\n",
        "    elif int(data[18]) == 3:\n",
        "      list_proxies.append([0,0,1])\n",
        " \n",
        "    list_review_diff.append(data[19])  ## location of cont. review diff variable\n",
        "    list_joint_description.append(text_model.encode(data[20]))\n",
        "\n",
        "  list_images  = torch.tensor(list_images, dtype=torch.float32)\n",
        "  tabular_list = torch.tensor(tabular_list, dtype=torch.float32)\n",
        "  list_proxies = torch.tensor(list_proxies, dtype=torch.float32)\n",
        "\n",
        "  return list_images, list_name, list_joint_description, tabular_list, list_proxies, list_review_diff, list_ids\n",
        "  \n",
        "\n",
        "# images, names, des, tabular data, proxies, review_diff, ids  \n"
      ]
    },
    {
      "cell_type": "code",
      "execution_count": null,
      "metadata": {
        "id": "MMLXKmCyBzKW"
      },
      "outputs": [],
      "source": [
        "dl_train = DataLoader(dataset=data_sparse_train, collate_fn=collate_batch_sparse, batch_size=64, shuffle=True)\n",
        "dl_eval = DataLoader(dataset=data_sparse_eval, collate_fn=collate_batch_sparse, batch_size=32, shuffle=False)\n"
      ]
    },
    {
      "cell_type": "code",
      "execution_count": null,
      "metadata": {
        "id": "2SlkqI952DU1"
      },
      "outputs": [],
      "source": [
        "## param freezing alredy here ?!\n",
        "\n",
        "for param in text_model.parameters():\n",
        "  param.requires_grad = False\n",
        "\n",
        "for param in model_vit.parameters():\n",
        "  param.requires_grad = False\n"
      ]
    },
    {
      "cell_type": "code",
      "execution_count": null,
      "metadata": {
        "id": "52vYHD-RFOOM"
      },
      "outputs": [],
      "source": [
        "## simple neural net -- tabular inputs --> review_diff \n",
        "\n",
        "import torch\n",
        "from torch import nn\n",
        "from torch import optim\n",
        "\n",
        "tab_input_dim = 14\n",
        "final_output_dim_text_name = 5\n",
        "final_output_dim_text_des = 5\n",
        "final_output_dim_visual = 5\n",
        "\n",
        "\n",
        "hidden_dim_1 = 60\n",
        "hidden_dim_2 = 60\n",
        "hidden_dim_3 = 60\n",
        "hidden_dim_4 = 20\n",
        "output_dim = 1\n",
        "\n",
        "\n",
        "## name, des / text model \n",
        "\n",
        "\n",
        "class NeuralNetwork(nn.Module): ## without extractor\n",
        "    def __init__(self, model_vit, tab_input_dim, final_output_dim_visual, final_output_dim_text_name, final_output_dim_text_des, hidden_dim_1, hidden_dim_2, hidden_dim_3, hiddem_dim_4, output_dim):\n",
        "        super(NeuralNetwork, self).__init__()\n",
        "\n",
        "        self.model_vit = model_vit\n",
        "        for param in self.model_vit.parameters():\n",
        "          param.requires_grad = False\n",
        "\n",
        "        # layers build on top of visual model before concatination \n",
        "        self.visual_add_layer_1 = torch.nn.Linear(in_features=768, out_features=20, bias=True)\n",
        "        self.visual_add_layer_2 = torch.nn.Linear(in_features=20, out_features=4, bias=True)\n",
        "        # flattening / torch.flatten(-, start_dim = 1)\n",
        "        self.visual_add_layer_3 = torch.nn.Linear(in_features=788, out_features=50, bias=True)\n",
        "        self.visual_add_layer_4 = torch.nn.Linear(in_features=50, out_features=final_output_dim_visual, bias=True) ## concat after this layer of dim Batch Size x final_output_dim_visual\n",
        "        \n",
        "\n",
        "        # Layers added after Name/Title \n",
        "        self.name_added_layer_1 = nn.Linear(768, 100, bias=True)\n",
        "        self.name_added_layer_2 = nn.Linear(100, 100, bias=True)\n",
        "        ### dropout ## \n",
        "        self.name_added_layer_3 = nn.Linear(100, 50, bias=True)\n",
        "        self.name_added_layer_4 = nn.Linear(50, final_output_dim_text_name, bias=True)\n",
        "\n",
        "        # Layers added after Description \n",
        "        self.des_added_layer_1 = nn.Linear(768, 100, bias=True)\n",
        "        self.des_added_layer_2 = nn.Linear(100, 100, bias=True)\n",
        "        ### dropout ## \n",
        "        self.des_added_layer_3 = nn.Linear(100, 50, bias=True)\n",
        "        self.des_added_layer_4 = nn.Linear(50, final_output_dim_text_des, bias=True)\n",
        "\n",
        "\n",
        "        ### Layers added after Joint Description ### \n",
        "\n",
        "        # dimension after concat operation\n",
        "        self.concat_dim = tab_input_dim + final_output_dim_visual + final_output_dim_text_name + final_output_dim_text_des\n",
        "\n",
        "        # layers processing input after concatination \n",
        "        self.layer_1 = nn.Linear(self.concat_dim, hidden_dim_1)\n",
        "        self.layer_2 = nn.Linear(hidden_dim_1, hidden_dim_2)\n",
        "        self.layer_3 = nn.Linear(hidden_dim_2, hidden_dim_3)\n",
        "        self.layer_4 = nn.Linear(hidden_dim_3, hidden_dim_4)\n",
        "        self.layer_5 = nn.Linear(hidden_dim_4, output_dim)\n",
        "        self.dropout = nn.Dropout(0.02) \n",
        "\n",
        "       \n",
        "    def forward(self, img, name_encoded, des_encoded, X):  ## name, des\n",
        "\n",
        "        ## firstly processing outputs of visual and textual model ##\n",
        "\n",
        "        # visual model \n",
        "        output_img = self.model_vit(img)\n",
        "        output_img = self.visual_add_layer_1(output_img.last_hidden_state)\n",
        "        output_img = self.dropout(output_img)\n",
        "        output_img = self.visual_add_layer_2(output_img)\n",
        "        output_img = torch.flatten(output_img, start_dim = 1)\n",
        "        output_img = self.visual_add_layer_3(output_img)\n",
        "        final_output_img = self.visual_add_layer_4(output_img)\n",
        "\n",
        "        # textual - description \n",
        "        encoded_des = torch.tensor(des_encoded)\n",
        "        encoded_des = self.des_added_layer_1(encoded_des)\n",
        "        encoded_des = self.dropout(encoded_des)\n",
        "        encoded_des = self.des_added_layer_2(encoded_des)\n",
        "        encoded_des = self.dropout(encoded_des)\n",
        "        encoded_des = self.des_added_layer_3(encoded_des)\n",
        "        final_encoded_des = self.des_added_layer_4(encoded_des)\n",
        "\n",
        "        # textual - Name \n",
        "        encoded_name = torch.tensor(name_encoded)\n",
        "        encoded_name = self.name_added_layer_1(encoded_name)\n",
        "        encoded_name = self.dropout(encoded_name)\n",
        "        encoded_name = self.name_added_layer_2(encoded_name)\n",
        "        encoded_name = self.name_added_layer_3(encoded_name)\n",
        "        final_encoded_name = self.name_added_layer_4(encoded_name)\n",
        "\n",
        "\n",
        "        # concatination #\n",
        "        x = torch.cat((final_output_img, final_encoded_name, final_encoded_des, X), 1)\n",
        "\n",
        "        ## processing of joint representation ## \n",
        "        x = torch.nn.functional.tanh(self.layer_1(x))\n",
        "        x = torch.nn.functional.tanh(self.layer_2(x))\n",
        "        x = self.dropout(x)\n",
        "        x = torch.nn.functional.tanh(self.layer_3(x))\n",
        "        x = torch.nn.functional.tanh(self.layer_4(x))\n",
        "        x = self.layer_5(x)\n",
        "\n",
        "        return x"
      ]
    },
    {
      "attachments": {},
      "cell_type": "markdown",
      "metadata": {
        "id": "lf4mz7Jls2d7"
      },
      "source": [
        "### Training a NN with continuous outcome variable Review Diff"
      ]
    },
    {
      "cell_type": "code",
      "execution_count": null,
      "metadata": {
        "id": "hW1AT6pSFwKA"
      },
      "outputs": [],
      "source": [
        "output_dim = 1 ## here\n",
        "model = NeuralNetwork( model_vit, tab_input_dim, final_output_dim_visual, final_output_dim_text_name, final_output_dim_text_des, hidden_dim_1, hidden_dim_2, hidden_dim_3, hidden_dim_4, output_dim)\n",
        "\n",
        "learning_rate = 0.0005\n",
        "loss_fn = nn.MSELoss() ## BCE IN case of proxy \n",
        "optimizer = torch.optim.Adam(model.parameters(), lr=learning_rate) ## adam"
      ]
    },
    {
      "cell_type": "code",
      "execution_count": null,
      "metadata": {
        "id": "o0hSzzHtVNij"
      },
      "outputs": [],
      "source": [
        "from transformers import get_scheduler\n",
        "\n",
        "accelerator = Accelerator()\n",
        "model, optimizer, dl_train, dl_eval = accelerator.prepare(\n",
        "    model, optimizer, dl_train, dl_eval\n",
        ")\n",
        "\n",
        "num_update_steps_per_epoch = len(dl_train)\n",
        "num_epochs = 100\n",
        "\n",
        "num_training_steps = num_epochs * num_update_steps_per_epoch\n",
        "\n",
        "\n",
        "lr_scheduler = get_scheduler(\n",
        "    \"linear\",\n",
        "    optimizer=optimizer,\n",
        "    num_warmup_steps=0,     ## one might also alter this!\n",
        "    num_training_steps=num_training_steps,\n",
        ")\n",
        "\n",
        "\n",
        "device = \"cuda\"\n",
        "model = model.to(device)"
      ]
    },
    {
      "cell_type": "code",
      "execution_count": null,
      "metadata": {
        "id": "nHyfmnDBLwzZ"
      },
      "outputs": [],
      "source": [
        "\n",
        "overall_loss_values = []\n",
        "overall_loss_values_eval = []\n",
        "\n",
        "\n",
        "progress_bar = tqdm(range(num_training_steps))\n",
        "\n",
        "for epoch in range(num_epochs):\n",
        "\n",
        "  loss_values = []\n",
        "  loss_values_eval = []\n",
        "\n",
        "  model.train()\n",
        "\n",
        "  for batch in dl_train:\n",
        "\n",
        "    img = batch[0].to(device)\n",
        "    name = torch.tensor(batch[1]).to(device)\n",
        "    joint_des = torch.tensor(batch[2]).to(device)\n",
        "    X = batch[3].to(device)\n",
        "    Y = torch.tensor(batch[5]).to(device)\n",
        "    pred = model(img, name, joint_des, X)\n",
        "    loss = loss_fn(pred.squeeze(), Y)\n",
        "    loss_values.append(loss.item())\n",
        "    accelerator.backward(loss)\n",
        "\n",
        "    optimizer.step()\n",
        "    lr_scheduler.step()\n",
        "    progress_bar.update(1)\n",
        "\n",
        "  model.eval()\n",
        "\n",
        "  with torch.no_grad():\n",
        "    for batch in dl_eval:\n",
        "\n",
        "      img = batch[0].to(device)\n",
        "      name = torch.tensor(batch[1]).to(device)\n",
        "      joint_des = torch.tensor(batch[2]).to(device)\n",
        "      X = batch[3].to(device)\n",
        "      Y = torch.tensor(batch[5]).to(device)\n",
        "      pred = model(img, name, joint_des, X)\n",
        "      loss = loss_fn(pred.squeeze(), Y)\n",
        "      loss_values_eval.append(loss.item())\n",
        "\n",
        "  overall_loss_values.append(np.mean(loss_values))\n",
        "  overall_loss_values_eval.append(np.mean(loss_values_eval))\n",
        "\n",
        "#  print(f\"Iteration No {str(epoch + 1)}\")\n",
        "#  print(f\"Train Loss: {str(np.mean(loss_values))}\")\n",
        "#  print(f\"Eval Loss: {str(np.mean(loss_values_eval))}\")\n",
        "#  print(\"---------------------\")\n"
      ]
    },
    {
      "cell_type": "code",
      "execution_count": null,
      "metadata": {
        "id": "L0YLPeaNGO82"
      },
      "outputs": [],
      "source": [
        "#saving the model \n",
        "model_save_name = 'discriminator_sparse_1_cont.pth'\n",
        "\n",
        "path =\"/content/gdrive/My Drive/Thesis/Models/{}\".format(model_save_name)\n",
        "torch.save(model, path)\n"
      ]
    },
    {
      "cell_type": "code",
      "execution_count": null,
      "metadata": {
        "id": "X222eJDhnnKH"
      },
      "outputs": [],
      "source": [
        "name_to_save = \"losses_disc_1_cont\"\n",
        "df_losses_1 = pd.DataFrame({\"loss_eval\": overall_loss_values_eval, \"loss_train\": overall_loss_values })\n",
        "df_losses_1.to_csv(f\"/content/gdrive/My Drive/Thesis/loss_data/{name_to_save}.csv\", index = False)"
      ]
    },
    {
      "cell_type": "code",
      "execution_count": null,
      "metadata": {
        "colab": {
          "base_uri": "https://localhost:8080/",
          "height": 449
        },
        "id": "vjZNWYmTXLxK",
        "outputId": "b828557e-fe47-4bea-fa69-c5723373b67a"
      },
      "outputs": [
        {
          "data": {
            "image/png": "[encoded data removed]",
            "text/plain": [
              "<Figure size 640x480 with 1 Axes>"
            ]
          },
          "metadata": {},
          "output_type": "display_data"
        }
      ],
      "source": [
        "# over  epochs \n",
        "## plotting loss \n",
        "import matplotlib.pyplot as plt\n",
        "name_to_save = \"losses_discriminator_1_cont\"\n",
        "\n",
        "epochs = list(range(1,num_epochs+1))\n",
        "\n",
        "plt.plot(epochs, overall_loss_values, color = \"black\")\n",
        "plt.plot(epochs, overall_loss_values_eval, color = \"black\", linestyle='dashed')\n",
        "plt.legend([\"Training Loss\", \"Evaluation Loss\"], loc='upper right')\n",
        "plt.xlabel(\"Training Iterations\")\n",
        "plt.ylabel(\"Loss after iteration\")\n",
        "plt.savefig(f'/content/gdrive/My Drive/Thesis/Plots/{name_to_save}.png')\n",
        "plt.show()"
      ]
    },
    {
      "cell_type": "code",
      "execution_count": null,
      "metadata": {
        "id": "tIV3FbLDa8nl"
      },
      "outputs": [],
      "source": [
        "## also saving predictions with real names!\n",
        "\n",
        "\n",
        "ids = []\n",
        "preds = []\n",
        "\n",
        "with torch.no_grad():\n",
        "  for batch in dl_eval:\n",
        "\n",
        "    img = batch[0].to(device)\n",
        "    name = torch.tensor(batch[1]).to(device)\n",
        "    joint_des = torch.tensor(batch[2]).to(device)\n",
        "    X = batch[3].to(device)\n",
        "    Y = torch.tensor(batch[5]).to(device)\n",
        "    pred = model(img, name, joint_des, X)\n",
        "    \n",
        "    ids.extend(batch[0])\n",
        "    preds.extend(pred.cpu().numpy() )\n",
        "    \n",
        "\n",
        "pred_disc_1_cont_real_name = pd.DataFrame({\"id\": ids, \"pred\": preds})\n",
        "pred_disc_1_cont_real_name.to_csv(\"/content/gdrive/My Drive/Thesis/Discriminator_Predictions/pred_disc_1_cont_real_name.csv\", index = False)"
      ]
    },
    {
      "attachments": {},
      "cell_type": "markdown",
      "metadata": {
        "id": "7JzCFdlpLBP8"
      },
      "source": [
        "#### Training Model with categorical outcome "
      ]
    },
    {
      "cell_type": "code",
      "execution_count": null,
      "metadata": {
        "id": "gHLtj_twseaC"
      },
      "outputs": [],
      "source": [
        "## again but with 3-fold categorical output \n",
        "output_dim =3\n",
        "model = NeuralNetwork( model_vit, tab_input_dim, final_output_dim_visual, final_output_dim_text_name, final_output_dim_text_des, hidden_dim_1, hidden_dim_2, hidden_dim_3, hidden_dim_4, output_dim)\n",
        "\n",
        "learning_rate = 0.003\n",
        "loss_fn = nn.CrossEntropyLoss() ## automatically integrates softmax calculation\n",
        "optimizer = torch.optim.Adam(model.parameters(), lr=learning_rate) ## adam"
      ]
    },
    {
      "cell_type": "code",
      "execution_count": null,
      "metadata": {
        "id": "65rkbgWHtcIL"
      },
      "outputs": [],
      "source": [
        "from transformers import get_scheduler\n",
        "\n",
        "accelerator = Accelerator()\n",
        "model, optimizer, dl_train, dl_eval = accelerator.prepare(\n",
        "    model, optimizer, dl_train, dl_eval\n",
        ")\n",
        "\n",
        "num_update_steps_per_epoch = len(dl_train)\n",
        "num_epochs = 100\n",
        "\n",
        "num_training_steps = num_epochs * num_update_steps_per_epoch\n",
        "\n",
        "lr_scheduler = get_scheduler(\n",
        "    \"linear\",\n",
        "    optimizer=optimizer,\n",
        "    num_warmup_steps=0,     ## one might also alter this!\n",
        "    num_training_steps=num_training_steps,\n",
        ")\n",
        "\n",
        "device = \"cuda\"\n",
        "model = model.to(device)"
      ]
    },
    {
      "cell_type": "code",
      "execution_count": null,
      "metadata": {
        "id": "AWxPqOn0nKI7"
      },
      "outputs": [],
      "source": [
        "\n",
        "overall_loss_values = []\n",
        "overall_loss_values_eval = []\n",
        "\n",
        "all_loss_values = []\n",
        "all_loss_values_eval = []\n",
        "\n",
        "progress_bar = tqdm(range(num_training_steps))\n",
        "\n",
        "for epoch in range(num_epochs):\n",
        "\n",
        "  loss_values = []\n",
        "  loss_values_eval = []\n",
        "\n",
        "\n",
        "  model.train()\n",
        "\n",
        "  for batch in dl_train:\n",
        "\n",
        "    img = batch[0].to(device)\n",
        "    name = torch.tensor(batch[1]).to(device)\n",
        "    joint_des = torch.tensor(batch[2]).to(device)\n",
        "    X = batch[3].to(device)\n",
        "    Y = torch.tensor(batch[4]).to(device)   # index = 4 for cat outcome\n",
        "    pred = model(img, name, joint_des, X)\n",
        "    loss = loss_fn(pred.squeeze(), Y)\n",
        "    loss_values.append(loss.item())\n",
        "    optimizer.zero_grad()\n",
        "\n",
        "    all_loss_values.append(loss.item())\n",
        "    loss.backward()\n",
        "    optimizer.step()\n",
        "    lr_scheduler.step()\n",
        "    progress_bar.update(1)\n",
        "\n",
        "   # print(f\"Train loss mean: {str(np.mean(all_loss_values))}\" )\n",
        "\n",
        "\n",
        "  model.eval()\n",
        "\n",
        "  with torch.no_grad():\n",
        "    for batch in dl_eval:\n",
        "\n",
        "      img = batch[0].to(device)\n",
        "      name = torch.tensor(batch[1]).to(device)\n",
        "      joint_des = torch.tensor(batch[2]).to(device)\n",
        "      X = batch[3].to(device)\n",
        "      Y = torch.tensor(batch[4]).to(device)\n",
        "\n",
        "      pred = model(img, X)\n",
        "      optimizer.zero_grad()\n",
        "      pred = model(img, name, joint_des, X)\n",
        "      loss = loss_fn(pred.squeeze(), Y)\n",
        "      loss_values_eval.append(loss.item())\n",
        "      all_loss_values_eval.append(loss.item())\n",
        "\n",
        "  overall_loss_values.append(np.mean(loss_values))\n",
        "  overall_loss_values_eval.append(np.mean(loss_values_eval))\n",
        "\n",
        "#  print(f\"Iteration No {str(epoch + 1)}\")\n",
        "#  print(f\"Train Loss: {str(np.mean(loss_values))}\")\n",
        "#  print(f\"Eval Loss: {str(np.mean(loss_values_eval))}\")\n",
        "#  print(\"---------------------\")\n"
      ]
    },
    {
      "cell_type": "code",
      "execution_count": null,
      "metadata": {
        "id": "6bYBwJtElVzN"
      },
      "outputs": [],
      "source": [
        "#saving the model \n",
        "model_save_name = 'discriminator_sparse_1_cat.pth'\n",
        "\n",
        "path =\"/content/gdrive/My Drive/Thesis/Models/{}\".format(model_save_name)\n",
        "torch.save(model, path)\n"
      ]
    },
    {
      "cell_type": "code",
      "execution_count": null,
      "metadata": {
        "id": "qoAo83UkbvIm"
      },
      "outputs": [],
      "source": [
        "name_to_save = \"losses_disc_1_cat\"\n",
        "df_losses_1 = pd.DataFrame({\"loss_eval\": overall_loss_values, \"loss_train\": overall_loss_values_eval })\n",
        "df_losses_1.to_csv(f\"/content/gdrive/My Drive/Thesis/loss_data/{name_to_save}.csv\", index = False)"
      ]
    },
    {
      "cell_type": "code",
      "execution_count": null,
      "metadata": {
        "colab": {
          "base_uri": "https://localhost:8080/",
          "height": 449
        },
        "id": "KfY7OPqkc1Iy",
        "outputId": "35fbd551-d738-4933-eb5f-8fe503a2caf4"
      },
      "outputs": [
        {
          "data": {
            "image/png": "[encoded data removed]",
            "text/plain": [
              "<Figure size 640x480 with 1 Axes>"
            ]
          },
          "metadata": {},
          "output_type": "display_data"
        }
      ],
      "source": [
        "# over  epochs \n",
        "## plotting loss \n",
        "import matplotlib.pyplot as plt\n",
        "name_to_save = \"losses_discriminator_1_cat\"\n",
        "\n",
        "epochs = list(range(1,num_epochs+1))\n",
        "\n",
        "plt.plot(epochs, overall_loss_values, color = \"black\")\n",
        "plt.plot(epochs, overall_loss_values_eval, color = \"black\", linestyle='dashed')\n",
        "plt.legend([\"Training Loss\", \"Evaluation Loss\"], loc='upper right')\n",
        "plt.xlabel(\"Training Iterations\")\n",
        "plt.ylabel(\"Loss after iteration\")\n",
        "plt.savefig(f'/content/gdrive/My Drive/Thesis/Plots/{name_to_save}.png')\n",
        "plt.show()"
      ]
    },
    {
      "cell_type": "code",
      "execution_count": null,
      "metadata": {
        "id": "i_Fjq_7je7pn"
      },
      "outputs": [],
      "source": [
        "\n",
        "## saving predictions with real name\n",
        "\n",
        "ids = []\n",
        "preds = []\n",
        "\n",
        "with torch.no_grad():\n",
        "  for batch in dl_eval:\n",
        "\n",
        "    img = batch[0].to(device)\n",
        "    name = torch.tensor(batch[1]).to(device)\n",
        "    joint_des = torch.tensor(batch[2]).to(device)\n",
        "    X = batch[3].to(device)\n",
        "    Y = torch.tensor(batch[5]).to(device)\n",
        "    pred = model(img, name, joint_des, X)\n",
        "    cat_pred = [i+1 for i in np.argmax(pred.cpu().numpy(), axis = 1)]  ## adding +1 since proxy is encoded as 1,2,3  , not 0,1,2\n",
        "\n",
        "    ids.extend(batch[0])\n",
        "    preds.extend(cat_pred)\n",
        "\n"
      ]
    },
    {
      "cell_type": "code",
      "execution_count": null,
      "metadata": {
        "id": "MV4wLiMeeogC"
      },
      "outputs": [],
      "source": [
        "pred_disc_1_cat_real_name = pd.DataFrame({\"id\": ids, \"pred\": preds})\n",
        "pred_disc_1_cat_real_name.to_csv(\"/content/gdrive/My Drive/Thesis/Discriminator_Predictions/pred_disc_1_cat_real_name.csv\", index = False)"
      ]
    },
    {
      "cell_type": "code",
      "execution_count": null,
      "metadata": {
        "colab": {
          "base_uri": "https://localhost:8080/"
        },
        "id": "YhOdZtsJPaXW",
        "outputId": "beb77933-3181-4259-8506-437bf11c099b"
      },
      "outputs": [
        {
          "name": "stdout",
          "output_type": "stream",
          "text": [
            "{'precision': 0.6947948972654936, 'recall': 0.7570521341013144, 'f1-score': 0.7167970210922702, 'support': 6771}\n"
          ]
        },
        {
          "name": "stderr",
          "output_type": "stream",
          "text": [
            "<ipython-input-58-6a7462072968>:15: UserWarning: To copy construct from a tensor, it is recommended to use sourceTensor.clone().detach() or sourceTensor.clone().detach().requires_grad_(True), rather than torch.tensor(sourceTensor).\n",
            "  Y = torch.tensor(batch[idx_output])\n"
          ]
        }
      ],
      "source": [
        "### obtaining classification report \n",
        "\n",
        "argmax_labels = []\n",
        "argmax_preds = []\n",
        "labels = [0,1,2]\n",
        "\n",
        "with torch.no_grad():\n",
        "  for batch in dl_eval:\n",
        "    img = batch[0].to(device)\n",
        "    name = torch.tensor(batch[1]).to(device)\n",
        "    joint_des = torch.tensor(batch[2]).to(device)\n",
        "    X = batch[3].to(device)\n",
        "    Y = torch.tensor(batch[5]).to(device)\n",
        "    pred = model(img, name, joint_des, X)\n",
        "    argmax_labels.extend( list(np.argmax(Y.numpy(), axis = 1) ))    \n",
        "    argmax_preds.extend( list(np.argmax(pred.numpy(), axis = 1) ))  \n",
        "\n",
        "report = classification_report(y_true=argmax_labels, y_pred=argmax_preds, labels=labels, output_dict = True)\n",
        "print(report['weighted avg'])\n"
      ]
    },
    {
      "attachments": {},
      "cell_type": "markdown",
      "metadata": {
        "id": "LrUvTVl2aSXs"
      },
      "source": [
        "## Discriminator Approach 2) Letting the model decide on which features to use \n",
        "\n",
        "As an alternative to the first approach, I shall let a model decide on the most important tabluar features to include the the multi-modal model. More specifically, a Lasso Regression with increasing lambda is run to determine these features. These are then used in the MM Model alongside the main image, the name and the joint description."
      ]
    },
    {
      "cell_type": "code",
      "execution_count": null,
      "metadata": {
        "id": "WRvG4hJIa3lg"
      },
      "outputs": [],
      "source": [
        "## listing all potential logical tabular confounders\n",
        " \n",
        "#print(airbnb_london_filtered_images.columns[:60])\n",
        "#print(airbnb_london_filtered_images.columns[60:])\n",
        "\n",
        "\n",
        "## list of these - including other variabls that will be needed later on like id, name, outcome variables ... \n",
        "pot_confounders = ['id', 'name', 'description', 'neighborhood_overview',\n",
        "       'host_response_time', 'host_response_rate', 'host_acceptance_rate',\n",
        "       'host_is_superhost', 'host_listings_count', 'host_identity_verified',\n",
        "       'neighbourhood_cleansed', 'neighbourhood_group_cleansed', 'room_type', 'accommodates', 'bathrooms',\n",
        "       'bedrooms', 'beds', 'price', 'minimum_nights', 'maximum_nights', 'number_of_reviews',\n",
        "       'number_of_reviews_ltm','review_scores_rating', 'review_scores_accuracy',\n",
        "       'review_scores_cleanliness', 'review_scores_checkin',\n",
        "       'review_scores_communication', 'review_scores_location',\n",
        "       'review_scores_value', 'reviews_per_month', 'in_inner_boundary', 'price_per_accomodate',\n",
        "       'has_amenity_Wifi', 'has_amenity_Essentials', 'has_amenity_Kitchen',\n",
        "       'has_amenity_Heating', 'has_amenity_Smoke alarm', 'has_amenity_Washer',\n",
        "       'has_amenity_Hangers', 'has_amenity_Long term stays allowed',\n",
        "       'has_amenity_Iron', 'has_amenity_Hair dryer', 'has_amenity_Shampoo',\n",
        "       'has_amenity_Hot water', 'has_amenity_Carbon monoxide alarm',\n",
        "       'has_amenity_Dishes and silverware', 'has_amenity_Refrigerator',\n",
        "       'has_amenity_TV', 'has_amenity_Cooking basics',\n",
        "       'has_amenity_Bed linens', 'has_amenity_Oven', 'has_amenity_Microwave',\n",
        "       'has_amenity_Dryer', 'has_amenity_Stove', 'has_amenity_First aid kit',\n",
        "       'has_amenity_Fire extinguisher', 'has_amenity_Coffee maker',\n",
        "       'has_amenity_Dishwasher', 'has_amenity_Private entrance',\n",
        "       'has_amenity_Extra pillows and blankets', 'has_amenity_Elevator',\n",
        "       'has_amenity_Host greets you', 'has_amenity_Free parking on premises',\n",
        "       'len_amenities', 'len_description', 'proxy', 'review_diff']"
      ]
    },
    {
      "cell_type": "code",
      "execution_count": null,
      "metadata": {
        "id": "cHGZQNLwcghC"
      },
      "outputs": [],
      "source": [
        "airbnb_london_filtered_images_pot_conf = airbnb_london_filtered_images[pot_confounders]\n"
      ]
    },
    {
      "attachments": {},
      "cell_type": "markdown",
      "metadata": {
        "id": "0jOb9jBlcoqp"
      },
      "source": [
        "Checking for NaNs to know which columns are unusable andd fir which dropping these are imputing might make sense"
      ]
    },
    {
      "cell_type": "code",
      "execution_count": null,
      "metadata": {
        "colab": {
          "base_uri": "https://localhost:8080/"
        },
        "id": "j2pORlhJcnDV",
        "outputId": "8a97a0ad-94ac-443a-9b6a-322ccdd5a789"
      },
      "outputs": [
        {
          "name": "stdout",
          "output_type": "stream",
          "text": [
            "id                                  0\n",
            "name                                0\n",
            "description                         0\n",
            "neighborhood_overview            6828\n",
            "host_response_time              12233\n",
            "host_response_rate              12233\n",
            "host_acceptance_rate            10998\n",
            "host_is_superhost                   0\n",
            "host_listings_count                 0\n",
            "host_identity_verified              0\n",
            "neighbourhood_cleansed              0\n",
            "neighbourhood_group_cleansed    22570\n",
            "room_type                           0\n",
            "accommodates                        0\n",
            "bathrooms                       22570\n",
            "bedrooms                          976\n",
            "beds                              267\n",
            "price                               0\n",
            "minimum_nights                      0\n",
            "maximum_nights                      0\n",
            "number_of_reviews                   0\n",
            "number_of_reviews_ltm               0\n",
            "review_scores_rating               67\n",
            "review_scores_accuracy            657\n",
            "review_scores_cleanliness         650\n",
            "review_scores_checkin             683\n",
            "review_scores_communication       663\n",
            "review_scores_location            682\n",
            "review_scores_value               685\n",
            "reviews_per_month                  67\n",
            "dtype: int64\n",
            "in_inner_boundary                         0\n",
            "price_per_accomodate                      0\n",
            "has_amenity_Wifi                          0\n",
            "has_amenity_Essentials                    0\n",
            "has_amenity_Kitchen                       0\n",
            "has_amenity_Heating                       0\n",
            "has_amenity_Smoke alarm                   0\n",
            "has_amenity_Washer                        0\n",
            "has_amenity_Hangers                       0\n",
            "has_amenity_Long term stays allowed       0\n",
            "has_amenity_Iron                          0\n",
            "has_amenity_Hair dryer                    0\n",
            "has_amenity_Shampoo                       0\n",
            "has_amenity_Hot water                     0\n",
            "has_amenity_Carbon monoxide alarm         0\n",
            "has_amenity_Dishes and silverware         0\n",
            "has_amenity_Refrigerator                  0\n",
            "has_amenity_TV                            0\n",
            "has_amenity_Cooking basics                0\n",
            "has_amenity_Bed linens                    0\n",
            "has_amenity_Oven                          0\n",
            "has_amenity_Microwave                     0\n",
            "has_amenity_Dryer                         0\n",
            "has_amenity_Stove                         0\n",
            "has_amenity_First aid kit                 0\n",
            "has_amenity_Fire extinguisher             0\n",
            "has_amenity_Coffee maker                  0\n",
            "has_amenity_Dishwasher                    0\n",
            "has_amenity_Private entrance              0\n",
            "has_amenity_Extra pillows and blankets    0\n",
            "has_amenity_Elevator                      0\n",
            "has_amenity_Host greets you               0\n",
            "has_amenity_Free parking on premises      0\n",
            "len_amenities                             0\n",
            "len_description                           0\n",
            "proxy                                     0\n",
            "review_diff                               0\n",
            "dtype: int64\n"
          ]
        }
      ],
      "source": [
        "print(airbnb_london_filtered_images_pot_conf.isna().sum()[0:30])\n",
        "print(airbnb_london_filtered_images_pot_conf.isna().sum()[30:])\n"
      ]
    },
    {
      "attachments": {},
      "cell_type": "markdown",
      "metadata": {
        "id": "OSkpyoRjeSkl"
      },
      "source": [
        "I shall drop thoe variables with an extremely high number of NaNs as these are too many to impute and that would introduce too much noise. Also, I shall drop the variavbes concering the reviews like review_scores_accuracy etc as these are hard to impute from other vriables (unlike e.g. beds for which variables like the number of accomodates or the number of bedrooms are good indicators)."
      ]
    },
    {
      "cell_type": "code",
      "execution_count": null,
      "metadata": {
        "id": "h69qM3_OdXvW"
      },
      "outputs": [],
      "source": [
        "to_drop = [\"host_response_time\",\"host_response_rate\",\"host_acceptance_rate\",\n",
        "  \"neighbourhood_group_cleansed\", \"bathrooms\", \"review_scores_accuracy\",\n",
        "  \"review_scores_cleanliness\", \"review_scores_checkin\", \"review_scores_communication\",\n",
        "  \"review_scores_location\",\"review_scores_value\"]\n",
        "\n",
        "\n",
        "airbnb_london_filtered_images_pot_conf = airbnb_london_filtered_images_pot_conf.drop(to_drop, axis = 1)"
      ]
    },
    {
      "cell_type": "code",
      "execution_count": null,
      "metadata": {
        "id": "9ZaMNv4adqtn"
      },
      "outputs": [],
      "source": [
        "## once again imputing for beds and bedrooms \n",
        "\n",
        "airbnb_london_filtered_images_pot_conf.room_type = cat_to_numeric(airbnb_london_filtered_images_pot_conf.room_type).astype(\"int\")\n",
        "df_imputed = apply_gbm_impute(airbnb_london_filtered_images_pot_conf[['room_type', 'accommodates', 'bedrooms', 'beds']], 5)\n",
        "\n",
        "airbnb_london_filtered_images_pot_conf[\"bedrooms\"] = df_imputed[\"bedrooms\"]\n",
        "airbnb_london_filtered_images_pot_conf[\"beds\"] = df_imputed[\"beds\"]\n"
      ]
    },
    {
      "cell_type": "code",
      "execution_count": null,
      "metadata": {
        "id": "PLkYxtqAvNrS"
      },
      "outputs": [],
      "source": [
        "## taking care of nans in neighborhood descritiotn and coding joint description variable \n",
        "\n",
        "airbnb_london_filtered_images_pot_conf.neighborhood_overview = airbnb_london_filtered_images_pot_conf.neighborhood_overview.fillna(\"No description\")\n",
        "airbnb_london_filtered_images_pot_conf[\"joint_description\"] = airbnb_london_filtered_images_pot_conf.description + \" . \" + airbnb_london_filtered_images_pot_conf.neighborhood_overview"
      ]
    },
    {
      "attachments": {},
      "cell_type": "markdown",
      "metadata": {
        "id": "WfGTcV7Kf6Q8"
      },
      "source": [
        "Variables reviews_per_month and review_scores_rating might both be important aand hard to imput. Lets see if the NaNs in both variables (same number!) corrrelate      "
      ]
    },
    {
      "cell_type": "code",
      "execution_count": null,
      "metadata": {
        "colab": {
          "base_uri": "https://localhost:8080/"
        },
        "id": "xUgfkn1mdyD_",
        "outputId": "44ee60ba-f157-4501-bbeb-c48a6abc5094"
      },
      "outputs": [
        {
          "data": {
            "text/plain": [
              "67"
            ]
          },
          "execution_count": 18,
          "metadata": {},
          "output_type": "execute_result"
        }
      ],
      "source": [
        "## correlation of reviews_per_month and review_scores_rating             \n",
        "\n",
        "airbnb_london_filtered_images_pot_conf.reviews_per_month[airbnb_london_filtered_images_pot_conf.review_scores_rating.isna() == True].isna().sum()\n",
        "\n",
        "# So perfect correlation in the NaNs -> dropping these datapoints\n"
      ]
    },
    {
      "cell_type": "code",
      "execution_count": null,
      "metadata": {
        "id": "nhhyDGamgnOD"
      },
      "outputs": [],
      "source": [
        "airbnb_london_filtered_images_pot_conf = airbnb_london_filtered_images_pot_conf[airbnb_london_filtered_images_pot_conf.review_scores_rating.isna() == False]"
      ]
    },
    {
      "attachments": {},
      "cell_type": "markdown",
      "metadata": {
        "id": "62KJwjPhguZE"
      },
      "source": [
        "Examining the data types and which categorical variables need to be mapped to continuous"
      ]
    },
    {
      "cell_type": "code",
      "execution_count": null,
      "metadata": {
        "colab": {
          "base_uri": "https://localhost:8080/"
        },
        "id": "pq-i5A1Vg0o3",
        "outputId": "6ee6f276-b0f1-4a13-8928-a143b53194b4"
      },
      "outputs": [
        {
          "data": {
            "text/plain": [
              "id                                          int64\n",
              "name                                       object\n",
              "description                                object\n",
              "neighborhood_overview                      object\n",
              "host_is_superhost                          object\n",
              "host_listings_count                       float64\n",
              "host_identity_verified                     object\n",
              "neighbourhood_cleansed                     object\n",
              "room_type                                   int64\n",
              "accommodates                              float64\n",
              "bedrooms                                  float64\n",
              "beds                                      float64\n",
              "price                                     float64\n",
              "minimum_nights                            float64\n",
              "maximum_nights                            float64\n",
              "number_of_reviews                         float64\n",
              "number_of_reviews_ltm                     float64\n",
              "review_scores_rating                      float64\n",
              "reviews_per_month                         float64\n",
              "in_inner_boundary                           int64\n",
              "price_per_accomodate                      float64\n",
              "has_amenity_Wifi                            int64\n",
              "has_amenity_Essentials                      int64\n",
              "has_amenity_Kitchen                         int64\n",
              "has_amenity_Heating                         int64\n",
              "has_amenity_Smoke alarm                     int64\n",
              "has_amenity_Washer                          int64\n",
              "has_amenity_Hangers                         int64\n",
              "has_amenity_Long term stays allowed         int64\n",
              "has_amenity_Iron                            int64\n",
              "has_amenity_Hair dryer                      int64\n",
              "has_amenity_Shampoo                         int64\n",
              "has_amenity_Hot water                       int64\n",
              "has_amenity_Carbon monoxide alarm           int64\n",
              "has_amenity_Dishes and silverware           int64\n",
              "has_amenity_Refrigerator                    int64\n",
              "has_amenity_TV                              int64\n",
              "has_amenity_Cooking basics                  int64\n",
              "has_amenity_Bed linens                      int64\n",
              "has_amenity_Oven                            int64\n",
              "has_amenity_Microwave                       int64\n",
              "has_amenity_Dryer                           int64\n",
              "has_amenity_Stove                           int64\n",
              "has_amenity_First aid kit                   int64\n",
              "has_amenity_Fire extinguisher               int64\n",
              "has_amenity_Coffee maker                    int64\n",
              "has_amenity_Dishwasher                      int64\n",
              "has_amenity_Private entrance                int64\n",
              "has_amenity_Extra pillows and blankets      int64\n",
              "has_amenity_Elevator                        int64\n",
              "has_amenity_Host greets you                 int64\n",
              "has_amenity_Free parking on premises        int64\n",
              "len_amenities                               int64\n",
              "len_description                             int64\n",
              "proxy                                       int64\n",
              "review_diff                               float64\n",
              "joint_description                          object\n",
              "dtype: object"
            ]
          },
          "execution_count": 20,
          "metadata": {},
          "output_type": "execute_result"
        }
      ],
      "source": [
        "airbnb_london_filtered_images_pot_conf.dtypes"
      ]
    },
    {
      "cell_type": "code",
      "execution_count": null,
      "metadata": {
        "colab": {
          "base_uri": "https://localhost:8080/"
        },
        "id": "47xjMQtVhrq0",
        "outputId": "4fd65f28-0846-40f6-c43b-e5c45c5483dd"
      },
      "outputs": [
        {
          "name": "stderr",
          "output_type": "stream",
          "text": [
            "<ipython-input-20-d87fdc14e479>:1: SettingWithCopyWarning: \n",
            "A value is trying to be set on a copy of a slice from a DataFrame.\n",
            "Try using .loc[row_indexer,col_indexer] = value instead\n",
            "\n",
            "See the caveats in the documentation: https://pandas.pydata.org/pandas-docs/stable/user_guide/indexing.html#returning-a-view-versus-a-copy\n",
            "  airbnb_london_filtered_images_pot_conf.host_is_superhost = cat_to_numeric(airbnb_london_filtered_images_pot_conf.host_is_superhost).astype(\"int\")\n",
            "<ipython-input-20-d87fdc14e479>:2: SettingWithCopyWarning: \n",
            "A value is trying to be set on a copy of a slice from a DataFrame.\n",
            "Try using .loc[row_indexer,col_indexer] = value instead\n",
            "\n",
            "See the caveats in the documentation: https://pandas.pydata.org/pandas-docs/stable/user_guide/indexing.html#returning-a-view-versus-a-copy\n",
            "  airbnb_london_filtered_images_pot_conf.host_identity_verified = cat_to_numeric(airbnb_london_filtered_images_pot_conf.host_identity_verified).astype(\"int\")\n"
          ]
        }
      ],
      "source": [
        "airbnb_london_filtered_images_pot_conf.host_is_superhost = cat_to_numeric(airbnb_london_filtered_images_pot_conf.host_is_superhost).astype(\"int\")\n",
        "airbnb_london_filtered_images_pot_conf.host_identity_verified = cat_to_numeric(airbnb_london_filtered_images_pot_conf.host_identity_verified).astype(\"int\")"
      ]
    },
    {
      "cell_type": "code",
      "execution_count": null,
      "metadata": {
        "id": "UybDI9_pigQy"
      },
      "outputs": [],
      "source": [
        "dummies_neighborhood = pd.get_dummies(airbnb_london_filtered_images_pot_conf.neighbourhood_cleansed)\n"
      ]
    },
    {
      "cell_type": "code",
      "execution_count": null,
      "metadata": {
        "id": "NOlTLhcwjDsS"
      },
      "outputs": [],
      "source": [
        "# dropping object oof neighborhoods \n",
        "airbnb_london_filtered_images_pot_conf = airbnb_london_filtered_images_pot_conf.drop(\"neighbourhood_cleansed\", axis = 1 )\n",
        "\n",
        "# concatiinating \n",
        "airbnb_london_filtered_images_pot_conf = pd.concat([airbnb_london_filtered_images_pot_conf, dummies_neighborhood], axis = 1)"
      ]
    },
    {
      "attachments": {},
      "cell_type": "markdown",
      "metadata": {
        "id": "tFLIwGHSkuvt"
      },
      "source": [
        "Now using lasso regressions combined with grid search and cross validation and an increasing regularization hyper-parameter to figure out which feature combination yields to best out-of-sample fit. I shall ose the continuous review difference variable as the couome variable to "
      ]
    },
    {
      "cell_type": "code",
      "execution_count": null,
      "metadata": {
        "id": "GE_Bc3hDktFe"
      },
      "outputs": [],
      "source": [
        "## dropping non-tabukar data and outcomes\n",
        "X = airbnb_london_filtered_images_pot_conf.drop(['id', 'name', 'description', 'neighborhood_overview', 'joint_description','proxy', 'review_diff'], axis = 1)\n",
        "Y_1 = airbnb_london_filtered_images_pot_conf[\"review_diff\"]"
      ]
    },
    {
      "cell_type": "code",
      "execution_count": null,
      "metadata": {
        "id": "GwH7BgVHkh5E"
      },
      "outputs": [],
      "source": [
        "pipeline = Pipeline([\n",
        "                     ('scaler',StandardScaler()),\n",
        "                     ('model',Lasso())\n",
        "])\n",
        "\n",
        "# very fine-grained list of potential hyperparamters\n",
        "list_hyperparams = list(np.arange(0.005, 10, 0.005))\n",
        "\n",
        "search = GridSearchCV(pipeline,\n",
        "                      {'model__alpha': list_hyperparams},\n",
        "                      cv = 3, scoring=\"neg_mean_squared_error\")"
      ]
    },
    {
      "cell_type": "code",
      "execution_count": null,
      "metadata": {
        "id": "8mRr0GQgmqZD"
      },
      "outputs": [],
      "source": [
        "#search.fit(X, Y_1) ## runs for some time!\n"
      ]
    },
    {
      "cell_type": "code",
      "execution_count": null,
      "metadata": {
        "colab": {
          "base_uri": "https://localhost:8080/"
        },
        "id": "ROnQ9Bv5qz3A",
        "outputId": "1f5e5e34-03d9-4514-b082-6d57b8161092"
      },
      "outputs": [
        {
          "name": "stdout",
          "output_type": "stream",
          "text": [
            "['host_is_superhost' 'host_listings_count' 'host_identity_verified'\n",
            " 'room_type' 'minimum_nights' 'number_of_reviews' 'number_of_reviews_ltm'\n",
            " 'reviews_per_month' 'price_per_accomodate' 'has_amenity_Wifi'\n",
            " 'has_amenity_Essentials' 'has_amenity_Heating' 'has_amenity_Washer'\n",
            " 'has_amenity_Shampoo' 'has_amenity_Dishes and silverware'\n",
            " 'has_amenity_Refrigerator' 'has_amenity_Microwave'\n",
            " 'has_amenity_Dishwasher' 'has_amenity_Private entrance'\n",
            " 'has_amenity_Elevator' 'len_amenities' 'len_description' 'Bexley' 'Brent'\n",
            " 'Bromley' 'City of London' 'Hillingdon' 'Islington'\n",
            " 'Kensington and Chelsea' 'Lewisham' 'Westminster']\n"
          ]
        }
      ],
      "source": [
        "best_model_coefs = search.best_estimator_.named_steps['model'].coef_\n",
        "feature_importance = np.abs(best_model_coefs)\n",
        "\n",
        "\n",
        "## important features\n",
        "print(np.array(X.columns)[feature_importance > 0])"
      ]
    },
    {
      "cell_type": "code",
      "execution_count": null,
      "metadata": {
        "id": "EalgtmmqrQ3p"
      },
      "outputs": [],
      "source": [
        "imp_confounders = list(\"host_is_superhost' 'host_listings_count' 'host_identity_verified' 'room_type' 'minimum_nights' 'number_of_reviews' 'number_of_reviews_ltm' 'reviews_per_month' 'price_per_accomodate' 'has_amenity_Wifi' 'has_amenity_Essentials' 'has_amenity_Heating' 'has_amenity_Washer' 'has_amenity_Shampoo' 'has_amenity_Dishes and silverware' 'has_amenity_Refrigerator' 'has_amenity_Microwave' 'has_amenity_Dishwasher' 'has_amenity_Private entrance' 'has_amenity_Elevator' 'len_amenities' 'len_description' 'Bexley' 'Brent' 'Bromley' 'City of London' 'Hillingdon' 'Islington' 'Kensington and Chelsea' 'Lewisham' 'Westminster\".split(\"' '\"))\n"
      ]
    },
    {
      "cell_type": "code",
      "execution_count": null,
      "metadata": {
        "id": "AFcvyNnXtVA_"
      },
      "outputs": [],
      "source": [
        "airbnb_london_filtered_images_pot_conf_X = airbnb_london_filtered_images_pot_conf[imp_confounders]\n",
        "\n",
        "## adding further variables needed for the model \n",
        "\n",
        "airbnb_london_filtered_images_imp_var = pd.concat([airbnb_london_filtered_images_pot_conf_X, airbnb_london_filtered_images_pot_conf[[\"id\", \"name\", \"joint_description\", \"proxy\", \"review_diff\"]] ], axis = 1)"
      ]
    },
    {
      "attachments": {},
      "cell_type": "markdown",
      "metadata": {
        "id": "vctf198zp14V"
      },
      "source": [
        "Now setting up the DaltaLoaders and the models "
      ]
    },
    {
      "cell_type": "code",
      "execution_count": null,
      "metadata": {
        "id": "-r2oHGlTpxR7"
      },
      "outputs": [],
      "source": [
        "airbnb_london_filtered_images_train = airbnb_london_filtered_images_imp_var.sample(n = int( np.ceil(0.7*airbnb_london_filtered_images_imp_var.shape[0])), random_state = 100)\n",
        "airbnb_london_filtered_images_eval = airbnb_london_filtered_images_imp_var.drop(airbnb_london_filtered_images_train.index, axis = 0)\n",
        "\n"
      ]
    },
    {
      "cell_type": "code",
      "execution_count": null,
      "metadata": {
        "id": "xm68Cx1jqguT"
      },
      "outputs": [],
      "source": [
        "data_train = Simple_Dataset(airbnb_london_filtered_images_train)\n",
        "data_eval = Simple_Dataset(airbnb_london_filtered_images_eval)\n"
      ]
    },
    {
      "cell_type": "code",
      "execution_count": null,
      "metadata": {
        "colab": {
          "base_uri": "https://localhost:8080/"
        },
        "id": "JjDdQ2JJwKoF",
        "outputId": "58c722bb-d46b-40cd-b60d-8b82000e7beb"
      },
      "outputs": [
        {
          "name": "stdout",
          "output_type": "stream",
          "text": [
            "At position 0 : variable host_is_superhost\n",
            "At position 1 : variable host_listings_count\n",
            "At position 2 : variable host_identity_verified\n",
            "At position 3 : variable room_type\n",
            "At position 4 : variable minimum_nights\n",
            "At position 5 : variable number_of_reviews\n",
            "At position 6 : variable number_of_reviews_ltm\n",
            "At position 7 : variable reviews_per_month\n",
            "At position 8 : variable price_per_accomodate\n",
            "At position 9 : variable has_amenity_Wifi\n",
            "At position 10 : variable has_amenity_Essentials\n",
            "At position 11 : variable has_amenity_Heating\n",
            "At position 12 : variable has_amenity_Washer\n",
            "At position 13 : variable has_amenity_Shampoo\n",
            "At position 14 : variable has_amenity_Dishes and silverware\n",
            "At position 15 : variable has_amenity_Refrigerator\n",
            "At position 16 : variable has_amenity_Microwave\n",
            "At position 17 : variable has_amenity_Dishwasher\n",
            "At position 18 : variable has_amenity_Private entrance\n",
            "At position 19 : variable has_amenity_Elevator\n",
            "At position 20 : variable len_amenities\n",
            "At position 21 : variable len_description\n",
            "At position 22 : variable Bexley\n",
            "At position 23 : variable Brent\n",
            "At position 24 : variable Bromley\n",
            "At position 25 : variable City of London\n",
            "At position 26 : variable Hillingdon\n",
            "At position 27 : variable Islington\n",
            "At position 28 : variable Kensington and Chelsea\n",
            "At position 29 : variable Lewisham\n",
            "At position 30 : variable Westminster\n",
            "At position 31 : variable id\n",
            "At position 32 : variable name\n",
            "At position 33 : variable joint_description\n",
            "At position 34 : variable proxy\n",
            "At position 35 : variable review_diff\n"
          ]
        }
      ],
      "source": [
        "for i,j in enumerate(airbnb_london_filtered_images_eval.columns):\n",
        "  print(f\"At position {str(i)} : variable {str(j)}\")\n"
      ]
    },
    {
      "cell_type": "code",
      "execution_count": null,
      "metadata": {
        "id": "WzTIvPYv3sfv"
      },
      "outputs": [],
      "source": [
        "def collate_batch_extended(batch):\n",
        "\n",
        "  list_images = []   # for the images passed through extractor function \n",
        "  tabular_list = []\n",
        "  list_proxies = []\n",
        "  list_review_diff = []\n",
        "  list_name = []\n",
        "  list_joint_description = []\n",
        "  list_ids = []\n",
        "\n",
        "  for data in batch:\n",
        "\n",
        "    # indexing the image pixels form the dict\n",
        "    list_images.append( extractor(torch.tensor(image_dict[str(data[31])]))['pixel_values'][0] )\n",
        "    list_ids.append(data[31]) # for saving the predictions\n",
        "\n",
        "    list_name.append(text_model.encode(data[32]))\n",
        "    \n",
        "    tabular_list.append(data[:31]) ## locations of tabular data \n",
        "    if int(data[34]) == 1:  ## location of categorical proxy variable \n",
        "      list_proxies.append([1,0,0])\n",
        "    elif int(data[34]) == 2: \n",
        "      list_proxies.append([0,1,0])\n",
        "    elif int(data[34]) == 3:\n",
        "      list_proxies.append([0,0,1])\n",
        " \n",
        "    list_review_diff.append(data[35])  ## location of cont. review diff variable\n",
        "    list_joint_description.append(text_model.encode(data[33]))\n",
        "\n",
        "  list_images  = torch.tensor(list_images, dtype=torch.float32)\n",
        "  tabular_list = torch.tensor(tabular_list, dtype=torch.float32)\n",
        "  list_proxies = torch.tensor(list_proxies, dtype=torch.float32)\n",
        "\n",
        "  return list_images, list_name, list_joint_description, tabular_list, list_proxies, list_review_diff, list_ids\n",
        "  \n",
        "\n",
        "# images, names, des, tabular data, proxies, review_diff, ids  \n"
      ]
    },
    {
      "cell_type": "code",
      "execution_count": null,
      "metadata": {
        "id": "psdtuiWxqgua"
      },
      "outputs": [],
      "source": [
        "dl_train = DataLoader(dataset=data_train, collate_fn=collate_batch_extended, batch_size=64, shuffle=True)\n",
        "dl_eval = DataLoader(dataset=data_eval, collate_fn=collate_batch_extended, batch_size=64, shuffle=False)\n"
      ]
    },
    {
      "attachments": {},
      "cell_type": "markdown",
      "metadata": {
        "id": "J2_cPpF65d56"
      },
      "source": [
        "Calling the model again with a slightlxy different set up which proved to work well."
      ]
    },
    {
      "cell_type": "code",
      "execution_count": null,
      "metadata": {
        "id": "7W57R3ns7h79"
      },
      "outputs": [],
      "source": [
        "for param in text_model.parameters():\n",
        "  param.requires_grad = False\n",
        "\n",
        "for param in model_vit.parameters():\n",
        "  param.requires_grad = False"
      ]
    },
    {
      "cell_type": "code",
      "execution_count": null,
      "metadata": {
        "id": "gSmcRCQM44qd"
      },
      "outputs": [],
      "source": [
        "\n",
        "import torch\n",
        "from torch import nn\n",
        "from torch import optim\n",
        "\n",
        "tab_input_dim = 31\n",
        "final_output_dim_text_name = 5\n",
        "final_output_dim_text_des = 5\n",
        "final_output_dim_visual = 5\n",
        "\n",
        "hidden_dim_1 = 60\n",
        "hidden_dim_2 = 60\n",
        "hidden_dim_3 = 60\n",
        "hidden_dim_4 = 20\n",
        "output_dim = 1\n",
        "\n",
        "\n",
        "## name, des / text model \n",
        "\n",
        "\n",
        "class NeuralNetwork2(nn.Module): ## without extractor\n",
        "    def __init__(self, model_vit, tab_input_dim, final_output_dim_visual, final_output_dim_text_name, final_output_dim_text_des, hidden_dim_1, hidden_dim_2, hidden_dim_3, hiddem_dim_4, output_dim):\n",
        "        super(NeuralNetwork2, self).__init__()\n",
        "\n",
        "        self.model_vit = model_vit\n",
        "        for param in self.model_vit.parameters():\n",
        "          param.requires_grad = False\n",
        "\n",
        "        # layers build on top of visual model before concatination \n",
        "        self.visual_add_layer_1 = torch.nn.Linear(in_features=768, out_features=20)\n",
        "        self.visual_add_layer_2 = torch.nn.Linear(in_features=20, out_features=4)\n",
        "        # flattening / torch.flatten(-, start_dim = 1)\n",
        "        self.visual_add_layer_3 = torch.nn.Linear(in_features=788, out_features=50)\n",
        "        self.visual_add_layer_4 = torch.nn.Linear(in_features=50, out_features=final_output_dim_visual) ## concat after this layer of dim Batch Size x final_output_dim_visual\n",
        "        \n",
        "\n",
        "        # Layers added after Name/Title \n",
        "        self.name_added_layer_1 = nn.Linear(768, 100)\n",
        "        self.name_added_layer_2 = nn.Linear(100, 100)\n",
        "        ### dropout ## \n",
        "        self.name_added_layer_3 = nn.Linear(100, 50)\n",
        "        self.name_added_layer_4 = nn.Linear(50, final_output_dim_text_name)\n",
        "\n",
        "        # Layers added after Description \n",
        "        self.des_added_layer_1 = nn.Linear(768, 100)\n",
        "        self.des_added_layer_2 = nn.Linear(100, 100)\n",
        "        ### dropout ## \n",
        "        self.des_added_layer_3 = nn.Linear(100, 50)\n",
        "        self.des_added_layer_4 = nn.Linear(50, final_output_dim_text_des)\n",
        "\n",
        "\n",
        "        ### Layers added after Joint Description ### \n",
        "\n",
        "        # dimension after concat operation\n",
        "        self.concat_dim = tab_input_dim + final_output_dim_visual + final_output_dim_text_name + final_output_dim_text_des\n",
        "\n",
        "        # layers processing input after concatination \n",
        "        self.layer_1 = nn.Linear(self.concat_dim, hidden_dim_1)\n",
        "        self.layer_2 = nn.Linear(hidden_dim_1, hidden_dim_2)\n",
        "        self.layer_3 = nn.Linear(hidden_dim_2, hidden_dim_3)\n",
        "        self.layer_4 = nn.Linear(hidden_dim_3, hidden_dim_4)\n",
        "        self.layer_5 = nn.Linear(hidden_dim_4, output_dim)\n",
        "        self.dropout = nn.Dropout(0.03) \n",
        "\n",
        "       \n",
        "    def forward(self, img, name_encoded, des_encoded, X):  ## name, des\n",
        "\n",
        "        ## firstly processing outputs of visual and textual model ##\n",
        "\n",
        "        # visual model \n",
        "        output_img = self.model_vit(img)\n",
        "        output_img = torch.nn.functional.tanh(self.visual_add_layer_1(output_img.last_hidden_state))\n",
        "        output_img = self.dropout(output_img)\n",
        "        output_img = torch.nn.functional.tanh(self.visual_add_layer_2(output_img))\n",
        "        output_img = torch.flatten(output_img, start_dim = 1)\n",
        "        output_img = torch.nn.functional.tanh(self.visual_add_layer_3(output_img))\n",
        "        final_output_img = torch.nn.functional.tanh(self.visual_add_layer_4(output_img))\n",
        "\n",
        "        # textual - description \n",
        "        encoded_des = torch.tensor(des_encoded)\n",
        "        encoded_des = torch.nn.functional.tanh(self.des_added_layer_1(encoded_des))\n",
        "        encoded_des = self.dropout(encoded_des)\n",
        "        encoded_des = torch.nn.functional.tanh(self.des_added_layer_2(encoded_des))\n",
        "        encoded_des = self.dropout(encoded_des)\n",
        "        encoded_des = torch.nn.functional.tanh(self.des_added_layer_3(encoded_des))\n",
        "        final_encoded_des = torch.nn.functional.tanh(self.des_added_layer_4(encoded_des))\n",
        "\n",
        "        # textual - Name \n",
        "        encoded_name = torch.tensor(name_encoded)\n",
        "        encoded_name = torch.nn.functional.tanh(self.name_added_layer_1(encoded_name))\n",
        "        encoded_name = self.dropout(encoded_name)\n",
        "        encoded_name = torch.nn.functional.tanh(self.name_added_layer_2(encoded_name))\n",
        "        encoded_name = torch.nn.functional.tanh(self.name_added_layer_3(encoded_name))\n",
        "        final_encoded_name = torch.nn.functional.tanh(self.name_added_layer_4(encoded_name))\n",
        "\n",
        "\n",
        "        # concatination #\n",
        "        x = torch.cat((final_output_img, final_encoded_name, final_encoded_des, X), 1)\n",
        "\n",
        "        ## processing of joint representation ## \n",
        "        x = torch.nn.functional.tanh(self.layer_1(x))\n",
        "        x = torch.nn.functional.tanh(self.layer_2(x))\n",
        "        x = self.dropout(x)\n",
        "        x = torch.nn.functional.tanh(self.layer_3(x))\n",
        "        x = self.dropout(x)\n",
        "        x = torch.nn.functional.tanh(self.layer_4(x))\n",
        "        x = self.layer_5(x)\n",
        "\n",
        "        return x"
      ]
    },
    {
      "cell_type": "code",
      "execution_count": null,
      "metadata": {
        "id": "3ezZM-3X5k0d"
      },
      "outputs": [],
      "source": [
        "output_dim = 1 ## here\n",
        "\n",
        "model = NeuralNetwork2( model_vit, tab_input_dim, final_output_dim_visual, final_output_dim_text_name, final_output_dim_text_des, hidden_dim_1, hidden_dim_2, hidden_dim_3, hidden_dim_4, output_dim)\n",
        "\n",
        "learning_rate = 0.0035 ## found to be working well here\n",
        "loss_fn = nn.MSELoss() ## BCE IN case of proxy \n",
        "optimizer = torch.optim.Adam(model.parameters(), lr=learning_rate) ## adam"
      ]
    },
    {
      "cell_type": "code",
      "execution_count": null,
      "metadata": {
        "id": "NSo1zhgF5k0g"
      },
      "outputs": [],
      "source": [
        "from transformers import get_scheduler\n",
        "\n",
        "accelerator = Accelerator()\n",
        "model, optimizer, dl_train, dl_eval = accelerator.prepare(\n",
        "    model, optimizer, dl_train, dl_eval\n",
        ")\n",
        "\n",
        "num_update_steps_per_epoch = len(dl_train)\n",
        "num_epochs = 60\n",
        "\n",
        "num_training_steps = num_epochs * num_update_steps_per_epoch\n",
        "\n",
        "\n",
        "lr_scheduler = get_scheduler(\n",
        "    \"linear\",\n",
        "    optimizer=optimizer,\n",
        "    num_warmup_steps=0,     ## one might also alter this!\n",
        "    num_training_steps=num_training_steps,\n",
        ")\n",
        "\n",
        "\n",
        "device = \"cuda\"\n",
        "model = model.to(device)"
      ]
    },
    {
      "cell_type": "code",
      "execution_count": null,
      "metadata": {
        "colab": {
          "base_uri": "https://localhost:8080/",
          "height": 1000,
          "referenced_widgets": [
            "d40eb5a271de41c2bf2f0a7214c0979d",
            "8e7b05328aa8407b90cc619df7988dd5",
            "4c595d61a4894d3e8d4840d1f5ee2024",
            "86d40a96f87f4786894a7c99152c8ad5",
            "9d60872d5f0d464e9edc80675108ba5a",
            "73d9629a51984f60a5c4e38f4e641ed6",
            "cc937b6ab8914abb81b828d95d07782a",
            "e43d40156d0f4a829f14ed3a7a26c43f",
            "39640ebdc7a846b98157b845c06e5c3d",
            "04377474e13c4c14a13879a77c180227",
            "359f15a822e8449e914aa0c735db21f2"
          ]
        },
        "id": "ml-JUw2C5k0i",
        "outputId": "75c8833b-afd7-4f80-ed77-3f3683ed7f43"
      },
      "outputs": [
        {
          "data": {
            "application/vnd.jupyter.widget-view+json": {
              "model_id": "d40eb5a271de41c2bf2f0a7214c0979d",
              "version_major": 2,
              "version_minor": 0
            },
            "text/plain": [
              "  0%|          | 0/2964 [00:00<?, ?it/s]"
            ]
          },
          "metadata": {},
          "output_type": "display_data"
        },
        {
          "name": "stderr",
          "output_type": "stream",
          "text": [
            "<ipython-input-75-6ae5873fcc45>:79: UserWarning: To copy construct from a tensor, it is recommended to use sourceTensor.clone().detach() or sourceTensor.clone().detach().requires_grad_(True), rather than torch.tensor(sourceTensor).\n",
            "  encoded_des = torch.tensor(des_encoded)\n",
            "<ipython-input-75-6ae5873fcc45>:88: UserWarning: To copy construct from a tensor, it is recommended to use sourceTensor.clone().detach() or sourceTensor.clone().detach().requires_grad_(True), rather than torch.tensor(sourceTensor).\n",
            "  encoded_name = torch.tensor(name_encoded)\n"
          ]
        },
        {
          "name": "stdout",
          "output_type": "stream",
          "text": [
            "Iteration No 1\n",
            "Train Loss: 103.41352861612914\n",
            "Eval Loss: 88.80307507065108\n",
            "---------------------\n",
            "Iteration No 2\n",
            "Train Loss: 76.15958380988735\n",
            "Eval Loss: 84.48519594264481\n",
            "---------------------\n",
            "Iteration No 3\n",
            "Train Loss: 67.98370379668016\n",
            "Eval Loss: 71.53960567825246\n",
            "---------------------\n",
            "Iteration No 4\n",
            "Train Loss: 62.42908972188046\n",
            "Eval Loss: 67.71694572016878\n",
            "---------------------\n",
            "Iteration No 5\n",
            "Train Loss: 59.90571611612915\n",
            "Eval Loss: 66.75674712433005\n",
            "---------------------\n",
            "Iteration No 6\n",
            "Train Loss: 58.338241001855025\n",
            "Eval Loss: 64.29845442861881\n",
            "---------------------\n",
            "Iteration No 7\n",
            "Train Loss: 55.93261749252134\n",
            "Eval Loss: 62.28298667241942\n",
            "---------------------\n",
            "Iteration No 8\n",
            "Train Loss: 54.51059555524756\n",
            "Eval Loss: 62.930650849387334\n",
            "---------------------\n",
            "Iteration No 9\n",
            "Train Loss: 53.3680003722187\n",
            "Eval Loss: 61.3154205713632\n",
            "---------------------\n",
            "Iteration No 10\n",
            "Train Loss: 52.46161940223292\n",
            "Eval Loss: 61.12134791994995\n",
            "---------------------\n",
            "Iteration No 11\n",
            "Train Loss: 51.927752956205055\n",
            "Eval Loss: 60.64062648449304\n",
            "---------------------\n",
            "Iteration No 12\n",
            "Train Loss: 50.92753544992763\n",
            "Eval Loss: 60.40654958644003\n",
            "---------------------\n"
          ]
        }
      ],
      "source": [
        "\n",
        "overall_loss_values = []\n",
        "overall_loss_values_eval = []\n",
        "\n",
        "\n",
        "progress_bar = tqdm(range(num_training_steps))\n",
        "\n",
        "for epoch in range(num_epochs):\n",
        "\n",
        "  loss_values = []\n",
        "  loss_values_eval = []\n",
        "\n",
        "  model.train()\n",
        "\n",
        "  for batch in dl_train:\n",
        "\n",
        "    img = batch[0].to(device)\n",
        "    name = torch.tensor(batch[1]).to(device)\n",
        "    joint_des = torch.tensor(batch[2]).to(device)\n",
        "    X = batch[3].to(device)\n",
        "    Y = torch.tensor(batch[5]).to(device)\n",
        "    optimizer.zero_grad()\n",
        "    pred = model(img, name, joint_des, X)\n",
        "    loss = loss_fn(pred.squeeze(), Y)\n",
        "    loss_values.append(loss.item())\n",
        "    accelerator.backward(loss)\n",
        "    \n",
        "    optimizer.step()\n",
        "    lr_scheduler.step()\n",
        "    progress_bar.update(1)\n",
        "\n",
        "  #  print(f\"mean of train loss: {str(np.mean(loss_values))}\")\n",
        "\n",
        "  model.eval()\n",
        "\n",
        "  with torch.no_grad():\n",
        "    for batch in dl_eval:\n",
        "\n",
        "      img = batch[0].to(device)\n",
        "      name = torch.tensor(batch[1]).to(device)\n",
        "      joint_des = torch.tensor(batch[2]).to(device)\n",
        "      X = batch[3].to(device)\n",
        "      Y = torch.tensor(batch[5]).to(device)\n",
        "      optimizer.zero_grad()\n",
        "      pred = model(img, name, joint_des, X)\n",
        "      loss = loss_fn(pred.squeeze(), Y)\n",
        "      loss_values_eval.append(loss.item())\n",
        "\n",
        "\n",
        "    #  print(f\"mean of eval loss: {str(np.mean(loss_values_eval))}\")\n",
        "\n",
        "\n",
        "  overall_loss_values.append(np.mean(loss_values))\n",
        "  overall_loss_values_eval.append(np.mean(loss_values_eval))\n",
        "\n",
        "  print(f\"Iteration No {str(epoch + 1)}\")\n",
        "  print(f\"Train Loss: {str(np.mean(loss_values))}\")\n",
        "  print(f\"Eval Loss: {str(np.mean(loss_values_eval))}\")\n",
        "  print(\"---------------------\")\n"
      ]
    },
    {
      "cell_type": "code",
      "execution_count": null,
      "metadata": {
        "colab": {
          "base_uri": "https://localhost:8080/",
          "height": 449
        },
        "id": "-acEJuHrWA9Z",
        "outputId": "3f7efc3c-6a3c-4bcb-8e0b-3877fd453bb0"
      },
      "outputs": [
        {
          "data": {
            "image/png": "[encoded data removed]",
            "text/plain": [
              "<Figure size 640x480 with 1 Axes>"
            ]
          },
          "metadata": {},
          "output_type": "display_data"
        }
      ],
      "source": [
        "\n",
        "# over  epochs \n",
        "## plotting loss \n",
        "import matplotlib.pyplot as plt\n",
        "name_to_save = \"losses_discriminator_2_cont\"\n",
        "\n",
        "epochs = list(range(1,num_epochs+1))\n",
        "\n",
        "plt.plot(epochs, overall_loss_values, color = \"black\")\n",
        "plt.plot(epochs, overall_loss_values_eval, color = \"black\", linestyle='dashed')\n",
        "plt.legend([\"Training Loss\", \"Evaluation Loss\"], loc='upper right')\n",
        "plt.xlabel(\"Training Iterations\")\n",
        "plt.ylabel(\"Loss after iteration\")\n",
        "##plt.savefig(f'/content/gdrive/My Drive/Thesis/Plots/{name_to_save}.png')\n",
        "plt.show()"
      ]
    },
    {
      "cell_type": "code",
      "execution_count": null,
      "metadata": {
        "id": "ZEAYcTC0kyrW"
      },
      "outputs": [],
      "source": [
        "#saving the model \n",
        "model_save_name = 'discriminator_2_cont2.pth'\n",
        "\n",
        "path =\"/content/gdrive/My Drive/Thesis/Models/{}\".format(model_save_name)\n",
        "torch.save(model, path)\n"
      ]
    },
    {
      "cell_type": "code",
      "execution_count": null,
      "metadata": {
        "id": "uFprx9j_Lh9k"
      },
      "outputs": [],
      "source": [
        "name_to_save = \"losses_disc_2_cont\"\n",
        "df_losses_1 = pd.DataFrame({\"loss_eval\": overall_loss_values_eval, \"loss_train\": overall_loss_values })\n",
        "df_losses_1.to_csv(f\"/content/gdrive/My Drive/Thesis/loss_data/{name_to_save}.csv\", index = False)"
      ]
    },
    {
      "cell_type": "code",
      "execution_count": null,
      "metadata": {
        "colab": {
          "base_uri": "https://localhost:8080/",
          "height": 449
        },
        "id": "tVr3oVa4yb7p",
        "outputId": "a65cd457-e3b3-47f9-9579-1cd4b00ddbc5"
      },
      "outputs": [
        {
          "data": {
            "image/png": "[encoded data removed]",
            "text/plain": [
              "<Figure size 640x480 with 1 Axes>"
            ]
          },
          "metadata": {},
          "output_type": "display_data"
        }
      ],
      "source": [
        "\n",
        "# over  epochs \n",
        "## plotting loss \n",
        "import matplotlib.pyplot as plt\n",
        "name_to_save = \"losses_discriminator_2_cont\"\n",
        "\n",
        "epochs = list(range(1,num_epochs+1))\n",
        "\n",
        "plt.plot(epochs, overall_loss_values, color = \"black\")\n",
        "plt.plot(epochs, overall_loss_values_eval, color = \"black\", linestyle='dashed')\n",
        "plt.legend([\"Training Loss\", \"Evaluation Loss\"], loc='upper right')\n",
        "plt.xlabel(\"Training Iterations\")\n",
        "plt.ylabel(\"Loss after iteration\")\n",
        "plt.savefig(f'/content/gdrive/My Drive/Thesis/Plots/{name_to_save}.png')\n",
        "plt.show()"
      ]
    },
    {
      "cell_type": "code",
      "execution_count": null,
      "metadata": {
        "id": "pHBQG39AZPpB"
      },
      "outputs": [],
      "source": [
        "from google.colab import runtime\n",
        "runtime.unassign()"
      ]
    },
    {
      "cell_type": "code",
      "execution_count": null,
      "metadata": {
        "id": "hH4LEs05t1vG"
      },
      "outputs": [],
      "source": [
        "#model_save_name = 'discriminator_2_cont.pth'\n",
        "#path =\"/content/gdrive/My Drive/Thesis/Models/{}\".format(model_save_name)\n",
        "\n",
        "#model = torch.load(path)\n"
      ]
    },
    {
      "cell_type": "code",
      "execution_count": null,
      "metadata": {
        "id": "OmrNekS8uT2F"
      },
      "outputs": [],
      "source": [
        "# images, names, des, tabular data, proxies, review_diff, ids  "
      ]
    },
    {
      "cell_type": "code",
      "execution_count": null,
      "metadata": {
        "colab": {
          "base_uri": "https://localhost:8080/"
        },
        "id": "sAu3_SZJtrHK",
        "outputId": "c708be9c-1d26-48c0-bd37-6e6cb4e5bed7"
      },
      "outputs": [
        {
          "name": "stderr",
          "output_type": "stream",
          "text": [
            "<ipython-input-26-799c66436b54>:30: UserWarning: Creating a tensor from a list of numpy.ndarrays is extremely slow. Please consider converting the list to a single numpy.ndarray with numpy.array() before converting to a tensor. (Triggered internally at ../torch/csrc/utils/tensor_new.cpp:245.)\n",
            "  list_images  = torch.tensor(list_images, dtype=torch.float32)\n",
            "<ipython-input-31-6ae5873fcc45>:79: UserWarning: To copy construct from a tensor, it is recommended to use sourceTensor.clone().detach() or sourceTensor.clone().detach().requires_grad_(True), rather than torch.tensor(sourceTensor).\n",
            "  encoded_des = torch.tensor(des_encoded)\n",
            "<ipython-input-31-6ae5873fcc45>:88: UserWarning: To copy construct from a tensor, it is recommended to use sourceTensor.clone().detach() or sourceTensor.clone().detach().requires_grad_(True), rather than torch.tensor(sourceTensor).\n",
            "  encoded_name = torch.tensor(name_encoded)\n"
          ]
        }
      ],
      "source": [
        "## also saving predictions with real names!\n",
        "device = \"cuda\"\n",
        "\n",
        "ids = []\n",
        "preds_ = []\n",
        "Ys = []\n",
        "\n",
        "with torch.no_grad():\n",
        "  for batch in dl_eval:\n",
        "\n",
        "    img = batch[0].to(device)\n",
        "    name = torch.tensor(batch[1]).to(device)\n",
        "    joint_des = torch.tensor(batch[2]).to(device)\n",
        "    X = batch[3].to(device)\n",
        "    Y = torch.tensor(batch[5]).to(device)\n",
        "    pred = model(img, name, joint_des, X)\n",
        "    \n",
        "\n",
        "    ids.extend(batch[6])\n",
        "    preds_.extend(pred.cpu().numpy() )\n",
        "\n",
        "    Ys.extend(Y.cpu().numpy() )\n",
        "  \n",
        "\n",
        "preds = [a[0] for a in preds_ ]\n",
        "\n",
        "pred_disc_2_cont_real_name = pd.DataFrame({\"id\": ids, \"pred\": preds, \"Y\": Ys})\n",
        "pred_disc_2_cont_real_name.to_csv(\"/content/gdrive/My Drive/Thesis/Discriminator_Predictions/pred_disc_2_cont_real_name.csv\", index = False)"
      ]
    },
    {
      "cell_type": "code",
      "execution_count": null,
      "metadata": {
        "colab": {
          "base_uri": "https://localhost:8080/",
          "height": 424
        },
        "id": "JcPRGwwi4DsA",
        "outputId": "a757eaa8-65d7-4c00-9e09-e7d19180b9b8"
      },
      "outputs": [
        {
          "data": {
            "text/html": [
              "\n",
              "  <div id=\"df-cbe5968d-e6f7-49ea-a5a4-846df20d00a9\">\n",
              "    <div class=\"colab-df-container\">\n",
              "      <div>\n",
              "<style scoped>\n",
              "    .dataframe tbody tr th:only-of-type {\n",
              "        vertical-align: middle;\n",
              "    }\n",
              "\n",
              "    .dataframe tbody tr th {\n",
              "        vertical-align: top;\n",
              "    }\n",
              "\n",
              "    .dataframe thead th {\n",
              "        text-align: right;\n",
              "    }\n",
              "</style>\n",
              "<table border=\"1\" class=\"dataframe\">\n",
              "  <thead>\n",
              "    <tr style=\"text-align: right;\">\n",
              "      <th></th>\n",
              "      <th>id</th>\n",
              "      <th>pred</th>\n",
              "      <th>Y</th>\n",
              "    </tr>\n",
              "  </thead>\n",
              "  <tbody>\n",
              "    <tr>\n",
              "      <th>0</th>\n",
              "      <td>41712</td>\n",
              "      <td>12.440921</td>\n",
              "      <td>11.0</td>\n",
              "    </tr>\n",
              "    <tr>\n",
              "      <th>1</th>\n",
              "      <td>41445</td>\n",
              "      <td>1.071669</td>\n",
              "      <td>0.0</td>\n",
              "    </tr>\n",
              "    <tr>\n",
              "      <th>2</th>\n",
              "      <td>51830</td>\n",
              "      <td>0.568563</td>\n",
              "      <td>0.0</td>\n",
              "    </tr>\n",
              "    <tr>\n",
              "      <th>3</th>\n",
              "      <td>55706</td>\n",
              "      <td>0.815354</td>\n",
              "      <td>1.0</td>\n",
              "    </tr>\n",
              "    <tr>\n",
              "      <th>4</th>\n",
              "      <td>72913</td>\n",
              "      <td>0.723349</td>\n",
              "      <td>0.0</td>\n",
              "    </tr>\n",
              "    <tr>\n",
              "      <th>...</th>\n",
              "      <td>...</td>\n",
              "      <td>...</td>\n",
              "      <td>...</td>\n",
              "    </tr>\n",
              "    <tr>\n",
              "      <th>6745</th>\n",
              "      <td>54408307</td>\n",
              "      <td>24.360452</td>\n",
              "      <td>39.0</td>\n",
              "    </tr>\n",
              "    <tr>\n",
              "      <th>6746</th>\n",
              "      <td>54378165</td>\n",
              "      <td>9.971351</td>\n",
              "      <td>14.0</td>\n",
              "    </tr>\n",
              "    <tr>\n",
              "      <th>6747</th>\n",
              "      <td>54395872</td>\n",
              "      <td>6.685459</td>\n",
              "      <td>6.0</td>\n",
              "    </tr>\n",
              "    <tr>\n",
              "      <th>6748</th>\n",
              "      <td>54396292</td>\n",
              "      <td>2.777407</td>\n",
              "      <td>3.0</td>\n",
              "    </tr>\n",
              "    <tr>\n",
              "      <th>6749</th>\n",
              "      <td>580353098454214912</td>\n",
              "      <td>0.940029</td>\n",
              "      <td>1.0</td>\n",
              "    </tr>\n",
              "  </tbody>\n",
              "</table>\n",
              "<p>6750 rows × 3 columns</p>\n",
              "</div>\n",
              "      <button class=\"colab-df-convert\" onclick=\"convertToInteractive('df-cbe5968d-e6f7-49ea-a5a4-846df20d00a9')\"\n",
              "              title=\"Convert this dataframe to an interactive table.\"\n",
              "              style=\"display:none;\">\n",
              "        \n",
              "  <svg xmlns=\"http://www.w3.org/2000/svg\" height=\"24px\"viewBox=\"0 0 24 24\"\n",
              "       width=\"24px\">\n",
              "    <path d=\"M0 0h24v24H0V0z\" fill=\"none\"/>\n",
              "    <path d=\"M18.56 5.44l.94 2.06.94-2.06 2.06-.94-2.06-.94-.94-2.06-.94 2.06-2.06.94zm-11 1L8.5 8.5l.94-2.06 2.06-.94-2.06-.94L8.5 2.5l-.94 2.06-2.06.94zm10 10l.94 2.06.94-2.06 2.06-.94-2.06-.94-.94-2.06-.94 2.06-2.06.94z\"/><path d=\"M17.41 7.96l-1.37-1.37c-.4-.4-.92-.59-1.43-.59-.52 0-1.04.2-1.43.59L10.3 9.45l-7.72 7.72c-.78.78-.78 2.05 0 2.83L4 21.41c.39.39.9.59 1.41.59.51 0 1.02-.2 1.41-.59l7.78-7.78 2.81-2.81c.8-.78.8-2.07 0-2.86zM5.41 20L4 18.59l7.72-7.72 1.47 1.35L5.41 20z\"/>\n",
              "  </svg>\n",
              "      </button>\n",
              "      \n",
              "  <style>\n",
              "    .colab-df-container {\n",
              "      display:flex;\n",
              "      flex-wrap:wrap;\n",
              "      gap: 12px;\n",
              "    }\n",
              "\n",
              "    .colab-df-convert {\n",
              "      background-color: #E8F0FE;\n",
              "      border: none;\n",
              "      border-radius: 50%;\n",
              "      cursor: pointer;\n",
              "      display: none;\n",
              "      fill: #1967D2;\n",
              "      height: 32px;\n",
              "      padding: 0 0 0 0;\n",
              "      width: 32px;\n",
              "    }\n",
              "\n",
              "    .colab-df-convert:hover {\n",
              "      background-color: #E2EBFA;\n",
              "      box-shadow: 0px 1px 2px rgba(60, 64, 67, 0.3), 0px 1px 3px 1px rgba(60, 64, 67, 0.15);\n",
              "      fill: #174EA6;\n",
              "    }\n",
              "\n",
              "    [theme=dark] .colab-df-convert {\n",
              "      background-color: #3B4455;\n",
              "      fill: #D2E3FC;\n",
              "    }\n",
              "\n",
              "    [theme=dark] .colab-df-convert:hover {\n",
              "      background-color: #434B5C;\n",
              "      box-shadow: 0px 1px 3px 1px rgba(0, 0, 0, 0.15);\n",
              "      filter: drop-shadow(0px 1px 2px rgba(0, 0, 0, 0.3));\n",
              "      fill: #FFFFFF;\n",
              "    }\n",
              "  </style>\n",
              "\n",
              "      <script>\n",
              "        const buttonEl =\n",
              "          document.querySelector('#df-cbe5968d-e6f7-49ea-a5a4-846df20d00a9 button.colab-df-convert');\n",
              "        buttonEl.style.display =\n",
              "          google.colab.kernel.accessAllowed ? 'block' : 'none';\n",
              "\n",
              "        async function convertToInteractive(key) {\n",
              "          const element = document.querySelector('#df-cbe5968d-e6f7-49ea-a5a4-846df20d00a9');\n",
              "          const dataTable =\n",
              "            await google.colab.kernel.invokeFunction('convertToInteractive',\n",
              "                                                     [key], {});\n",
              "          if (!dataTable) return;\n",
              "\n",
              "          const docLinkHtml = 'Like what you see? Visit the ' +\n",
              "            '<a target=\"_blank\" href=https://colab.research.google.com/notebooks/data_table.ipynb>data table notebook</a>'\n",
              "            + ' to learn more about interactive tables.';\n",
              "          element.innerHTML = '';\n",
              "          dataTable['output_type'] = 'display_data';\n",
              "          await google.colab.output.renderOutput(dataTable, element);\n",
              "          const docLink = document.createElement('div');\n",
              "          docLink.innerHTML = docLinkHtml;\n",
              "          element.appendChild(docLink);\n",
              "        }\n",
              "      </script>\n",
              "    </div>\n",
              "  </div>\n",
              "  "
            ],
            "text/plain": [
              "                      id       pred     Y\n",
              "0                  41712  12.440921  11.0\n",
              "1                  41445   1.071669   0.0\n",
              "2                  51830   0.568563   0.0\n",
              "3                  55706   0.815354   1.0\n",
              "4                  72913   0.723349   0.0\n",
              "...                  ...        ...   ...\n",
              "6745            54408307  24.360452  39.0\n",
              "6746            54378165   9.971351  14.0\n",
              "6747            54395872   6.685459   6.0\n",
              "6748            54396292   2.777407   3.0\n",
              "6749  580353098454214912   0.940029   1.0\n",
              "\n",
              "[6750 rows x 3 columns]"
            ]
          },
          "execution_count": 54,
          "metadata": {},
          "output_type": "execute_result"
        }
      ],
      "source": [
        "pred_disc_2_cont_real_name"
      ]
    },
    {
      "attachments": {},
      "cell_type": "markdown",
      "metadata": {
        "id": "47YCkY9GzuZj"
      },
      "source": [
        "Checking for bias of the model"
      ]
    },
    {
      "cell_type": "code",
      "execution_count": null,
      "metadata": {
        "colab": {
          "base_uri": "https://localhost:8080/"
        },
        "id": "u8Ia8LaP2Jqw",
        "outputId": "b9b2cf46-87a0-49ad-85c0-19496a6d3f07"
      },
      "outputs": [
        {
          "data": {
            "text/plain": [
              "-0.010853691056922639"
            ]
          },
          "execution_count": 53,
          "metadata": {},
          "output_type": "execute_result"
        }
      ],
      "source": [
        "np.mean(pred_disc_2_cont_real_name.pred - pred_disc_2_cont_real_name.Y)\n",
        "\n",
        "## really low bias - nice !!"
      ]
    },
    {
      "attachments": {},
      "cell_type": "markdown",
      "metadata": {
        "id": "p-2X96YytBAt"
      },
      "source": [
        "### With categorical outcome"
      ]
    },
    {
      "cell_type": "code",
      "execution_count": null,
      "metadata": {
        "id": "oA4gciQrtXne"
      },
      "outputs": [],
      "source": [
        "output_dim = 3 ## here\n",
        "final_output_dim_text_name = 5\n",
        "final_output_dim_text_des = 5\n",
        "final_output_dim_visual = 5\n",
        "\n",
        "model = NeuralNetwork2( model_vit, tab_input_dim, final_output_dim_visual, final_output_dim_text_name, final_output_dim_text_des, hidden_dim_1, hidden_dim_2, hidden_dim_3, hidden_dim_4, output_dim)\n",
        "\n",
        "learning_rate = 0.003\n",
        "loss_fn = nn.CrossEntropyLoss() \n",
        "optimizer = torch.optim.Adam(model.parameters(), lr=learning_rate) ## adam"
      ]
    },
    {
      "cell_type": "code",
      "execution_count": null,
      "metadata": {
        "id": "x36tAaBPtXnl"
      },
      "outputs": [],
      "source": [
        "from transformers import get_scheduler\n",
        "\n",
        "accelerator = Accelerator()\n",
        "model, optimizer, dl_train, dl_eval = accelerator.prepare(\n",
        "    model, optimizer, dl_train, dl_eval\n",
        ")\n",
        "\n",
        "num_update_steps_per_epoch = len(dl_train)\n",
        "num_epochs = 20\n",
        "\n",
        "num_training_steps = num_epochs * num_update_steps_per_epoch\n",
        "\n",
        "\n",
        "lr_scheduler = get_scheduler(\n",
        "    \"linear\",\n",
        "    optimizer=optimizer,\n",
        "    num_warmup_steps=0,     ## one might also alter this!\n",
        "    num_training_steps=num_training_steps,\n",
        ")\n",
        "\n",
        "\n",
        "device = \"cuda\"\n",
        "model = model.to(device)"
      ]
    },
    {
      "cell_type": "code",
      "execution_count": null,
      "metadata": {
        "id": "IUZHI7LvtXno"
      },
      "outputs": [],
      "source": [
        "\n",
        "overall_loss_values = []\n",
        "overall_loss_values_eval = []\n",
        "\n",
        "\n",
        "progress_bar = tqdm(range(num_training_steps))\n",
        "\n",
        "for epoch in range(num_epochs):\n",
        "\n",
        "  loss_values = []\n",
        "  loss_values_eval = []\n",
        "\n",
        "  model.train()\n",
        "\n",
        "  for batch in dl_train:\n",
        "\n",
        "    img = batch[0].to(device)\n",
        "    name = torch.tensor(batch[1]).to(device)\n",
        "    joint_des = torch.tensor(batch[2]).to(device)\n",
        "    X = batch[3].to(device)\n",
        "    Y = torch.tensor(batch[4]).to(device) ## idx of 4 here\n",
        "    optimizer.zero_grad()\n",
        "    pred = model(img, name, joint_des, X)\n",
        "    loss = loss_fn(pred.squeeze(), Y)\n",
        "    loss_values.append(loss.item())\n",
        "    accelerator.backward(loss)\n",
        "    \n",
        "    optimizer.step()\n",
        "    lr_scheduler.step()\n",
        "    progress_bar.update(1)\n",
        "\n",
        " #   print(f\"mean of train loss: {str(np.mean(loss_values))}\")\n",
        "\n",
        "  model.eval()\n",
        "\n",
        "  with torch.no_grad():\n",
        "    for batch in dl_eval:\n",
        "\n",
        "      img = batch[0].to(device)\n",
        "      name = torch.tensor(batch[1]).to(device)\n",
        "      joint_des = torch.tensor(batch[2]).to(device)\n",
        "      X = batch[3].to(device)\n",
        "      Y = torch.tensor(batch[4]).to(device)\n",
        "      optimizer.zero_grad()\n",
        "      pred = model(img, name, joint_des, X)\n",
        "      loss = loss_fn(pred.squeeze(), Y)\n",
        "      loss_values_eval.append(loss.item())\n",
        "\n",
        "\n",
        "#      print(f\"mean of eval loss: {str(np.mean(loss_values_eval))}\")\n",
        "\n",
        "\n",
        "  overall_loss_values.append(np.mean(loss_values))\n",
        "  overall_loss_values_eval.append(np.mean(loss_values_eval))\n",
        "\n",
        "  print(f\"Iteration No {str(epoch + 1)}\")\n",
        "  print(f\"Train Loss: {str(np.mean(loss_values))}\")\n",
        "  print(f\"Eval Loss: {str(np.mean(loss_values_eval))}\")\n",
        "  print(\"---------------------\")\n"
      ]
    },
    {
      "cell_type": "code",
      "execution_count": null,
      "metadata": {
        "id": "OTntuDObB0la"
      },
      "outputs": [],
      "source": [
        "#saving the model \n",
        "model_save_name = 'discriminator_2_cat.pth'\n",
        "\n",
        "path =\"/content/gdrive/My Drive/Thesis/Models/{}\".format(model_save_name)\n",
        "torch.save(model, path)\n"
      ]
    },
    {
      "cell_type": "code",
      "execution_count": null,
      "metadata": {
        "id": "wSKPD4GmEr_L"
      },
      "outputs": [],
      "source": [
        "name_to_save = \"losses_disc_2_cat\"\n",
        "df_losses_1 = pd.DataFrame({\"loss_eval\": overall_loss_values_eval, \"loss_train\": overall_loss_values })\n",
        "#df_losses_1.to_csv(f\"/content/gdrive/My Drive/Thesis/loss_data/{name_to_save}.csv\", index = False)"
      ]
    },
    {
      "cell_type": "code",
      "execution_count": null,
      "metadata": {
        "colab": {
          "base_uri": "https://localhost:8080/",
          "height": 449
        },
        "id": "kj4DWUotEr_P",
        "outputId": "49c8a1d7-08f8-48bd-98e6-d1847071a874"
      },
      "outputs": [
        {
          "data": {
            "image/png": "[encoded data removed]",
            "text/plain": [
              "<Figure size 640x480 with 1 Axes>"
            ]
          },
          "metadata": {},
          "output_type": "display_data"
        }
      ],
      "source": [
        "# over  epochs \n",
        "## plotting loss \n",
        "import matplotlib.pyplot as plt\n",
        "name_to_save = \"losses_discriminator_2_cat\"\n",
        "\n",
        "epochs = list(range(1,num_epochs+1))\n",
        "\n",
        "plt.plot(epochs, overall_loss_values, color = \"black\")\n",
        "plt.plot(epochs, overall_loss_values_eval, color = \"black\", linestyle='dashed')\n",
        "plt.legend([\"Training Loss\", \"Evaluation Loss\"], loc='upper right')\n",
        "plt.xlabel(\"Training Iterations\")\n",
        "plt.ylabel(\"Loss after iteration\")\n",
        "#plt.savefig(f'/content/gdrive/My Drive/Thesis/Plots/{name_to_save}.png')\n",
        "#plt.show()"
      ]
    },
    {
      "cell_type": "code",
      "execution_count": null,
      "metadata": {
        "colab": {
          "base_uri": "https://localhost:8080/"
        },
        "id": "Y10BUrVLG6AO",
        "outputId": "7a5afb39-77b8-429a-a538-64b4780f78c1"
      },
      "outputs": [
        {
          "name": "stderr",
          "output_type": "stream",
          "text": [
            "<ipython-input-58-b0a07fa5ec5e>:10: UserWarning: To copy construct from a tensor, it is recommended to use sourceTensor.clone().detach() or sourceTensor.clone().detach().requires_grad_(True), rather than torch.tensor(sourceTensor).\n",
            "  Y = torch.tensor(batch[2])\n"
          ]
        },
        {
          "name": "stdout",
          "output_type": "stream",
          "text": [
            "Weighted Avg Classification Results:\n",
            "{'precision': 0.808882833782141, 'recall': 0.8317037037037037, 'f1-score': 0.8129671118121731, 'support': 6750}\n"
          ]
        }
      ],
      "source": [
        "### obtaining classification report \n",
        "\n",
        "argmax_labels = []\n",
        "argmax_preds = []\n",
        "labels = [0,1,2]\n",
        "\n",
        "with torch.no_grad():\n",
        "  for batch in dl_eval:\n",
        "    X = batch[1]\n",
        "    Y = torch.tensor(batch[2])\n",
        "    pred = model(X)\n",
        "    argmax_labels.extend( list(np.argmax(Y.numpy(), axis = 1) ))    \n",
        "    argmax_preds.extend( list(np.argmax(pred.numpy(), axis = 1) ))  \n",
        "\n",
        "report = classification_report(y_true=argmax_labels, y_pred=argmax_preds, labels=labels, output_dict = True)\n",
        "print(\"Weighted Avg Classification Results:\")\n",
        "print(report['weighted avg'])\n"
      ]
    },
    {
      "cell_type": "code",
      "execution_count": null,
      "metadata": {
        "id": "_CtDD_Z6IHF5"
      },
      "outputs": [],
      "source": [
        "## getting preds with real names \n",
        "\n",
        "\n",
        "ids = []\n",
        "preds = []\n",
        "Ys = []\n",
        "\n",
        "with torch.no_grad():\n",
        "  for batch in dl_eval:\n",
        "    \n",
        "    img = batch[0].to(device)\n",
        "    name = torch.tensor(batch[1]).to(device)\n",
        "    joint_des = torch.tensor(batch[2]).to(device)\n",
        "    X = batch[3].to(device)\n",
        "    Y = torch.tensor(batch[4]).to(device)\n",
        "    pred = model(img, name, joint_des, X)\n",
        "\n",
        "    cat_pred = [i+1 for i in np.argmax(pred.cpu().numpy()[0], axis = 1)]\n",
        "    Y_ = [int(i+1) for i in np.argmax(batch[2], axis = 1)]\n",
        "    \n",
        "\n",
        "    ids.extend(batch[6])\n",
        "    preds_.extend(pred.cpu().numpy() )\n",
        "\n",
        "    Ys.extend(Y.cpu().numpy() )\n",
        "  \n"
      ]
    },
    {
      "cell_type": "code",
      "execution_count": null,
      "metadata": {
        "id": "aUIVVqGaGypJ"
      },
      "outputs": [],
      "source": [
        "pred_disc_2_cat_real_name = pd.DataFrame({\"id\": ids, \"pred\": preds, \"Y\": Ys})\n",
        "pred_disc_2_cat_real_name.to_csv(\"/content/gdrive/My Drive/Thesis/Discriminator_Predictions/pred_disc_2_cat_real_name.csv\", index = False)"
      ]
    },
    {
      "cell_type": "code",
      "execution_count": null,
      "metadata": {
        "colab": {
          "base_uri": "https://localhost:8080/",
          "height": 424
        },
        "id": "vJ-HQ2UjG8Ay",
        "outputId": "ca11f220-3e1c-47e8-d17c-3e8c1766190e"
      },
      "outputs": [
        {
          "data": {
            "text/html": [
              "\n",
              "  <div id=\"df-ce43d5bc-4f43-4c33-9625-7d2c92dab6a4\">\n",
              "    <div class=\"colab-df-container\">\n",
              "      <div>\n",
              "<style scoped>\n",
              "    .dataframe tbody tr th:only-of-type {\n",
              "        vertical-align: middle;\n",
              "    }\n",
              "\n",
              "    .dataframe tbody tr th {\n",
              "        vertical-align: top;\n",
              "    }\n",
              "\n",
              "    .dataframe thead th {\n",
              "        text-align: right;\n",
              "    }\n",
              "</style>\n",
              "<table border=\"1\" class=\"dataframe\">\n",
              "  <thead>\n",
              "    <tr style=\"text-align: right;\">\n",
              "      <th></th>\n",
              "      <th>id</th>\n",
              "      <th>pred</th>\n",
              "      <th>Y</th>\n",
              "    </tr>\n",
              "  </thead>\n",
              "  <tbody>\n",
              "    <tr>\n",
              "      <th>0</th>\n",
              "      <td>41712</td>\n",
              "      <td>3</td>\n",
              "      <td>3</td>\n",
              "    </tr>\n",
              "    <tr>\n",
              "      <th>1</th>\n",
              "      <td>41445</td>\n",
              "      <td>1</td>\n",
              "      <td>1</td>\n",
              "    </tr>\n",
              "    <tr>\n",
              "      <th>2</th>\n",
              "      <td>51830</td>\n",
              "      <td>1</td>\n",
              "      <td>1</td>\n",
              "    </tr>\n",
              "    <tr>\n",
              "      <th>3</th>\n",
              "      <td>55706</td>\n",
              "      <td>1</td>\n",
              "      <td>2</td>\n",
              "    </tr>\n",
              "    <tr>\n",
              "      <th>4</th>\n",
              "      <td>72913</td>\n",
              "      <td>1</td>\n",
              "      <td>1</td>\n",
              "    </tr>\n",
              "    <tr>\n",
              "      <th>...</th>\n",
              "      <td>...</td>\n",
              "      <td>...</td>\n",
              "      <td>...</td>\n",
              "    </tr>\n",
              "    <tr>\n",
              "      <th>6745</th>\n",
              "      <td>54408307</td>\n",
              "      <td>3</td>\n",
              "      <td>3</td>\n",
              "    </tr>\n",
              "    <tr>\n",
              "      <th>6746</th>\n",
              "      <td>54378165</td>\n",
              "      <td>3</td>\n",
              "      <td>3</td>\n",
              "    </tr>\n",
              "    <tr>\n",
              "      <th>6747</th>\n",
              "      <td>54395872</td>\n",
              "      <td>3</td>\n",
              "      <td>3</td>\n",
              "    </tr>\n",
              "    <tr>\n",
              "      <th>6748</th>\n",
              "      <td>54396292</td>\n",
              "      <td>2</td>\n",
              "      <td>2</td>\n",
              "    </tr>\n",
              "    <tr>\n",
              "      <th>6749</th>\n",
              "      <td>580353098454214912</td>\n",
              "      <td>1</td>\n",
              "      <td>2</td>\n",
              "    </tr>\n",
              "  </tbody>\n",
              "</table>\n",
              "<p>6750 rows × 3 columns</p>\n",
              "</div>\n",
              "      <button class=\"colab-df-convert\" onclick=\"convertToInteractive('df-ce43d5bc-4f43-4c33-9625-7d2c92dab6a4')\"\n",
              "              title=\"Convert this dataframe to an interactive table.\"\n",
              "              style=\"display:none;\">\n",
              "        \n",
              "  <svg xmlns=\"http://www.w3.org/2000/svg\" height=\"24px\"viewBox=\"0 0 24 24\"\n",
              "       width=\"24px\">\n",
              "    <path d=\"M0 0h24v24H0V0z\" fill=\"none\"/>\n",
              "    <path d=\"M18.56 5.44l.94 2.06.94-2.06 2.06-.94-2.06-.94-.94-2.06-.94 2.06-2.06.94zm-11 1L8.5 8.5l.94-2.06 2.06-.94-2.06-.94L8.5 2.5l-.94 2.06-2.06.94zm10 10l.94 2.06.94-2.06 2.06-.94-2.06-.94-.94-2.06-.94 2.06-2.06.94z\"/><path d=\"M17.41 7.96l-1.37-1.37c-.4-.4-.92-.59-1.43-.59-.52 0-1.04.2-1.43.59L10.3 9.45l-7.72 7.72c-.78.78-.78 2.05 0 2.83L4 21.41c.39.39.9.59 1.41.59.51 0 1.02-.2 1.41-.59l7.78-7.78 2.81-2.81c.8-.78.8-2.07 0-2.86zM5.41 20L4 18.59l7.72-7.72 1.47 1.35L5.41 20z\"/>\n",
              "  </svg>\n",
              "      </button>\n",
              "      \n",
              "  <style>\n",
              "    .colab-df-container {\n",
              "      display:flex;\n",
              "      flex-wrap:wrap;\n",
              "      gap: 12px;\n",
              "    }\n",
              "\n",
              "    .colab-df-convert {\n",
              "      background-color: #E8F0FE;\n",
              "      border: none;\n",
              "      border-radius: 50%;\n",
              "      cursor: pointer;\n",
              "      display: none;\n",
              "      fill: #1967D2;\n",
              "      height: 32px;\n",
              "      padding: 0 0 0 0;\n",
              "      width: 32px;\n",
              "    }\n",
              "\n",
              "    .colab-df-convert:hover {\n",
              "      background-color: #E2EBFA;\n",
              "      box-shadow: 0px 1px 2px rgba(60, 64, 67, 0.3), 0px 1px 3px 1px rgba(60, 64, 67, 0.15);\n",
              "      fill: #174EA6;\n",
              "    }\n",
              "\n",
              "    [theme=dark] .colab-df-convert {\n",
              "      background-color: #3B4455;\n",
              "      fill: #D2E3FC;\n",
              "    }\n",
              "\n",
              "    [theme=dark] .colab-df-convert:hover {\n",
              "      background-color: #434B5C;\n",
              "      box-shadow: 0px 1px 3px 1px rgba(0, 0, 0, 0.15);\n",
              "      filter: drop-shadow(0px 1px 2px rgba(0, 0, 0, 0.3));\n",
              "      fill: #FFFFFF;\n",
              "    }\n",
              "  </style>\n",
              "\n",
              "      <script>\n",
              "        const buttonEl =\n",
              "          document.querySelector('#df-ce43d5bc-4f43-4c33-9625-7d2c92dab6a4 button.colab-df-convert');\n",
              "        buttonEl.style.display =\n",
              "          google.colab.kernel.accessAllowed ? 'block' : 'none';\n",
              "\n",
              "        async function convertToInteractive(key) {\n",
              "          const element = document.querySelector('#df-ce43d5bc-4f43-4c33-9625-7d2c92dab6a4');\n",
              "          const dataTable =\n",
              "            await google.colab.kernel.invokeFunction('convertToInteractive',\n",
              "                                                     [key], {});\n",
              "          if (!dataTable) return;\n",
              "\n",
              "          const docLinkHtml = 'Like what you see? Visit the ' +\n",
              "            '<a target=\"_blank\" href=https://colab.research.google.com/notebooks/data_table.ipynb>data table notebook</a>'\n",
              "            + ' to learn more about interactive tables.';\n",
              "          element.innerHTML = '';\n",
              "          dataTable['output_type'] = 'display_data';\n",
              "          await google.colab.output.renderOutput(dataTable, element);\n",
              "          const docLink = document.createElement('div');\n",
              "          docLink.innerHTML = docLinkHtml;\n",
              "          element.appendChild(docLink);\n",
              "        }\n",
              "      </script>\n",
              "    </div>\n",
              "  </div>\n",
              "  "
            ],
            "text/plain": [
              "                      id  pred  Y\n",
              "0                  41712     3  3\n",
              "1                  41445     1  1\n",
              "2                  51830     1  1\n",
              "3                  55706     1  2\n",
              "4                  72913     1  1\n",
              "...                  ...   ... ..\n",
              "6745            54408307     3  3\n",
              "6746            54378165     3  3\n",
              "6747            54395872     3  3\n",
              "6748            54396292     2  2\n",
              "6749  580353098454214912     1  2\n",
              "\n",
              "[6750 rows x 3 columns]"
            ]
          },
          "execution_count": 75,
          "metadata": {},
          "output_type": "execute_result"
        }
      ],
      "source": [
        "pred_disc_2_cat_real_name"
      ]
    },
    {
      "attachments": {},
      "cell_type": "markdown",
      "metadata": {
        "id": "uVLh9YBYH8pV"
      },
      "source": [
        "## POC: Name has predictive power ?!\n",
        "\n",
        "\n",
        "Lastly, a model without name as input feature shall be trained to determine if the name contains predictive power."
      ]
    },
    {
      "cell_type": "code",
      "execution_count": null,
      "metadata": {
        "id": "w5djCOVzNwfq"
      },
      "outputs": [],
      "source": [
        "\n",
        "## A model that does not take into accoutn the name\n",
        "\n",
        "tab_input_dim = 31\n",
        "final_output_dim_text_des = 5\n",
        "final_output_dim_visual = 5\n",
        "\n",
        "hidden_dim_1 = 60\n",
        "hidden_dim_2 = 60\n",
        "hidden_dim_3 = 60\n",
        "hidden_dim_4 = 20\n",
        "output_dim = 1\n",
        "\n",
        "\n",
        "## name, des / text model \n",
        "\n",
        "\n",
        "class NeuralNetwork_no_name(nn.Module): ## without extractor\n",
        "    def __init__(self, model_vit, tab_input_dim, final_output_dim_visual, final_output_dim_text_des, hidden_dim_1, hidden_dim_2, hidden_dim_3, hiddem_dim_4, output_dim):\n",
        "        super(NeuralNetwork_no_name, self).__init__()\n",
        "\n",
        "        self.model_vit = model_vit\n",
        "        for param in self.model_vit.parameters():\n",
        "          param.requires_grad = False\n",
        "\n",
        "        # layers build on top of visual model before concatination \n",
        "        self.visual_add_layer_1 = torch.nn.Linear(in_features=768, out_features=20)\n",
        "        self.visual_add_layer_2 = torch.nn.Linear(in_features=20, out_features=4)\n",
        "        # flattening / torch.flatten(-, start_dim = 1)\n",
        "        self.visual_add_layer_3 = torch.nn.Linear(in_features=788, out_features=50)\n",
        "        self.visual_add_layer_4 = torch.nn.Linear(in_features=50, out_features=final_output_dim_visual) ## concat after this layer of dim Batch Size x final_output_dim_visual\n",
        "        \n",
        "\n",
        "        # Layers added after Description \n",
        "        self.des_added_layer_1 = nn.Linear(768, 100)\n",
        "        self.des_added_layer_2 = nn.Linear(100, 100)\n",
        "        ### dropout ## \n",
        "        self.des_added_layer_3 = nn.Linear(100, 50)\n",
        "        self.des_added_layer_4 = nn.Linear(50, final_output_dim_text_des)\n",
        "\n",
        "\n",
        "        ### Layers added after Joint Description ### \n",
        "\n",
        "        # dimension after concat operation\n",
        "        self.concat_dim = tab_input_dim + final_output_dim_visual + final_output_dim_text_des\n",
        "\n",
        "        # layers processing input after concatination \n",
        "        self.layer_1 = nn.Linear(self.concat_dim, hidden_dim_1)\n",
        "        self.layer_2 = nn.Linear(hidden_dim_1, hidden_dim_2)\n",
        "        self.layer_3 = nn.Linear(hidden_dim_2, hidden_dim_3)\n",
        "        self.layer_4 = nn.Linear(hidden_dim_3, hidden_dim_4)\n",
        "        self.layer_5 = nn.Linear(hidden_dim_4, output_dim)\n",
        "        self.dropout = nn.Dropout(0.03) \n",
        "\n",
        "       \n",
        "    def forward(self, img, des_encoded, X):  ## name, des\n",
        "\n",
        "        ## firstly processing outputs of visual and textual model ##\n",
        "\n",
        "        # visual model \n",
        "        output_img = self.model_vit(img)\n",
        "        output_img = torch.nn.functional.tanh(self.visual_add_layer_1(output_img.last_hidden_state))\n",
        "        output_img = self.dropout(output_img)\n",
        "        output_img = torch.nn.functional.tanh(self.visual_add_layer_2(output_img))\n",
        "        output_img = torch.flatten(output_img, start_dim = 1)\n",
        "        output_img = torch.nn.functional.tanh(self.visual_add_layer_3(output_img))\n",
        "        final_output_img = torch.nn.functional.tanh(self.visual_add_layer_4(output_img))\n",
        "\n",
        "        # textual - description \n",
        "        encoded_des = torch.tensor(des_encoded)\n",
        "        encoded_des = torch.nn.functional.tanh(self.des_added_layer_1(encoded_des))\n",
        "        encoded_des = self.dropout(encoded_des)\n",
        "        encoded_des = torch.nn.functional.tanh(self.des_added_layer_2(encoded_des))\n",
        "        encoded_des = self.dropout(encoded_des)\n",
        "        encoded_des = torch.nn.functional.tanh(self.des_added_layer_3(encoded_des))\n",
        "        final_encoded_des = torch.nn.functional.tanh(self.des_added_layer_4(encoded_des))\n",
        "\n",
        "        # concatination #\n",
        "        x = torch.cat((final_output_img, final_encoded_des, X), 1)\n",
        "\n",
        "        ## processing of joint representation ## \n",
        "        x = torch.nn.functional.tanh(self.layer_1(x))\n",
        "        x = torch.nn.functional.tanh(self.layer_2(x))\n",
        "        x = self.dropout(x)\n",
        "        x = torch.nn.functional.tanh(self.layer_3(x))\n",
        "        x = self.dropout(x)\n",
        "        x = torch.nn.functional.tanh(self.layer_4(x))\n",
        "        x = self.layer_5(x)\n",
        "\n",
        "        return x"
      ]
    },
    {
      "cell_type": "code",
      "execution_count": null,
      "metadata": {
        "id": "ATaUAVcRPV4d"
      },
      "outputs": [],
      "source": []
    },
    {
      "cell_type": "code",
      "execution_count": null,
      "metadata": {
        "id": "Wg7buF3pPWUK"
      },
      "outputs": [],
      "source": [
        "output_dim = 1 ## here\n",
        "\n",
        "model = NeuralNetwork_no_name( model_vit, tab_input_dim, final_output_dim_visual, final_output_dim_text_des, hidden_dim_1, hidden_dim_2, hidden_dim_3, hidden_dim_4, output_dim)\n",
        "\n",
        "learning_rate = 0.0035 ## found to be working well here\n",
        "loss_fn = nn.MSELoss()\n",
        "optimizer = torch.optim.Adam(model.parameters(), lr=learning_rate) ## adam"
      ]
    },
    {
      "cell_type": "code",
      "execution_count": null,
      "metadata": {
        "id": "LbHvWUMePWUP"
      },
      "outputs": [],
      "source": [
        "from transformers import get_scheduler\n",
        "\n",
        "accelerator = Accelerator()\n",
        "model, optimizer, dl_train, dl_eval = accelerator.prepare(\n",
        "    model, optimizer, dl_train, dl_eval\n",
        ")\n",
        "\n",
        "num_update_steps_per_epoch = len(dl_train)\n",
        "num_epochs = 60\n",
        "\n",
        "num_training_steps = num_epochs * num_update_steps_per_epoch\n",
        "\n",
        "\n",
        "lr_scheduler = get_scheduler(\n",
        "    \"linear\",\n",
        "    optimizer=optimizer,\n",
        "    num_warmup_steps=0,     ## one might also alter this!\n",
        "    num_training_steps=num_training_steps,\n",
        ")\n"
      ]
    },
    {
      "cell_type": "code",
      "execution_count": null,
      "metadata": {
        "id": "PTW3VjHxPWUT"
      },
      "outputs": [],
      "source": [
        "overall_loss_values = []\n",
        "overall_loss_values_eval = []\n",
        "\n",
        "progress_bar = tqdm(range(num_training_steps))\n",
        "\n",
        "for epoch in range(num_epochs):\n",
        "\n",
        "  loss_values = []\n",
        "  loss_values_eval = []\n",
        "\n",
        "  model.train()\n",
        "\n",
        "  for batch in dl_train:\n",
        "\n",
        "    img = batch[0].to(device)\n",
        "    joint_des = torch.tensor(batch[2]).to(device)\n",
        "    X = batch[3].to(device)\n",
        "    Y = torch.tensor(batch[5]).to(device)\n",
        "    optimizer.zero_grad()\n",
        "    pred = model(img, joint_des, X)\n",
        "    loss = loss_fn(pred.squeeze(), Y)\n",
        "    loss_values.append(loss.item())\n",
        "    accelerator.backward(loss)\n",
        "    \n",
        "    optimizer.step()\n",
        "    lr_scheduler.step()\n",
        "    progress_bar.update(1)\n",
        "\n",
        "  model.eval()\n",
        "\n",
        "  with torch.no_grad():\n",
        "    for batch in dl_eval:\n",
        "\n",
        "      img = batch[0].to(device)\n",
        "      joint_des = torch.tensor(batch[2]).to(device)\n",
        "      X = batch[3].to(device)\n",
        "      Y = torch.tensor(batch[5]).to(device)\n",
        "      optimizer.zero_grad()\n",
        "      pred = model(img, joint_des, X)\n",
        "      loss = loss_fn(pred.squeeze(), Y)\n",
        "      loss_values_eval.append(loss.item())\n",
        "\n",
        "  overall_loss_values.append(np.mean(loss_values))\n",
        "  overall_loss_values_eval.append(np.mean(loss_values_eval))\n"
      ]
    },
    {
      "cell_type": "code",
      "execution_count": null,
      "metadata": {
        "id": "c9FoSrrvK0Az"
      },
      "outputs": [],
      "source": [
        "name_to_save = \"losses_disc_2_cont_no_name\"\n",
        "df_losses_1 = pd.DataFrame({\"loss_eval\": overall_loss_values_eval, \"loss_train\": overall_loss_values })\n",
        "df_losses_1.to_csv(f\"/content/gdrive/My Drive/Thesis/loss_data/{name_to_save}.csv\", index = False)"
      ]
    },
    {
      "cell_type": "code",
      "execution_count": null,
      "metadata": {
        "colab": {
          "base_uri": "https://localhost:8080/",
          "height": 449
        },
        "id": "yQgeY0QY2ytE",
        "outputId": "75cdbc43-eed3-4405-f84c-d6aa8e6ac7d6"
      },
      "outputs": [
        {
          "data": {
            "image/png": "[encoded data removed]",
            "text/plain": [
              "<Figure size 640x480 with 1 Axes>"
            ]
          },
          "metadata": {},
          "output_type": "display_data"
        }
      ],
      "source": [
        "import matplotlib.pyplot as plt\n",
        "name_to_save = \"losses_disc_2_cont_no_name\"\n",
        "\n",
        "epochs = list(range(1,num_epochs+1))\n",
        "\n",
        "plt.plot(epochs, overall_loss_values, color = \"black\")\n",
        "plt.plot(epochs, overall_loss_values_eval, color = \"black\", linestyle='dashed')\n",
        "plt.legend([\"Training Loss\", \"Evaluation Loss\"], loc='upper right')\n",
        "plt.xlabel(\"Training Iterations\")\n",
        "plt.ylabel(\"Loss after iteration\")\n",
        "plt.savefig(f'/content/gdrive/My Drive/Thesis/Plots/{name_to_save}.png')\n",
        "plt.show()"
      ]
    },
    {
      "attachments": {},
      "cell_type": "markdown",
      "metadata": {
        "id": "GyWyMrXyMZwF"
      },
      "source": [
        "When comparing the losses (see the pic of the losses which is a copy from the loss image from above), it becomes apparent that the losses of the model that incorporates the name is slightly lower"
      ]
    },
    {
      "attachments": {},
      "cell_type": "markdown",
      "metadata": {
        "id": "klX-BSkqMD65"
      },
      "source": [
        "![Unb1.PNG](data:image/png;base64,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)"
      ]
    }
  ],
  "metadata": {
    "colab": {
      "gpuType": "V100",
      "machine_shape": "hm",
      "provenance": []
    },
    "gpuClass": "standard",
    "kernelspec": {
      "display_name": "Python 3",
      "name": "python3"
    },
    "language_info": {
      "codemirror_mode": {
        "name": "ipython",
        "version": 3
      },
      "file_extension": ".py",
      "mimetype": "text/x-python",
      "name": "python",
      "nbconvert_exporter": "python",
      "pygments_lexer": "ipython3",
      "version": "3.9.5"
    },
    "widgets": {
      "application/vnd.jupyter.widget-state+json": {
        "04377474e13c4c14a13879a77c180227": {
          "model_module": "@jupyter-widgets/base",
          "model_module_version": "1.2.0",
          "model_name": "LayoutModel",
          "state": {
            "_model_module": "@jupyter-widgets/base",
            "_model_module_version": "1.2.0",
            "_model_name": "LayoutModel",
            "_view_count": null,
            "_view_module": "@jupyter-widgets/base",
            "_view_module_version": "1.2.0",
            "_view_name": "LayoutView",
            "align_content": null,
            "align_items": null,
            "align_self": null,
            "border": null,
            "bottom": null,
            "display": null,
            "flex": null,
            "flex_flow": null,
            "grid_area": null,
            "grid_auto_columns": null,
            "grid_auto_flow": null,
            "grid_auto_rows": null,
            "grid_column": null,
            "grid_gap": null,
            "grid_row": null,
            "grid_template_areas": null,
            "grid_template_columns": null,
            "grid_template_rows": null,
            "height": null,
            "justify_content": null,
            "justify_items": null,
            "left": null,
            "margin": null,
            "max_height": null,
            "max_width": null,
            "min_height": null,
            "min_width": null,
            "object_fit": null,
            "object_position": null,
            "order": null,
            "overflow": null,
            "overflow_x": null,
            "overflow_y": null,
            "padding": null,
            "right": null,
            "top": null,
            "visibility": null,
            "width": null
          }
        },
        "359f15a822e8449e914aa0c735db21f2": {
          "model_module": "@jupyter-widgets/controls",
          "model_module_version": "1.5.0",
          "model_name": "DescriptionStyleModel",
          "state": {
            "_model_module": "@jupyter-widgets/controls",
            "_model_module_version": "1.5.0",
            "_model_name": "DescriptionStyleModel",
            "_view_count": null,
            "_view_module": "@jupyter-widgets/base",
            "_view_module_version": "1.2.0",
            "_view_name": "StyleView",
            "description_width": ""
          }
        },
        "39640ebdc7a846b98157b845c06e5c3d": {
          "model_module": "@jupyter-widgets/controls",
          "model_module_version": "1.5.0",
          "model_name": "ProgressStyleModel",
          "state": {
            "_model_module": "@jupyter-widgets/controls",
            "_model_module_version": "1.5.0",
            "_model_name": "ProgressStyleModel",
            "_view_count": null,
            "_view_module": "@jupyter-widgets/base",
            "_view_module_version": "1.2.0",
            "_view_name": "StyleView",
            "bar_color": null,
            "description_width": ""
          }
        },
        "4c595d61a4894d3e8d4840d1f5ee2024": {
          "model_module": "@jupyter-widgets/controls",
          "model_module_version": "1.5.0",
          "model_name": "FloatProgressModel",
          "state": {
            "_dom_classes": [],
            "_model_module": "@jupyter-widgets/controls",
            "_model_module_version": "1.5.0",
            "_model_name": "FloatProgressModel",
            "_view_count": null,
            "_view_module": "@jupyter-widgets/controls",
            "_view_module_version": "1.5.0",
            "_view_name": "ProgressView",
            "bar_style": "",
            "description": "",
            "description_tooltip": null,
            "layout": "IPY_MODEL_e43d40156d0f4a829f14ed3a7a26c43f",
            "max": 2964,
            "min": 0,
            "orientation": "horizontal",
            "style": "IPY_MODEL_39640ebdc7a846b98157b845c06e5c3d",
            "value": 2963
          }
        },
        "73d9629a51984f60a5c4e38f4e641ed6": {
          "model_module": "@jupyter-widgets/base",
          "model_module_version": "1.2.0",
          "model_name": "LayoutModel",
          "state": {
            "_model_module": "@jupyter-widgets/base",
            "_model_module_version": "1.2.0",
            "_model_name": "LayoutModel",
            "_view_count": null,
            "_view_module": "@jupyter-widgets/base",
            "_view_module_version": "1.2.0",
            "_view_name": "LayoutView",
            "align_content": null,
            "align_items": null,
            "align_self": null,
            "border": null,
            "bottom": null,
            "display": null,
            "flex": null,
            "flex_flow": null,
            "grid_area": null,
            "grid_auto_columns": null,
            "grid_auto_flow": null,
            "grid_auto_rows": null,
            "grid_column": null,
            "grid_gap": null,
            "grid_row": null,
            "grid_template_areas": null,
            "grid_template_columns": null,
            "grid_template_rows": null,
            "height": null,
            "justify_content": null,
            "justify_items": null,
            "left": null,
            "margin": null,
            "max_height": null,
            "max_width": null,
            "min_height": null,
            "min_width": null,
            "object_fit": null,
            "object_position": null,
            "order": null,
            "overflow": null,
            "overflow_x": null,
            "overflow_y": null,
            "padding": null,
            "right": null,
            "top": null,
            "visibility": null,
            "width": null
          }
        },
        "86d40a96f87f4786894a7c99152c8ad5": {
          "model_module": "@jupyter-widgets/controls",
          "model_module_version": "1.5.0",
          "model_name": "HTMLModel",
          "state": {
            "_dom_classes": [],
            "_model_module": "@jupyter-widgets/controls",
            "_model_module_version": "1.5.0",
            "_model_name": "HTMLModel",
            "_view_count": null,
            "_view_module": "@jupyter-widgets/controls",
            "_view_module_version": "1.5.0",
            "_view_name": "HTMLView",
            "description": "",
            "description_tooltip": null,
            "layout": "IPY_MODEL_04377474e13c4c14a13879a77c180227",
            "placeholder": "​",
            "style": "IPY_MODEL_359f15a822e8449e914aa0c735db21f2",
            "value": " 2963/2964 [4:09:20&lt;00:02,  2.70s/it]"
          }
        },
        "8e7b05328aa8407b90cc619df7988dd5": {
          "model_module": "@jupyter-widgets/controls",
          "model_module_version": "1.5.0",
          "model_name": "HTMLModel",
          "state": {
            "_dom_classes": [],
            "_model_module": "@jupyter-widgets/controls",
            "_model_module_version": "1.5.0",
            "_model_name": "HTMLModel",
            "_view_count": null,
            "_view_module": "@jupyter-widgets/controls",
            "_view_module_version": "1.5.0",
            "_view_name": "HTMLView",
            "description": "",
            "description_tooltip": null,
            "layout": "IPY_MODEL_73d9629a51984f60a5c4e38f4e641ed6",
            "placeholder": "​",
            "style": "IPY_MODEL_cc937b6ab8914abb81b828d95d07782a",
            "value": "100%"
          }
        },
        "9d60872d5f0d464e9edc80675108ba5a": {
          "model_module": "@jupyter-widgets/base",
          "model_module_version": "1.2.0",
          "model_name": "LayoutModel",
          "state": {
            "_model_module": "@jupyter-widgets/base",
            "_model_module_version": "1.2.0",
            "_model_name": "LayoutModel",
            "_view_count": null,
            "_view_module": "@jupyter-widgets/base",
            "_view_module_version": "1.2.0",
            "_view_name": "LayoutView",
            "align_content": null,
            "align_items": null,
            "align_self": null,
            "border": null,
            "bottom": null,
            "display": null,
            "flex": null,
            "flex_flow": null,
            "grid_area": null,
            "grid_auto_columns": null,
            "grid_auto_flow": null,
            "grid_auto_rows": null,
            "grid_column": null,
            "grid_gap": null,
            "grid_row": null,
            "grid_template_areas": null,
            "grid_template_columns": null,
            "grid_template_rows": null,
            "height": null,
            "justify_content": null,
            "justify_items": null,
            "left": null,
            "margin": null,
            "max_height": null,
            "max_width": null,
            "min_height": null,
            "min_width": null,
            "object_fit": null,
            "object_position": null,
            "order": null,
            "overflow": null,
            "overflow_x": null,
            "overflow_y": null,
            "padding": null,
            "right": null,
            "top": null,
            "visibility": null,
            "width": null
          }
        },
        "cc937b6ab8914abb81b828d95d07782a": {
          "model_module": "@jupyter-widgets/controls",
          "model_module_version": "1.5.0",
          "model_name": "DescriptionStyleModel",
          "state": {
            "_model_module": "@jupyter-widgets/controls",
            "_model_module_version": "1.5.0",
            "_model_name": "DescriptionStyleModel",
            "_view_count": null,
            "_view_module": "@jupyter-widgets/base",
            "_view_module_version": "1.2.0",
            "_view_name": "StyleView",
            "description_width": ""
          }
        },
        "d40eb5a271de41c2bf2f0a7214c0979d": {
          "model_module": "@jupyter-widgets/controls",
          "model_module_version": "1.5.0",
          "model_name": "HBoxModel",
          "state": {
            "_dom_classes": [],
            "_model_module": "@jupyter-widgets/controls",
            "_model_module_version": "1.5.0",
            "_model_name": "HBoxModel",
            "_view_count": null,
            "_view_module": "@jupyter-widgets/controls",
            "_view_module_version": "1.5.0",
            "_view_name": "HBoxView",
            "box_style": "",
            "children": [
              "IPY_MODEL_8e7b05328aa8407b90cc619df7988dd5",
              "IPY_MODEL_4c595d61a4894d3e8d4840d1f5ee2024",
              "IPY_MODEL_86d40a96f87f4786894a7c99152c8ad5"
            ],
            "layout": "IPY_MODEL_9d60872d5f0d464e9edc80675108ba5a"
          }
        },
        "e43d40156d0f4a829f14ed3a7a26c43f": {
          "model_module": "@jupyter-widgets/base",
          "model_module_version": "1.2.0",
          "model_name": "LayoutModel",
          "state": {
            "_model_module": "@jupyter-widgets/base",
            "_model_module_version": "1.2.0",
            "_model_name": "LayoutModel",
            "_view_count": null,
            "_view_module": "@jupyter-widgets/base",
            "_view_module_version": "1.2.0",
            "_view_name": "LayoutView",
            "align_content": null,
            "align_items": null,
            "align_self": null,
            "border": null,
            "bottom": null,
            "display": null,
            "flex": null,
            "flex_flow": null,
            "grid_area": null,
            "grid_auto_columns": null,
            "grid_auto_flow": null,
            "grid_auto_rows": null,
            "grid_column": null,
            "grid_gap": null,
            "grid_row": null,
            "grid_template_areas": null,
            "grid_template_columns": null,
            "grid_template_rows": null,
            "height": null,
            "justify_content": null,
            "justify_items": null,
            "left": null,
            "margin": null,
            "max_height": null,
            "max_width": null,
            "min_height": null,
            "min_width": null,
            "object_fit": null,
            "object_position": null,
            "order": null,
            "overflow": null,
            "overflow_x": null,
            "overflow_y": null,
            "padding": null,
            "right": null,
            "top": null,
            "visibility": null,
            "width": null
          }
        }
      }
    }
  },
  "nbformat": 4,
  "nbformat_minor": 0
}
