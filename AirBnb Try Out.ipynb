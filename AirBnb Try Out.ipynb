{
  "nbformat": 4,
  "nbformat_minor": 0,
  "metadata": {
    "colab": {
      "provenance": [],
      "machine_shape": "hm"
    },
    "kernelspec": {
      "name": "python3",
      "display_name": "Python 3"
    },
    "language_info": {
      "name": "python"
    },
    "gpuClass": "standard"
  },
  "cells": [
    {
      "cell_type": "markdown",
      "source": [
        "\n",
        "\n",
        "# Data Source: Inside AirBnB\n",
        "\n",
        "\n",
        "http://insideairbnb.com/get-the-data/\n"
      ],
      "metadata": {
        "id": "bvuSvRjIWKee"
      }
    },
    {
      "cell_type": "code",
      "source": [
        "!pip install fuzzywuzzy"
      ],
      "metadata": {
        "id": "cSU0V3MbshEz",
        "colab": {
          "base_uri": "https://localhost:8080/"
        },
        "outputId": "4dcd7f33-d459-4378-e56e-628df3fd016a"
      },
      "execution_count": null,
      "outputs": [
        {
          "output_type": "stream",
          "name": "stdout",
          "text": [
            "Collecting fuzzywuzzy\n",
            "  Downloading fuzzywuzzy-0.18.0-py2.py3-none-any.whl (18 kB)\n",
            "Installing collected packages: fuzzywuzzy\n",
            "Successfully installed fuzzywuzzy-0.18.0\n"
          ]
        }
      ]
    },
    {
      "cell_type": "code",
      "execution_count": null,
      "metadata": {
        "id": "ZJ1OGM2HMv4S"
      },
      "outputs": [],
      "source": [
        "import pandas as pd\n",
        "import numpy as np\n"
      ]
    },
    {
      "cell_type": "code",
      "source": [
        "# connecting to drive\n",
        "from google.colab import drive\n",
        "drive.mount('/content/gdrive')\n"
      ],
      "metadata": {
        "colab": {
          "base_uri": "https://localhost:8080/"
        },
        "id": "i2FWq8Hcf3FA",
        "outputId": "c8ff6757-1115-4da1-935c-78febd700136"
      },
      "execution_count": null,
      "outputs": [
        {
          "output_type": "stream",
          "name": "stdout",
          "text": [
            "Mounted at /content/gdrive\n"
          ]
        }
      ]
    },
    {
      "cell_type": "code",
      "source": [
        "\n",
        "# important: _2022_airbnb_london refers to\n",
        "_2022_airbnb_london = pd.read_csv(\"/content/gdrive/My Drive/Thesis/London_Data/basic_london_listings.csv\")  #, sep = \";\")\n",
        "\n",
        "\n",
        "print(_2022_airbnb_london.shape)\n",
        "\n",
        "_2022_airbnb_london.head()\n"
      ],
      "metadata": {
        "id": "DCqdIorojt9l",
        "colab": {
          "base_uri": "https://localhost:8080/",
          "height": 613
        },
        "outputId": "e94e2a74-3c8b-447d-c3df-d3106d122a64"
      },
      "execution_count": null,
      "outputs": [
        {
          "output_type": "stream",
          "name": "stdout",
          "text": [
            "(66152, 74)\n"
          ]
        },
        {
          "output_type": "execute_result",
          "data": {
            "text/plain": [
              "      id                         listing_url       scrape_id last_scraped  \\\n",
              "0  13913  https://www.airbnb.com/rooms/13913  20220607181843   2022-06-08   \n",
              "1  15400  https://www.airbnb.com/rooms/15400  20220607181843   2022-06-08   \n",
              "2  24328  https://www.airbnb.com/rooms/24328  20220607181843   2022-06-08   \n",
              "3  17506  https://www.airbnb.com/rooms/17506  20220607181843   2022-06-08   \n",
              "4  17402  https://www.airbnb.com/rooms/17402  20220607181843   2022-06-08   \n",
              "\n",
              "                                                name  \\\n",
              "0                Holiday London DB Room Let-on going   \n",
              "1                Bright Chelsea  Apartment. Chelsea!   \n",
              "2  Battersea live/work artist house, garden communal   \n",
              "3  Boutique Chelsea/Fulham Double bed 5-star ensuite   \n",
              "4              Superb 3-Bed/2 Bath & Wifi: Trendy W1   \n",
              "\n",
              "                                         description  \\\n",
              "0  My bright double bedroom with a large window h...   \n",
              "1  Lots of windows and light.  St Luke's Gardens ...   \n",
              "2  Artist house, bright high ceiling rooms for bo...   \n",
              "3  Enjoy a chic stay in this elegant but fully mo...   \n",
              "4  You'll have a wonderful stay in this superb mo...   \n",
              "\n",
              "                               neighborhood_overview  \\\n",
              "0  Finsbury Park is a friendly melting pot commun...   \n",
              "1                                     It is Chelsea.   \n",
              "2  - Battersea is a quiet family area, easy acces...   \n",
              "3  Fulham is 'villagey' and residential – a real ...   \n",
              "4  Location, location, location! You won't find b...   \n",
              "\n",
              "                                         picture_url  host_id  \\\n",
              "0  https://a0.muscache.com/pictures/miso/Hosting-...    54730   \n",
              "1  https://a0.muscache.com/pictures/428392/462d26...    60302   \n",
              "2  https://a0.muscache.com/pictures/c4ffa398-ebfd...    41759   \n",
              "3  https://a0.muscache.com/pictures/11901327/e63d...    67915   \n",
              "4  https://a0.muscache.com/pictures/39d5309d-fba7...    67564   \n",
              "\n",
              "                                  host_url  ... review_scores_communication  \\\n",
              "0  https://www.airbnb.com/users/show/54730  ...                        4.92   \n",
              "1  https://www.airbnb.com/users/show/60302  ...                        4.82   \n",
              "2  https://www.airbnb.com/users/show/41759  ...                        4.93   \n",
              "3  https://www.airbnb.com/users/show/67915  ...                         NaN   \n",
              "4  https://www.airbnb.com/users/show/67564  ...                        4.68   \n",
              "\n",
              "  review_scores_location review_scores_value license instant_bookable  \\\n",
              "0                   4.71                4.79     NaN                f   \n",
              "1                   4.93                4.73     NaN                f   \n",
              "2                   4.58                4.64     NaN                f   \n",
              "3                    NaN                 NaN     NaN                f   \n",
              "4                   4.87                4.57     NaN                f   \n",
              "\n",
              "  calculated_host_listings_count calculated_host_listings_count_entire_homes  \\\n",
              "0                              2                                           1   \n",
              "1                              1                                           1   \n",
              "2                              1                                           1   \n",
              "3                              2                                           0   \n",
              "4                              3                                           3   \n",
              "\n",
              "  calculated_host_listings_count_private_rooms  \\\n",
              "0                                            1   \n",
              "1                                            0   \n",
              "2                                            0   \n",
              "3                                            2   \n",
              "4                                            0   \n",
              "\n",
              "  calculated_host_listings_count_shared_rooms reviews_per_month  \n",
              "0                                           0              0.18  \n",
              "1                                           0              0.59  \n",
              "2                                           0              0.67  \n",
              "3                                           0               NaN  \n",
              "4                                           0              0.36  \n",
              "\n",
              "[5 rows x 74 columns]"
            ],
            "text/html": [
              "\n",
              "\n",
              "  <div id=\"df-1fe775f2-f6f5-44f8-8fc1-de21adbf806c\">\n",
              "    <div class=\"colab-df-container\">\n",
              "      <div>\n",
              "<style scoped>\n",
              "    .dataframe tbody tr th:only-of-type {\n",
              "        vertical-align: middle;\n",
              "    }\n",
              "\n",
              "    .dataframe tbody tr th {\n",
              "        vertical-align: top;\n",
              "    }\n",
              "\n",
              "    .dataframe thead th {\n",
              "        text-align: right;\n",
              "    }\n",
              "</style>\n",
              "<table border=\"1\" class=\"dataframe\">\n",
              "  <thead>\n",
              "    <tr style=\"text-align: right;\">\n",
              "      <th></th>\n",
              "      <th>id</th>\n",
              "      <th>listing_url</th>\n",
              "      <th>scrape_id</th>\n",
              "      <th>last_scraped</th>\n",
              "      <th>name</th>\n",
              "      <th>description</th>\n",
              "      <th>neighborhood_overview</th>\n",
              "      <th>picture_url</th>\n",
              "      <th>host_id</th>\n",
              "      <th>host_url</th>\n",
              "      <th>...</th>\n",
              "      <th>review_scores_communication</th>\n",
              "      <th>review_scores_location</th>\n",
              "      <th>review_scores_value</th>\n",
              "      <th>license</th>\n",
              "      <th>instant_bookable</th>\n",
              "      <th>calculated_host_listings_count</th>\n",
              "      <th>calculated_host_listings_count_entire_homes</th>\n",
              "      <th>calculated_host_listings_count_private_rooms</th>\n",
              "      <th>calculated_host_listings_count_shared_rooms</th>\n",
              "      <th>reviews_per_month</th>\n",
              "    </tr>\n",
              "  </thead>\n",
              "  <tbody>\n",
              "    <tr>\n",
              "      <th>0</th>\n",
              "      <td>13913</td>\n",
              "      <td>https://www.airbnb.com/rooms/13913</td>\n",
              "      <td>20220607181843</td>\n",
              "      <td>2022-06-08</td>\n",
              "      <td>Holiday London DB Room Let-on going</td>\n",
              "      <td>My bright double bedroom with a large window h...</td>\n",
              "      <td>Finsbury Park is a friendly melting pot commun...</td>\n",
              "      <td>https://a0.muscache.com/pictures/miso/Hosting-...</td>\n",
              "      <td>54730</td>\n",
              "      <td>https://www.airbnb.com/users/show/54730</td>\n",
              "      <td>...</td>\n",
              "      <td>4.92</td>\n",
              "      <td>4.71</td>\n",
              "      <td>4.79</td>\n",
              "      <td>NaN</td>\n",
              "      <td>f</td>\n",
              "      <td>2</td>\n",
              "      <td>1</td>\n",
              "      <td>1</td>\n",
              "      <td>0</td>\n",
              "      <td>0.18</td>\n",
              "    </tr>\n",
              "    <tr>\n",
              "      <th>1</th>\n",
              "      <td>15400</td>\n",
              "      <td>https://www.airbnb.com/rooms/15400</td>\n",
              "      <td>20220607181843</td>\n",
              "      <td>2022-06-08</td>\n",
              "      <td>Bright Chelsea  Apartment. Chelsea!</td>\n",
              "      <td>Lots of windows and light.  St Luke's Gardens ...</td>\n",
              "      <td>It is Chelsea.</td>\n",
              "      <td>https://a0.muscache.com/pictures/428392/462d26...</td>\n",
              "      <td>60302</td>\n",
              "      <td>https://www.airbnb.com/users/show/60302</td>\n",
              "      <td>...</td>\n",
              "      <td>4.82</td>\n",
              "      <td>4.93</td>\n",
              "      <td>4.73</td>\n",
              "      <td>NaN</td>\n",
              "      <td>f</td>\n",
              "      <td>1</td>\n",
              "      <td>1</td>\n",
              "      <td>0</td>\n",
              "      <td>0</td>\n",
              "      <td>0.59</td>\n",
              "    </tr>\n",
              "    <tr>\n",
              "      <th>2</th>\n",
              "      <td>24328</td>\n",
              "      <td>https://www.airbnb.com/rooms/24328</td>\n",
              "      <td>20220607181843</td>\n",
              "      <td>2022-06-08</td>\n",
              "      <td>Battersea live/work artist house, garden communal</td>\n",
              "      <td>Artist house, bright high ceiling rooms for bo...</td>\n",
              "      <td>- Battersea is a quiet family area, easy acces...</td>\n",
              "      <td>https://a0.muscache.com/pictures/c4ffa398-ebfd...</td>\n",
              "      <td>41759</td>\n",
              "      <td>https://www.airbnb.com/users/show/41759</td>\n",
              "      <td>...</td>\n",
              "      <td>4.93</td>\n",
              "      <td>4.58</td>\n",
              "      <td>4.64</td>\n",
              "      <td>NaN</td>\n",
              "      <td>f</td>\n",
              "      <td>1</td>\n",
              "      <td>1</td>\n",
              "      <td>0</td>\n",
              "      <td>0</td>\n",
              "      <td>0.67</td>\n",
              "    </tr>\n",
              "    <tr>\n",
              "      <th>3</th>\n",
              "      <td>17506</td>\n",
              "      <td>https://www.airbnb.com/rooms/17506</td>\n",
              "      <td>20220607181843</td>\n",
              "      <td>2022-06-08</td>\n",
              "      <td>Boutique Chelsea/Fulham Double bed 5-star ensuite</td>\n",
              "      <td>Enjoy a chic stay in this elegant but fully mo...</td>\n",
              "      <td>Fulham is 'villagey' and residential – a real ...</td>\n",
              "      <td>https://a0.muscache.com/pictures/11901327/e63d...</td>\n",
              "      <td>67915</td>\n",
              "      <td>https://www.airbnb.com/users/show/67915</td>\n",
              "      <td>...</td>\n",
              "      <td>NaN</td>\n",
              "      <td>NaN</td>\n",
              "      <td>NaN</td>\n",
              "      <td>NaN</td>\n",
              "      <td>f</td>\n",
              "      <td>2</td>\n",
              "      <td>0</td>\n",
              "      <td>2</td>\n",
              "      <td>0</td>\n",
              "      <td>NaN</td>\n",
              "    </tr>\n",
              "    <tr>\n",
              "      <th>4</th>\n",
              "      <td>17402</td>\n",
              "      <td>https://www.airbnb.com/rooms/17402</td>\n",
              "      <td>20220607181843</td>\n",
              "      <td>2022-06-08</td>\n",
              "      <td>Superb 3-Bed/2 Bath &amp; Wifi: Trendy W1</td>\n",
              "      <td>You'll have a wonderful stay in this superb mo...</td>\n",
              "      <td>Location, location, location! You won't find b...</td>\n",
              "      <td>https://a0.muscache.com/pictures/39d5309d-fba7...</td>\n",
              "      <td>67564</td>\n",
              "      <td>https://www.airbnb.com/users/show/67564</td>\n",
              "      <td>...</td>\n",
              "      <td>4.68</td>\n",
              "      <td>4.87</td>\n",
              "      <td>4.57</td>\n",
              "      <td>NaN</td>\n",
              "      <td>f</td>\n",
              "      <td>3</td>\n",
              "      <td>3</td>\n",
              "      <td>0</td>\n",
              "      <td>0</td>\n",
              "      <td>0.36</td>\n",
              "    </tr>\n",
              "  </tbody>\n",
              "</table>\n",
              "<p>5 rows × 74 columns</p>\n",
              "</div>\n",
              "      <button class=\"colab-df-convert\" onclick=\"convertToInteractive('df-1fe775f2-f6f5-44f8-8fc1-de21adbf806c')\"\n",
              "              title=\"Convert this dataframe to an interactive table.\"\n",
              "              style=\"display:none;\">\n",
              "\n",
              "  <svg xmlns=\"http://www.w3.org/2000/svg\" height=\"24px\"viewBox=\"0 0 24 24\"\n",
              "       width=\"24px\">\n",
              "    <path d=\"M0 0h24v24H0V0z\" fill=\"none\"/>\n",
              "    <path d=\"M18.56 5.44l.94 2.06.94-2.06 2.06-.94-2.06-.94-.94-2.06-.94 2.06-2.06.94zm-11 1L8.5 8.5l.94-2.06 2.06-.94-2.06-.94L8.5 2.5l-.94 2.06-2.06.94zm10 10l.94 2.06.94-2.06 2.06-.94-2.06-.94-.94-2.06-.94 2.06-2.06.94z\"/><path d=\"M17.41 7.96l-1.37-1.37c-.4-.4-.92-.59-1.43-.59-.52 0-1.04.2-1.43.59L10.3 9.45l-7.72 7.72c-.78.78-.78 2.05 0 2.83L4 21.41c.39.39.9.59 1.41.59.51 0 1.02-.2 1.41-.59l7.78-7.78 2.81-2.81c.8-.78.8-2.07 0-2.86zM5.41 20L4 18.59l7.72-7.72 1.47 1.35L5.41 20z\"/>\n",
              "  </svg>\n",
              "      </button>\n",
              "\n",
              "\n",
              "\n",
              "    <div id=\"df-d49bd3dd-0794-4243-bdee-7ba71cdcdef8\">\n",
              "      <button class=\"colab-df-quickchart\" onclick=\"quickchart('df-d49bd3dd-0794-4243-bdee-7ba71cdcdef8')\"\n",
              "              title=\"Suggest charts.\"\n",
              "              style=\"display:none;\">\n",
              "\n",
              "<svg xmlns=\"http://www.w3.org/2000/svg\" height=\"24px\"viewBox=\"0 0 24 24\"\n",
              "     width=\"24px\">\n",
              "    <g>\n",
              "        <path d=\"M19 3H5c-1.1 0-2 .9-2 2v14c0 1.1.9 2 2 2h14c1.1 0 2-.9 2-2V5c0-1.1-.9-2-2-2zM9 17H7v-7h2v7zm4 0h-2V7h2v10zm4 0h-2v-4h2v4z\"/>\n",
              "    </g>\n",
              "</svg>\n",
              "      </button>\n",
              "    </div>\n",
              "\n",
              "<style>\n",
              "  .colab-df-quickchart {\n",
              "    background-color: #E8F0FE;\n",
              "    border: none;\n",
              "    border-radius: 50%;\n",
              "    cursor: pointer;\n",
              "    display: none;\n",
              "    fill: #1967D2;\n",
              "    height: 32px;\n",
              "    padding: 0 0 0 0;\n",
              "    width: 32px;\n",
              "  }\n",
              "\n",
              "  .colab-df-quickchart:hover {\n",
              "    background-color: #E2EBFA;\n",
              "    box-shadow: 0px 1px 2px rgba(60, 64, 67, 0.3), 0px 1px 3px 1px rgba(60, 64, 67, 0.15);\n",
              "    fill: #174EA6;\n",
              "  }\n",
              "\n",
              "  [theme=dark] .colab-df-quickchart {\n",
              "    background-color: #3B4455;\n",
              "    fill: #D2E3FC;\n",
              "  }\n",
              "\n",
              "  [theme=dark] .colab-df-quickchart:hover {\n",
              "    background-color: #434B5C;\n",
              "    box-shadow: 0px 1px 3px 1px rgba(0, 0, 0, 0.15);\n",
              "    filter: drop-shadow(0px 1px 2px rgba(0, 0, 0, 0.3));\n",
              "    fill: #FFFFFF;\n",
              "  }\n",
              "</style>\n",
              "\n",
              "    <script>\n",
              "      async function quickchart(key) {\n",
              "        const containerElement = document.querySelector('#' + key);\n",
              "        const charts = await google.colab.kernel.invokeFunction(\n",
              "            'suggestCharts', [key], {});\n",
              "      }\n",
              "    </script>\n",
              "\n",
              "      <script>\n",
              "\n",
              "function displayQuickchartButton(domScope) {\n",
              "  let quickchartButtonEl =\n",
              "    domScope.querySelector('#df-d49bd3dd-0794-4243-bdee-7ba71cdcdef8 button.colab-df-quickchart');\n",
              "  quickchartButtonEl.style.display =\n",
              "    google.colab.kernel.accessAllowed ? 'block' : 'none';\n",
              "}\n",
              "\n",
              "        displayQuickchartButton(document);\n",
              "      </script>\n",
              "      <style>\n",
              "    .colab-df-container {\n",
              "      display:flex;\n",
              "      flex-wrap:wrap;\n",
              "      gap: 12px;\n",
              "    }\n",
              "\n",
              "    .colab-df-convert {\n",
              "      background-color: #E8F0FE;\n",
              "      border: none;\n",
              "      border-radius: 50%;\n",
              "      cursor: pointer;\n",
              "      display: none;\n",
              "      fill: #1967D2;\n",
              "      height: 32px;\n",
              "      padding: 0 0 0 0;\n",
              "      width: 32px;\n",
              "    }\n",
              "\n",
              "    .colab-df-convert:hover {\n",
              "      background-color: #E2EBFA;\n",
              "      box-shadow: 0px 1px 2px rgba(60, 64, 67, 0.3), 0px 1px 3px 1px rgba(60, 64, 67, 0.15);\n",
              "      fill: #174EA6;\n",
              "    }\n",
              "\n",
              "    [theme=dark] .colab-df-convert {\n",
              "      background-color: #3B4455;\n",
              "      fill: #D2E3FC;\n",
              "    }\n",
              "\n",
              "    [theme=dark] .colab-df-convert:hover {\n",
              "      background-color: #434B5C;\n",
              "      box-shadow: 0px 1px 3px 1px rgba(0, 0, 0, 0.15);\n",
              "      filter: drop-shadow(0px 1px 2px rgba(0, 0, 0, 0.3));\n",
              "      fill: #FFFFFF;\n",
              "    }\n",
              "  </style>\n",
              "\n",
              "      <script>\n",
              "        const buttonEl =\n",
              "          document.querySelector('#df-1fe775f2-f6f5-44f8-8fc1-de21adbf806c button.colab-df-convert');\n",
              "        buttonEl.style.display =\n",
              "          google.colab.kernel.accessAllowed ? 'block' : 'none';\n",
              "\n",
              "        async function convertToInteractive(key) {\n",
              "          const element = document.querySelector('#df-1fe775f2-f6f5-44f8-8fc1-de21adbf806c');\n",
              "          const dataTable =\n",
              "            await google.colab.kernel.invokeFunction('convertToInteractive',\n",
              "                                                     [key], {});\n",
              "          if (!dataTable) return;\n",
              "\n",
              "          const docLinkHtml = 'Like what you see? Visit the ' +\n",
              "            '<a target=\"_blank\" href=https://colab.research.google.com/notebooks/data_table.ipynb>data table notebook</a>'\n",
              "            + ' to learn more about interactive tables.';\n",
              "          element.innerHTML = '';\n",
              "          dataTable['output_type'] = 'display_data';\n",
              "          await google.colab.output.renderOutput(dataTable, element);\n",
              "          const docLink = document.createElement('div');\n",
              "          docLink.innerHTML = docLinkHtml;\n",
              "          element.appendChild(docLink);\n",
              "        }\n",
              "      </script>\n",
              "    </div>\n",
              "  </div>\n"
            ]
          },
          "metadata": {},
          "execution_count": 99
        }
      ]
    },
    {
      "cell_type": "markdown",
      "source": [
        "important variables: description and name!"
      ],
      "metadata": {
        "id": "2TITfzPWjsIf"
      }
    },
    {
      "cell_type": "code",
      "source": [
        "## reading in March 2023 data\n",
        "\n",
        "\n",
        "_2023_airbnb_london = pd.read_csv(\"/content/gdrive/My Drive/Thesis/London_Data/2023_london_basic_listings.csv\")  #, sep = \";\")\n",
        "\n",
        "_2023_airbnb_london.head()\n"
      ],
      "metadata": {
        "colab": {
          "base_uri": "https://localhost:8080/",
          "height": 647
        },
        "id": "9bVEMQRruLe8",
        "outputId": "2bb57c01-1f6d-47d3-f550-b7b3e6a4d191"
      },
      "execution_count": null,
      "outputs": [
        {
          "output_type": "execute_result",
          "data": {
            "text/plain": [
              "                   id                                      listing_url  \\\n",
              "0  714569379355913481  https://www.airbnb.com/rooms/714569379355913481   \n",
              "1  808038970516277767  https://www.airbnb.com/rooms/808038970516277767   \n",
              "2  822557738577472503  https://www.airbnb.com/rooms/822557738577472503   \n",
              "3             3518856             https://www.airbnb.com/rooms/3518856   \n",
              "4             4876550             https://www.airbnb.com/rooms/4876550   \n",
              "\n",
              "        scrape_id last_scraped       source  \\\n",
              "0  20230314070633   2023-03-14  city scrape   \n",
              "1  20230314070633   2023-03-14  city scrape   \n",
              "2  20230314070633   2023-03-14  city scrape   \n",
              "3  20230314070633   2023-03-14  city scrape   \n",
              "4  20230314070633   2023-03-14  city scrape   \n",
              "\n",
              "                                                name  \\\n",
              "0            Lovely private bedroom in Muswell Hill.   \n",
              "1                       Studio Flat  Franklin London   \n",
              "2   PropertyPlug - 2Bed Flat in Edgware SmartTV WiFi   \n",
              "3                   Wimbledon Double Bedroom Ensuite   \n",
              "4  Stunning Apartment 2 minutes walk to Tube Station   \n",
              "\n",
              "                                         description neighborhood_overview  \\\n",
              "0    Take a break and unwind at this peaceful oasis.                   NaN   \n",
              "1  Brand New Modern Kitchen<br />Close to Excelle...                   NaN   \n",
              "2  Enjoy easy access to everything from this perf...                   NaN   \n",
              "3  A welcoming and stylish 2 bedroom 2 bathroom f...                   NaN   \n",
              "4  Luxury Modern Apartment in modern development ...                   NaN   \n",
              "\n",
              "                                         picture_url    host_id  ...  \\\n",
              "0  https://a0.muscache.com/pictures/miso/Hosting-...   39009854  ...   \n",
              "1  https://a0.muscache.com/pictures/miso/Hosting-...  495977998  ...   \n",
              "2  https://a0.muscache.com/pictures/d77957d5-695a...  325629338  ...   \n",
              "3  https://a0.muscache.com/pictures/23a18442-fc1d...     187811  ...   \n",
              "4  https://a0.muscache.com/pictures/miso/Hosting-...   25087384  ...   \n",
              "\n",
              "  review_scores_communication review_scores_location review_scores_value  \\\n",
              "0                         NaN                    NaN                 NaN   \n",
              "1                         NaN                    NaN                 NaN   \n",
              "2                         NaN                    NaN                 NaN   \n",
              "3                         5.0                   3.67                3.67   \n",
              "4                         NaN                    NaN                 NaN   \n",
              "\n",
              "  license instant_bookable calculated_host_listings_count  \\\n",
              "0     NaN                f                              1   \n",
              "1     NaN                t                              7   \n",
              "2     NaN                t                              4   \n",
              "3     NaN                f                              2   \n",
              "4     NaN                f                              1   \n",
              "\n",
              "  calculated_host_listings_count_entire_homes  \\\n",
              "0                                           0   \n",
              "1                                           7   \n",
              "2                                           4   \n",
              "3                                           0   \n",
              "4                                           1   \n",
              "\n",
              "  calculated_host_listings_count_private_rooms  \\\n",
              "0                                            1   \n",
              "1                                            0   \n",
              "2                                            0   \n",
              "3                                            2   \n",
              "4                                            0   \n",
              "\n",
              "  calculated_host_listings_count_shared_rooms reviews_per_month  \n",
              "0                                           0               NaN  \n",
              "1                                           0               NaN  \n",
              "2                                           0               NaN  \n",
              "3                                           0              0.05  \n",
              "4                                           0               NaN  \n",
              "\n",
              "[5 rows x 75 columns]"
            ],
            "text/html": [
              "\n",
              "\n",
              "  <div id=\"df-c0a710c2-6210-40c9-8db5-4a6bed8e730b\">\n",
              "    <div class=\"colab-df-container\">\n",
              "      <div>\n",
              "<style scoped>\n",
              "    .dataframe tbody tr th:only-of-type {\n",
              "        vertical-align: middle;\n",
              "    }\n",
              "\n",
              "    .dataframe tbody tr th {\n",
              "        vertical-align: top;\n",
              "    }\n",
              "\n",
              "    .dataframe thead th {\n",
              "        text-align: right;\n",
              "    }\n",
              "</style>\n",
              "<table border=\"1\" class=\"dataframe\">\n",
              "  <thead>\n",
              "    <tr style=\"text-align: right;\">\n",
              "      <th></th>\n",
              "      <th>id</th>\n",
              "      <th>listing_url</th>\n",
              "      <th>scrape_id</th>\n",
              "      <th>last_scraped</th>\n",
              "      <th>source</th>\n",
              "      <th>name</th>\n",
              "      <th>description</th>\n",
              "      <th>neighborhood_overview</th>\n",
              "      <th>picture_url</th>\n",
              "      <th>host_id</th>\n",
              "      <th>...</th>\n",
              "      <th>review_scores_communication</th>\n",
              "      <th>review_scores_location</th>\n",
              "      <th>review_scores_value</th>\n",
              "      <th>license</th>\n",
              "      <th>instant_bookable</th>\n",
              "      <th>calculated_host_listings_count</th>\n",
              "      <th>calculated_host_listings_count_entire_homes</th>\n",
              "      <th>calculated_host_listings_count_private_rooms</th>\n",
              "      <th>calculated_host_listings_count_shared_rooms</th>\n",
              "      <th>reviews_per_month</th>\n",
              "    </tr>\n",
              "  </thead>\n",
              "  <tbody>\n",
              "    <tr>\n",
              "      <th>0</th>\n",
              "      <td>714569379355913481</td>\n",
              "      <td>https://www.airbnb.com/rooms/714569379355913481</td>\n",
              "      <td>20230314070633</td>\n",
              "      <td>2023-03-14</td>\n",
              "      <td>city scrape</td>\n",
              "      <td>Lovely private bedroom in Muswell Hill.</td>\n",
              "      <td>Take a break and unwind at this peaceful oasis.</td>\n",
              "      <td>NaN</td>\n",
              "      <td>https://a0.muscache.com/pictures/miso/Hosting-...</td>\n",
              "      <td>39009854</td>\n",
              "      <td>...</td>\n",
              "      <td>NaN</td>\n",
              "      <td>NaN</td>\n",
              "      <td>NaN</td>\n",
              "      <td>NaN</td>\n",
              "      <td>f</td>\n",
              "      <td>1</td>\n",
              "      <td>0</td>\n",
              "      <td>1</td>\n",
              "      <td>0</td>\n",
              "      <td>NaN</td>\n",
              "    </tr>\n",
              "    <tr>\n",
              "      <th>1</th>\n",
              "      <td>808038970516277767</td>\n",
              "      <td>https://www.airbnb.com/rooms/808038970516277767</td>\n",
              "      <td>20230314070633</td>\n",
              "      <td>2023-03-14</td>\n",
              "      <td>city scrape</td>\n",
              "      <td>Studio Flat  Franklin London</td>\n",
              "      <td>Brand New Modern Kitchen&lt;br /&gt;Close to Excelle...</td>\n",
              "      <td>NaN</td>\n",
              "      <td>https://a0.muscache.com/pictures/miso/Hosting-...</td>\n",
              "      <td>495977998</td>\n",
              "      <td>...</td>\n",
              "      <td>NaN</td>\n",
              "      <td>NaN</td>\n",
              "      <td>NaN</td>\n",
              "      <td>NaN</td>\n",
              "      <td>t</td>\n",
              "      <td>7</td>\n",
              "      <td>7</td>\n",
              "      <td>0</td>\n",
              "      <td>0</td>\n",
              "      <td>NaN</td>\n",
              "    </tr>\n",
              "    <tr>\n",
              "      <th>2</th>\n",
              "      <td>822557738577472503</td>\n",
              "      <td>https://www.airbnb.com/rooms/822557738577472503</td>\n",
              "      <td>20230314070633</td>\n",
              "      <td>2023-03-14</td>\n",
              "      <td>city scrape</td>\n",
              "      <td>PropertyPlug - 2Bed Flat in Edgware SmartTV WiFi</td>\n",
              "      <td>Enjoy easy access to everything from this perf...</td>\n",
              "      <td>NaN</td>\n",
              "      <td>https://a0.muscache.com/pictures/d77957d5-695a...</td>\n",
              "      <td>325629338</td>\n",
              "      <td>...</td>\n",
              "      <td>NaN</td>\n",
              "      <td>NaN</td>\n",
              "      <td>NaN</td>\n",
              "      <td>NaN</td>\n",
              "      <td>t</td>\n",
              "      <td>4</td>\n",
              "      <td>4</td>\n",
              "      <td>0</td>\n",
              "      <td>0</td>\n",
              "      <td>NaN</td>\n",
              "    </tr>\n",
              "    <tr>\n",
              "      <th>3</th>\n",
              "      <td>3518856</td>\n",
              "      <td>https://www.airbnb.com/rooms/3518856</td>\n",
              "      <td>20230314070633</td>\n",
              "      <td>2023-03-14</td>\n",
              "      <td>city scrape</td>\n",
              "      <td>Wimbledon Double Bedroom Ensuite</td>\n",
              "      <td>A welcoming and stylish 2 bedroom 2 bathroom f...</td>\n",
              "      <td>NaN</td>\n",
              "      <td>https://a0.muscache.com/pictures/23a18442-fc1d...</td>\n",
              "      <td>187811</td>\n",
              "      <td>...</td>\n",
              "      <td>5.0</td>\n",
              "      <td>3.67</td>\n",
              "      <td>3.67</td>\n",
              "      <td>NaN</td>\n",
              "      <td>f</td>\n",
              "      <td>2</td>\n",
              "      <td>0</td>\n",
              "      <td>2</td>\n",
              "      <td>0</td>\n",
              "      <td>0.05</td>\n",
              "    </tr>\n",
              "    <tr>\n",
              "      <th>4</th>\n",
              "      <td>4876550</td>\n",
              "      <td>https://www.airbnb.com/rooms/4876550</td>\n",
              "      <td>20230314070633</td>\n",
              "      <td>2023-03-14</td>\n",
              "      <td>city scrape</td>\n",
              "      <td>Stunning Apartment 2 minutes walk to Tube Station</td>\n",
              "      <td>Luxury Modern Apartment in modern development ...</td>\n",
              "      <td>NaN</td>\n",
              "      <td>https://a0.muscache.com/pictures/miso/Hosting-...</td>\n",
              "      <td>25087384</td>\n",
              "      <td>...</td>\n",
              "      <td>NaN</td>\n",
              "      <td>NaN</td>\n",
              "      <td>NaN</td>\n",
              "      <td>NaN</td>\n",
              "      <td>f</td>\n",
              "      <td>1</td>\n",
              "      <td>1</td>\n",
              "      <td>0</td>\n",
              "      <td>0</td>\n",
              "      <td>NaN</td>\n",
              "    </tr>\n",
              "  </tbody>\n",
              "</table>\n",
              "<p>5 rows × 75 columns</p>\n",
              "</div>\n",
              "      <button class=\"colab-df-convert\" onclick=\"convertToInteractive('df-c0a710c2-6210-40c9-8db5-4a6bed8e730b')\"\n",
              "              title=\"Convert this dataframe to an interactive table.\"\n",
              "              style=\"display:none;\">\n",
              "\n",
              "  <svg xmlns=\"http://www.w3.org/2000/svg\" height=\"24px\"viewBox=\"0 0 24 24\"\n",
              "       width=\"24px\">\n",
              "    <path d=\"M0 0h24v24H0V0z\" fill=\"none\"/>\n",
              "    <path d=\"M18.56 5.44l.94 2.06.94-2.06 2.06-.94-2.06-.94-.94-2.06-.94 2.06-2.06.94zm-11 1L8.5 8.5l.94-2.06 2.06-.94-2.06-.94L8.5 2.5l-.94 2.06-2.06.94zm10 10l.94 2.06.94-2.06 2.06-.94-2.06-.94-.94-2.06-.94 2.06-2.06.94z\"/><path d=\"M17.41 7.96l-1.37-1.37c-.4-.4-.92-.59-1.43-.59-.52 0-1.04.2-1.43.59L10.3 9.45l-7.72 7.72c-.78.78-.78 2.05 0 2.83L4 21.41c.39.39.9.59 1.41.59.51 0 1.02-.2 1.41-.59l7.78-7.78 2.81-2.81c.8-.78.8-2.07 0-2.86zM5.41 20L4 18.59l7.72-7.72 1.47 1.35L5.41 20z\"/>\n",
              "  </svg>\n",
              "      </button>\n",
              "\n",
              "\n",
              "\n",
              "    <div id=\"df-e6611dc5-e75f-430a-8613-312ecb547fb1\">\n",
              "      <button class=\"colab-df-quickchart\" onclick=\"quickchart('df-e6611dc5-e75f-430a-8613-312ecb547fb1')\"\n",
              "              title=\"Suggest charts.\"\n",
              "              style=\"display:none;\">\n",
              "\n",
              "<svg xmlns=\"http://www.w3.org/2000/svg\" height=\"24px\"viewBox=\"0 0 24 24\"\n",
              "     width=\"24px\">\n",
              "    <g>\n",
              "        <path d=\"M19 3H5c-1.1 0-2 .9-2 2v14c0 1.1.9 2 2 2h14c1.1 0 2-.9 2-2V5c0-1.1-.9-2-2-2zM9 17H7v-7h2v7zm4 0h-2V7h2v10zm4 0h-2v-4h2v4z\"/>\n",
              "    </g>\n",
              "</svg>\n",
              "      </button>\n",
              "    </div>\n",
              "\n",
              "<style>\n",
              "  .colab-df-quickchart {\n",
              "    background-color: #E8F0FE;\n",
              "    border: none;\n",
              "    border-radius: 50%;\n",
              "    cursor: pointer;\n",
              "    display: none;\n",
              "    fill: #1967D2;\n",
              "    height: 32px;\n",
              "    padding: 0 0 0 0;\n",
              "    width: 32px;\n",
              "  }\n",
              "\n",
              "  .colab-df-quickchart:hover {\n",
              "    background-color: #E2EBFA;\n",
              "    box-shadow: 0px 1px 2px rgba(60, 64, 67, 0.3), 0px 1px 3px 1px rgba(60, 64, 67, 0.15);\n",
              "    fill: #174EA6;\n",
              "  }\n",
              "\n",
              "  [theme=dark] .colab-df-quickchart {\n",
              "    background-color: #3B4455;\n",
              "    fill: #D2E3FC;\n",
              "  }\n",
              "\n",
              "  [theme=dark] .colab-df-quickchart:hover {\n",
              "    background-color: #434B5C;\n",
              "    box-shadow: 0px 1px 3px 1px rgba(0, 0, 0, 0.15);\n",
              "    filter: drop-shadow(0px 1px 2px rgba(0, 0, 0, 0.3));\n",
              "    fill: #FFFFFF;\n",
              "  }\n",
              "</style>\n",
              "\n",
              "    <script>\n",
              "      async function quickchart(key) {\n",
              "        const containerElement = document.querySelector('#' + key);\n",
              "        const charts = await google.colab.kernel.invokeFunction(\n",
              "            'suggestCharts', [key], {});\n",
              "      }\n",
              "    </script>\n",
              "\n",
              "      <script>\n",
              "\n",
              "function displayQuickchartButton(domScope) {\n",
              "  let quickchartButtonEl =\n",
              "    domScope.querySelector('#df-e6611dc5-e75f-430a-8613-312ecb547fb1 button.colab-df-quickchart');\n",
              "  quickchartButtonEl.style.display =\n",
              "    google.colab.kernel.accessAllowed ? 'block' : 'none';\n",
              "}\n",
              "\n",
              "        displayQuickchartButton(document);\n",
              "      </script>\n",
              "      <style>\n",
              "    .colab-df-container {\n",
              "      display:flex;\n",
              "      flex-wrap:wrap;\n",
              "      gap: 12px;\n",
              "    }\n",
              "\n",
              "    .colab-df-convert {\n",
              "      background-color: #E8F0FE;\n",
              "      border: none;\n",
              "      border-radius: 50%;\n",
              "      cursor: pointer;\n",
              "      display: none;\n",
              "      fill: #1967D2;\n",
              "      height: 32px;\n",
              "      padding: 0 0 0 0;\n",
              "      width: 32px;\n",
              "    }\n",
              "\n",
              "    .colab-df-convert:hover {\n",
              "      background-color: #E2EBFA;\n",
              "      box-shadow: 0px 1px 2px rgba(60, 64, 67, 0.3), 0px 1px 3px 1px rgba(60, 64, 67, 0.15);\n",
              "      fill: #174EA6;\n",
              "    }\n",
              "\n",
              "    [theme=dark] .colab-df-convert {\n",
              "      background-color: #3B4455;\n",
              "      fill: #D2E3FC;\n",
              "    }\n",
              "\n",
              "    [theme=dark] .colab-df-convert:hover {\n",
              "      background-color: #434B5C;\n",
              "      box-shadow: 0px 1px 3px 1px rgba(0, 0, 0, 0.15);\n",
              "      filter: drop-shadow(0px 1px 2px rgba(0, 0, 0, 0.3));\n",
              "      fill: #FFFFFF;\n",
              "    }\n",
              "  </style>\n",
              "\n",
              "      <script>\n",
              "        const buttonEl =\n",
              "          document.querySelector('#df-c0a710c2-6210-40c9-8db5-4a6bed8e730b button.colab-df-convert');\n",
              "        buttonEl.style.display =\n",
              "          google.colab.kernel.accessAllowed ? 'block' : 'none';\n",
              "\n",
              "        async function convertToInteractive(key) {\n",
              "          const element = document.querySelector('#df-c0a710c2-6210-40c9-8db5-4a6bed8e730b');\n",
              "          const dataTable =\n",
              "            await google.colab.kernel.invokeFunction('convertToInteractive',\n",
              "                                                     [key], {});\n",
              "          if (!dataTable) return;\n",
              "\n",
              "          const docLinkHtml = 'Like what you see? Visit the ' +\n",
              "            '<a target=\"_blank\" href=https://colab.research.google.com/notebooks/data_table.ipynb>data table notebook</a>'\n",
              "            + ' to learn more about interactive tables.';\n",
              "          element.innerHTML = '';\n",
              "          dataTable['output_type'] = 'display_data';\n",
              "          await google.colab.output.renderOutput(dataTable, element);\n",
              "          const docLink = document.createElement('div');\n",
              "          docLink.innerHTML = docLinkHtml;\n",
              "          element.appendChild(docLink);\n",
              "        }\n",
              "      </script>\n",
              "    </div>\n",
              "  </div>\n"
            ]
          },
          "metadata": {},
          "execution_count": 100
        }
      ]
    },
    {
      "cell_type": "code",
      "source": [
        "## only keeping important columns in the _2023_airbnb_london df\n",
        "\n",
        "\n",
        "important_cols = ['id', 'name', 'description', 'number_of_reviews']\n",
        "_2023_airbnb_london = _2023_airbnb_london[important_cols]\n",
        "\n",
        "# renaming columns\n",
        "\n",
        "_2023_airbnb_london.columns = ['id', 'name_2023', 'description_2023', 'number_of_reviews_2023']"
      ],
      "metadata": {
        "id": "FwZiBUNrwlxm"
      },
      "execution_count": null,
      "outputs": []
    },
    {
      "cell_type": "code",
      "source": [
        "_2023_airbnb_london"
      ],
      "metadata": {
        "colab": {
          "base_uri": "https://localhost:8080/",
          "height": 424
        },
        "id": "c-9jca44w46v",
        "outputId": "22127736-94e8-4424-8696-6c2fc4aabdcc"
      },
      "execution_count": null,
      "outputs": [
        {
          "output_type": "execute_result",
          "data": {
            "text/plain": [
              "                       id                                          name_2023  \\\n",
              "0      714569379355913481            Lovely private bedroom in Muswell Hill.   \n",
              "1      808038970516277767                       Studio Flat  Franklin London   \n",
              "2      822557738577472503   PropertyPlug - 2Bed Flat in Edgware SmartTV WiFi   \n",
              "3                 3518856                   Wimbledon Double Bedroom Ensuite   \n",
              "4                 4876550  Stunning Apartment 2 minutes walk to Tube Station   \n",
              "...                   ...                                                ...   \n",
              "75236  654949753111689538               small but nice studio flat in London   \n",
              "75237  827653589245352551   Huge Period 1-bed, 2-bath, Patio, Great Location   \n",
              "75238            29625947       Bright double room Greenwich for solo female   \n",
              "75239            21700003      Quiet and spacious room in garden flat London   \n",
              "75240  599135204165144789    Well appointed Double Bedroom in Central London   \n",
              "\n",
              "                                        description_2023  \\\n",
              "0        Take a break and unwind at this peaceful oasis.   \n",
              "1      Brand New Modern Kitchen<br />Close to Excelle...   \n",
              "2      Enjoy easy access to everything from this perf...   \n",
              "3      A welcoming and stylish 2 bedroom 2 bathroom f...   \n",
              "4      Luxury Modern Apartment in modern development ...   \n",
              "...                                                  ...   \n",
              "75236  Hello this is a nice studio flat in Willesden ...   \n",
              "75237  Treat yourself and stay in this large 1-bedroo...   \n",
              "75238  A bright spacious room in a small apartment id...   \n",
              "75239  The flat is newly refurbished with wooden floo...   \n",
              "75240  This stylish and unique place sets the stage f...   \n",
              "\n",
              "       number_of_reviews_2023  \n",
              "0                           0  \n",
              "1                           0  \n",
              "2                           0  \n",
              "3                           4  \n",
              "4                           0  \n",
              "...                       ...  \n",
              "75236                      23  \n",
              "75237                       2  \n",
              "75238                       0  \n",
              "75239                       5  \n",
              "75240                      19  \n",
              "\n",
              "[75241 rows x 4 columns]"
            ],
            "text/html": [
              "\n",
              "  <div id=\"df-02dc376b-60db-414c-9a54-72a764fd4ea4\">\n",
              "    <div class=\"colab-df-container\">\n",
              "      <div>\n",
              "<style scoped>\n",
              "    .dataframe tbody tr th:only-of-type {\n",
              "        vertical-align: middle;\n",
              "    }\n",
              "\n",
              "    .dataframe tbody tr th {\n",
              "        vertical-align: top;\n",
              "    }\n",
              "\n",
              "    .dataframe thead th {\n",
              "        text-align: right;\n",
              "    }\n",
              "</style>\n",
              "<table border=\"1\" class=\"dataframe\">\n",
              "  <thead>\n",
              "    <tr style=\"text-align: right;\">\n",
              "      <th></th>\n",
              "      <th>id</th>\n",
              "      <th>name_2023</th>\n",
              "      <th>description_2023</th>\n",
              "      <th>number_of_reviews_2023</th>\n",
              "    </tr>\n",
              "  </thead>\n",
              "  <tbody>\n",
              "    <tr>\n",
              "      <th>0</th>\n",
              "      <td>714569379355913481</td>\n",
              "      <td>Lovely private bedroom in Muswell Hill.</td>\n",
              "      <td>Take a break and unwind at this peaceful oasis.</td>\n",
              "      <td>0</td>\n",
              "    </tr>\n",
              "    <tr>\n",
              "      <th>1</th>\n",
              "      <td>808038970516277767</td>\n",
              "      <td>Studio Flat  Franklin London</td>\n",
              "      <td>Brand New Modern Kitchen&lt;br /&gt;Close to Excelle...</td>\n",
              "      <td>0</td>\n",
              "    </tr>\n",
              "    <tr>\n",
              "      <th>2</th>\n",
              "      <td>822557738577472503</td>\n",
              "      <td>PropertyPlug - 2Bed Flat in Edgware SmartTV WiFi</td>\n",
              "      <td>Enjoy easy access to everything from this perf...</td>\n",
              "      <td>0</td>\n",
              "    </tr>\n",
              "    <tr>\n",
              "      <th>3</th>\n",
              "      <td>3518856</td>\n",
              "      <td>Wimbledon Double Bedroom Ensuite</td>\n",
              "      <td>A welcoming and stylish 2 bedroom 2 bathroom f...</td>\n",
              "      <td>4</td>\n",
              "    </tr>\n",
              "    <tr>\n",
              "      <th>4</th>\n",
              "      <td>4876550</td>\n",
              "      <td>Stunning Apartment 2 minutes walk to Tube Station</td>\n",
              "      <td>Luxury Modern Apartment in modern development ...</td>\n",
              "      <td>0</td>\n",
              "    </tr>\n",
              "    <tr>\n",
              "      <th>...</th>\n",
              "      <td>...</td>\n",
              "      <td>...</td>\n",
              "      <td>...</td>\n",
              "      <td>...</td>\n",
              "    </tr>\n",
              "    <tr>\n",
              "      <th>75236</th>\n",
              "      <td>654949753111689538</td>\n",
              "      <td>small but nice studio flat in London</td>\n",
              "      <td>Hello this is a nice studio flat in Willesden ...</td>\n",
              "      <td>23</td>\n",
              "    </tr>\n",
              "    <tr>\n",
              "      <th>75237</th>\n",
              "      <td>827653589245352551</td>\n",
              "      <td>Huge Period 1-bed, 2-bath, Patio, Great Location</td>\n",
              "      <td>Treat yourself and stay in this large 1-bedroo...</td>\n",
              "      <td>2</td>\n",
              "    </tr>\n",
              "    <tr>\n",
              "      <th>75238</th>\n",
              "      <td>29625947</td>\n",
              "      <td>Bright double room Greenwich for solo female</td>\n",
              "      <td>A bright spacious room in a small apartment id...</td>\n",
              "      <td>0</td>\n",
              "    </tr>\n",
              "    <tr>\n",
              "      <th>75239</th>\n",
              "      <td>21700003</td>\n",
              "      <td>Quiet and spacious room in garden flat London</td>\n",
              "      <td>The flat is newly refurbished with wooden floo...</td>\n",
              "      <td>5</td>\n",
              "    </tr>\n",
              "    <tr>\n",
              "      <th>75240</th>\n",
              "      <td>599135204165144789</td>\n",
              "      <td>Well appointed Double Bedroom in Central London</td>\n",
              "      <td>This stylish and unique place sets the stage f...</td>\n",
              "      <td>19</td>\n",
              "    </tr>\n",
              "  </tbody>\n",
              "</table>\n",
              "<p>75241 rows × 4 columns</p>\n",
              "</div>\n",
              "      <button class=\"colab-df-convert\" onclick=\"convertToInteractive('df-02dc376b-60db-414c-9a54-72a764fd4ea4')\"\n",
              "              title=\"Convert this dataframe to an interactive table.\"\n",
              "              style=\"display:none;\">\n",
              "        \n",
              "  <svg xmlns=\"http://www.w3.org/2000/svg\" height=\"24px\"viewBox=\"0 0 24 24\"\n",
              "       width=\"24px\">\n",
              "    <path d=\"M0 0h24v24H0V0z\" fill=\"none\"/>\n",
              "    <path d=\"M18.56 5.44l.94 2.06.94-2.06 2.06-.94-2.06-.94-.94-2.06-.94 2.06-2.06.94zm-11 1L8.5 8.5l.94-2.06 2.06-.94-2.06-.94L8.5 2.5l-.94 2.06-2.06.94zm10 10l.94 2.06.94-2.06 2.06-.94-2.06-.94-.94-2.06-.94 2.06-2.06.94z\"/><path d=\"M17.41 7.96l-1.37-1.37c-.4-.4-.92-.59-1.43-.59-.52 0-1.04.2-1.43.59L10.3 9.45l-7.72 7.72c-.78.78-.78 2.05 0 2.83L4 21.41c.39.39.9.59 1.41.59.51 0 1.02-.2 1.41-.59l7.78-7.78 2.81-2.81c.8-.78.8-2.07 0-2.86zM5.41 20L4 18.59l7.72-7.72 1.47 1.35L5.41 20z\"/>\n",
              "  </svg>\n",
              "      </button>\n",
              "      \n",
              "  <style>\n",
              "    .colab-df-container {\n",
              "      display:flex;\n",
              "      flex-wrap:wrap;\n",
              "      gap: 12px;\n",
              "    }\n",
              "\n",
              "    .colab-df-convert {\n",
              "      background-color: #E8F0FE;\n",
              "      border: none;\n",
              "      border-radius: 50%;\n",
              "      cursor: pointer;\n",
              "      display: none;\n",
              "      fill: #1967D2;\n",
              "      height: 32px;\n",
              "      padding: 0 0 0 0;\n",
              "      width: 32px;\n",
              "    }\n",
              "\n",
              "    .colab-df-convert:hover {\n",
              "      background-color: #E2EBFA;\n",
              "      box-shadow: 0px 1px 2px rgba(60, 64, 67, 0.3), 0px 1px 3px 1px rgba(60, 64, 67, 0.15);\n",
              "      fill: #174EA6;\n",
              "    }\n",
              "\n",
              "    [theme=dark] .colab-df-convert {\n",
              "      background-color: #3B4455;\n",
              "      fill: #D2E3FC;\n",
              "    }\n",
              "\n",
              "    [theme=dark] .colab-df-convert:hover {\n",
              "      background-color: #434B5C;\n",
              "      box-shadow: 0px 1px 3px 1px rgba(0, 0, 0, 0.15);\n",
              "      filter: drop-shadow(0px 1px 2px rgba(0, 0, 0, 0.3));\n",
              "      fill: #FFFFFF;\n",
              "    }\n",
              "  </style>\n",
              "\n",
              "      <script>\n",
              "        const buttonEl =\n",
              "          document.querySelector('#df-02dc376b-60db-414c-9a54-72a764fd4ea4 button.colab-df-convert');\n",
              "        buttonEl.style.display =\n",
              "          google.colab.kernel.accessAllowed ? 'block' : 'none';\n",
              "\n",
              "        async function convertToInteractive(key) {\n",
              "          const element = document.querySelector('#df-02dc376b-60db-414c-9a54-72a764fd4ea4');\n",
              "          const dataTable =\n",
              "            await google.colab.kernel.invokeFunction('convertToInteractive',\n",
              "                                                     [key], {});\n",
              "          if (!dataTable) return;\n",
              "\n",
              "          const docLinkHtml = 'Like what you see? Visit the ' +\n",
              "            '<a target=\"_blank\" href=https://colab.research.google.com/notebooks/data_table.ipynb>data table notebook</a>'\n",
              "            + ' to learn more about interactive tables.';\n",
              "          element.innerHTML = '';\n",
              "          dataTable['output_type'] = 'display_data';\n",
              "          await google.colab.output.renderOutput(dataTable, element);\n",
              "          const docLink = document.createElement('div');\n",
              "          docLink.innerHTML = docLinkHtml;\n",
              "          element.appendChild(docLink);\n",
              "        }\n",
              "      </script>\n",
              "    </div>\n",
              "  </div>\n",
              "  "
            ]
          },
          "metadata": {},
          "execution_count": 6
        }
      ]
    },
    {
      "cell_type": "markdown",
      "source": [
        "Now merging the two DFs with an inner join to only retain listings which were active for both snapshots."
      ],
      "metadata": {
        "id": "vup9uHPvd3Sz"
      }
    },
    {
      "cell_type": "code",
      "source": [
        "airbnb_london = pd.merge(_2022_airbnb_london, _2023_airbnb_london, on='id', how='inner')\n",
        "airbnb_london.shape\n"
      ],
      "metadata": {
        "colab": {
          "base_uri": "https://localhost:8080/"
        },
        "id": "Q1zI34YYvLh6",
        "outputId": "455137d0-b243-4123-a68e-8c31454fdd73"
      },
      "execution_count": null,
      "outputs": [
        {
          "output_type": "execute_result",
          "data": {
            "text/plain": [
              "(49923, 77)"
            ]
          },
          "metadata": {},
          "execution_count": 7
        }
      ]
    },
    {
      "cell_type": "code",
      "source": [
        "airbnb_london.index = range(airbnb_london.shape[0])"
      ],
      "metadata": {
        "id": "jUIHAxCCeJaB"
      },
      "execution_count": null,
      "outputs": []
    },
    {
      "cell_type": "code",
      "source": [
        "### tripping descriptions of html tags\n",
        "\n",
        "def get_rid_html_tags(description_) -> str:\n",
        "\n",
        "  \"\"\"This function removes all html tags like '/><b>', '/>' etc from the descriptions \"\"\"\n",
        "\n",
        "  cleaned_des = description_.replace('br ', '')\n",
        "  cleaned_des = cleaned_des.replace('b>', ' ').replace('/', ' ').replace('<', ' ').replace('>', ' ').lstrip()\n",
        "  cleaned_des = cleaned_des.replace('        ', ' ').replace('       ', ' ').replace('      ', ' ').replace('     ', ' ').replace('    ', ' ' ).replace('   ', ' ').replace('  ', ' ')\n",
        "\n",
        "  return cleaned_des\n"
      ],
      "metadata": {
        "id": "0w1DQOx0Hf7B"
      },
      "execution_count": null,
      "outputs": []
    },
    {
      "cell_type": "code",
      "source": [
        "airbnb_london.description = airbnb_london.description.apply(lambda x: get_rid_html_tags(str(x)) )\n",
        "airbnb_london.description_2023 = airbnb_london.description_2023.apply(lambda x: get_rid_html_tags(str(x)) )\n"
      ],
      "metadata": {
        "id": "nSd102NsHjyA"
      },
      "execution_count": null,
      "outputs": []
    },
    {
      "cell_type": "markdown",
      "source": [
        "The research design works under the assumption that the titles and the descriptioons did not change from July 2022 to March 2023. Checking this:"
      ],
      "metadata": {
        "id": "FJXZTP2IeCmK"
      }
    },
    {
      "cell_type": "code",
      "source": [
        "same_name_des = 0\n",
        "same_name = 0\n",
        "same_des = 0\n",
        "\n",
        "for i in range(airbnb_london.shape[0]):\n",
        "\n",
        "  if (airbnb_london.name[i] == airbnb_london.name_2023[i]) & ( airbnb_london.description[i] == airbnb_london.description_2023[i] ):\n",
        "    same_name_des += 1\n",
        "\n",
        "  if (airbnb_london.name[i] == airbnb_london.name_2023[i]) :\n",
        "    same_name += 1\n",
        "\n",
        "  if  ( airbnb_london.description[i] == airbnb_london.description_2023[i] ):\n",
        "    same_des += 1\n",
        "\n",
        "\n",
        "print(f'{np.round((same_name_des/airbnb_london.shape[0])  *100 )} percent of listings have not changed when it comes to name and description.')\n",
        "print(f'{np.round((same_name/airbnb_london.shape[0])  *100 )} percent of listings have not changed when it comes to name .')\n",
        "print(f'{np.round((same_des/airbnb_london.shape[0])  *100 )} percent of listings have not changed when it comes to description.')\n"
      ],
      "metadata": {
        "colab": {
          "base_uri": "https://localhost:8080/"
        },
        "id": "rbgh5PAbxddx",
        "outputId": "0a0c5913-1484-40a1-85a4-016e6a5a4fd9"
      },
      "execution_count": null,
      "outputs": [
        {
          "output_type": "stream",
          "name": "stdout",
          "text": [
            "81.0 percent of listings have not changed when it comes to name and description.\n",
            "92.0 percent of listings have not changed when it comes to name .\n",
            "84.0 percent of listings have not changed when it comes to description.\n"
          ]
        }
      ]
    },
    {
      "cell_type": "markdown",
      "source": [
        "Manual examination if, maybe, these changes are just minute:"
      ],
      "metadata": {
        "id": "V_kn8Pb1ePYX"
      }
    },
    {
      "cell_type": "markdown",
      "source": [
        "with a few exceptions, the changes truly are minute.\n",
        "\n",
        "Let's compute the Levenshtein distance amongst the strings:\n",
        "\n",
        "\"Simply put, edit distance is a measurement of how many changes we must do to one string to transform it into the string we are comparing it to.\"\n",
        "\n",
        "https://web.stanford.edu/class/cs124/lec/med.pdf"
      ],
      "metadata": {
        "id": "o9W0gWGxfqd5"
      }
    },
    {
      "cell_type": "code",
      "source": [
        "\n",
        "airbnb_london.description[1]"
      ],
      "metadata": {
        "colab": {
          "base_uri": "https://localhost:8080/",
          "height": 125
        },
        "id": "D_IcqTgih3hy",
        "outputId": "924bcded-dd00-4a31-9cc1-9cf15b84a512"
      },
      "execution_count": null,
      "outputs": [
        {
          "output_type": "execute_result",
          "data": {
            "text/plain": [
              "\"Lots of windows and light. St Luke's Gardens are at the end of the block, and the river not too far the other way. Ten minutes walk if you go slowly. Buses to everywhere round the corner and shops, restaurants, pubs, the cinema and Waitrose . The space Bright Chelsea Apartment This is a bright one bedroom ground floor apartment in an interesting listed building. There is one double bedroom and a living room kitchen The apartment has a full bathroom and the kitchen is fully equipped. Two wardrobes are available exclusively for guests and bedside tables and two long drawers. This sunny convenient compact flat is just around the corner from the Waitrose supermarket and all sorts of shops, cinemas, restaurants and pubs. This is a lovely part of London. There is a fun farmers market in the King's Road at the weekend. Buses to everywhere are just round the corner, and two underground stations are within ten minutes \""
            ],
            "application/vnd.google.colaboratory.intrinsic+json": {
              "type": "string"
            }
          },
          "metadata": {},
          "execution_count": 234
        }
      ]
    },
    {
      "cell_type": "code",
      "source": [
        "airbnb_london.description_2023[1]"
      ],
      "metadata": {
        "colab": {
          "base_uri": "https://localhost:8080/",
          "height": 125
        },
        "id": "0DyrO144h9q3",
        "outputId": "84f83ec4-641f-477d-bef8-f8ac90c7c699"
      },
      "execution_count": null,
      "outputs": [
        {
          "output_type": "execute_result",
          "data": {
            "text/plain": [
              "\"Lots of windows and light. St Luke's Gardens are at the end of the block, and the river not too far the other way. Ten minutes walk if you go slowly. Buses to everywhere round the corner and shops, restaurants, pubs, the cinema and once again Waitrose . The space Bright Chelsea Apartment This is a bright one bedroom ground floor apartment in an interesting listed building. There is one double bedroom and a living room kitchen The apartment has a full bathroom and the kitchen is fully equipped. Two wardrobes are available exclusively for guests and bedside tables and two long drawers. This sunny convenient compact flat is just around the corner from the Waitrose supermarket and all sorts of shops, cinemas, restaurants and pubs. This is a lovely part of London. There is a fun farmers market in the King's Road at the weekend. Buses to everywhere are just round the corner, and two underground stations are within ten min\""
            ],
            "application/vnd.google.colaboratory.intrinsic+json": {
              "type": "string"
            }
          },
          "metadata": {},
          "execution_count": 235
        }
      ]
    },
    {
      "cell_type": "code",
      "source": [
        "from fuzzywuzzy import fuzz ## https://pypi.org/project/fuzzywuzzy/\n",
        "## token sort ration - Levenstein distance after sorting the tokens - not so important for me\n",
        "## Token Set Ratio - LD also controlling for duplication of words\n",
        "\n",
        "levensthein_scores_des = np.ones(airbnb_london.shape[0])\n",
        "levensthein_scores_name = np.ones(airbnb_london.shape[0])\n",
        "\n",
        "for i in range(airbnb_london.shape[0]):\n",
        "  levensthein_scores_des[i]  = fuzz.ratio( airbnb_london.description[i], airbnb_london.description_2023[i])\n",
        "  levensthein_scores_name[i]  = fuzz.ratio( str(airbnb_london.name[i]), str(airbnb_london.name_2023[i]))\n"
      ],
      "metadata": {
        "id": "khAA7lri0RGV",
        "colab": {
          "base_uri": "https://localhost:8080/"
        },
        "outputId": "7eb05a42-c534-41fc-b32a-bc691144a311"
      },
      "execution_count": null,
      "outputs": [
        {
          "output_type": "stream",
          "name": "stderr",
          "text": [
            "/usr/local/lib/python3.10/dist-packages/fuzzywuzzy/fuzz.py:11: UserWarning: Using slow pure-python SequenceMatcher. Install python-Levenshtein to remove this warning\n",
            "  warnings.warn('Using slow pure-python SequenceMatcher. Install python-Levenshtein to remove this warning')\n"
          ]
        }
      ]
    },
    {
      "cell_type": "code",
      "source": [
        "import matplotlib.pyplot as plt\n",
        "\n",
        "plt.hist(levensthein_scores_des, bins = 30, color = \"darkblue\")\n",
        "plt.xlabel(\"Levenshtein Distances\", fontsize=13)\n",
        "plt.ylabel(\"Absolute Frequency\", fontsize=13)\n",
        "plt.savefig(\"Levenshtein_Distances_Descriptions.png\")\n",
        "plt.xticks(fontsize = 12)\n",
        "plt.yticks(fontsize = 12)\n",
        "plt.savefig(\"/content/gdrive/My Drive/Thesis/Plots/Levenshtein_Distances_Descriptions.png\",  bbox_inches=\"tight\")\n",
        "plt.show()\n"
      ],
      "metadata": {
        "colab": {
          "base_uri": "https://localhost:8080/",
          "height": 457
        },
        "id": "tnqpM6IYPsda",
        "outputId": "fcb34caa-dc5f-42f4-d495-7fdeb8bce9d1"
      },
      "execution_count": null,
      "outputs": [
        {
          "output_type": "display_data",
          "data": {
            "text/plain": [
              "<Figure size 640x480 with 1 Axes>"
            ],
            "image/png": "[encoded data removed]"
          },
          "metadata": {}
        }
      ]
    },
    {
      "cell_type": "code",
      "source": [
        "plt.hist(levensthein_scores_name, bins = 30, color = \"darkblue\")\n",
        "plt.xlabel(\"Levenshtein Distances\", fontsize=13)\n",
        "plt.ylabel(\"Absolute Frequency\", fontsize=13)\n",
        "plt.xticks(fontsize = 12)\n",
        "plt.yticks(fontsize = 12)\n",
        "plt.savefig(\"/content/gdrive/My Drive/Thesis/Plots/Levenshtein_Distances_Names.png\",   bbox_inches=\"tight\")\n",
        "plt.show()"
      ],
      "metadata": {
        "colab": {
          "base_uri": "https://localhost:8080/",
          "height": 457
        },
        "id": "t4cuLFQuKPl-",
        "outputId": "f85a92f2-bfac-45c3-a562-ad9e5124d41a"
      },
      "execution_count": null,
      "outputs": [
        {
          "output_type": "display_data",
          "data": {
            "text/plain": [
              "<Figure size 640x480 with 1 Axes>"
            ],
            "image/png": "[encoded data removed]"
          },
          "metadata": {}
        }
      ]
    },
    {
      "cell_type": "markdown",
      "source": [
        "Hence, most \"changed\" names and descriptions only contain negligible changes.\n",
        "I shall remove all those datapoints from the dataset where the change lead to a Levenshtein Score below 0.9."
      ],
      "metadata": {
        "id": "CS3NgkjkKdEO"
      }
    },
    {
      "cell_type": "code",
      "source": [
        "shape_before = airbnb_london.shape[0]\n",
        "\n",
        "airbnb_london.levensthein_scores_des = levensthein_scores_des\n",
        "airbnb_london.levensthein_scores_name = levensthein_scores_name\n",
        "\n",
        "airbnb_london = airbnb_london[(airbnb_london.levensthein_scores_des >= 90 ) & (airbnb_london.levensthein_scores_name >= 90  )]\n",
        "\n",
        "shape_now = airbnb_london.shape[0]\n",
        "\n",
        "difference_due_to_filtering = shape_before - shape_now\n",
        "print(f'{np.round(difference_due_to_filtering/shape_before * 100, 2)} percent were lost due to too great changes in either name or description.')\n"
      ],
      "metadata": {
        "colab": {
          "base_uri": "https://localhost:8080/"
        },
        "id": "RaNL4A-0IdGF",
        "outputId": "f99692dc-9b14-4806-95b9-afc233fe0863"
      },
      "execution_count": null,
      "outputs": [
        {
          "output_type": "stream",
          "name": "stdout",
          "text": [
            "13.77 percent were lost due to too great changes in either name or description.\n"
          ]
        },
        {
          "output_type": "stream",
          "name": "stderr",
          "text": [
            "<ipython-input-15-3fa22aa3f4a1>:3: UserWarning: Pandas doesn't allow columns to be created via a new attribute name - see https://pandas.pydata.org/pandas-docs/stable/indexing.html#attribute-access\n",
            "  airbnb_london.levensthein_scores_des = levensthein_scores_des\n",
            "<ipython-input-15-3fa22aa3f4a1>:4: UserWarning: Pandas doesn't allow columns to be created via a new attribute name - see https://pandas.pydata.org/pandas-docs/stable/indexing.html#attribute-access\n",
            "  airbnb_london.levensthein_scores_name = levensthein_scores_name\n"
          ]
        }
      ]
    },
    {
      "cell_type": "code",
      "source": [
        "airbnb_london.shape"
      ],
      "metadata": {
        "colab": {
          "base_uri": "https://localhost:8080/"
        },
        "id": "4xKwe6kMMHdF",
        "outputId": "abfe51fb-978b-4ce9-87b4-77d21e6730ac"
      },
      "execution_count": null,
      "outputs": [
        {
          "output_type": "execute_result",
          "data": {
            "text/plain": [
              "(41894, 77)"
            ]
          },
          "metadata": {},
          "execution_count": 16
        }
      ]
    },
    {
      "cell_type": "markdown",
      "source": [
        "### Dealing with the number of reviews as proxy for occupancy\n",
        "\n",
        "Now computing score for difference in the number of reviews as dependent variable in the discriminator.\n",
        "\n"
      ],
      "metadata": {
        "id": "Lf38m-nEMh_v"
      }
    },
    {
      "cell_type": "code",
      "source": [
        "airbnb_london[\"review_diff\"] = airbnb_london.number_of_reviews_2023 - airbnb_london.number_of_reviews"
      ],
      "metadata": {
        "id": "UXOVqv2lNLWl"
      },
      "execution_count": null,
      "outputs": []
    },
    {
      "cell_type": "code",
      "source": [
        "plt.hist(airbnb_london.review_diff, bins = 100, color='darkblue')\n",
        "plt.xlim(0,50)\n",
        "plt.xlabel(\"Difference in No. Reviews\", fontsize=13)\n",
        "plt.ylabel(\"Absolute Frequency\", fontsize=13)\n",
        "plt.xticks(fontsize = 12)\n",
        "plt.yticks(fontsize = 12)\n",
        "#plt.savefig(\"Diff_Reviews.png\")\n",
        "plt.savefig(\"/content/gdrive/My Drive/Thesis/Plots/Diff_Reviews.png\",  bbox_inches=\"tight\")\n",
        "plt.show()\n"
      ],
      "metadata": {
        "colab": {
          "base_uri": "https://localhost:8080/",
          "height": 457
        },
        "id": "0_IUgo7SR6WP",
        "outputId": "ecce1fc0-47d7-4626-994b-098d8453e537"
      },
      "execution_count": null,
      "outputs": [
        {
          "output_type": "display_data",
          "data": {
            "text/plain": [
              "<Figure size 640x480 with 1 Axes>"
            ],
            "image/png": "[encoded data removed]"
          },
          "metadata": {}
        }
      ]
    },
    {
      "cell_type": "markdown",
      "source": [
        "The ditribution is highly uneven. Thus, just using the number and appiyng it to a regression problem can yield problems. Categorizing the differences and treating the training of the discriminator as a categorization problem can help:"
      ],
      "metadata": {
        "id": "pu0L14mGcsSP"
      }
    },
    {
      "cell_type": "code",
      "source": [
        "# most succesful third for using in the training of the discriminator ?!\n",
        "\n",
        "q_2_3 = np.quantile(airbnb_london.review_diff, 2/3)\n",
        "print(f'When only using the top 33% best performing listings in the training of the discriminator, one can still use {airbnb_london[airbnb_london.review_diff > q_2_3].shape[0]} samples.')"
      ],
      "metadata": {
        "colab": {
          "base_uri": "https://localhost:8080/"
        },
        "id": "evnKRjZ4s14b",
        "outputId": "0c3c6ab8-0010-4932-bc2b-78086503d4d0"
      },
      "execution_count": null,
      "outputs": [
        {
          "output_type": "stream",
          "name": "stdout",
          "text": [
            "When only using the top 33% best performing listings in the training of the discriminator, one can still use 12506 samples.\n"
          ]
        }
      ]
    },
    {
      "cell_type": "code",
      "source": [
        "## extra variable (binary) to indicate if datapoint is within top third\n",
        "\n",
        "airbnb_london[\"in_top_third\"] = 0\n",
        "airbnb_london.in_top_third[airbnb_london.review_diff > q_2_3] = 1"
      ],
      "metadata": {
        "id": "rik5e8pefvwg"
      },
      "execution_count": null,
      "outputs": []
    },
    {
      "cell_type": "code",
      "source": [
        "# 3-fold categorization of review_diff as outcome in\n",
        "\n",
        "print(\"Q1 quantile of arr : \", np.quantile(airbnb_london.review_diff, 1/3))\n",
        "print(\"Q2 quantile of arr : \", np.quantile(airbnb_london.review_diff, 2/3))\n"
      ],
      "metadata": {
        "colab": {
          "base_uri": "https://localhost:8080/"
        },
        "id": "2l5XCNsCMxOH",
        "outputId": "414a0836-66e2-4653-d46e-d98e1c746759"
      },
      "execution_count": null,
      "outputs": [
        {
          "output_type": "stream",
          "name": "stdout",
          "text": [
            "Q1 quantile of arr :  0.0\n",
            "Q2 quantile of arr :  3.0\n"
          ]
        }
      ]
    },
    {
      "cell_type": "code",
      "source": [
        "## extra variable (1-3) to indicate if datapoint is within top third\n",
        "\n",
        "airbnb_london[\"proxy\"] = 0\n",
        "airbnb_london.proxy[airbnb_london.review_diff == 0] = 1\n",
        "airbnb_london.proxy[airbnb_london.review_diff.isin([1,2,3])] = 2\n",
        "airbnb_london.proxy[airbnb_london.review_diff > 3] = 3\n"
      ],
      "metadata": {
        "id": "z7cL8nYWg2wT"
      },
      "execution_count": null,
      "outputs": []
    },
    {
      "cell_type": "code",
      "source": [
        "\n",
        "# Frequencies:\n",
        "# 3 - 12656\n",
        "# 2 - 13676.0\n",
        "# 1 - 15562\n"
      ],
      "metadata": {
        "colab": {
          "base_uri": "https://localhost:8080/"
        },
        "id": "wgmiPrKNyypY",
        "outputId": "403ac14a-4656-4075-f58a-27927acf9a38"
      },
      "execution_count": null,
      "outputs": [
        {
          "output_type": "execute_result",
          "data": {
            "text/plain": [
              "13676.0"
            ]
          },
          "metadata": {},
          "execution_count": 8
        }
      ]
    },
    {
      "cell_type": "markdown",
      "source": [
        "A few data points contain no listing title or description.\n",
        "These shall be removed from the dataframe to be used!\n",
        "\n",
        "\n",
        "Btw.: Checking for empty samples if, of course, logical, but can also be motivated by Aumiller, Gertz (2023).\n"
      ],
      "metadata": {
        "id": "hRBOxDTU7fZv"
      }
    },
    {
      "cell_type": "markdown",
      "source": [
        "### further filtering\n",
        "\n",
        "\n",
        "*  filtering out listiing, which are hostel rooms (or just not private accomondations)\n",
        "* -> saving of intermediary results\n",
        "* filtering out such listings with a too-short name\n",
        "* filtering out based on too short descriptions\n",
        "* filtering based on compression ratio further filters:\n",
        "* -> saving of final results\n",
        "\n",
        "I shall also always measure which perentage of all data is lost due to each filtering step!\n"
      ],
      "metadata": {
        "id": "6pmLf2cyKYYf"
      }
    },
    {
      "cell_type": "code",
      "source": [
        "# firstly, checking for duplicates (also might be motivated by Aumiller, Gertz (2023))\n",
        "\n",
        "len(airbnb_london.id.unique()) == airbnb_london.shape[0]\n"
      ],
      "metadata": {
        "colab": {
          "base_uri": "https://localhost:8080/"
        },
        "id": "vIukWFxbnhvd",
        "outputId": "70bf39ed-adaa-4ac8-d568-ce95a0801fa8"
      },
      "execution_count": null,
      "outputs": [
        {
          "output_type": "execute_result",
          "data": {
            "text/plain": [
              "True"
            ]
          },
          "metadata": {},
          "execution_count": 38
        }
      ]
    },
    {
      "cell_type": "code",
      "source": [
        "# filtering for property type\n",
        "\n",
        "dp_old = airbnb_london.shape[0]\n",
        "overall_datapoints = dp_old\n",
        "\n",
        "airbnb_london_filtered = airbnb_london[(airbnb_london.room_type == 'Entire home/apt') | (airbnb_london.room_type == 'Private room') ]\n",
        "\n",
        "dp_new = airbnb_london_filtered.shape[0]\n",
        "\n",
        "# to check\n",
        "print(airbnb_london_filtered.room_type.value_counts())\n",
        "\n",
        "difference = dp_old - dp_new\n",
        "print(f'{np.round(difference/dp_old * 100, 2)} percent were lost due to this filter.')\n"
      ],
      "metadata": {
        "id": "AfHSLHClKTW0",
        "colab": {
          "base_uri": "https://localhost:8080/"
        },
        "outputId": "26b5d5ba-800f-42cd-ed0d-d6f5f27fa1dd"
      },
      "execution_count": null,
      "outputs": [
        {
          "output_type": "stream",
          "name": "stdout",
          "text": [
            "Entire home/apt    28102\n",
            "Private room       21302\n",
            "Name: room_type, dtype: int64\n",
            "1.04 percent were lost due to this filter.\n"
          ]
        }
      ]
    },
    {
      "cell_type": "code",
      "source": [
        "## saving intermediary results\n",
        "\n",
        "airbnb_london_filtered.to_csv(\"/content/gdrive/My Drive/Thesis/London_Data/airbnb_london_filtered_basic.csv\")"
      ],
      "metadata": {
        "id": "6FU3jKVtfY5H"
      },
      "execution_count": null,
      "outputs": []
    },
    {
      "cell_type": "markdown",
      "source": [
        "#### Continuing the filtering: for the filtering based on the length of both the description and the title, it is nice to firstly consider the distriution of those lengths, respectively."
      ],
      "metadata": {
        "id": "L_k8mi3LgOtJ"
      }
    },
    {
      "cell_type": "code",
      "source": [
        "import re\n",
        "\n",
        "def remove_non_alpha_lower(input: str) -> list:\n",
        "  \"\"\"\n",
        "  This function removes all charachters but alphhanumeric ones\n",
        "  and maps abluell words to lower-case.\n",
        "  This is needed for the lenghts (measured in words) for the name\n",
        "  and the descriptions and for checking the 'extractiveness'.\n",
        "  \"\"\"\n",
        "\n",
        "  regex = re.compile('[^a-zA-Z]')\n",
        "\n",
        "  input = input.split()\n",
        "  words = [regex.sub('', a) for a in input]\n",
        "  # removing blank spaces etc and only using lower words\n",
        "  words = [a.lower() for a in words if a.isalpha()]\n",
        "\n",
        "  return words\n",
        "\n",
        "\n",
        "def len_of_non_alpha_lower(input: str) -> int:\n",
        "  \"\"\"\n",
        "  This function computes the length of the function above.\n",
        "  \"\"\"\n",
        "\n",
        "  output = remove_non_alpha_lower(input)\n",
        "  return len(output)"
      ],
      "metadata": {
        "id": "GUuLJNxLiBzx"
      },
      "execution_count": null,
      "outputs": []
    },
    {
      "cell_type": "code",
      "source": [
        "import matplotlib.pyplot as plt\n",
        "\n",
        "name_lengths  = airbnb_london.name.apply(lambda x: int(len_of_non_alpha_lower(str(x)) ) )\n",
        "\n",
        "plt.hist(name_lengths, bins = 40, color = \"darkblue\")\n",
        "plt.xlim(0, 20)\n",
        "plt.xlabel(\"Length after removing non-alphanumeric tokens\", fontsize=13)\n",
        "plt.ylabel(\"Absolute Frequency\", fontsize=13)\n",
        "plt.xticks(fontsize = 12)\n",
        "plt.yticks(fontsize = 12)\n",
        "plt.savefig(\"/content/gdrive/My Drive/Thesis/Plots/Distribution_Length_Names.png\", bbox_inches=\"tight\")\n",
        "\n",
        "plt.show()"
      ],
      "metadata": {
        "colab": {
          "base_uri": "https://localhost:8080/",
          "height": 457
        },
        "id": "BdTvGWhFSUN6",
        "outputId": "632ed782-b9b1-46bc-abbd-145fba2ac127"
      },
      "execution_count": null,
      "outputs": [
        {
          "output_type": "display_data",
          "data": {
            "text/plain": [
              "<Figure size 640x480 with 1 Axes>"
            ],
            "image/png": "[encoded data removed]"
          },
          "metadata": {}
        }
      ]
    },
    {
      "cell_type": "code",
      "source": [],
      "metadata": {
        "id": "wBUfyr3rSq-i"
      },
      "execution_count": null,
      "outputs": []
    },
    {
      "cell_type": "code",
      "source": [
        "#import matplotlib.pyplot as plt\n",
        "\n",
        "\n",
        "name_des  = airbnb_london.description.apply(lambda x: int(len_of_non_alpha_lower(str(x)) ) )\n",
        "\n",
        "plt.hist(name_des, bins = 40, color = \"darkblue\")\n",
        "plt.xlabel(\"Length after removing non-alphanumeric tokens\", fontsize=13)\n",
        "plt.ylabel(\"Absolute Frequency\", fontsize=13)\n",
        "plt.xticks(fontsize = 12)\n",
        "plt.yticks(fontsize = 12)\n",
        "#plt.savefig(\"Distribution_Length_Descriptions.png\")\n",
        "plt.savefig(\"/content/gdrive/My Drive/Thesis/Plots/Distribution_Length_Descriptions.png\",  bbox_inches=\"tight\")\n",
        "plt.show()\n"
      ],
      "metadata": {
        "colab": {
          "base_uri": "https://localhost:8080/",
          "height": 457
        },
        "outputId": "93089357-98e9-4916-fc70-5f7b10106637",
        "id": "CSXhfY-WjsI1"
      },
      "execution_count": null,
      "outputs": [
        {
          "output_type": "display_data",
          "data": {
            "text/plain": [
              "<Figure size 640x480 with 1 Axes>"
            ],
            "image/png": "[encoded data removed]"
          },
          "metadata": {}
        }
      ]
    },
    {
      "cell_type": "markdown",
      "source": [
        "... a few cases with no more than 50 characters - that might be a bit short."
      ],
      "metadata": {
        "id": "IQY2TAjmjsI4"
      }
    },
    {
      "cell_type": "code",
      "source": [
        "\n",
        "## name > 5\n",
        "## description > XXX\n",
        "\n",
        "###### Lookiing for evidence in papers !!\n",
        "\n",
        "Aumiller Gertz (2023): 2)\tminimum text length (20 char for sum, 50 for doc) --> infeasible here\n",
        "also: 3)\tcompression ratio (doc min. 25% longer)\n",
        "also: full extractiveness -> only importabbt for extractive algorithms (also: Bommasani, Rishi; Cardie, Claire (2020): Intrinsic Evaluation of Summarization Datasets.)\n",
        "\n",
        "\n",
        "\n"
      ],
      "metadata": {
        "id": "pWMP18p1l-ra"
      },
      "execution_count": null,
      "outputs": []
    },
    {
      "cell_type": "code",
      "source": [
        "## removing of too short names & descriptions\n",
        "dp_old = airbnb_london_filtered.shape[0]\n",
        "\n",
        "# extra columns for name and description lengths\n",
        "airbnb_london_filtered['name_len'] = airbnb_london_filtered.apply(lambda x: int(len_of_non_alpha_lower(str(x['name']) )  ) , axis=1)\n",
        "airbnb_london_filtered['des_len'] = airbnb_london_filtered.apply(lambda x: int(len_of_non_alpha_lower(str(x['description']) )  ) , axis=1)\n",
        "\n",
        "\n",
        "# filtering based on that\n",
        "airbnb_london_filtered_2 = airbnb_london_filtered[(airbnb_london_filtered.name_len >= 5) & (airbnb_london_filtered.des_len >= 25) ].copy()\n",
        "\n",
        "dp_new = airbnb_london_filtered_2.shape[0]\n",
        "\n",
        "difference = dp_old - dp_new\n",
        "print(f'{np.round(difference/overall_datapoints * 100, 2)} percent were lost due to this filter.')\n"
      ],
      "metadata": {
        "colab": {
          "base_uri": "https://localhost:8080/"
        },
        "id": "cj3Km-cYoxS_",
        "outputId": "5e4592d9-6dd9-4f9a-e80c-4259c607f7fc"
      },
      "execution_count": null,
      "outputs": [
        {
          "output_type": "stream",
          "name": "stderr",
          "text": [
            "<ipython-input-58-9aa8000576e2>:5: SettingWithCopyWarning: \n",
            "A value is trying to be set on a copy of a slice from a DataFrame.\n",
            "Try using .loc[row_indexer,col_indexer] = value instead\n",
            "\n",
            "See the caveats in the documentation: https://pandas.pydata.org/pandas-docs/stable/user_guide/indexing.html#returning-a-view-versus-a-copy\n",
            "  airbnb_london_filtered['name_len'] = airbnb_london_filtered.apply(lambda x: int(len_of_non_alpha_lower(str(x['name']) )  ) , axis=1)\n",
            "<ipython-input-58-9aa8000576e2>:6: SettingWithCopyWarning: \n",
            "A value is trying to be set on a copy of a slice from a DataFrame.\n",
            "Try using .loc[row_indexer,col_indexer] = value instead\n",
            "\n",
            "See the caveats in the documentation: https://pandas.pydata.org/pandas-docs/stable/user_guide/indexing.html#returning-a-view-versus-a-copy\n",
            "  airbnb_london_filtered['des_len'] = airbnb_london_filtered.apply(lambda x: int(len_of_non_alpha_lower(str(x['description']) )  ) , axis=1)\n"
          ]
        }
      ]
    },
    {
      "cell_type": "code",
      "source": [
        "## now using compression ratio:\n",
        "\n",
        "\n",
        "airbnb_london_filtered_2['compression_ratio'] = airbnb_london_filtered_2.apply(lambda x: x['name_len']/ x['des_len'], axis = 1)\n",
        "airbnb_london_filtered_2['compression_ratio']\n",
        "\n",
        "#airbnb_london_filtered.columns #['name_len']\n"
      ],
      "metadata": {
        "colab": {
          "base_uri": "https://localhost:8080/"
        },
        "id": "Ep5jA8F7rZXg",
        "outputId": "9a3ce162-5ca5-4d22-809b-9b52989b6eb1"
      },
      "execution_count": null,
      "outputs": [
        {
          "output_type": "execute_result",
          "data": {
            "text/plain": [
              "0        0.035928\n",
              "2        0.038217\n",
              "3        0.041096\n",
              "4        0.041096\n",
              "5        0.039735\n",
              "           ...   \n",
              "49917    0.066667\n",
              "49918    0.101449\n",
              "49919    0.031447\n",
              "49920    0.069767\n",
              "49922    0.048780\n",
              "Name: compression_ratio, Length: 38134, dtype: float64"
            ]
          },
          "metadata": {},
          "execution_count": 116
        }
      ]
    },
    {
      "cell_type": "code",
      "source": [
        "\n",
        "plt.hist(airbnb_london_filtered_2['compression_ratio'], bins = 40, color = \"darkblue\")\n",
        "plt.xlim(0, 0.45)\n",
        "plt.xlabel(\"Compression Ratio\", fontsize=13)\n",
        "plt.ylabel(\"Absolute Frequency\", fontsize=13)\n",
        "plt.xticks(fontsize = 12)\n",
        "plt.yticks(fontsize = 12)\n",
        "#plt.savefig(\"Distribution_Compression_Ratio.png\")\n",
        "plt.savefig(\"/content/gdrive/My Drive/Thesis/Plots/Distribution_Compression_Ratio.png\",  bbox_inches=\"tight\")\n",
        "plt.show()"
      ],
      "metadata": {
        "colab": {
          "base_uri": "https://localhost:8080/",
          "height": 463
        },
        "id": "OOLhLsUETgQ8",
        "outputId": "51fe1a97-4147-40b0-a93b-607a1538f6e5"
      },
      "execution_count": null,
      "outputs": [
        {
          "output_type": "display_data",
          "data": {
            "text/plain": [
              "<Figure size 640x480 with 1 Axes>"
            ],
            "image/png": "[encoded data removed]"
          },
          "metadata": {}
        }
      ]
    },
    {
      "cell_type": "code",
      "source": [
        "## compression ratio should not be an issue here - still filtering based on this metric:\n",
        "dp_old = airbnb_london_filtered_2.shape[0]\n",
        "\n",
        "# filtering - descriptions should be at least 25% longer\n",
        "\n",
        "min_ratio = 1/1.25    # will equal 0.8 :))\n",
        "\n",
        "airbnb_london_filtered_3 = airbnb_london_filtered_2[airbnb_london_filtered_2.compression_ratio < min_ratio].copy()\n",
        "\n",
        "dp_new = airbnb_london_filtered_3.shape[0]\n",
        "\n",
        "\n",
        "#difference = dp_old - dp_new\n",
        "print(f'{np.round(difference/overall_datapoints * 100, 2)} percent were lost due to this filter.')\n",
        "\n"
      ],
      "metadata": {
        "colab": {
          "base_uri": "https://localhost:8080/"
        },
        "id": "LoyRhG6Ovj9R",
        "outputId": "3bbb376b-e65e-4561-a012-2ea6fee54615"
      },
      "execution_count": null,
      "outputs": [
        {
          "output_type": "stream",
          "name": "stdout",
          "text": [
            "0.0 percent were lost due to this filter.\n"
          ]
        }
      ]
    },
    {
      "cell_type": "markdown",
      "source": [
        "The dataframe 'airbnb_london_filtered_3' is the result of a first round of rather basic filtering."
      ],
      "metadata": {
        "id": "zZzAuaD9w4zo"
      }
    },
    {
      "cell_type": "code",
      "source": [
        "## Dropping the newly created columns\n",
        "to_drop = ['name_len', 'des_len', 'compression_ratio']\n",
        "cols_to_use = [i for i in airbnb_london_filtered_3.columns if i not in to_drop]\n",
        "cols_to_use\n",
        "\n",
        "airbnb_london_filtered_3 = airbnb_london_filtered_3[cols_to_use]\n",
        "\n",
        "# re--stting the index for this DF (id can be used for mering later)\n",
        "\n",
        "index_new = np.arange(airbnb_london_filtered_3.shape[0])\n",
        "airbnb_london_filtered_3.index = index_new\n",
        "\n",
        "\n",
        "## also to drive\n",
        "airbnb_london_filtered_3.to_csv(\"/content/gdrive/My Drive/Thesis/London_Data/airbnb_london_filtered_advanced.csv\")\n",
        "print(airbnb_london_filtered_3.shape)"
      ],
      "metadata": {
        "id": "9RFZRHZ7qJ-G",
        "colab": {
          "base_uri": "https://localhost:8080/"
        },
        "outputId": "8dd03c82-3c5a-4957-9b5d-74a78f23c57f"
      },
      "execution_count": null,
      "outputs": [
        {
          "output_type": "stream",
          "name": "stdout",
          "text": [
            "(32547, 80)\n"
          ]
        }
      ]
    },
    {
      "cell_type": "code",
      "source": [
        "## a quick check on the distributions of the proxies after these filters:\n",
        "\n",
        "airbnb_london_filtered_3[\"proxy\"].value_counts()\n"
      ],
      "metadata": {
        "colab": {
          "base_uri": "https://localhost:8080/"
        },
        "id": "O7q14OoBirCj",
        "outputId": "168fcee3-eeb8-4d75-f8a4-f870381c50c1"
      },
      "execution_count": null,
      "outputs": [
        {
          "output_type": "execute_result",
          "data": {
            "text/plain": [
              "1    16048\n",
              "3     9925\n",
              "2     6574\n",
              "Name: proxy, dtype: int64"
            ]
          },
          "metadata": {},
          "execution_count": 324
        }
      ]
    },
    {
      "cell_type": "markdown",
      "source": [
        "\n",
        "loop to see how many listing titles could be learned in a purely extractive way (with and without stemming). Also checking if any mentioned amenitiy is in the title and number of amenities also mentioned in the description\n"
      ],
      "metadata": {
        "id": "k4v6oekElJ6M"
      }
    },
    {
      "cell_type": "code",
      "source": [
        "#import numpy as np\n",
        "#import pandas as pd\n",
        "\n",
        "#airbnb_london_filtered_3 = pd.read_csv(\"/content/gdrive/My Drive/Thesis/London_Data/airbnb_london_filtered_advanced.csv\")"
      ],
      "metadata": {
        "colab": {
          "base_uri": "https://localhost:8080/"
        },
        "id": "bq-CL3zR3m2s",
        "outputId": "20d0c771-cd63-449e-f52e-3d283819cbd7"
      },
      "execution_count": null,
      "outputs": [
        {
          "output_type": "stream",
          "name": "stderr",
          "text": [
            "<ipython-input-75-c4a3e3e126c5>:4: DtypeWarning: Columns (1,3,22,41,45,46) have mixed types. Specify dtype option on import or set low_memory=False.\n",
            "  airbnb_london_filtered_3 = pd.read_csv(\"/content/gdrive/My Drive/Thesis/London_Data/airbnb_london_filtered_basic.csv\")\n"
          ]
        }
      ]
    },
    {
      "cell_type": "code",
      "source": [
        "import re\n",
        "import math\n",
        "from nltk.stem import PorterStemmer\n",
        "from nltk.tokenize import word_tokenize\n",
        "\n",
        "# setting up stemmer object\n",
        "ps = PorterStemmer()\n",
        "\n",
        "\n",
        "extractive_works = 0\n",
        "extractive_works_after_stemming = 0\n",
        "\n",
        "\n",
        "# how many words in the title are also in the description\n",
        "mean_words_in_description = np.ones(airbnb_london_filtered_3.shape[0])\n",
        "mean_words_in_description_after_stemming = np.ones(airbnb_london_filtered_3.shape[0])\n",
        "\n",
        "\n",
        "amenity_in_title = 0\n",
        "shares_amenities_in_description = np.ones(airbnb_london_filtered_3.shape[0])\n",
        "\n",
        "\n",
        "## using airbnb_london_filtered_3 !\n",
        "for i in range(airbnb_london_filtered_3.shape[0]):\n",
        "\n",
        "\n",
        "  ## words in title\n",
        "  list_words_title =  remove_non_alpha_lower(airbnb_london_filtered_3.name[i])\n",
        "\n",
        "  # also after stemming\n",
        "  list_words_title_stemmed = [ps.stem(a) for a in list_words_title]\n",
        "\n",
        "\n",
        "  ## words in Description\n",
        "  list_words_des = remove_non_alpha_lower(airbnb_london_filtered_3.description[i])\n",
        "\n",
        "  # also after stemming\n",
        "  list_words_des_stemmed = [ps.stem(a) for a in list_words_des]\n",
        "\n",
        "\n",
        "  # amenities\n",
        "  amenties_listing = airbnb_london_filtered_3.amenities[i]\n",
        "  amenities_list = [a.lower() for a in amenties_listing]\n",
        "\n",
        "\n",
        "  # checking if extractive works\n",
        "  if all(x in list_words_des for x in list_words_title):\n",
        "    extractive_works += 1\n",
        "\n",
        "  # also after stemming\n",
        "  if all(x in list_words_des_stemmed for x in list_words_title_stemmed):\n",
        "    extractive_works_after_stemming += 1\n",
        "\n",
        "\n",
        "  # checking relative amount of words  in title als in description\n",
        "  rel_words = sum(x in list_words_des for x in list_words_title) / len(list_words_title)\n",
        "  mean_words_in_description[i] = rel_words\n",
        "\n",
        "  # checking relative amount of words  in title als in description - after stemming\n",
        "  rel_words_adter_stemming = sum(x in list_words_des_stemmed for x in list_words_title_stemmed) / len(list_words_title_stemmed)\n",
        "  mean_words_in_description_after_stemming[i] = rel_words_adter_stemming\n",
        "\n",
        "\n",
        "  # checking if any amenity is contained within the title\n",
        "  if any(x in amenities_list for x in list_words_title):\n",
        "    amenity_in_title += 1\n",
        "\n",
        "  # checking share of mentioned amenities to be found within description\n",
        "  rel_words_amentites = sum(x in list_words_des for x in amenities_list) / len(amenities_list)\n",
        "  shares_amenities_in_description[i] = rel_words_amentites\n",
        "\n",
        "\n",
        "\n",
        "# Amount of listings with purely extractive title\n",
        "print(f'{np.round(extractive_works/airbnb_london_filtered_3.shape[0] * 100, 2)} percent of the sample titles are purely extractive of the descriptions.')\n",
        "print(f'After stemming, {np.round(extractive_works_after_stemming/airbnb_london_filtered_3.shape[0] * 100, 2)} percent of the sample titles are purely extractive of the descriptions.')\n",
        "print(\"-----------------------------------------------------------------------------------------\")\n",
        "\n",
        "# Sahre of any amenity mentioned in the title\n",
        "print(f'The percentage of listings for which any amenity was mentioned in the title is {amenity_in_title/airbnb_london_filtered_3.shape[0] * 100}!')"
      ],
      "metadata": {
        "colab": {
          "base_uri": "https://localhost:8080/"
        },
        "id": "mSE-JbbjhpTu",
        "outputId": "36d6b0b1-3ca1-447c-b85b-492e6af24289"
      },
      "execution_count": null,
      "outputs": [
        {
          "output_type": "stream",
          "name": "stdout",
          "text": [
            "10.85 percent of the sample titles are purely extractive of the descriptions.\n",
            "After stemming, 12.17 percent of the sample titles are purely extractive of the descriptions.\n",
            "-----------------------------------------------------------------------------------------\n",
            "The percentage of listings for which any amenity was mentioned in the title is 9.242019233723537!\n"
          ]
        }
      ]
    },
    {
      "cell_type": "markdown",
      "source": [
        "The amenities thus do not seem to provide (essential) information to be considered when generating titles.\n",
        "\n",
        "Now focussing on the Share of words in title to also be found in description\n"
      ],
      "metadata": {
        "id": "LxqGLGDoiLey"
      }
    },
    {
      "cell_type": "code",
      "source": [
        "# Share of words in title to also be found in description\n",
        "print(f'{np.round(np.mean(mean_words_in_description), 2)} is the mean share of words in the title to also be present in the description.')\n",
        "print(f'{np.round(np.mean(mean_words_in_description_after_stemming), 2)} is the mean share of stemmed words in the title to also be present in the (stemmed) description.')\n"
      ],
      "metadata": {
        "colab": {
          "base_uri": "https://localhost:8080/"
        },
        "id": "Sf8WWSpxiQW_",
        "outputId": "b0487e51-90bc-4161-b83a-dcdcbf8bc51d"
      },
      "execution_count": null,
      "outputs": [
        {
          "output_type": "stream",
          "name": "stdout",
          "text": [
            "0.63 is the mean share of words in the title to also be present in the description.\n",
            "0.65 is the mean share of stemmed words in the title to also be present in the (stemmed) description.\n"
          ]
        }
      ]
    },
    {
      "cell_type": "markdown",
      "source": [
        "Although purely extractive titles are not too common, these shares indicates that the majority of words in the title do occur in the description.\n",
        "\n",
        "(Technical hint: perhaps hybrid summarization methods ?!)"
      ],
      "metadata": {
        "id": "Nyg9p2lqlJ6G"
      }
    },
    {
      "cell_type": "code",
      "source": [
        "\n",
        "plt.hist(mean_words_in_description, bins = 10, color = \"darkblue\")\n",
        "plt.xlabel(\"Share of title words also present in the description\", fontsize=13)\n",
        "plt.ylabel(\"Absolute Frequency\", fontsize=13)\n",
        "plt.xticks(fontsize = 12)\n",
        "plt.yticks(fontsize = 12)\n",
        "#plt.savefig(\"Mean_words_title_description.png\")\n",
        "plt.savefig(\"/content/gdrive/My Drive/Thesis/Plots/Mean_words_title_description.png\", bbox_inches=\"tight\")\n",
        "plt.show()"
      ],
      "metadata": {
        "colab": {
          "base_uri": "https://localhost:8080/",
          "height": 457
        },
        "id": "xZlG3QMAV462",
        "outputId": "a5c12441-ee88-4ca1-9137-f4beb70a8e6a"
      },
      "execution_count": null,
      "outputs": [
        {
          "output_type": "display_data",
          "data": {
            "text/plain": [
              "<Figure size 640x480 with 1 Axes>"
            ],
            "image/png": "[encoded data removed]"
          },
          "metadata": {}
        }
      ]
    },
    {
      "cell_type": "code",
      "source": [
        "# again - after stemming\n",
        "\n",
        "\n",
        "plt.hist(mean_words_in_description_after_stemming, bins = 10, color = \"darkblue\")\n",
        "#plt.xlim(0, 0.45)\n",
        "plt.xlabel(\"Share of stemmed title words also present in the description\", fontsize=12)\n",
        "plt.ylabel(\"Absolute Frequency\", fontsize=13)\n",
        "plt.xticks(fontsize = 12)\n",
        "plt.yticks(fontsize = 12)\n",
        "#plt.savefig(\"Mean_words_title_description_after_stemming.png\")\n",
        "plt.savefig(\"/content/gdrive/My Drive/Thesis/Plots/Mean_words_title_description_after_stemming.png\", bbox_inches=\"tight\")\n",
        "plt.show()\n",
        "\n"
      ],
      "metadata": {
        "colab": {
          "base_uri": "https://localhost:8080/",
          "height": 457
        },
        "id": "qPn3dyQSkima",
        "outputId": "3fe33a92-48e1-49dc-e0ab-16c568a7cc5e"
      },
      "execution_count": null,
      "outputs": [
        {
          "output_type": "display_data",
          "data": {
            "text/plain": [
              "<Figure size 640x480 with 1 Axes>"
            ],
            "image/png": "[encoded data removed]"
          },
          "metadata": {}
        }
      ]
    },
    {
      "cell_type": "markdown",
      "source": [
        "The checks on the degree of extractivenss/abstractiveness only refer to  n-grams of n=1.\n",
        "\n",
        "Literature suggests that the degree of extractiveness measured in shared n-grams with n>1 might also be indicative of how well extractive / extractive algotihms work."
      ],
      "metadata": {
        "id": "cvgDMMeW3w09"
      }
    },
    {
      "cell_type": "code",
      "source": [
        "import re\n",
        "import math\n",
        "import nltk\n",
        "from nltk.stem import PorterStemmer\n",
        "from nltk.tokenize import word_tokenize\n",
        "from nltk import collections\n",
        "\n",
        "# setting up stemmer object\n",
        "ps = PorterStemmer()\n"
      ],
      "metadata": {
        "id": "Ii5cYhHx4nC6"
      },
      "execution_count": null,
      "outputs": []
    },
    {
      "cell_type": "code",
      "source": [
        "\n",
        "def retrieve_unique_n_grams(n: int, list_words_title, list_words_title_stemmed, list_words_des, list_words_des_stemmed) -> tuple:\n",
        "\n",
        "  \"\"\"\n",
        "  This function computes the shares of n-grmas in the title that are also present in the description for both\n",
        "  the stemmed title/description and the non-stemmed counterparts.\n",
        "  n can be specified for flexibility.\n",
        "  \"\"\"\n",
        "\n",
        "  ## n-grmas lists for titles\n",
        "\n",
        "  # 1) without stemming\n",
        "  counts = collections.Counter()\n",
        "  counts.update(nltk.ngrams(list_words_title, n))\n",
        "  unique_n_grams_title = list(counts.keys() )\n",
        "\n",
        "  # 2) with stemming\n",
        "  counts = collections.Counter()\n",
        "  counts.update(nltk.ngrams(list_words_title_stemmed, n))\n",
        "  unique_n_grams_title_stemmed = list(counts.keys() )\n",
        "\n",
        "\n",
        "  ## n-grams for descriptions\n",
        "\n",
        "  # 1) without stemming\n",
        "  counts = collections.Counter()\n",
        "  counts.update(nltk.ngrams(list_words_des, n))\n",
        "  unique_n_grams_des = list(counts.keys() )\n",
        "\n",
        "  # 2) with stemming\n",
        "  counts = collections.Counter()\n",
        "  counts.update(nltk.ngrams(list_words_des_stemmed, n))\n",
        "  unique_n_grams_des_stemmed = list(counts.keys() )\n",
        "\n",
        "  ### Computation of n-grams shares\n",
        "\n",
        "  # checking relative amount of n-grmas  in title als in description\n",
        "  rel_n_grams = sum(x in unique_n_grams_des for x in unique_n_grams_title) / len(unique_n_grams_title)\n",
        "\n",
        "  # checking relative amount of n-grmas  in title als in description - after stemming\n",
        "  rel_n_grams_stemm = sum(x in unique_n_grams_des_stemmed for x in unique_n_grams_title_stemmed) / len(unique_n_grams_title_stemmed)\n",
        "\n",
        "  return (rel_n_grams, rel_n_grams_stemm)"
      ],
      "metadata": {
        "id": "tkXZtj2I5X55"
      },
      "execution_count": null,
      "outputs": []
    },
    {
      "cell_type": "code",
      "source": [
        "## looping thorugh DF two retrieve n_gram shares\n",
        "\n",
        "list_two_gram, list_two_gram_stemmed = np.zeros(airbnb_london_filtered_3.shape[0]), np.ones(airbnb_london_filtered_3.shape[0])\n",
        "list_three_gram, list_three_gram_stemmed = np.zeros(airbnb_london_filtered_3.shape[0]), np.ones(airbnb_london_filtered_3.shape[0])\n",
        "\n",
        "\n",
        "for i in range(airbnb_london_filtered_3.shape[0]):\n",
        "\n",
        "  ## words in title\n",
        "  list_words_title =  remove_non_alpha_lower(airbnb_london_filtered_3.name[i])\n",
        "\n",
        "  # also after stemming\n",
        "  list_words_title_stemmed = [ps.stem(a) for a in list_words_title]\n",
        "\n",
        "\n",
        "  ## words in Description\n",
        "  list_words_des = remove_non_alpha_lower(airbnb_london_filtered_3.description[i])\n",
        "\n",
        "  # also after stemming\n",
        "  list_words_des_stemmed = [ps.stem(a) for a in list_words_des]\n",
        "\n",
        "\n",
        "  ## for n = 2\n",
        "  output_two = retrieve_unique_n_grams(2, list_words_title, list_words_title_stemmed, list_words_des, list_words_des_stemmed)\n",
        "  two_gram, two_gram_stemmed = output_two[0], output_two[1]\n",
        "\n",
        "\n",
        "  ## for n = 3\n",
        "  ## for n = 2\n",
        "  output_three = retrieve_unique_n_grams(3, list_words_title, list_words_title_stemmed, list_words_des, list_words_des_stemmed)\n",
        "  three_gram, three_gram_stemmed = output_three[0], output_three[1]\n",
        "\n",
        "  ## filing in lists\n",
        "  list_two_gram[i]  = two_gram\n",
        "  list_two_gram_stemmed[i]  = two_gram_stemmed\n",
        "\n",
        "  list_three_gram[i]  = three_gram\n",
        "  list_three_gram_stemmed[i]  = three_gram_stemmed\n",
        "\n"
      ],
      "metadata": {
        "id": "yyorO93v_X-p"
      },
      "execution_count": null,
      "outputs": []
    },
    {
      "cell_type": "code",
      "source": [
        "### Share of n-grams in title to also be found in description\n",
        "\n",
        "# n = 2\n",
        "print(f'{np.round(np.mean(list_two_gram), 2)} is the mean share of n-grmans for n=2 in the title to also be present in the description.')\n",
        "print(f'{np.round(np.mean(list_two_gram_stemmed), 2)} is the mean share of stemmed n-grams for n=2 in the title to also be present in the (stemmed) description.')\n",
        "\n",
        "print(\"----------------------------------------------------------------------------------\")\n",
        "\n",
        "# n = 3\n",
        "print(f'{np.round(np.mean(list_three_gram), 2)} is the mean share of n-grmans for n=3 in the title to also be present in the description.')\n",
        "print(f'{np.round(np.mean(list_three_gram_stemmed), 2)} is the mean share of stemmed n-grams for n=3 in the title to also be present in the (stemmed) description.')\n",
        "\n"
      ],
      "metadata": {
        "colab": {
          "base_uri": "https://localhost:8080/"
        },
        "outputId": "8f0253cd-f67d-4bc7-de11-8b9a115f2a4c",
        "id": "S4e-7-isJvv9"
      },
      "execution_count": null,
      "outputs": [
        {
          "output_type": "stream",
          "name": "stdout",
          "text": [
            "0.21 is the mean share of n-grmans for n=2 in the title to also be present in the description.\n",
            "0.21 is the mean share of stemmed n-grams for n=2 in the title to also be present in the (stemmed) description.\n",
            "----------------------------------------------------------------------------------\n",
            "0.08 is the mean share of n-grmans for n=3 in the title to also be present in the description.\n",
            "0.08 is the mean share of stemmed n-grams for n=3 in the title to also be present in the (stemmed) description.\n"
          ]
        }
      ]
    },
    {
      "cell_type": "code",
      "source": [
        "\n",
        "plt.hist(list_two_gram, bins = 15, color = \"black\")\n",
        "plt.xlabel(\"Share of n-grams (n=2) in title which are also in the description\")\n",
        "plt.ylabel(\"Absolute Frequency\")\n",
        "plt.savefig(\"N_gram_frequency_n_2.png\")\n",
        "plt.savefig(\"/content/gdrive/My Drive/Thesis/Plots/N_gram_frequency_n_2.png\")\n",
        "plt.show()\n",
        "\n",
        "\n",
        "plt.hist(list_two_gram_stemmed, bins = 15, color = \"black\")\n",
        "plt.xlabel(\"Share of n-grams (n=2) after stemming in title also in  the description\")\n",
        "plt.ylabel(\"Absolute Frequency\")\n",
        "plt.savefig(\"N_gram_frequency_n_2_stem.png\")\n",
        "plt.savefig(\"/content/gdrive/My Drive/Thesis/Plots/N_gram_frequency_n_2_stem.png\")\n",
        "plt.show()\n"
      ],
      "metadata": {
        "colab": {
          "base_uri": "https://localhost:8080/",
          "height": 881
        },
        "outputId": "dfd7c8a1-2020-4083-861f-bffb2bfb932b",
        "id": "VXNyjc5KJvwI"
      },
      "execution_count": null,
      "outputs": [
        {
          "output_type": "display_data",
          "data": {
            "text/plain": [
              "<Figure size 640x480 with 1 Axes>"
            ],
            "image/png": "[encoded data removed]"
          },
          "metadata": {}
        },
        {
          "output_type": "display_data",
          "data": {
            "text/plain": [
              "<Figure size 640x480 with 1 Axes>"
            ],
            "image/png": "[encoded data removed]"
          },
          "metadata": {}
        }
      ]
    },
    {
      "cell_type": "code",
      "source": [
        "plt.hist(list_three_gram, bins = 15, color = \"black\")\n",
        "plt.xlabel(\"Share of n-grams (n=3) in title which are also in the description\")\n",
        "plt.ylabel(\"Absolute Frequency\")\n",
        "plt.savefig(\"N_gram_frequency_n_3.png\")\n",
        "plt.savefig(\"/content/gdrive/My Drive/Thesis/Plots/N_gram_frequency_n_2.png\")\n",
        "plt.show()\n",
        "\n",
        "\n",
        "plt.hist(list_three_gram_stemmed, bins = 15, color = \"black\")\n",
        "plt.xlabel(\"Share of n-grams (n=3) after stemming in title also in  the description\")\n",
        "plt.ylabel(\"Absolute Frequency\")\n",
        "plt.savefig(\"N_gram_frequency_n_3_stem.png\")\n",
        "plt.savefig(\"/content/gdrive/My Drive/Thesis/Plots/N_gram_frequency_n_3_stem.png\")\n",
        "plt.show()\n"
      ],
      "metadata": {
        "colab": {
          "base_uri": "https://localhost:8080/",
          "height": 881
        },
        "id": "hIRyN1ZFHj_0",
        "outputId": "9c876b1e-b595-4874-fae2-817652cf0570"
      },
      "execution_count": null,
      "outputs": [
        {
          "output_type": "display_data",
          "data": {
            "text/plain": [
              "<Figure size 640x480 with 1 Axes>"
            ],
            "image/png": "[encoded data removed]"
          },
          "metadata": {}
        },
        {
          "output_type": "display_data",
          "data": {
            "text/plain": [
              "<Figure size 640x480 with 1 Axes>"
            ],
            "image/png": "[encoded data removed]"
          },
          "metadata": {}
        }
      ]
    }
  ]
}