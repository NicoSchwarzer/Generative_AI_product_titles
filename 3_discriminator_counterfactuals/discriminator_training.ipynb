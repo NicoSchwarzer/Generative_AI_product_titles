{
  "nbformat": 4,
  "nbformat_minor": 0,
  "metadata": {
    "colab": {
      "provenance": [],
      "machine_shape": "hm",
      "gpuType": "V100"
    },
    "kernelspec": {
      "name": "python3",
      "display_name": "Python 3"
    },
    "language_info": {
      "name": "python"
    },
    "accelerator": "GPU"
  },
  "cells": [
    {
      "cell_type": "markdown",
      "source": [
        "This File sets up the large Multi-Modal discriminator model which is compromised of a visual model (ViT), Transformer-based embeddings for the textual data and fully connected layers.\n",
        "\n",
        "\n",
        "\n",
        "Note that the execution of this notebook requires a lot of RAM and GPU RAM."
      ],
      "metadata": {
        "id": "F9WXjbyyLT72"
      }
    },
    {
      "cell_type": "markdown",
      "source": [
        "Using pandas > 2.0.0 is imcompatible!"
      ],
      "metadata": {
        "id": "ALOuJdrPrkXw"
      }
    },
    {
      "cell_type": "code",
      "source": [
        "!pip install transformers\n",
        "!pip install miceforest\n",
        "!pip install sentence_transformers\n",
        "!pip install accelerate\n",
        "#!pip install pinecone-client\n",
        "#!pip install -qU pinecone-client pandas\n",
        "#!pip install pandas==2.0.0"
      ],
      "metadata": {
        "colab": {
          "base_uri": "https://localhost:8080/"
        },
        "id": "fZzzBVB9LS9Z",
        "outputId": "a465d797-20b8-437f-9c06-ed795a5b2e5a"
      },
      "execution_count": null,
      "outputs": [
        {
          "output_type": "stream",
          "name": "stdout",
          "text": [
            "Looking in indexes: https://pypi.org/simple, https://us-python.pkg.dev/colab-wheels/public/simple/\n",
            "Collecting transformers\n",
            "  Downloading transformers-4.30.1-py3-none-any.whl (7.2 MB)\n",
            "\u001b[2K     \u001b[90m━━━━━━━━━━━━━━━━━━━━━━━━━━━━━━━━━━━━━━━━\u001b[0m \u001b[32m7.2/7.2 MB\u001b[0m \u001b[31m80.3 MB/s\u001b[0m eta \u001b[36m0:00:00\u001b[0m\n",
            "\u001b[?25hRequirement already satisfied: filelock in /usr/local/lib/python3.10/dist-packages (from transformers) (3.12.0)\n",
            "Collecting huggingface-hub<1.0,>=0.14.1 (from transformers)\n",
            "  Downloading huggingface_hub-0.15.1-py3-none-any.whl (236 kB)\n",
            "\u001b[2K     \u001b[90m━━━━━━━━━━━━━━━━━━━━━━━━━━━━━━━━━━━━━━\u001b[0m \u001b[32m236.8/236.8 kB\u001b[0m \u001b[31m27.1 MB/s\u001b[0m eta \u001b[36m0:00:00\u001b[0m\n",
            "\u001b[?25hRequirement already satisfied: numpy>=1.17 in /usr/local/lib/python3.10/dist-packages (from transformers) (1.22.4)\n",
            "Requirement already satisfied: packaging>=20.0 in /usr/local/lib/python3.10/dist-packages (from transformers) (23.1)\n",
            "Requirement already satisfied: pyyaml>=5.1 in /usr/local/lib/python3.10/dist-packages (from transformers) (6.0)\n",
            "Requirement already satisfied: regex!=2019.12.17 in /usr/local/lib/python3.10/dist-packages (from transformers) (2022.10.31)\n",
            "Requirement already satisfied: requests in /usr/local/lib/python3.10/dist-packages (from transformers) (2.27.1)\n",
            "Collecting tokenizers!=0.11.3,<0.14,>=0.11.1 (from transformers)\n",
            "  Downloading tokenizers-0.13.3-cp310-cp310-manylinux_2_17_x86_64.manylinux2014_x86_64.whl (7.8 MB)\n",
            "\u001b[2K     \u001b[90m━━━━━━━━━━━━━━━━━━━━━━━━━━━━━━━━━━━━━━━━\u001b[0m \u001b[32m7.8/7.8 MB\u001b[0m \u001b[31m103.3 MB/s\u001b[0m eta \u001b[36m0:00:00\u001b[0m\n",
            "\u001b[?25hCollecting safetensors>=0.3.1 (from transformers)\n",
            "  Downloading safetensors-0.3.1-cp310-cp310-manylinux_2_17_x86_64.manylinux2014_x86_64.whl (1.3 MB)\n",
            "\u001b[2K     \u001b[90m━━━━━━━━━━━━━━━━━━━━━━━━━━━━━━━━━━━━━━━━\u001b[0m \u001b[32m1.3/1.3 MB\u001b[0m \u001b[31m71.7 MB/s\u001b[0m eta \u001b[36m0:00:00\u001b[0m\n",
            "\u001b[?25hRequirement already satisfied: tqdm>=4.27 in /usr/local/lib/python3.10/dist-packages (from transformers) (4.65.0)\n",
            "Requirement already satisfied: fsspec in /usr/local/lib/python3.10/dist-packages (from huggingface-hub<1.0,>=0.14.1->transformers) (2023.4.0)\n",
            "Requirement already satisfied: typing-extensions>=3.7.4.3 in /usr/local/lib/python3.10/dist-packages (from huggingface-hub<1.0,>=0.14.1->transformers) (4.5.0)\n",
            "Requirement already satisfied: urllib3<1.27,>=1.21.1 in /usr/local/lib/python3.10/dist-packages (from requests->transformers) (1.26.15)\n",
            "Requirement already satisfied: certifi>=2017.4.17 in /usr/local/lib/python3.10/dist-packages (from requests->transformers) (2022.12.7)\n",
            "Requirement already satisfied: charset-normalizer~=2.0.0 in /usr/local/lib/python3.10/dist-packages (from requests->transformers) (2.0.12)\n",
            "Requirement already satisfied: idna<4,>=2.5 in /usr/local/lib/python3.10/dist-packages (from requests->transformers) (3.4)\n",
            "Installing collected packages: tokenizers, safetensors, huggingface-hub, transformers\n",
            "Successfully installed huggingface-hub-0.15.1 safetensors-0.3.1 tokenizers-0.13.3 transformers-4.30.1\n",
            "Looking in indexes: https://pypi.org/simple, https://us-python.pkg.dev/colab-wheels/public/simple/\n",
            "Collecting miceforest\n",
            "  Downloading miceforest-5.6.3-py3-none-any.whl (57 kB)\n",
            "\u001b[2K     \u001b[90m━━━━━━━━━━━━━━━━━━━━━━━━━━━━━━━━━━━━━━━━\u001b[0m \u001b[32m58.0/58.0 kB\u001b[0m \u001b[31m6.1 MB/s\u001b[0m eta \u001b[36m0:00:00\u001b[0m\n",
            "\u001b[?25hRequirement already satisfied: lightgbm>=3.3.1 in /usr/local/lib/python3.10/dist-packages (from miceforest) (3.3.5)\n",
            "Requirement already satisfied: numpy in /usr/local/lib/python3.10/dist-packages (from miceforest) (1.22.4)\n",
            "Collecting blosc (from miceforest)\n",
            "  Downloading blosc-1.11.1-cp310-cp310-manylinux_2_17_x86_64.manylinux2014_x86_64.whl (2.5 MB)\n",
            "\u001b[2K     \u001b[90m━━━━━━━━━━━━━━━━━━━━━━━━━━━━━━━━━━━━━━━━\u001b[0m \u001b[32m2.5/2.5 MB\u001b[0m \u001b[31m40.3 MB/s\u001b[0m eta \u001b[36m0:00:00\u001b[0m\n",
            "\u001b[?25hCollecting dill (from miceforest)\n",
            "  Downloading dill-0.3.6-py3-none-any.whl (110 kB)\n",
            "\u001b[2K     \u001b[90m━━━━━━━━━━━━━━━━━━━━━━━━━━━━━━━━━━━━━━\u001b[0m \u001b[32m110.5/110.5 kB\u001b[0m \u001b[31m11.9 MB/s\u001b[0m eta \u001b[36m0:00:00\u001b[0m\n",
            "\u001b[?25hRequirement already satisfied: wheel in /usr/local/lib/python3.10/dist-packages (from lightgbm>=3.3.1->miceforest) (0.40.0)\n",
            "Requirement already satisfied: scipy in /usr/local/lib/python3.10/dist-packages (from lightgbm>=3.3.1->miceforest) (1.10.1)\n",
            "Requirement already satisfied: scikit-learn!=0.22.0 in /usr/local/lib/python3.10/dist-packages (from lightgbm>=3.3.1->miceforest) (1.2.2)\n",
            "Requirement already satisfied: joblib>=1.1.1 in /usr/local/lib/python3.10/dist-packages (from scikit-learn!=0.22.0->lightgbm>=3.3.1->miceforest) (1.2.0)\n",
            "Requirement already satisfied: threadpoolctl>=2.0.0 in /usr/local/lib/python3.10/dist-packages (from scikit-learn!=0.22.0->lightgbm>=3.3.1->miceforest) (3.1.0)\n",
            "Installing collected packages: dill, blosc, miceforest\n",
            "Successfully installed blosc-1.11.1 dill-0.3.6 miceforest-5.6.3\n",
            "Looking in indexes: https://pypi.org/simple, https://us-python.pkg.dev/colab-wheels/public/simple/\n",
            "Collecting sentence_transformers\n",
            "  Downloading sentence-transformers-2.2.2.tar.gz (85 kB)\n",
            "\u001b[2K     \u001b[90m━━━━━━━━━━━━━━━━━━━━━━━━━━━━━━━━━━━━━━━━\u001b[0m \u001b[32m86.0/86.0 kB\u001b[0m \u001b[31m5.0 MB/s\u001b[0m eta \u001b[36m0:00:00\u001b[0m\n",
            "\u001b[?25h  Preparing metadata (setup.py) ... \u001b[?25l\u001b[?25hdone\n",
            "Requirement already satisfied: transformers<5.0.0,>=4.6.0 in /usr/local/lib/python3.10/dist-packages (from sentence_transformers) (4.30.1)\n",
            "Requirement already satisfied: tqdm in /usr/local/lib/python3.10/dist-packages (from sentence_transformers) (4.65.0)\n",
            "Requirement already satisfied: torch>=1.6.0 in /usr/local/lib/python3.10/dist-packages (from sentence_transformers) (2.0.1+cu118)\n",
            "Requirement already satisfied: torchvision in /usr/local/lib/python3.10/dist-packages (from sentence_transformers) (0.15.2+cu118)\n",
            "Requirement already satisfied: numpy in /usr/local/lib/python3.10/dist-packages (from sentence_transformers) (1.22.4)\n",
            "Requirement already satisfied: scikit-learn in /usr/local/lib/python3.10/dist-packages (from sentence_transformers) (1.2.2)\n",
            "Requirement already satisfied: scipy in /usr/local/lib/python3.10/dist-packages (from sentence_transformers) (1.10.1)\n",
            "Requirement already satisfied: nltk in /usr/local/lib/python3.10/dist-packages (from sentence_transformers) (3.8.1)\n",
            "Collecting sentencepiece (from sentence_transformers)\n",
            "  Downloading sentencepiece-0.1.99-cp310-cp310-manylinux_2_17_x86_64.manylinux2014_x86_64.whl (1.3 MB)\n",
            "\u001b[2K     \u001b[90m━━━━━━━━━━━━━━━━━━━━━━━━━━━━━━━━━━━━━━━━\u001b[0m \u001b[32m1.3/1.3 MB\u001b[0m \u001b[31m43.9 MB/s\u001b[0m eta \u001b[36m0:00:00\u001b[0m\n",
            "\u001b[?25hRequirement already satisfied: huggingface-hub>=0.4.0 in /usr/local/lib/python3.10/dist-packages (from sentence_transformers) (0.15.1)\n",
            "Requirement already satisfied: filelock in /usr/local/lib/python3.10/dist-packages (from huggingface-hub>=0.4.0->sentence_transformers) (3.12.0)\n",
            "Requirement already satisfied: fsspec in /usr/local/lib/python3.10/dist-packages (from huggingface-hub>=0.4.0->sentence_transformers) (2023.4.0)\n",
            "Requirement already satisfied: requests in /usr/local/lib/python3.10/dist-packages (from huggingface-hub>=0.4.0->sentence_transformers) (2.27.1)\n",
            "Requirement already satisfied: pyyaml>=5.1 in /usr/local/lib/python3.10/dist-packages (from huggingface-hub>=0.4.0->sentence_transformers) (6.0)\n",
            "Requirement already satisfied: typing-extensions>=3.7.4.3 in /usr/local/lib/python3.10/dist-packages (from huggingface-hub>=0.4.0->sentence_transformers) (4.5.0)\n",
            "Requirement already satisfied: packaging>=20.9 in /usr/local/lib/python3.10/dist-packages (from huggingface-hub>=0.4.0->sentence_transformers) (23.1)\n",
            "Requirement already satisfied: sympy in /usr/local/lib/python3.10/dist-packages (from torch>=1.6.0->sentence_transformers) (1.11.1)\n",
            "Requirement already satisfied: networkx in /usr/local/lib/python3.10/dist-packages (from torch>=1.6.0->sentence_transformers) (3.1)\n",
            "Requirement already satisfied: jinja2 in /usr/local/lib/python3.10/dist-packages (from torch>=1.6.0->sentence_transformers) (3.1.2)\n",
            "Requirement already satisfied: triton==2.0.0 in /usr/local/lib/python3.10/dist-packages (from torch>=1.6.0->sentence_transformers) (2.0.0)\n",
            "Requirement already satisfied: cmake in /usr/local/lib/python3.10/dist-packages (from triton==2.0.0->torch>=1.6.0->sentence_transformers) (3.25.2)\n",
            "Requirement already satisfied: lit in /usr/local/lib/python3.10/dist-packages (from triton==2.0.0->torch>=1.6.0->sentence_transformers) (16.0.5)\n",
            "Requirement already satisfied: regex!=2019.12.17 in /usr/local/lib/python3.10/dist-packages (from transformers<5.0.0,>=4.6.0->sentence_transformers) (2022.10.31)\n",
            "Requirement already satisfied: tokenizers!=0.11.3,<0.14,>=0.11.1 in /usr/local/lib/python3.10/dist-packages (from transformers<5.0.0,>=4.6.0->sentence_transformers) (0.13.3)\n",
            "Requirement already satisfied: safetensors>=0.3.1 in /usr/local/lib/python3.10/dist-packages (from transformers<5.0.0,>=4.6.0->sentence_transformers) (0.3.1)\n",
            "Requirement already satisfied: click in /usr/local/lib/python3.10/dist-packages (from nltk->sentence_transformers) (8.1.3)\n",
            "Requirement already satisfied: joblib in /usr/local/lib/python3.10/dist-packages (from nltk->sentence_transformers) (1.2.0)\n",
            "Requirement already satisfied: threadpoolctl>=2.0.0 in /usr/local/lib/python3.10/dist-packages (from scikit-learn->sentence_transformers) (3.1.0)\n",
            "Requirement already satisfied: pillow!=8.3.*,>=5.3.0 in /usr/local/lib/python3.10/dist-packages (from torchvision->sentence_transformers) (8.4.0)\n",
            "Requirement already satisfied: MarkupSafe>=2.0 in /usr/local/lib/python3.10/dist-packages (from jinja2->torch>=1.6.0->sentence_transformers) (2.1.2)\n",
            "Requirement already satisfied: urllib3<1.27,>=1.21.1 in /usr/local/lib/python3.10/dist-packages (from requests->huggingface-hub>=0.4.0->sentence_transformers) (1.26.15)\n",
            "Requirement already satisfied: certifi>=2017.4.17 in /usr/local/lib/python3.10/dist-packages (from requests->huggingface-hub>=0.4.0->sentence_transformers) (2022.12.7)\n",
            "Requirement already satisfied: charset-normalizer~=2.0.0 in /usr/local/lib/python3.10/dist-packages (from requests->huggingface-hub>=0.4.0->sentence_transformers) (2.0.12)\n",
            "Requirement already satisfied: idna<4,>=2.5 in /usr/local/lib/python3.10/dist-packages (from requests->huggingface-hub>=0.4.0->sentence_transformers) (3.4)\n",
            "Requirement already satisfied: mpmath>=0.19 in /usr/local/lib/python3.10/dist-packages (from sympy->torch>=1.6.0->sentence_transformers) (1.3.0)\n",
            "Building wheels for collected packages: sentence_transformers\n",
            "  Building wheel for sentence_transformers (setup.py) ... \u001b[?25l\u001b[?25hdone\n",
            "  Created wheel for sentence_transformers: filename=sentence_transformers-2.2.2-py3-none-any.whl size=125926 sha256=f2aabf8b4898e44c461e204a2eff0ce50d50c41a98a8134806e5cf26ff8dfaa2\n",
            "  Stored in directory: /root/.cache/pip/wheels/62/f2/10/1e606fd5f02395388f74e7462910fe851042f97238cbbd902f\n",
            "Successfully built sentence_transformers\n",
            "Installing collected packages: sentencepiece, sentence_transformers\n",
            "Successfully installed sentence_transformers-2.2.2 sentencepiece-0.1.99\n",
            "Looking in indexes: https://pypi.org/simple, https://us-python.pkg.dev/colab-wheels/public/simple/\n",
            "Collecting accelerate\n",
            "  Downloading accelerate-0.20.3-py3-none-any.whl (227 kB)\n",
            "\u001b[2K     \u001b[90m━━━━━━━━━━━━━━━━━━━━━━━━━━━━━━━━━━━━━━━\u001b[0m \u001b[32m227.6/227.6 kB\u001b[0m \u001b[31m9.6 MB/s\u001b[0m eta \u001b[36m0:00:00\u001b[0m\n",
            "\u001b[?25hRequirement already satisfied: numpy>=1.17 in /usr/local/lib/python3.10/dist-packages (from accelerate) (1.22.4)\n",
            "Requirement already satisfied: packaging>=20.0 in /usr/local/lib/python3.10/dist-packages (from accelerate) (23.1)\n",
            "Requirement already satisfied: psutil in /usr/local/lib/python3.10/dist-packages (from accelerate) (5.9.5)\n",
            "Requirement already satisfied: pyyaml in /usr/local/lib/python3.10/dist-packages (from accelerate) (6.0)\n",
            "Requirement already satisfied: torch>=1.6.0 in /usr/local/lib/python3.10/dist-packages (from accelerate) (2.0.1+cu118)\n",
            "Requirement already satisfied: filelock in /usr/local/lib/python3.10/dist-packages (from torch>=1.6.0->accelerate) (3.12.0)\n",
            "Requirement already satisfied: typing-extensions in /usr/local/lib/python3.10/dist-packages (from torch>=1.6.0->accelerate) (4.5.0)\n",
            "Requirement already satisfied: sympy in /usr/local/lib/python3.10/dist-packages (from torch>=1.6.0->accelerate) (1.11.1)\n",
            "Requirement already satisfied: networkx in /usr/local/lib/python3.10/dist-packages (from torch>=1.6.0->accelerate) (3.1)\n",
            "Requirement already satisfied: jinja2 in /usr/local/lib/python3.10/dist-packages (from torch>=1.6.0->accelerate) (3.1.2)\n",
            "Requirement already satisfied: triton==2.0.0 in /usr/local/lib/python3.10/dist-packages (from torch>=1.6.0->accelerate) (2.0.0)\n",
            "Requirement already satisfied: cmake in /usr/local/lib/python3.10/dist-packages (from triton==2.0.0->torch>=1.6.0->accelerate) (3.25.2)\n",
            "Requirement already satisfied: lit in /usr/local/lib/python3.10/dist-packages (from triton==2.0.0->torch>=1.6.0->accelerate) (16.0.5)\n",
            "Requirement already satisfied: MarkupSafe>=2.0 in /usr/local/lib/python3.10/dist-packages (from jinja2->torch>=1.6.0->accelerate) (2.1.2)\n",
            "Requirement already satisfied: mpmath>=0.19 in /usr/local/lib/python3.10/dist-packages (from sympy->torch>=1.6.0->accelerate) (1.3.0)\n",
            "Installing collected packages: accelerate\n",
            "Successfully installed accelerate-0.20.3\n"
          ]
        }
      ]
    },
    {
      "cell_type": "code",
      "execution_count": null,
      "metadata": {
        "id": "k6nTNMeXAqqE"
      },
      "outputs": [],
      "source": [
        "import torch\n",
        "import numpy as np\n",
        "import torchvision.transforms as transforms\n",
        "from torch.utils.data.sampler import SubsetRandomSampler\n",
        "import matplotlib.pyplot as plt\n",
        "import torch.nn as nn\n",
        "import torch.nn.functional as F\n",
        "import torch.optim as optim\n",
        "import pandas as pd\n",
        "import numpy as np\n",
        "from PIL import Image\n",
        "from torch.utils.data import Dataset, DataLoader\n",
        "from sklearn.metrics import classification_report\n",
        "import json\n",
        "import cv2\n",
        "from tqdm.auto import tqdm\n",
        "from accelerate import Accelerator\n",
        "from sklearn.preprocessing import StandardScaler\n",
        "from sklearn.pipeline import Pipeline\n",
        "from sklearn.model_selection import train_test_split, GridSearchCV\n",
        "from sklearn.linear_model import Lasso\n",
        "from transformers import AutoTokenizer, AutoModel"
      ]
    },
    {
      "cell_type": "code",
      "source": [
        "# connecting to drive\n",
        "from google.colab import drive\n",
        "drive.mount('/content/gdrive', force_remount=True)\n"
      ],
      "metadata": {
        "id": "wOELE9frLprs",
        "colab": {
          "base_uri": "https://localhost:8080/"
        },
        "outputId": "125ec78e-441a-41fa-8ebb-62aa8f7c4dda"
      },
      "execution_count": null,
      "outputs": [
        {
          "output_type": "stream",
          "name": "stdout",
          "text": [
            "Mounted at /content/gdrive\n"
          ]
        }
      ]
    },
    {
      "cell_type": "code",
      "source": [
        "## reading in tabuar data\n",
        "\n",
        "import pandas as pd\n",
        "airbnb_london_filtered_images = pd.read_csv(\"/content/gdrive/My Drive/Thesis/London_Data/discriminator_tabular_data_images.csv\")"
      ],
      "metadata": {
        "id": "hFR71WyUhrPg"
      },
      "execution_count": null,
      "outputs": []
    },
    {
      "cell_type": "code",
      "source": [
        "## Functions ## - only needs to be called when when re-coding the the set up of the final data frame (airbnb_london_filtered_images_imp_var) used in the traiing which can also be read in from drive\n",
        "\n",
        "\n",
        "re_code_airbnb_london_filtered_images_imp_var = False\n",
        "\n",
        "if re_code_airbnb_london_filtered_images_imp_var == True:\n",
        "\n",
        "  import miceforest as mf\n",
        "\n",
        "  def cat_to_numeric(col: pd.Series) -> pd.Series:\n",
        "    \"\"\" Self-explanatory\"\"\"\n",
        "\n",
        "    col = pd.Categorical(col)\n",
        "    col = col.codes\n",
        "    return col\n",
        "\n",
        "  def apply_gbm_impute(df: pd.DataFrame, iterations: int) -> pd.DataFrame:\n",
        "    \"\"\" Function to automatically apply imputating based on LightGB  \"\"\"\n",
        "\n",
        "    kds = mf.ImputationKernel(\n",
        "    df,\n",
        "    save_all_iterations=True,\n",
        "    random_state=100)\n",
        "\n",
        "    kds.mice(iterations)\n",
        "    df_imputed = kds.complete_data()\n",
        "\n",
        "    return df_imputed\n",
        "\n",
        "\n"
      ],
      "metadata": {
        "id": "pumdC3quJ8xo"
      },
      "execution_count": null,
      "outputs": []
    },
    {
      "cell_type": "code",
      "source": [
        "class Simple_Dataset(Dataset):\n",
        "\n",
        "    ''' This class transforms the input data to a useable dataset, which can be passed\n",
        "    to PyTorch's dataloader class in a very generic fashion. The collate function needs to\n",
        "    actually define the variables here!'''\n",
        "\n",
        "    def __init__(self, df):\n",
        "        # also defining default value #\n",
        "\n",
        "        # data as Pytorch tensors via the collate batches function\n",
        "        self.data = np.array(df)\n",
        "\n",
        "    def __getitem__(self, idx):\n",
        "        return (self.data[idx])\n",
        "\n",
        "    def __len__(self):\n",
        "        return(self.data.shape[0])\n"
      ],
      "metadata": {
        "id": "8NloQ3pykMUV"
      },
      "execution_count": null,
      "outputs": []
    },
    {
      "cell_type": "markdown",
      "source": [
        "## Preparing the Visual Sub-Model\n",
        "\n",
        "The images shall be embedded through a pre-trained Visual Transformer Model (fine-tuned on hotel images) and thus need to be passed through the corresponding Extractor Function (e.g. for image resizing and normalization).\n",
        "\n",
        "The final embeddings (ie the last hidden state) shall be saved in an external vector database in the formal of a json file that can be read back in (professional external vector dabaase providers are too expensive!)\n",
        "\n"
      ],
      "metadata": {
        "id": "QeZTONnXLBSR"
      }
    },
    {
      "cell_type": "markdown",
      "source": [
        "Set create_external_vector_database_images to true if that db must be created, else to false!"
      ],
      "metadata": {
        "id": "LZE5IyEV3Y-i"
      }
    },
    {
      "cell_type": "code",
      "source": [
        "create_external_vector_database_images = False"
      ],
      "metadata": {
        "id": "aLl_wLZd3gIZ"
      },
      "execution_count": null,
      "outputs": []
    },
    {
      "cell_type": "code",
      "source": [
        "if create_external_vector_database_images == True:\n",
        "\n",
        "  from transformers import AutoFeatureExtractor, AutoModelForImageClassification, TFViTModel\n",
        "\n",
        "  extractor = AutoFeatureExtractor.from_pretrained(\"faisalabidi/hotel-image-classifier\")\n",
        "  visual_model = AutoModelForImageClassification.from_pretrained(\"faisalabidi/hotel-image-classifier\")\n",
        "\n",
        "  ## Importantly, only using tthe last hidden state, not the final layer used for classification.\n",
        "  model_vit = visual_model.vit\n",
        "\n",
        "  device = \"cuda\"\n",
        "  model_vit = model_vit.to(device)\n",
        "\n",
        "  dict_images = {}\n",
        "\n",
        "  # loopf for upserting into database\n",
        "  for idx in range(airbnb_london_filtered_images.shape[0]):\n",
        "\n",
        "    #print(idx/airbnb_london_filtered_images.shape[0])\n",
        "\n",
        "    id = airbnb_london_filtered_images.id[idx]\n",
        "    img_current = cv2.imread(f\"/content/gdrive/My Drive/Thesis/Image_data/img_{id}.jpg\")\n",
        "\n",
        "    # aplply extractor function\n",
        "    extracted = torch.tensor(extractor(img_current)['pixel_values'])\n",
        "\n",
        "    # apply model\n",
        "    output = model_vit(extracted.to(device))\n",
        "\n",
        "    # get last hidden state and mean across dim 1\n",
        "    last_hd_1 = output.last_hidden_state  ##.shape\n",
        "    last_hd = torch.mean(last_hd_1, dim = 1)\n",
        "    last_hd_list = list(last_hd)[0].tolist()\n",
        "\n",
        "    dict_images[int(id)] = last_hd_list\n",
        "\n",
        "    if idx % 200 == 0:\n",
        "      x = json.dumps(dict_images)\n",
        "      with open(\"/content/gdrive/My Drive/Thesis/Image_data/json_images.json\", 'w') as f:\n",
        "        f.write(x)\n",
        "\n",
        "  x = json.dumps(dict_images)\n",
        "  with open(\"/content/gdrive/My Drive/Thesis/Image_data/json_images.json\", 'w') as f:\n",
        "    f.write(x)"
      ],
      "metadata": {
        "id": "ZCOwppKD3h2i"
      },
      "execution_count": null,
      "outputs": []
    },
    {
      "cell_type": "markdown",
      "source": [
        "The last layer is only used for classification purposes and shall thus not be used here."
      ],
      "metadata": {
        "id": "hxR76MqaQmlg"
      }
    },
    {
      "cell_type": "markdown",
      "source": [
        "## Preparing the Textual Sub-Model\n",
        "\n",
        "After experimentation with different models, including task-related pretrained models, I have decided to go with an SBERT model for the encoding of both the Name and the description. This model is finetuned to fit the specific vocabulary in a different notebook and can be read in. Also, I found that having a joint description of both the actual description and the space description works best. This also works because the joint description does not exceed the maximum number of input tokens."
      ],
      "metadata": {
        "id": "A7PJeesOS85t"
      }
    },
    {
      "cell_type": "code",
      "source": [
        "from sentence_transformers import InputExample\n",
        "from torch.utils.data import DataLoader\n",
        "from sentence_transformers import losses\n",
        "from datasets import load_dataset\n",
        "from sentence_transformers import SentenceTransformer, models\n"
      ],
      "metadata": {
        "id": "GzR9l5xPOF27"
      },
      "execution_count": null,
      "outputs": []
    },
    {
      "cell_type": "markdown",
      "source": [
        "Set create_external_vector_database_texts to true to create the external vector databases for the name and the description again."
      ],
      "metadata": {
        "id": "7XFUXekJ4WKz"
      }
    },
    {
      "cell_type": "code",
      "source": [
        "create_external_vector_database_texts = False\n"
      ],
      "metadata": {
        "id": "TIXNzNgj4VK-"
      },
      "execution_count": null,
      "outputs": []
    },
    {
      "cell_type": "code",
      "source": [
        "if create_external_vector_database_texts == True:\n",
        "\n",
        "\n",
        "  ## reading in fine-tnuned SBERT model\n",
        "  model_save_name = 'sbert_tuned.pth'\n",
        "  path =\"/content/gdrive/My Drive/Thesis/Models/{}\".format(model_save_name)\n",
        "\n",
        "  model_sbert = torch.load(path)\n",
        "\n",
        "  ## no setting up database\n",
        "  airbnb_london_filtered_images.neighborhood_overview = airbnb_london_filtered_images.neighborhood_overview.fillna(\"No description\")\n",
        "  airbnb_london_filtered_images[\"joint_description\"] = airbnb_london_filtered_images.description + \" . \" + airbnb_london_filtered_images.neighborhood_overview\n",
        "\n",
        "  dict_names = {}\n",
        "  dict_des = {}\n",
        "\n",
        "  device = \"cuda\"\n",
        "  model_sbert = model_sbert.to(device)\n",
        "\n",
        "  ## loop for upserting into both vector databases\n",
        "\n",
        "  for idx in range(airbnb_london_filtered_images.shape[0]):\n",
        "\n",
        "    #print(idx/airbnb_london_filtered_images.shape[0])\n",
        "\n",
        "    id = airbnb_london_filtered_images.id[idx]\n",
        "\n",
        "    des_1 = model_sbert.encode(airbnb_london_filtered_images.joint_description[idx])\n",
        "    des = des_1.tolist()\n",
        "\n",
        "    name_1 = model_sbert.encode(airbnb_london_filtered_images.name[idx])\n",
        "    name = name_1.tolist()\n",
        "\n",
        "    dict_names[int(id)] = name\n",
        "    dict_des[int(id)] = des\n",
        "\n",
        "    if idx % 200 == 0:\n",
        "      x = json.dumps(dict_des)\n",
        "      with open(\"/content/gdrive/My Drive/Thesis/London_Data/json_des.json\", 'w') as f:\n",
        "        f.write(x)\n",
        "\n",
        "      y = json.dumps(dict_names)\n",
        "      with open(\"/content/gdrive/My Drive/Thesis/London_Data/json_name.json\", 'w') as f:\n",
        "        f.write(y)\n",
        "\n",
        "  if idx % 200 == 0:\n",
        "    x = json.dumps(dict_des)\n",
        "    with open(\"/content/gdrive/My Drive/Thesis/London_Data/json_des.json\", 'w') as f:\n",
        "      f.write(x)\n",
        "\n",
        "    y = json.dumps(dict_names)\n",
        "    with open(\"/content/gdrive/My Drive/Thesis/London_Data/json_name.json\", 'w') as f:\n",
        "      f.write(y)\n",
        "\n",
        "else:\n",
        "  pass\n"
      ],
      "metadata": {
        "id": "Iw1Vu1hF4fQo"
      },
      "execution_count": null,
      "outputs": []
    },
    {
      "cell_type": "markdown",
      "source": [
        "## Model-based decision on which features to use\n",
        "\n",
        "I shall let a model decide on the most important tabluar features to include the the multi-modal model. More specifically, XGBoost (Extreme Gradient Boosting) was utilized. These are then used in the MM Model alongside the main image, the name and the joint description.\n",
        "\n",
        "Important: All these steps need not be executed twice as the DF airbnb_london_filtered_images_imp_var can just be loaded in (see below)."
      ],
      "metadata": {
        "id": "LrUvTVl2aSXs"
      }
    },
    {
      "cell_type": "code",
      "source": [
        "## listing all potential logical tabular confounders\n",
        "\n",
        "#print(airbnb_london_filtered_images.columns[:60])\n",
        "#print(airbnb_london_filtered_images.columns[60:])\n",
        "\n",
        "\n",
        "## list of these - including other variabls that will be needed later on like id, name, outcome variables ...\n",
        "pot_confounders = ['id', 'name', 'description', 'neighborhood_overview',\n",
        "       'host_response_time', 'host_response_rate', 'host_acceptance_rate',\n",
        "       'host_is_superhost', 'host_listings_count', 'host_identity_verified',\n",
        "       'neighbourhood_cleansed', 'neighbourhood_group_cleansed', 'room_type', 'accommodates', 'bathrooms',\n",
        "       'bedrooms', 'beds', 'price', 'minimum_nights', 'maximum_nights', 'number_of_reviews',\n",
        "       'number_of_reviews_ltm','review_scores_rating', 'review_scores_accuracy',\n",
        "       'review_scores_cleanliness', 'review_scores_checkin',\n",
        "       'review_scores_communication', 'review_scores_location',\n",
        "       'review_scores_value', 'reviews_per_month', 'in_inner_boundary', 'price_per_accomodate',\n",
        "       'has_amenity_Wifi', 'has_amenity_Essentials', 'has_amenity_Kitchen',\n",
        "       'has_amenity_Heating', 'has_amenity_Smoke alarm', 'has_amenity_Washer',\n",
        "       'has_amenity_Hangers', 'has_amenity_Long term stays allowed',\n",
        "       'has_amenity_Iron', 'has_amenity_Hair dryer', 'has_amenity_Shampoo',\n",
        "       'has_amenity_Hot water', 'has_amenity_Carbon monoxide alarm',\n",
        "       'has_amenity_Dishes and silverware', 'has_amenity_Refrigerator',\n",
        "       'has_amenity_TV', 'has_amenity_Cooking basics',\n",
        "       'has_amenity_Bed linens', 'has_amenity_Oven', 'has_amenity_Microwave',\n",
        "       'has_amenity_Dryer', 'has_amenity_Stove', 'has_amenity_First aid kit',\n",
        "       'has_amenity_Fire extinguisher', 'has_amenity_Coffee maker',\n",
        "       'has_amenity_Dishwasher', 'has_amenity_Private entrance',\n",
        "       'has_amenity_Extra pillows and blankets', 'has_amenity_Elevator',\n",
        "       'has_amenity_Host greets you', 'has_amenity_Free parking on premises',\n",
        "       'len_amenities', 'len_description', 'proxy', 'review_diff']"
      ],
      "metadata": {
        "id": "WRvG4hJIa3lg"
      },
      "execution_count": null,
      "outputs": []
    },
    {
      "cell_type": "code",
      "source": [
        "airbnb_london_filtered_images_pot_conf = airbnb_london_filtered_images[pot_confounders]\n"
      ],
      "metadata": {
        "id": "cHGZQNLwcghC"
      },
      "execution_count": null,
      "outputs": []
    },
    {
      "cell_type": "markdown",
      "source": [
        "Checking for NaNs to know which columns are unusable andd fir which dropping these are imputing might make sense"
      ],
      "metadata": {
        "id": "0jOb9jBlcoqp"
      }
    },
    {
      "cell_type": "code",
      "source": [
        "print(airbnb_london_filtered_images_pot_conf.isna().sum()[0:30])\n",
        "print(airbnb_london_filtered_images_pot_conf.isna().sum()[30:])\n"
      ],
      "metadata": {
        "colab": {
          "base_uri": "https://localhost:8080/"
        },
        "id": "j2pORlhJcnDV",
        "outputId": "6a321bfd-f6e9-4eca-d738-da39937de0e8"
      },
      "execution_count": null,
      "outputs": [
        {
          "output_type": "stream",
          "name": "stdout",
          "text": [
            "id                                  0\n",
            "name                                0\n",
            "description                         0\n",
            "neighborhood_overview            6828\n",
            "host_response_time              12233\n",
            "host_response_rate              12233\n",
            "host_acceptance_rate            10998\n",
            "host_is_superhost                   0\n",
            "host_listings_count                 0\n",
            "host_identity_verified              0\n",
            "neighbourhood_cleansed              0\n",
            "neighbourhood_group_cleansed    22570\n",
            "room_type                           0\n",
            "accommodates                        0\n",
            "bathrooms                       22570\n",
            "bedrooms                          976\n",
            "beds                              267\n",
            "price                               0\n",
            "minimum_nights                      0\n",
            "maximum_nights                      0\n",
            "number_of_reviews                   0\n",
            "number_of_reviews_ltm               0\n",
            "review_scores_rating               67\n",
            "review_scores_accuracy            657\n",
            "review_scores_cleanliness         650\n",
            "review_scores_checkin             683\n",
            "review_scores_communication       663\n",
            "review_scores_location            682\n",
            "review_scores_value               685\n",
            "reviews_per_month                  67\n",
            "dtype: int64\n",
            "in_inner_boundary                         0\n",
            "price_per_accomodate                      0\n",
            "has_amenity_Wifi                          0\n",
            "has_amenity_Essentials                    0\n",
            "has_amenity_Kitchen                       0\n",
            "has_amenity_Heating                       0\n",
            "has_amenity_Smoke alarm                   0\n",
            "has_amenity_Washer                        0\n",
            "has_amenity_Hangers                       0\n",
            "has_amenity_Long term stays allowed       0\n",
            "has_amenity_Iron                          0\n",
            "has_amenity_Hair dryer                    0\n",
            "has_amenity_Shampoo                       0\n",
            "has_amenity_Hot water                     0\n",
            "has_amenity_Carbon monoxide alarm         0\n",
            "has_amenity_Dishes and silverware         0\n",
            "has_amenity_Refrigerator                  0\n",
            "has_amenity_TV                            0\n",
            "has_amenity_Cooking basics                0\n",
            "has_amenity_Bed linens                    0\n",
            "has_amenity_Oven                          0\n",
            "has_amenity_Microwave                     0\n",
            "has_amenity_Dryer                         0\n",
            "has_amenity_Stove                         0\n",
            "has_amenity_First aid kit                 0\n",
            "has_amenity_Fire extinguisher             0\n",
            "has_amenity_Coffee maker                  0\n",
            "has_amenity_Dishwasher                    0\n",
            "has_amenity_Private entrance              0\n",
            "has_amenity_Extra pillows and blankets    0\n",
            "has_amenity_Elevator                      0\n",
            "has_amenity_Host greets you               0\n",
            "has_amenity_Free parking on premises      0\n",
            "len_amenities                             0\n",
            "len_description                           0\n",
            "proxy                                     0\n",
            "review_diff                               0\n",
            "dtype: int64\n"
          ]
        }
      ]
    },
    {
      "cell_type": "markdown",
      "source": [
        "I shall drop thoe variables with an extremely high number of NaNs as these are too many to impute and that would introduce too much noise. Also, I shall drop the variavbes concering the reviews like review_scores_accuracy etc as these are hard to impute from other vriables (unlike e.g. beds for which variables like the number of accomodates or the number of bedrooms are good indicators)."
      ],
      "metadata": {
        "id": "OSkpyoRjeSkl"
      }
    },
    {
      "cell_type": "code",
      "source": [
        "to_drop = [\"host_response_time\",\"host_response_rate\",\"host_acceptance_rate\",\n",
        "  \"neighbourhood_group_cleansed\", \"bathrooms\", \"review_scores_accuracy\",\n",
        "  \"review_scores_cleanliness\", \"review_scores_checkin\", \"review_scores_communication\",\n",
        "  \"review_scores_location\",\"review_scores_value\"]\n",
        "\n",
        "\n",
        "airbnb_london_filtered_images_pot_conf = airbnb_london_filtered_images_pot_conf.drop(to_drop, axis = 1)"
      ],
      "metadata": {
        "id": "h69qM3_OdXvW"
      },
      "execution_count": null,
      "outputs": []
    },
    {
      "cell_type": "code",
      "source": [
        "## imputing for beds and bedrooms\n",
        "\n",
        "airbnb_london_filtered_images_pot_conf.room_type = cat_to_numeric(airbnb_london_filtered_images_pot_conf.room_type).astype(\"int\")\n",
        "df_imputed = apply_gbm_impute(airbnb_london_filtered_images_pot_conf[['room_type', 'accommodates', 'bedrooms', 'beds']], 5)\n",
        "\n",
        "airbnb_london_filtered_images_pot_conf[\"bedrooms\"] = df_imputed[\"bedrooms\"]\n",
        "airbnb_london_filtered_images_pot_conf[\"beds\"] = df_imputed[\"beds\"]\n"
      ],
      "metadata": {
        "id": "9ZaMNv4adqtn"
      },
      "execution_count": null,
      "outputs": []
    },
    {
      "cell_type": "markdown",
      "source": [
        "Variables reviews_per_month and review_scores_rating might both be important aand hard to imput. Lets see if the NaNs in both variables (same number!) corrrelate"
      ],
      "metadata": {
        "id": "WfGTcV7Kf6Q8"
      }
    },
    {
      "cell_type": "code",
      "source": [
        "## correlation of reviews_per_month and review_scores_rating\n",
        "\n",
        "airbnb_london_filtered_images_pot_conf.reviews_per_month[airbnb_london_filtered_images_pot_conf.review_scores_rating.isna() == True].isna().sum()\n",
        "\n",
        "# So perfect correlation in the NaNs -> dropping these datapoints\n"
      ],
      "metadata": {
        "colab": {
          "base_uri": "https://localhost:8080/"
        },
        "id": "xUgfkn1mdyD_",
        "outputId": "44ee60ba-f157-4501-bbeb-c48a6abc5094"
      },
      "execution_count": null,
      "outputs": [
        {
          "output_type": "execute_result",
          "data": {
            "text/plain": [
              "67"
            ]
          },
          "metadata": {},
          "execution_count": 18
        }
      ]
    },
    {
      "cell_type": "code",
      "source": [
        "airbnb_london_filtered_images_pot_conf = airbnb_london_filtered_images_pot_conf[airbnb_london_filtered_images_pot_conf.review_scores_rating.isna() == False]"
      ],
      "metadata": {
        "id": "nhhyDGamgnOD"
      },
      "execution_count": null,
      "outputs": []
    },
    {
      "cell_type": "markdown",
      "source": [
        "Examining the data types and which categorical variables need to be mapped to continuous"
      ],
      "metadata": {
        "id": "62KJwjPhguZE"
      }
    },
    {
      "cell_type": "code",
      "source": [
        "airbnb_london_filtered_images_pot_conf.dtypes"
      ],
      "metadata": {
        "colab": {
          "base_uri": "https://localhost:8080/"
        },
        "id": "pq-i5A1Vg0o3",
        "outputId": "6ee6f276-b0f1-4a13-8928-a143b53194b4"
      },
      "execution_count": null,
      "outputs": [
        {
          "output_type": "execute_result",
          "data": {
            "text/plain": [
              "id                                          int64\n",
              "name                                       object\n",
              "description                                object\n",
              "neighborhood_overview                      object\n",
              "host_is_superhost                          object\n",
              "host_listings_count                       float64\n",
              "host_identity_verified                     object\n",
              "neighbourhood_cleansed                     object\n",
              "room_type                                   int64\n",
              "accommodates                              float64\n",
              "bedrooms                                  float64\n",
              "beds                                      float64\n",
              "price                                     float64\n",
              "minimum_nights                            float64\n",
              "maximum_nights                            float64\n",
              "number_of_reviews                         float64\n",
              "number_of_reviews_ltm                     float64\n",
              "review_scores_rating                      float64\n",
              "reviews_per_month                         float64\n",
              "in_inner_boundary                           int64\n",
              "price_per_accomodate                      float64\n",
              "has_amenity_Wifi                            int64\n",
              "has_amenity_Essentials                      int64\n",
              "has_amenity_Kitchen                         int64\n",
              "has_amenity_Heating                         int64\n",
              "has_amenity_Smoke alarm                     int64\n",
              "has_amenity_Washer                          int64\n",
              "has_amenity_Hangers                         int64\n",
              "has_amenity_Long term stays allowed         int64\n",
              "has_amenity_Iron                            int64\n",
              "has_amenity_Hair dryer                      int64\n",
              "has_amenity_Shampoo                         int64\n",
              "has_amenity_Hot water                       int64\n",
              "has_amenity_Carbon monoxide alarm           int64\n",
              "has_amenity_Dishes and silverware           int64\n",
              "has_amenity_Refrigerator                    int64\n",
              "has_amenity_TV                              int64\n",
              "has_amenity_Cooking basics                  int64\n",
              "has_amenity_Bed linens                      int64\n",
              "has_amenity_Oven                            int64\n",
              "has_amenity_Microwave                       int64\n",
              "has_amenity_Dryer                           int64\n",
              "has_amenity_Stove                           int64\n",
              "has_amenity_First aid kit                   int64\n",
              "has_amenity_Fire extinguisher               int64\n",
              "has_amenity_Coffee maker                    int64\n",
              "has_amenity_Dishwasher                      int64\n",
              "has_amenity_Private entrance                int64\n",
              "has_amenity_Extra pillows and blankets      int64\n",
              "has_amenity_Elevator                        int64\n",
              "has_amenity_Host greets you                 int64\n",
              "has_amenity_Free parking on premises        int64\n",
              "len_amenities                               int64\n",
              "len_description                             int64\n",
              "proxy                                       int64\n",
              "review_diff                               float64\n",
              "joint_description                          object\n",
              "dtype: object"
            ]
          },
          "metadata": {},
          "execution_count": 20
        }
      ]
    },
    {
      "cell_type": "code",
      "source": [
        "airbnb_london_filtered_images_pot_conf.host_is_superhost = cat_to_numeric(airbnb_london_filtered_images_pot_conf.host_is_superhost).astype(\"int\")\n",
        "airbnb_london_filtered_images_pot_conf.host_identity_verified = cat_to_numeric(airbnb_london_filtered_images_pot_conf.host_identity_verified).astype(\"int\")"
      ],
      "metadata": {
        "id": "47xjMQtVhrq0"
      },
      "execution_count": null,
      "outputs": []
    },
    {
      "cell_type": "code",
      "source": [
        "dummies_neighborhood = pd.get_dummies(airbnb_london_filtered_images_pot_conf.neighbourhood_cleansed)\n"
      ],
      "metadata": {
        "id": "UybDI9_pigQy"
      },
      "execution_count": null,
      "outputs": []
    },
    {
      "cell_type": "markdown",
      "source": [
        "Applying XGBoost to determine features with predictive quality:\n",
        "\n",
        "General idea: The greater the increase/decrease in the desired metric (here MSE) based on a split by the feature under consdieration (weighted by the number of datapoints being split) the more important that feature is deemed. This procedure is then averaged across all single trees.\n",
        "\n",
        "Qute:  The Elements of Statistical Learning: Data Mining, Inference, and Prediction, page 367."
      ],
      "metadata": {
        "id": "Twr_rhzoqEhz"
      }
    },
    {
      "cell_type": "code",
      "source": [
        "# dropping object oof neighborhoods\n",
        "airbnb_london_filtered_images_pot_conf = airbnb_london_filtered_images_pot_conf.drop(\"neighbourhood_cleansed\", axis = 1 )\n",
        "\n",
        "# concatiinating\n",
        "airbnb_london_filtered_images_pot_conf = pd.concat([airbnb_london_filtered_images_pot_conf, dummies_neighborhood], axis = 1)"
      ],
      "metadata": {
        "id": "NOlTLhcwjDsS"
      },
      "execution_count": null,
      "outputs": []
    },
    {
      "cell_type": "markdown",
      "source": [
        "Using XGB for feature selection"
      ],
      "metadata": {
        "id": "P0DwBwkWtN_H"
      }
    },
    {
      "cell_type": "code",
      "source": [
        "# use feature importance for feature selection\n",
        "from numpy import loadtxt\n",
        "from numpy import sort\n",
        "import xgboost as xgb\n",
        "from xgboost import XGBRegressor, DMatrix\n",
        "from sklearn.model_selection import train_test_split\n",
        "from sklearn.metrics import accuracy_score\n",
        "from sklearn.feature_selection import SelectFromModel\n",
        "from xgboost import plot_importance\n",
        "from matplotlib import pyplot as plt\n"
      ],
      "metadata": {
        "id": "HQbed9LQtgYn"
      },
      "execution_count": null,
      "outputs": []
    },
    {
      "cell_type": "code",
      "source": [
        "## dropping non-tabukar data and outcomes\n",
        "X_xgb = airbnb_london_filtered_images_pot_conf.drop(['id', 'name', 'description', 'neighborhood_overview', 'joint_description','proxy', 'review_diff'], axis = 1)\n",
        "Y_xgb = airbnb_london_filtered_images_pot_conf[\"review_diff\"]\n"
      ],
      "metadata": {
        "id": "nNb0yAontSB-"
      },
      "execution_count": null,
      "outputs": []
    },
    {
      "cell_type": "code",
      "source": [
        "model_xgb = XGBRegressor()\n",
        "model_xgb.fit(X_xgb, Y_xgb)"
      ],
      "metadata": {
        "id": "upv7IhT-vjhq"
      },
      "execution_count": null,
      "outputs": []
    },
    {
      "cell_type": "code",
      "source": [
        "\n",
        "df_imps = pd.DataFrame({\"importances\": model_xgb.feature_importances_, \"features\": X_xgb.columns}).sort_values(by=['importances'], ascending=False)\n",
        "df_imps.to_csv(\"/content/gdrive/My Drive/Thesis/London_Data/df_feature_importances.csv\", index = False)\n",
        "\n",
        "print(df_imps.iloc[0:42])\n",
        "print(df_imps.iloc[42:])\n"
      ],
      "metadata": {
        "colab": {
          "base_uri": "https://localhost:8080/"
        },
        "id": "sYWIrT3T0Q4y",
        "outputId": "c96bf970-9300-4a3f-d509-1cd5f3f7bb5e"
      },
      "execution_count": null,
      "outputs": [
        {
          "output_type": "stream",
          "name": "stdout",
          "text": [
            "    importances                              features\n",
            "11     0.242895                 number_of_reviews_ltm\n",
            "3      0.040522                             room_type\n",
            "13     0.038217                     reviews_per_month\n",
            "24     0.025089                      has_amenity_Iron\n",
            "78     0.018101                         Tower Hamlets\n",
            "7      0.017029                                 price\n",
            "8      0.015745                        minimum_nights\n",
            "32     0.015585            has_amenity_Cooking basics\n",
            "58     0.015396                               Enfield\n",
            "68     0.015054                Kensington and Chelsea\n",
            "67     0.014382                             Islington\n",
            "80     0.013437                            Wandsworth\n",
            "76     0.013260                             Southwark\n",
            "44     0.013167                  has_amenity_Elevator\n",
            "10     0.013015                     number_of_reviews\n",
            "18     0.012951                   has_amenity_Kitchen\n",
            "25     0.012628                has_amenity_Hair dryer\n",
            "70     0.012228                               Lambeth\n",
            "5      0.012015                              bedrooms\n",
            "30     0.011850              has_amenity_Refrigerator\n",
            "73     0.011728                                Newham\n",
            "19     0.011622                   has_amenity_Heating\n",
            "27     0.011592                 has_amenity_Hot water\n",
            "48     0.011225                       len_description\n",
            "65     0.011161                            Hillingdon\n",
            "71     0.010937                              Lewisham\n",
            "52     0.010826                                 Brent\n",
            "47     0.010307                         len_amenities\n",
            "60     0.010158                               Hackney\n",
            "53     0.009749                               Bromley\n",
            "51     0.009674                                Bexley\n",
            "37     0.009544                     has_amenity_Stove\n",
            "15     0.009515                  price_per_accomodate\n",
            "20     0.009474               has_amenity_Smoke alarm\n",
            "31     0.009372                        has_amenity_TV\n",
            "49     0.009250                  Barking and Dagenham\n",
            "57     0.009147                                Ealing\n",
            "12     0.009049                  review_scores_rating\n",
            "6      0.009037                                  beds\n",
            "46     0.008927  has_amenity_Free parking on premises\n",
            "16     0.008833                      has_amenity_Wifi\n",
            "26     0.008628                   has_amenity_Shampoo\n",
            "    importances                                features\n",
            "45     0.008344             has_amenity_Host greets you\n",
            "81     0.008219                             Westminster\n",
            "75     0.008123                    Richmond upon Thames\n",
            "54     0.007667                                  Camden\n",
            "35     0.007637                   has_amenity_Microwave\n",
            "61     0.007576                  Hammersmith and Fulham\n",
            "56     0.007470                                 Croydon\n",
            "39     0.007161           has_amenity_Fire extinguisher\n",
            "22     0.007138                     has_amenity_Hangers\n",
            "38     0.007031               has_amenity_First aid kit\n",
            "79     0.006946                          Waltham Forest\n",
            "43     0.006743  has_amenity_Extra pillows and blankets\n",
            "34     0.006684                        has_amenity_Oven\n",
            "9      0.006510                          maximum_nights\n",
            "14     0.006436                       in_inner_boundary\n",
            "42     0.006306            has_amenity_Private entrance\n",
            "40     0.006292                has_amenity_Coffee maker\n",
            "21     0.006210                      has_amenity_Washer\n",
            "17     0.006028                  has_amenity_Essentials\n",
            "36     0.006004                       has_amenity_Dryer\n",
            "33     0.005654                  has_amenity_Bed linens\n",
            "4      0.005508                            accommodates\n",
            "1      0.005423                     host_listings_count\n",
            "69     0.005206                    Kingston upon Thames\n",
            "62     0.005044                                Haringey\n",
            "41     0.004451                  has_amenity_Dishwasher\n",
            "72     0.004442                                  Merton\n",
            "29     0.004336       has_amenity_Dishes and silverware\n",
            "66     0.004330                                Hounslow\n",
            "77     0.003724                                  Sutton\n",
            "28     0.003723       has_amenity_Carbon monoxide alarm\n",
            "59     0.003304                               Greenwich\n",
            "0      0.003234                       host_is_superhost\n",
            "55     0.002624                          City of London\n",
            "2      0.002283                  host_identity_verified\n",
            "50     0.002223                                  Barnet\n",
            "63     0.001189                                  Harrow\n",
            "64     0.000453                                Havering\n",
            "74     0.000000                               Redbridge\n",
            "23     0.000000     has_amenity_Long term stays allowed\n"
          ]
        }
      ]
    },
    {
      "cell_type": "markdown",
      "source": [
        "Keeping all but rather irrelvant featuress based on importances (see below). A treshold was decided on by experimentation and by logical reasoning given the variables correspodning to the tresholds."
      ],
      "metadata": {
        "id": "QMQUtZ3K5Lpj"
      }
    },
    {
      "cell_type": "code",
      "source": [
        "## keeping all but 'irrelevant' features\n",
        "\n",
        "imp_features = df_imps.features[df_imps.importances >= 0.004451]"
      ],
      "metadata": {
        "id": "Gh93jehx49KK"
      },
      "execution_count": null,
      "outputs": []
    },
    {
      "cell_type": "code",
      "source": [
        "airbnb_london_filtered_images_pot_conf_X = airbnb_london_filtered_images_pot_conf[imp_features]\n",
        "\n",
        "## adding further variables needed for the model\n",
        "\n",
        "airbnb_london_filtered_images_imp_var = pd.concat([airbnb_london_filtered_images_pot_conf_X, airbnb_london_filtered_images_pot_conf[[\"id\", \"name\", \"joint_description\", \"proxy\", \"review_diff\"]] ], axis = 1)"
      ],
      "metadata": {
        "id": "AFcvyNnXtVA_"
      },
      "execution_count": null,
      "outputs": []
    },
    {
      "cell_type": "code",
      "source": [
        "## saving this DF as it can also be used in the evaluation of the counterfactuals\n",
        "\n",
        "airbnb_london_filtered_images_imp_var.to_csv(\"/content/gdrive/My Drive/Thesis/London_Data/airbnb_london_filtered_images_counterfactual_prep.csv\", index = False)"
      ],
      "metadata": {
        "id": "_kxnSMKcsNaR"
      },
      "execution_count": null,
      "outputs": []
    },
    {
      "cell_type": "markdown",
      "source": [
        "**IMPORTNANT - If you want to re-run just the training, continue from here :)**"
      ],
      "metadata": {
        "id": "erY3t7Lg2Ag6"
      }
    },
    {
      "cell_type": "code",
      "source": [
        "airbnb_london_filtered_images_imp_var = pd.read_csv(\"/content/gdrive/My Drive/Thesis/London_Data/airbnb_london_filtered_images_counterfactual_prep.csv\")\n"
      ],
      "metadata": {
        "id": "YcDhA7q6kLoE"
      },
      "execution_count": null,
      "outputs": []
    },
    {
      "cell_type": "markdown",
      "source": [
        "I shall only train the discriminator model on those datapoints which are important for the evluation, hence excluding the top third concerning the review differences. This is done as some values in the latter are extremely high, which leads to the duscriminator model not learning a very accurate mapping for the borrom two thirds concerning review difference.\n",
        "\n"
      ],
      "metadata": {
        "id": "ffcLAN6ZI1mS"
      }
    },
    {
      "cell_type": "code",
      "source": [
        "airbnb_london_filtered_images_imp_var.review_diff.mean()"
      ],
      "metadata": {
        "colab": {
          "base_uri": "https://localhost:8080/"
        },
        "outputId": "8ae039a7-9944-4c85-a9a7-b20a43592747",
        "id": "X8BWZngqJSg9"
      },
      "execution_count": null,
      "outputs": [
        {
          "output_type": "execute_result",
          "data": {
            "text/plain": [
              "4.515709016575568"
            ]
          },
          "metadata": {},
          "execution_count": 115
        }
      ]
    },
    {
      "cell_type": "code",
      "source": [
        "airbnb_london_filtered_images_imp_var[airbnb_london_filtered_images_imp_var.proxy !=3].review_diff.mean()"
      ],
      "metadata": {
        "colab": {
          "base_uri": "https://localhost:8080/"
        },
        "outputId": "920b21dd-a1f7-4c0b-db52-1ba61d4bf4ee",
        "id": "0bKj113ZJSg-"
      },
      "execution_count": null,
      "outputs": [
        {
          "output_type": "execute_result",
          "data": {
            "text/plain": [
              "1.9148936170212767"
            ]
          },
          "metadata": {},
          "execution_count": 137
        }
      ]
    },
    {
      "cell_type": "code",
      "source": [
        "airbnb_london_filtered_images_imp_var[airbnb_london_filtered_images_imp_var.proxy==3].review_diff.mean()"
      ],
      "metadata": {
        "colab": {
          "base_uri": "https://localhost:8080/"
        },
        "outputId": "c1967770-2784-4785-bf8c-b88b3232a29a",
        "id": "ad3cUWT2JSg-"
      },
      "execution_count": null,
      "outputs": [
        {
          "output_type": "execute_result",
          "data": {
            "text/plain": [
              "16.926240888580352"
            ]
          },
          "metadata": {},
          "execution_count": 118
        }
      ]
    },
    {
      "cell_type": "code",
      "source": [
        "airbnb_london_filtered_images_imp_var = airbnb_london_filtered_images_imp_var[airbnb_london_filtered_images_imp_var.proxy != 3]"
      ],
      "metadata": {
        "id": "Svo98wilImIp"
      },
      "execution_count": null,
      "outputs": []
    },
    {
      "cell_type": "markdown",
      "source": [
        "#### Now setting up the DaltaLoaders and the models"
      ],
      "metadata": {
        "id": "vctf198zp14V"
      }
    },
    {
      "cell_type": "code",
      "source": [
        "airbnb_london_filtered_images_train = airbnb_london_filtered_images.sample(n = int( np.ceil(0.98*airbnb_london_filtered_images_imp_var.shape[0])), random_state = 100)\n",
        "airbnb_london_filtered_images_eval = airbnb_london_filtered_images_imp_var.drop(airbnb_london_filtered_images_train.index, axis = 0)\n"
      ],
      "metadata": {
        "id": "-r2oHGlTpxR7"
      },
      "execution_count": null,
      "outputs": []
    },
    {
      "cell_type": "code",
      "source": [
        "data_train = Simple_Dataset(airbnb_london_filtered_images_train)\n",
        "data_eval = Simple_Dataset(airbnb_london_filtered_images_eval)\n"
      ],
      "metadata": {
        "id": "xm68Cx1jqguT"
      },
      "execution_count": null,
      "outputs": []
    },
    {
      "cell_type": "code",
      "source": [
        "# still change!!\n",
        "\n",
        "for i,j in enumerate(airbnb_london_filtered_images_eval.columns):\n",
        "  print(f\"At position {str(i)} : variable {str(j)}\")\n"
      ],
      "metadata": {
        "id": "JjDdQ2JJwKoF",
        "colab": {
          "base_uri": "https://localhost:8080/"
        },
        "outputId": "eebd09e1-3bd6-413c-ebc7-b774233f9dbe"
      },
      "execution_count": null,
      "outputs": [
        {
          "output_type": "stream",
          "name": "stdout",
          "text": [
            "At position 0 : variable number_of_reviews_ltm\n",
            "At position 1 : variable room_type\n",
            "At position 2 : variable reviews_per_month\n",
            "At position 3 : variable has_amenity_Iron\n",
            "At position 4 : variable Tower Hamlets\n",
            "At position 5 : variable price\n",
            "At position 6 : variable minimum_nights\n",
            "At position 7 : variable has_amenity_Cooking basics\n",
            "At position 8 : variable Enfield\n",
            "At position 9 : variable Kensington and Chelsea\n",
            "At position 10 : variable Islington\n",
            "At position 11 : variable Wandsworth\n",
            "At position 12 : variable Southwark\n",
            "At position 13 : variable has_amenity_Elevator\n",
            "At position 14 : variable number_of_reviews\n",
            "At position 15 : variable has_amenity_Kitchen\n",
            "At position 16 : variable has_amenity_Hair dryer\n",
            "At position 17 : variable Lambeth\n",
            "At position 18 : variable bedrooms\n",
            "At position 19 : variable has_amenity_Refrigerator\n",
            "At position 20 : variable Newham\n",
            "At position 21 : variable has_amenity_Heating\n",
            "At position 22 : variable has_amenity_Hot water\n",
            "At position 23 : variable len_description\n",
            "At position 24 : variable Hillingdon\n",
            "At position 25 : variable Lewisham\n",
            "At position 26 : variable Brent\n",
            "At position 27 : variable len_amenities\n",
            "At position 28 : variable Hackney\n",
            "At position 29 : variable Bromley\n",
            "At position 30 : variable Bexley\n",
            "At position 31 : variable has_amenity_Stove\n",
            "At position 32 : variable price_per_accomodate\n",
            "At position 33 : variable has_amenity_Smoke alarm\n",
            "At position 34 : variable has_amenity_TV\n",
            "At position 35 : variable Barking and Dagenham\n",
            "At position 36 : variable Ealing\n",
            "At position 37 : variable review_scores_rating\n",
            "At position 38 : variable beds\n",
            "At position 39 : variable has_amenity_Free parking on premises\n",
            "At position 40 : variable has_amenity_Wifi\n",
            "At position 41 : variable has_amenity_Shampoo\n",
            "At position 42 : variable has_amenity_Host greets you\n",
            "At position 43 : variable Westminster\n",
            "At position 44 : variable Richmond upon Thames\n",
            "At position 45 : variable Camden\n",
            "At position 46 : variable has_amenity_Microwave\n",
            "At position 47 : variable Hammersmith and Fulham\n",
            "At position 48 : variable Croydon\n",
            "At position 49 : variable has_amenity_Fire extinguisher\n",
            "At position 50 : variable has_amenity_Hangers\n",
            "At position 51 : variable has_amenity_First aid kit\n",
            "At position 52 : variable Waltham Forest\n",
            "At position 53 : variable has_amenity_Extra pillows and blankets\n",
            "At position 54 : variable has_amenity_Oven\n",
            "At position 55 : variable maximum_nights\n",
            "At position 56 : variable in_inner_boundary\n",
            "At position 57 : variable has_amenity_Private entrance\n",
            "At position 58 : variable has_amenity_Coffee maker\n",
            "At position 59 : variable has_amenity_Washer\n",
            "At position 60 : variable has_amenity_Essentials\n",
            "At position 61 : variable has_amenity_Dryer\n",
            "At position 62 : variable id\n",
            "At position 63 : variable name\n",
            "At position 64 : variable joint_description\n",
            "At position 65 : variable proxy\n",
            "At position 66 : variable review_diff\n"
          ]
        }
      ]
    },
    {
      "cell_type": "code",
      "source": [
        "# may take some time - and needs to be called 2 times sometimes as first run fails for some reason!\n",
        "\n",
        "with open(\"/content/gdrive/My Drive/Thesis/London_Data/json_names.json\") as json_data:\n",
        "    dict_names = json.load(json_data)\n",
        "\n",
        "with open(\"/content/gdrive/My Drive/Thesis/London_Data/json_des.json\") as json_data:\n",
        "    dict_des = json.load(json_data)\n",
        "\n",
        "\n",
        "with open(\"/content/gdrive/My Drive/Thesis/Image_data/json_images.json\") as json_data:\n",
        "    dict_images = json.load(json_data)\n",
        "\n"
      ],
      "metadata": {
        "id": "8QFW7eEgFQt5"
      },
      "execution_count": null,
      "outputs": []
    },
    {
      "cell_type": "code",
      "source": [
        "def collate_batch_extended(batch):\n",
        "\n",
        "  list_images = []   # for the images passed through extractor function\n",
        "  tabular_list = []\n",
        "  list_proxies = []\n",
        "  list_review_diff = []\n",
        "  list_name = []\n",
        "  list_joint_description = []\n",
        "  list_ids = []\n",
        "\n",
        "  for data in batch:\n",
        "\n",
        "    # indexing the image pixels form the dict\n",
        "    list_images.append(dict_images[str(data[62])])\n",
        "\n",
        "    list_ids.append(data[62]) # for saving the predictions\n",
        "\n",
        "    tabular_list.append(data[:62]) ## locations of tabular data\n",
        "    if int(data[65]) == 1:  ## location of categorical proxy variable\n",
        "      list_proxies.append([1,0,0])\n",
        "    elif int(data[65]) == 2:\n",
        "      list_proxies.append([0,1,0])\n",
        "    elif int(data[65]) == 3:\n",
        "      list_proxies.append([0,0,1])\n",
        "\n",
        "    list_review_diff.append(data[66])  ## location of cont. review diff variable\n",
        "\n",
        "    list_joint_description.append(dict_des[str(data[62])])\n",
        "    list_name.append(dict_names[str(data[62])])\n",
        "\n",
        "\n",
        "  list_images  = torch.tensor(list_images, dtype=torch.float32)\n",
        "  list_joint_description = torch.tensor(list_joint_description, dtype=torch.float32)\n",
        "  list_name = torch.tensor(list_name, dtype=torch.float32)\n",
        "  tabular_list = torch.tensor(tabular_list, dtype=torch.float32)\n",
        "  list_proxies = torch.tensor(list_proxies, dtype=torch.float32)\n",
        "\n",
        "  return list_images, list_name, list_joint_description, tabular_list, list_proxies, list_review_diff, list_ids\n",
        "\n",
        "\n",
        "# images, names, des, tabular data, proxies, review_diff, ids\n"
      ],
      "metadata": {
        "id": "WzTIvPYv3sfv"
      },
      "execution_count": null,
      "outputs": []
    },
    {
      "cell_type": "code",
      "source": [
        "dl_train = DataLoader(dataset=data_train, collate_fn=collate_batch_extended, batch_size=64, shuffle=True)\n",
        "dl_eval = DataLoader(dataset=data_eval, collate_fn=collate_batch_extended, batch_size=64, shuffle=False)\n"
      ],
      "metadata": {
        "id": "psdtuiWxqgua"
      },
      "execution_count": null,
      "outputs": []
    },
    {
      "cell_type": "markdown",
      "source": [
        "Calling the model again with a slightlxy different set up which proved to work well."
      ],
      "metadata": {
        "id": "J2_cPpF65d56"
      }
    },
    {
      "cell_type": "code",
      "source": [
        "\n",
        "import torch\n",
        "from torch import nn\n",
        "from torch import optim\n",
        "\n",
        "tab_input_dim = 62\n",
        "final_output_dim_text_name = 2\n",
        "final_output_dim_text_des = 2\n",
        "final_output_dim_visual = 2\n",
        "\n",
        "hidden_dim_1 = 60\n",
        "hidden_dim_2 = 60\n",
        "hidden_dim_3 = 50\n",
        "hidden_dim_4 = 20\n",
        "\n",
        "output_dim = 1\n",
        "\n",
        "\n",
        "## name, des / text model\n",
        "\n",
        "\n",
        "class NeuralNetwork2(nn.Module): ## without extractor\n",
        "    def __init__(self, tab_input_dim, final_output_dim_visual , final_output_dim_text_name, final_output_dim_text_des, hidden_dim_1, hidden_dim_2, hidden_dim_3, hidden_dim_4, output_dim):\n",
        "        super(NeuralNetwork2, self).__init__()\n",
        "\n",
        "\n",
        "        # layers build on top of visual model before concatination\n",
        "        self.visual_add_layer_1 = nn.Linear(768, 100)\n",
        "        self.visual_add_layer_2 = nn.Linear(100, 100)\n",
        "        self.visual_add_layer_3 = nn.Linear(100, 50)\n",
        "        self.visual_add_layer_4 = nn.Linear(50, final_output_dim_visual)\n",
        "\n",
        "        # Layers added after Name/Title\n",
        "        self.name_added_layer_1 = nn.Linear(768, 100)\n",
        "        self.name_added_layer_2 = nn.Linear(100, 100)\n",
        "        ### dropout ##\n",
        "        self.name_added_layer_3 = nn.Linear(100, 50)\n",
        "        self.name_added_layer_4 = nn.Linear(50, final_output_dim_text_name)\n",
        "\n",
        "        # Layers added after Description\n",
        "        self.des_added_layer_1 = nn.Linear(768, 100)\n",
        "        self.des_added_layer_2 = nn.Linear(100, 100)\n",
        "        ### dropout ##\n",
        "        self.des_added_layer_3 = nn.Linear(100, 50)\n",
        "        self.des_added_layer_4 = nn.Linear(50, final_output_dim_text_des)\n",
        "\n",
        "\n",
        "        ### Layers added after Joint Description ###\n",
        "\n",
        "        # dimension after concat operation\n",
        "        self.concat_dim = tab_input_dim + final_output_dim_visual + final_output_dim_text_name + final_output_dim_text_des\n",
        "\n",
        "        # layers processing input after concatination\n",
        "        self.layer_1 = nn.Linear(self.concat_dim, hidden_dim_1)\n",
        "        self.layer_2 = nn.Linear(hidden_dim_1, hidden_dim_2)\n",
        "        self.layer_3 = nn.Linear(hidden_dim_2, hidden_dim_3)\n",
        "        self.layer_4 = nn.Linear(hidden_dim_3, hidden_dim_4)\n",
        "        self.layer_5 = nn.Linear(hidden_dim_4, output_dim)\n",
        "\n",
        "        # Regu features\n",
        "        self.dropout = nn.Dropout(0.03)\n",
        "        self.batch_norm_1 = nn.BatchNorm1d(hidden_dim_2) # 1-dim batch norm with covariance-shift params activated\n",
        "        self.batch_norm_2 = nn.BatchNorm1d(hidden_dim_3)\n",
        "\n",
        "\n",
        "\n",
        "    def forward(self, img_encoded, name_encoded, des_encoded, X):  ## name, des\n",
        "\n",
        "        ## firstly processing outputs of visual and textual model ##\n",
        "\n",
        "        # visual model\n",
        "        output_img = torch.nn.functional.tanh(self.visual_add_layer_1(img_encoded))\n",
        "        output_img = self.dropout(output_img)\n",
        "        output_img = torch.nn.functional.tanh(self.visual_add_layer_2(output_img))\n",
        "        output_img = torch.nn.functional.tanh(self.visual_add_layer_3(output_img))\n",
        "        final_output_img = torch.nn.functional.tanh(self.visual_add_layer_4(output_img))\n",
        "\n",
        "        # textual - description\n",
        "        encoded_des = torch.tensor(des_encoded)\n",
        "        encoded_des = torch.nn.functional.tanh(self.des_added_layer_1(encoded_des))\n",
        "        encoded_des = self.dropout(encoded_des)\n",
        "        encoded_des = torch.nn.functional.tanh(self.des_added_layer_2(encoded_des))\n",
        "        encoded_des = self.dropout(encoded_des)\n",
        "        encoded_des = torch.nn.functional.tanh(self.des_added_layer_3(encoded_des))\n",
        "        final_encoded_des = torch.nn.functional.tanh(self.des_added_layer_4(encoded_des))\n",
        "\n",
        "        # textual - Name\n",
        "        encoded_name = torch.tensor(name_encoded)\n",
        "        encoded_name = torch.nn.functional.tanh(self.name_added_layer_1(encoded_name))\n",
        "        encoded_name = self.dropout(encoded_name)\n",
        "        encoded_name = torch.nn.functional.tanh(self.name_added_layer_2(encoded_name))\n",
        "        encoded_name = torch.nn.functional.tanh(self.name_added_layer_3(encoded_name))\n",
        "        final_encoded_name = torch.nn.functional.relu(self.name_added_layer_4(encoded_name))\n",
        "\n",
        "        # concatination #\n",
        "        x = torch.cat((final_output_img, final_encoded_name, final_encoded_des, X), 1)\n",
        "\n",
        "        ## processing of joint representation ##    --- CONV/FC -> BatchNorm -> ReLu(or other activation) -> Dropout\n",
        "        x = torch.nn.functional.tanh(self.layer_1(x))\n",
        "        x = self.layer_2(x)\n",
        "        x = self.batch_norm_1(x)\n",
        "        x = torch.nn.functional.tanh(self.dropout(x))\n",
        "        x = self.layer_3(x)\n",
        "        x = self.batch_norm_2(x)\n",
        "        x = torch.nn.functional.tanh(self.dropout(x))\n",
        "        x = torch.nn.functional.tanh(self.layer_4(x))\n",
        "        x = self.layer_5(x)\n",
        "\n",
        "        return x"
      ],
      "metadata": {
        "id": "gSmcRCQM44qd"
      },
      "execution_count": null,
      "outputs": []
    },
    {
      "cell_type": "code",
      "source": [
        "output_dim = 1 ## here\n",
        "\n",
        "model = NeuralNetwork2( tab_input_dim, final_output_dim_visual, final_output_dim_text_name, final_output_dim_text_des, hidden_dim_1, hidden_dim_2, hidden_dim_3, hidden_dim_4, output_dim)\n",
        "\n",
        "learning_rate = 0.0035 ## found to be working well here\n",
        "loss_fn = nn.MSELoss() ## BCE IN case of proxy\n",
        "optimizer = torch.optim.Adam(model.parameters(), lr=learning_rate) ## adam"
      ],
      "metadata": {
        "id": "3ezZM-3X5k0d"
      },
      "execution_count": null,
      "outputs": []
    },
    {
      "cell_type": "code",
      "source": [
        "from transformers import get_scheduler\n",
        "\n",
        "accelerator = Accelerator()\n",
        "model, optimizer, dl_train, dl_eval = accelerator.prepare(\n",
        "    model, optimizer, dl_train, dl_eval\n",
        ")\n",
        "\n",
        "num_update_steps_per_epoch = len(dl_train)\n",
        "num_epochs = 180\n",
        "\n",
        "num_training_steps = num_epochs * num_update_steps_per_epoch\n",
        "\n",
        "\n",
        "lr_scheduler = get_scheduler(\n",
        "    \"linear\",\n",
        "    optimizer=optimizer,\n",
        "    num_warmup_steps=0,     ## one might also alter this!\n",
        "    num_training_steps=num_training_steps,\n",
        ")\n",
        "\n",
        "\n",
        "device = \"cuda\"\n",
        "model = model.to(device)"
      ],
      "metadata": {
        "id": "NSo1zhgF5k0g"
      },
      "execution_count": null,
      "outputs": []
    },
    {
      "cell_type": "code",
      "source": [
        "\n",
        "overall_loss_values = []\n",
        "overall_loss_values_eval = []\n",
        "\n",
        "\n",
        "progress_bar = tqdm(range(num_training_steps))\n",
        "\n",
        "for epoch in range(num_epochs):\n",
        "\n",
        "  loss_values = []\n",
        "  loss_values_eval = []\n",
        "\n",
        "  model.train()\n",
        "\n",
        "  for batch in dl_train:\n",
        "\n",
        "    img = batch[0].to(device)\n",
        "    name = torch.tensor(batch[1]).to(device)\n",
        "    joint_des = torch.tensor(batch[2]).to(device)\n",
        "    X = batch[3].to(device)\n",
        "    Y = torch.tensor(batch[5]).to(device)\n",
        "    optimizer.zero_grad()\n",
        "    pred = model(img, name, joint_des, X)\n",
        "    loss = loss_fn(pred.squeeze(), Y)\n",
        "    loss_values.append(loss.item())\n",
        "    accelerator.backward(loss)\n",
        "\n",
        "    optimizer.step()\n",
        "    lr_scheduler.step()\n",
        "    progress_bar.update(1)\n",
        "\n",
        "  #  print(f\"mean of train loss: {str(np.mean(loss_values))}\")\n",
        "\n",
        "  model.eval()\n",
        "\n",
        "  with torch.no_grad():\n",
        "    for batch in dl_eval:\n",
        "\n",
        "      img = batch[0].to(device)\n",
        "      name = torch.tensor(batch[1]).to(device)\n",
        "      joint_des = torch.tensor(batch[2]).to(device)\n",
        "      X = batch[3].to(device)\n",
        "      Y = torch.tensor(batch[5]).to(device)\n",
        "      optimizer.zero_grad()\n",
        "      pred = model(img, name, joint_des, X)\n",
        "      loss = loss_fn(pred.squeeze(), Y)\n",
        "      loss_values_eval.append(loss.item())\n",
        "\n",
        "    #  print(f\"mean of eval loss: {str(np.mean(loss_values_eval))}\")\n",
        "\n",
        "  overall_loss_values.append(np.mean(loss_values))\n",
        "  overall_loss_values_eval.append(np.mean(loss_values_eval))\n",
        "\n",
        "  print(f\"Iteration No {str(epoch + 1)}\")\n",
        "  print(f\"Train Loss: {str(np.mean(loss_values))}\")\n",
        "  print(f\"Eval Loss: {str(np.mean(loss_values_eval))}\")\n",
        "  print(\"---------------------\")\n",
        "\n"
      ],
      "metadata": {
        "id": "ml-JUw2C5k0i"
      },
      "execution_count": null,
      "outputs": []
    },
    {
      "cell_type": "code",
      "source": [
        "#saving the model\n",
        "\n",
        "model_save_name = 'discriminator_sparse_2_cont_again.pth'\n",
        "\n",
        "path =\"/content/gdrive/My Drive/Thesis/Models/{}\".format(model_save_name)\n",
        "torch.save(model, path)\n"
      ],
      "metadata": {
        "id": "UfzDHLp23b53"
      },
      "execution_count": null,
      "outputs": []
    },
    {
      "cell_type": "code",
      "source": [
        "model_save_name = 'discriminator_sparse_2_cont_again.pth'\n",
        "\n",
        "path =\"/content/gdrive/My Drive/Thesis/Models/{}\".format(model_save_name)\n",
        "model = torch.load(path)\n"
      ],
      "metadata": {
        "id": "mTqOlYi8YDLH"
      },
      "execution_count": null,
      "outputs": []
    },
    {
      "cell_type": "code",
      "source": [
        "## saving loss values\n",
        "\n",
        "name_to_save = \"losses_discriminator_cont\"\n",
        "df_losses_1 = pd.DataFrame({\"loss_eval\": overall_loss_values_eval, \"loss_train\": overall_loss_values })\n",
        "df_losses_1.to_csv(f\"/content/gdrive/My Drive/Thesis/loss_data/{name_to_save}.csv\", index = False)\n"
      ],
      "metadata": {
        "id": "rPZVZfq5-SfG"
      },
      "execution_count": null,
      "outputs": []
    },
    {
      "cell_type": "code",
      "source": [
        "# over  epochs\n",
        "## plotting loss\n",
        "import matplotlib.pyplot as plt\n",
        "name_to_save = \"losses_discriminator_cont\"\n",
        "\n",
        "epochs = list(range(1,num_epochs+1))\n",
        "\n",
        "plt.plot(epochs, overall_loss_values, color = \"darkblue\")\n",
        "plt.plot(epochs, overall_loss_values_eval, color = \"dodgerblue\", linestyle='dashed')\n",
        "plt.legend([\"Training Loss\", \"Evaluation Loss\"], loc='upper right')\n",
        "plt.xlabel(\"Training Iterations\", fontsize=13)\n",
        "plt.ylabel(\"Loss after iteration\", fontsize=13)\n",
        "plt.xticks(fontsize = 12)\n",
        "plt.yticks(fontsize = 12)\n",
        "plt.savefig(f'/content/gdrive/My Drive/Thesis/Plots/{name_to_save}.png')\n",
        "plt.show()"
      ],
      "metadata": {
        "colab": {
          "base_uri": "https://localhost:8080/",
          "height": 457
        },
        "outputId": "d430bbff-2233-4df5-8c34-f0404cad88a6",
        "id": "eKfUUpb2arcI"
      },
      "execution_count": null,
      "outputs": [
        {
          "output_type": "display_data",
          "data": {
            "text/plain": [
              "<Figure size 640x480 with 1 Axes>"
            ],
            "image/png": "[encoded data removed]"
          },
          "metadata": {}
        }
      ]
    },
    {
      "cell_type": "code",
      "source": [
        "#fom google.colab import runtime\n",
        "#runtime.unassign()\n"
      ],
      "metadata": {
        "id": "pHBQG39AZPpB"
      },
      "execution_count": null,
      "outputs": []
    },
    {
      "cell_type": "markdown",
      "source": [
        "I shall now create counterfactuals with the true names:"
      ],
      "metadata": {
        "id": "Q1x9WymLJrxS"
      }
    },
    {
      "cell_type": "code",
      "source": [
        "airbnb_london_filtered_images_imp_var = pd.read_csv(\"/content/gdrive/My Drive/Thesis/London_Data/airbnb_london_filtered_images_counterfactual_prep.csv\")\n"
      ],
      "metadata": {
        "id": "utGDIVyB7AdF"
      },
      "execution_count": null,
      "outputs": []
    },
    {
      "cell_type": "code",
      "source": [
        "### saving predictions with real names\n",
        "\n",
        "data_genrate = Simple_Dataset(airbnb_london_filtered_images_imp_var)\n",
        "dl_generate_cf = DataLoader(dataset=data_genrate, collate_fn=collate_batch_extended, batch_size=64, shuffle=True)\n"
      ],
      "metadata": {
        "id": "NvA5Thm2mP_X"
      },
      "execution_count": null,
      "outputs": []
    },
    {
      "cell_type": "code",
      "source": [
        "## also saving predictions with real names!\n",
        "device = \"cuda\"\n",
        "\n",
        "ids = []\n",
        "preds_ = []\n",
        "Ys = []\n",
        "\n",
        "with torch.no_grad():\n",
        "  for batch in dl_generate_cf:\n",
        "\n",
        "    img = batch[0].to(device)\n",
        "    name = torch.tensor(batch[1]).to(device)\n",
        "    joint_des = torch.tensor(batch[2]).to(device)\n",
        "    X = batch[3].to(device)\n",
        "    Y = torch.tensor(batch[5]).to(device)\n",
        "    pred = model(img, name, joint_des, X)\n",
        "\n",
        "    ids.extend(batch[6])\n",
        "    preds_.extend(pred.cpu().numpy() )\n",
        "\n",
        "    Ys.extend(Y.cpu().numpy() )\n",
        "\n",
        "\n",
        "preds = [a[0] for a in preds_ ]\n",
        "\n",
        "pred_disc_2_cont_real_name = pd.DataFrame({\"id\": ids, \"pred\": preds, \"Y\": Ys})\n",
        "pred_disc_2_cont_real_name.to_csv(\"/content/gdrive/My Drive/Thesis/Discriminator_Predictions/pred_disc_2_cont_real_name_all_2.csv\", index = False)\n",
        "\n"
      ],
      "metadata": {
        "colab": {
          "base_uri": "https://localhost:8080/"
        },
        "id": "sAu3_SZJtrHK",
        "outputId": "b2378c17-82a4-4ee0-fa1e-54ca472f6b9d"
      },
      "execution_count": null,
      "outputs": [
        {
          "output_type": "stream",
          "name": "stderr",
          "text": [
            "<ipython-input-18-eace1d7752bf>:12: UserWarning: To copy construct from a tensor, it is recommended to use sourceTensor.clone().detach() or sourceTensor.clone().detach().requires_grad_(True), rather than torch.tensor(sourceTensor).\n",
            "  name = torch.tensor(batch[1]).to(device)\n",
            "<ipython-input-18-eace1d7752bf>:13: UserWarning: To copy construct from a tensor, it is recommended to use sourceTensor.clone().detach() or sourceTensor.clone().detach().requires_grad_(True), rather than torch.tensor(sourceTensor).\n",
            "  joint_des = torch.tensor(batch[2]).to(device)\n",
            "<ipython-input-12-9e2e021ad7f8>:78: UserWarning: To copy construct from a tensor, it is recommended to use sourceTensor.clone().detach() or sourceTensor.clone().detach().requires_grad_(True), rather than torch.tensor(sourceTensor).\n",
            "  encoded_des = torch.tensor(des_encoded)\n",
            "<ipython-input-12-9e2e021ad7f8>:87: UserWarning: To copy construct from a tensor, it is recommended to use sourceTensor.clone().detach() or sourceTensor.clone().detach().requires_grad_(True), rather than torch.tensor(sourceTensor).\n",
            "  encoded_name = torch.tensor(name_encoded)\n"
          ]
        }
      ]
    },
    {
      "cell_type": "markdown",
      "source": [
        "### POC - Discriminator with categorical outcome\n",
        "\n",
        "Evidently, I choose a regression model instead of a classification discriminator model.\n",
        "In theory, such a model could reveal if - given a new, alternative title - the review difference count can be expected to belong to another class.\n",
        "\n",
        "However, this was chosen against as changes in names only lead to minute changes in the expected review difference. This makes perfect sense as I am analyzing the effect of changing the names from reasonably good ones to very pleasing ones. All other features remain the same.\n",
        "\n",
        "It is thus to be expected that almost no couterfactual review diference class would be different from the ground truth class assigned to a listing.\n",
        "\n",
        "Nonetheless, just as a Proof of Concept, I have trained a classification model to showcase its potential in predicting review difference classes. For this, I have included all classes as the problem with very high review counts does not exist here - these just all belong to class No. 3."
      ],
      "metadata": {
        "id": "p-2X96YytBAt"
      }
    },
    {
      "cell_type": "code",
      "source": [
        "output_dim = 3 ## here\n",
        "final_output_dim_text_name = 2\n",
        "final_output_dim_text_des = 2\n",
        "final_output_dim_visual = 2\n",
        "\n",
        "model = NeuralNetwork2( model_vit, tab_input_dim, final_output_dim_visual, final_output_dim_text_name, final_output_dim_text_des, hidden_dim_1, hidden_dim_2, hidden_dim_3, hidden_dim_4, output_dim)\n",
        "\n",
        "learning_rate = 0.003\n",
        "loss_fn = nn.CrossEntropyLoss()\n",
        "optimizer = torch.optim.Adam(model.parameters(), lr=learning_rate) ## adam"
      ],
      "metadata": {
        "id": "oA4gciQrtXne"
      },
      "execution_count": null,
      "outputs": []
    },
    {
      "cell_type": "code",
      "source": [
        "from transformers import get_scheduler\n",
        "\n",
        "accelerator = Accelerator()\n",
        "model, optimizer, dl_train, dl_eval = accelerator.prepare(\n",
        "    model, optimizer, dl_train, dl_eval\n",
        ")\n",
        "\n",
        "num_update_steps_per_epoch = len(dl_train)\n",
        "num_epochs = 60\n",
        "\n",
        "num_training_steps = num_epochs * num_update_steps_per_epoch\n",
        "\n",
        "\n",
        "lr_scheduler = get_scheduler(\n",
        "    \"linear\",\n",
        "    optimizer=optimizer,\n",
        "    num_warmup_steps=0,     ## one might also alter this!\n",
        "    num_training_steps=num_training_steps,\n",
        ")\n",
        "\n",
        "\n",
        "device = \"cuda\"\n",
        "model = model.to(device)"
      ],
      "metadata": {
        "id": "x36tAaBPtXnl"
      },
      "execution_count": null,
      "outputs": []
    },
    {
      "cell_type": "code",
      "source": [
        "\n",
        "overall_loss_values = []\n",
        "overall_loss_values_eval = []\n",
        "\n",
        "\n",
        "progress_bar = tqdm(range(num_training_steps))\n",
        "\n",
        "for epoch in range(num_epochs):\n",
        "\n",
        "  loss_values = []\n",
        "  loss_values_eval = []\n",
        "\n",
        "  model.train()\n",
        "\n",
        "  for batch in dl_train:\n",
        "\n",
        "    img = batch[0].to(device)\n",
        "    name = torch.tensor(batch[1]).to(device)\n",
        "    joint_des = torch.tensor(batch[2]).to(device)\n",
        "    X = batch[3].to(device)\n",
        "    Y = torch.tensor(batch[4]).to(device) ## idx of 4 here\n",
        "    optimizer.zero_grad()\n",
        "    pred = model(img, name, joint_des, X)\n",
        "    loss = loss_fn(pred.squeeze(), Y)\n",
        "    loss_values.append(loss.item())\n",
        "    accelerator.backward(loss)\n",
        "\n",
        "    optimizer.step()\n",
        "    lr_scheduler.step()\n",
        "    progress_bar.update(1)\n",
        "\n",
        " #   print(f\"mean of train loss: {str(np.mean(loss_values))}\")\n",
        "\n",
        "  model.eval()\n",
        "\n",
        "  with torch.no_grad():\n",
        "    for batch in dl_eval:\n",
        "\n",
        "      img = batch[0].to(device)\n",
        "      name = torch.tensor(batch[1]).to(device)\n",
        "      joint_des = torch.tensor(batch[2]).to(device)\n",
        "      X = batch[3].to(device)\n",
        "      Y = torch.tensor(batch[4]).to(device)\n",
        "      optimizer.zero_grad()\n",
        "      pred = model(img, name, joint_des, X)\n",
        "      loss = loss_fn(pred.squeeze(), Y)\n",
        "      loss_values_eval.append(loss.item())\n",
        "\n",
        "\n",
        "#      print(f\"mean of eval loss: {str(np.mean(loss_values_eval))}\")\n",
        "\n",
        "\n",
        "  overall_loss_values.append(np.mean(loss_values))\n",
        "  overall_loss_values_eval.append(np.mean(loss_values_eval))\n",
        "\n",
        "  print(f\"Iteration No {str(epoch + 1)}\")\n",
        "  print(f\"Train Loss: {str(np.mean(loss_values))}\")\n",
        "  print(f\"Eval Loss: {str(np.mean(loss_values_eval))}\")\n",
        "  print(\"---------------------\")\n"
      ],
      "metadata": {
        "id": "IUZHI7LvtXno"
      },
      "execution_count": null,
      "outputs": []
    },
    {
      "cell_type": "code",
      "source": [
        "#saving the model\n",
        "model_save_name = 'discriminator_2_cat.pth'\n",
        "\n",
        "path =\"/content/gdrive/My Drive/Thesis/Models/{}\".format(model_save_name)\n",
        "torch.save(model, path)\n"
      ],
      "metadata": {
        "id": "OTntuDObB0la"
      },
      "execution_count": null,
      "outputs": []
    },
    {
      "cell_type": "code",
      "source": [
        "name_to_save = \"losses_disc_2_cat\"\n",
        "df_losses_1 = pd.DataFrame({\"loss_eval\": overall_loss_values_eval, \"loss_train\": overall_loss_values })\n",
        "#df_losses_1.to_csv(f\"/content/gdrive/My Drive/Thesis/loss_data/{name_to_save}.csv\", index = False)"
      ],
      "metadata": {
        "id": "wSKPD4GmEr_L"
      },
      "execution_count": null,
      "outputs": []
    },
    {
      "cell_type": "code",
      "source": [
        "# over  epochs\n",
        "## plotting loss\n",
        "import matplotlib.pyplot as plt\n",
        "name_to_save = \"losses_discriminator_2_cat\"\n",
        "\n",
        "epochs = list(range(1,num_epochs+1))\n",
        "\n",
        "plt.plot(epochs, overall_loss_values, color = \"black\")\n",
        "plt.plot(epochs, overall_loss_values_eval, color = \"black\", linestyle='dashed')\n",
        "plt.legend([\"Training Loss\", \"Evaluation Loss\"], loc='upper right')\n",
        "plt.xlabel(\"Training Iterations\")\n",
        "plt.ylabel(\"Loss after iteration\")\n",
        "#plt.savefig(f'/content/gdrive/My Drive/Thesis/Plots/{name_to_save}.png')\n",
        "#plt.show()"
      ],
      "metadata": {
        "colab": {
          "base_uri": "https://localhost:8080/",
          "height": 449
        },
        "outputId": "49c8a1d7-08f8-48bd-98e6-d1847071a874",
        "id": "kj4DWUotEr_P"
      },
      "execution_count": null,
      "outputs": [
        {
          "output_type": "display_data",
          "data": {
            "text/plain": [
              "<Figure size 640x480 with 1 Axes>"
            ],
            "image/png": "[encoded data removed]"
          },
          "metadata": {}
        }
      ]
    },
    {
      "cell_type": "code",
      "source": [
        "### obtaining classification report\n",
        "\n",
        "argmax_labels = []\n",
        "argmax_preds = []\n",
        "labels = [0,1,2]\n",
        "\n",
        "with torch.no_grad():\n",
        "  for batch in dl_eval:\n",
        "    X = batch[1]\n",
        "    Y = torch.tensor(batch[2])\n",
        "    pred = model(X)\n",
        "    argmax_labels.extend( list(np.argmax(Y.numpy(), axis = 1) ))\n",
        "    argmax_preds.extend( list(np.argmax(pred.numpy(), axis = 1) ))\n",
        "\n",
        "report = classification_report(y_true=argmax_labels, y_pred=argmax_preds, labels=labels, output_dict = True)\n",
        "print(\"Weighted Avg Classification Results:\")\n",
        "print(report['weighted avg'])\n"
      ],
      "metadata": {
        "colab": {
          "base_uri": "https://localhost:8080/"
        },
        "id": "Y10BUrVLG6AO",
        "outputId": "7a5afb39-77b8-429a-a538-64b4780f78c1"
      },
      "execution_count": null,
      "outputs": [
        {
          "output_type": "stream",
          "name": "stderr",
          "text": [
            "<ipython-input-58-b0a07fa5ec5e>:10: UserWarning: To copy construct from a tensor, it is recommended to use sourceTensor.clone().detach() or sourceTensor.clone().detach().requires_grad_(True), rather than torch.tensor(sourceTensor).\n",
            "  Y = torch.tensor(batch[2])\n"
          ]
        },
        {
          "output_type": "stream",
          "name": "stdout",
          "text": [
            "Weighted Avg Classification Results:\n",
            "{'precision': 0.808882833782141, 'recall': 0.8317037037037037, 'f1-score': 0.8129671118121731, 'support': 6750}\n"
          ]
        }
      ]
    }
  ]
}
