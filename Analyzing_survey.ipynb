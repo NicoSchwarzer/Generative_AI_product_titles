{
  "cells": [
    {
      "cell_type": "markdown",
      "source": [
        "## Analyzing survey results\n"
      ],
      "metadata": {
        "id": "L2IeMT30p9E-"
      }
    },
    {
      "cell_type": "code",
      "execution_count": null,
      "metadata": {
        "id": "cIV5fIO3p8GW"
      },
      "outputs": [],
      "source": [
        "import os\n",
        "import pandas as pd\n",
        "import numpy as np\n",
        "import random\n",
        "import scipy\n",
        "import matplotlib.pyplot as plt\n",
        "from scipy.stats import levene\n",
        "from scipy.stats import f_oneway\n",
        "\n",
        "#os.chdir(os.getcwd())\n",
        "#print(os.getcwd())"
      ]
    },
    {
      "cell_type": "code",
      "source": [
        "\n",
        "def append_lists(ordering_indication: int, survey_x: pd.DataFrame, listings_col: list, llama_adapter_col: list, llama_adater_all_col: list, llama_no_peft_col: list, true_names_col: list):\n",
        "\n",
        "  for idx in range(survey_x.shape[0]):\n",
        "\n",
        "    df_iloc = pd.DataFrame(survey_x.iloc[idx,:])\n",
        "    df_iloc.columns = [\"result\"]\n",
        "    list_listings = list(df_iloc.index[df_iloc[\"result\"] != -77])\n",
        "    list_chosen = list(df_iloc[\"result\"][df_iloc[\"result\"] != -77])\n",
        "\n",
        "    ## appending\n",
        "    listings_col.extend(list_listings)\n",
        "\n",
        "    if ordering_indication == 1:\n",
        "      for g in range(2):\n",
        "        if list_chosen[g] == 1:\n",
        "          true_names_col.append(1)\n",
        "          llama_adapter_col.append(0)\n",
        "          llama_adater_all_col.append(0)\n",
        "          llama_no_peft_col.append(0)\n",
        "        elif list_chosen[g] == 2:\n",
        "          true_names_col.append(0)\n",
        "          llama_adapter_col.append(1)\n",
        "          llama_adater_all_col.append(0)\n",
        "          llama_no_peft_col.append(0)\n",
        "        elif list_chosen[g] == 3:\n",
        "          true_names_col.append(0)\n",
        "          llama_adapter_col.append(0)\n",
        "          llama_adater_all_col.append(0)\n",
        "          llama_no_peft_col.append(1)\n",
        "        elif list_chosen[g] == 4:\n",
        "          true_names_col.append(0)\n",
        "          llama_adapter_col.append(0)\n",
        "          llama_adater_all_col.append(1)\n",
        "          llama_no_peft_col.append(0)\n",
        "        else:\n",
        "          true_names_col.append(0)\n",
        "          llama_adapter_col.append(0)\n",
        "          llama_adater_all_col.append(0)\n",
        "          llama_no_peft_col.append(0)\n",
        "\n",
        "    elif ordering_indication == 2:\n",
        "      for g in range(2):\n",
        "        if list_chosen[g] == 1:\n",
        "          true_names_col.append(0)\n",
        "          llama_adapter_col.append(1)\n",
        "          llama_adater_all_col.append(0)\n",
        "          llama_no_peft_col.append(0)\n",
        "        elif list_chosen[g] == 2:\n",
        "          true_names_col.append(0)\n",
        "          llama_adapter_col.append(0)\n",
        "          llama_adater_all_col.append(1)\n",
        "          llama_no_peft_col.append(0)\n",
        "        elif list_chosen[g] == 3:\n",
        "          true_names_col.append(1)\n",
        "          llama_adapter_col.append(0)\n",
        "          llama_adater_all_col.append(0)\n",
        "          llama_no_peft_col.append(0)\n",
        "        elif list_chosen[g] == 4:\n",
        "          true_names_col.append(0)\n",
        "          llama_adapter_col.append(0)\n",
        "          llama_adater_all_col.append(0)\n",
        "          llama_no_peft_col.append(1)\n",
        "        else:\n",
        "          true_names_col.append(0)\n",
        "          llama_adapter_col.append(0)\n",
        "          llama_adater_all_col.append(0)\n",
        "          llama_no_peft_col.append(0)\n",
        "\n",
        "    else:\n",
        "      for g in range(2):\n",
        "        if list_chosen[g] == 1:\n",
        "          true_names_col.append(0)\n",
        "          llama_adapter_col.append(0)\n",
        "          llama_adater_all_col.append(0)\n",
        "          llama_no_peft_col.append(1)\n",
        "        elif list_chosen[g] == 2:\n",
        "          true_names_col.append(0)\n",
        "          llama_adapter_col.append(0)\n",
        "          llama_adater_all_col.append(1)\n",
        "          llama_no_peft_col.append(0)\n",
        "        elif list_chosen[g] == 3:\n",
        "          true_names_col.append(0)\n",
        "          llama_adapter_col.append(1)\n",
        "          llama_adater_all_col.append(0)\n",
        "          llama_no_peft_col.append(0)\n",
        "        elif list_chosen[g] == 4:\n",
        "          true_names_col.append(1)\n",
        "          llama_adapter_col.append(0)\n",
        "          llama_adater_all_col.append(0)\n",
        "          llama_no_peft_col.append(0)\n",
        "        else:\n",
        "          true_names_col.append(0)\n",
        "          llama_adapter_col.append(0)\n",
        "          llama_adater_all_col.append(0)\n",
        "          llama_no_peft_col.append(0)\n",
        "\n",
        "\n",
        "  return listings_col, llama_adapter_col, llama_adater_all_col, llama_no_peft_col, true_names_col\n",
        "\n",
        "\n",
        "\n",
        "def permutation_test(list_1, list_2, num_permutations):\n",
        "\n",
        "  counter = 0\n",
        "\n",
        "  real_diff = np.mean(list_1 - list_2)\n",
        "\n",
        "  for i in range(num_permutations):\n",
        "\n",
        "    added_list = list(list_1) +(list(list_2))\n",
        "\n",
        "    # shufflig in place: https://stackoverflow.com/questions/47516428/cant-get-random-shuffle-to-work-python-random-shuffle\n",
        "    random.shuffle(added_list)\n",
        "\n",
        "    cut_off = 0.5*np.floor(len(added_list))\n",
        "    first_part = added_list[:int(cut_off)]\n",
        "    second_part = added_list[int(cut_off):]\n",
        "\n",
        "    if np.abs(np.mean(first_part)-np.mean(second_part)) > real_diff:\n",
        "      counter += 1\n",
        "\n",
        "    #print(i)\n",
        "\n",
        "  emp_p_val =  counter / num_permutations\n",
        "\n",
        "  return emp_p_val\n",
        "\n",
        "\n",
        "\n",
        "def get_rel_shares(listing_id: str):\n",
        "\n",
        "  \"\"\" Function to retrieve relative shares per thumbnail\n",
        "  for the collapsed DF. \"\"\"\n",
        "\n",
        "  sub_df = df_survey_results[df_survey_results.listing == listing_id]\n",
        "  len_ = sub_df.shape[0]\n",
        "\n",
        "\n",
        "  rel_llama_adapter = sum(sub_df.llama_adapter)/len_\n",
        "  rel_llama_adater_all = sum(sub_df.llama_adater_all)/len_\n",
        "  rel_llama_no_peft = sum(sub_df.llama_no_peft)/len_\n",
        "  rel_true_names = sum(sub_df.true_names)/len_\n",
        "\n",
        "  return rel_llama_adapter, rel_llama_adater_all, rel_llama_no_peft, rel_true_names\n"
      ],
      "metadata": {
        "id": "HC4WalPBoEsq"
      },
      "execution_count": null,
      "outputs": []
    },
    {
      "cell_type": "code",
      "source": [
        "# connecting to drive\n",
        "from google.colab import drive\n",
        "drive.mount('/content/gdrive', force_remount=True)\n"
      ],
      "metadata": {
        "colab": {
          "base_uri": "https://localhost:8080/"
        },
        "id": "dCR434q1qEoD",
        "outputId": "607b0336-4b60-4b77-81a0-25c6de6060a2"
      },
      "execution_count": null,
      "outputs": [
        {
          "output_type": "stream",
          "name": "stdout",
          "text": [
            "Mounted at /content/gdrive\n"
          ]
        }
      ]
    },
    {
      "cell_type": "markdown",
      "source": [
        "### Loading in and manipulating data"
      ],
      "metadata": {
        "id": "2tZO0nNoZbG5"
      }
    },
    {
      "cell_type": "code",
      "source": [
        "\n",
        "data_survey = pd.read_csv(\"/content/gdrive/My Drive/Thesis/survey_data/data_project_991419_2023_08_23.csv\", sep = \";\")"
      ],
      "metadata": {
        "id": "fN51CmZmqaue"
      },
      "execution_count": null,
      "outputs": []
    },
    {
      "cell_type": "code",
      "execution_count": null,
      "metadata": {
        "colab": {
          "base_uri": "https://localhost:8080/",
          "height": 461
        },
        "id": "7ABNMzmup8Gg",
        "outputId": "eee0a4a2-26e1-4e7b-bf9c-f59fbaa1e73a"
      },
      "outputs": [
        {
          "output_type": "execute_result",
          "data": {
            "text/plain": [
              "     lfdn  external_lfdn  tester  dispcode  lastpage  quality  duration  v_1  \\\n",
              "0       6              0       0        31   6729710      -77       107    0   \n",
              "1       8              0       0        31   6729710      -77       167    1   \n",
              "2      10              0       0        31   6729710      -77       265    1   \n",
              "3      11              0       0        31   6729710      -77       312    1   \n",
              "4      12              0       0        31   6729710      -77       382    1   \n",
              "..    ...            ...     ...       ...       ...      ...       ...  ...   \n",
              "492   575              0       0        31   6729710      -77       164    1   \n",
              "493   576              0       0        31   6729710      -77       347    1   \n",
              "494   577              0       0        31   6729710      -77      1436    1   \n",
              "495   578              0       0        31   6729710      -77       211    2   \n",
              "496   579              0       0        31   6729710      -77       403    2   \n",
              "\n",
              "     v_2                              v_54  ...  date_of_last_access  \\\n",
              "0      0                               -99  ...  2023-08-02 15:22:22   \n",
              "1      2        judith.klaiber97@gmail.com  ...  2023-08-03 11:27:35   \n",
              "2      3          radici.jasmina@gmail.com  ...  2023-08-03 11:32:49   \n",
              "3      1              jennie.nguyen@gmx.de  ...  2023-08-03 11:33:40   \n",
              "4      2  e.klink@student.uni-tuebingen.de  ...  2023-08-03 11:36:30   \n",
              "..   ...                               ...  ...                  ...   \n",
              "492    1                  gizemkadi@gmx.de  ...  2023-08-22 00:51:41   \n",
              "493    1                               -99  ...  2023-08-22 07:12:34   \n",
              "494    1                 estryae@gmail.com  ...  2023-08-22 07:56:33   \n",
              "495    2                               -99  ...  2023-08-22 08:26:39   \n",
              "496    3                               -99  ...  2023-08-22 20:28:50   \n",
              "\n",
              "      date_of_first_mail  rts6729699  rts6729700  rts6729701  rts6729703  \\\n",
              "0    0000-00-00 00:00:00          74          77          80          85   \n",
              "1    0000-00-00 00:00:00          10          19          33          77   \n",
              "2    0000-00-00 00:00:00           3          19          21         100   \n",
              "3    0000-00-00 00:00:00           4          11          41         128   \n",
              "4    0000-00-00 00:00:00           5          18          39         122   \n",
              "..                   ...         ...         ...         ...         ...   \n",
              "492  0000-00-00 00:00:00           8          15          37          81   \n",
              "493  0000-00-00 00:00:00           6          16          18         111   \n",
              "494  0000-00-00 00:00:00          13          21          55        1103   \n",
              "495  0000-00-00 00:00:00          12          23          48          79   \n",
              "496  0000-00-00 00:00:00          21          85         140         211   \n",
              "\n",
              "     rts6729705  rts6729707  rts6729709  rts6731066  \n",
              "0            90          94          96         107  \n",
              "1           109         141         157         167  \n",
              "2           178         216         244         265  \n",
              "3           214         276         299         312  \n",
              "4           263         332         364         382  \n",
              "..          ...         ...         ...         ...  \n",
              "492         113         141         151         164  \n",
              "493         172         331         341         347  \n",
              "494        1229        1377        1426        1436  \n",
              "495         127         193         205         211  \n",
              "496         289         362         388         403  \n",
              "\n",
              "[497 rows x 527 columns]"
            ],
            "text/html": [
              "\n",
              "  <div id=\"df-95ab50a7-7fce-4404-8457-9b7ed41b482f\" class=\"colab-df-container\">\n",
              "    <div>\n",
              "<style scoped>\n",
              "    .dataframe tbody tr th:only-of-type {\n",
              "        vertical-align: middle;\n",
              "    }\n",
              "\n",
              "    .dataframe tbody tr th {\n",
              "        vertical-align: top;\n",
              "    }\n",
              "\n",
              "    .dataframe thead th {\n",
              "        text-align: right;\n",
              "    }\n",
              "</style>\n",
              "<table border=\"1\" class=\"dataframe\">\n",
              "  <thead>\n",
              "    <tr style=\"text-align: right;\">\n",
              "      <th></th>\n",
              "      <th>lfdn</th>\n",
              "      <th>external_lfdn</th>\n",
              "      <th>tester</th>\n",
              "      <th>dispcode</th>\n",
              "      <th>lastpage</th>\n",
              "      <th>quality</th>\n",
              "      <th>duration</th>\n",
              "      <th>v_1</th>\n",
              "      <th>v_2</th>\n",
              "      <th>v_54</th>\n",
              "      <th>...</th>\n",
              "      <th>date_of_last_access</th>\n",
              "      <th>date_of_first_mail</th>\n",
              "      <th>rts6729699</th>\n",
              "      <th>rts6729700</th>\n",
              "      <th>rts6729701</th>\n",
              "      <th>rts6729703</th>\n",
              "      <th>rts6729705</th>\n",
              "      <th>rts6729707</th>\n",
              "      <th>rts6729709</th>\n",
              "      <th>rts6731066</th>\n",
              "    </tr>\n",
              "  </thead>\n",
              "  <tbody>\n",
              "    <tr>\n",
              "      <th>0</th>\n",
              "      <td>6</td>\n",
              "      <td>0</td>\n",
              "      <td>0</td>\n",
              "      <td>31</td>\n",
              "      <td>6729710</td>\n",
              "      <td>-77</td>\n",
              "      <td>107</td>\n",
              "      <td>0</td>\n",
              "      <td>0</td>\n",
              "      <td>-99</td>\n",
              "      <td>...</td>\n",
              "      <td>2023-08-02 15:22:22</td>\n",
              "      <td>0000-00-00 00:00:00</td>\n",
              "      <td>74</td>\n",
              "      <td>77</td>\n",
              "      <td>80</td>\n",
              "      <td>85</td>\n",
              "      <td>90</td>\n",
              "      <td>94</td>\n",
              "      <td>96</td>\n",
              "      <td>107</td>\n",
              "    </tr>\n",
              "    <tr>\n",
              "      <th>1</th>\n",
              "      <td>8</td>\n",
              "      <td>0</td>\n",
              "      <td>0</td>\n",
              "      <td>31</td>\n",
              "      <td>6729710</td>\n",
              "      <td>-77</td>\n",
              "      <td>167</td>\n",
              "      <td>1</td>\n",
              "      <td>2</td>\n",
              "      <td>judith.klaiber97@gmail.com</td>\n",
              "      <td>...</td>\n",
              "      <td>2023-08-03 11:27:35</td>\n",
              "      <td>0000-00-00 00:00:00</td>\n",
              "      <td>10</td>\n",
              "      <td>19</td>\n",
              "      <td>33</td>\n",
              "      <td>77</td>\n",
              "      <td>109</td>\n",
              "      <td>141</td>\n",
              "      <td>157</td>\n",
              "      <td>167</td>\n",
              "    </tr>\n",
              "    <tr>\n",
              "      <th>2</th>\n",
              "      <td>10</td>\n",
              "      <td>0</td>\n",
              "      <td>0</td>\n",
              "      <td>31</td>\n",
              "      <td>6729710</td>\n",
              "      <td>-77</td>\n",
              "      <td>265</td>\n",
              "      <td>1</td>\n",
              "      <td>3</td>\n",
              "      <td>radici.jasmina@gmail.com</td>\n",
              "      <td>...</td>\n",
              "      <td>2023-08-03 11:32:49</td>\n",
              "      <td>0000-00-00 00:00:00</td>\n",
              "      <td>3</td>\n",
              "      <td>19</td>\n",
              "      <td>21</td>\n",
              "      <td>100</td>\n",
              "      <td>178</td>\n",
              "      <td>216</td>\n",
              "      <td>244</td>\n",
              "      <td>265</td>\n",
              "    </tr>\n",
              "    <tr>\n",
              "      <th>3</th>\n",
              "      <td>11</td>\n",
              "      <td>0</td>\n",
              "      <td>0</td>\n",
              "      <td>31</td>\n",
              "      <td>6729710</td>\n",
              "      <td>-77</td>\n",
              "      <td>312</td>\n",
              "      <td>1</td>\n",
              "      <td>1</td>\n",
              "      <td>jennie.nguyen@gmx.de</td>\n",
              "      <td>...</td>\n",
              "      <td>2023-08-03 11:33:40</td>\n",
              "      <td>0000-00-00 00:00:00</td>\n",
              "      <td>4</td>\n",
              "      <td>11</td>\n",
              "      <td>41</td>\n",
              "      <td>128</td>\n",
              "      <td>214</td>\n",
              "      <td>276</td>\n",
              "      <td>299</td>\n",
              "      <td>312</td>\n",
              "    </tr>\n",
              "    <tr>\n",
              "      <th>4</th>\n",
              "      <td>12</td>\n",
              "      <td>0</td>\n",
              "      <td>0</td>\n",
              "      <td>31</td>\n",
              "      <td>6729710</td>\n",
              "      <td>-77</td>\n",
              "      <td>382</td>\n",
              "      <td>1</td>\n",
              "      <td>2</td>\n",
              "      <td>e.klink@student.uni-tuebingen.de</td>\n",
              "      <td>...</td>\n",
              "      <td>2023-08-03 11:36:30</td>\n",
              "      <td>0000-00-00 00:00:00</td>\n",
              "      <td>5</td>\n",
              "      <td>18</td>\n",
              "      <td>39</td>\n",
              "      <td>122</td>\n",
              "      <td>263</td>\n",
              "      <td>332</td>\n",
              "      <td>364</td>\n",
              "      <td>382</td>\n",
              "    </tr>\n",
              "    <tr>\n",
              "      <th>...</th>\n",
              "      <td>...</td>\n",
              "      <td>...</td>\n",
              "      <td>...</td>\n",
              "      <td>...</td>\n",
              "      <td>...</td>\n",
              "      <td>...</td>\n",
              "      <td>...</td>\n",
              "      <td>...</td>\n",
              "      <td>...</td>\n",
              "      <td>...</td>\n",
              "      <td>...</td>\n",
              "      <td>...</td>\n",
              "      <td>...</td>\n",
              "      <td>...</td>\n",
              "      <td>...</td>\n",
              "      <td>...</td>\n",
              "      <td>...</td>\n",
              "      <td>...</td>\n",
              "      <td>...</td>\n",
              "      <td>...</td>\n",
              "      <td>...</td>\n",
              "    </tr>\n",
              "    <tr>\n",
              "      <th>492</th>\n",
              "      <td>575</td>\n",
              "      <td>0</td>\n",
              "      <td>0</td>\n",
              "      <td>31</td>\n",
              "      <td>6729710</td>\n",
              "      <td>-77</td>\n",
              "      <td>164</td>\n",
              "      <td>1</td>\n",
              "      <td>1</td>\n",
              "      <td>gizemkadi@gmx.de</td>\n",
              "      <td>...</td>\n",
              "      <td>2023-08-22 00:51:41</td>\n",
              "      <td>0000-00-00 00:00:00</td>\n",
              "      <td>8</td>\n",
              "      <td>15</td>\n",
              "      <td>37</td>\n",
              "      <td>81</td>\n",
              "      <td>113</td>\n",
              "      <td>141</td>\n",
              "      <td>151</td>\n",
              "      <td>164</td>\n",
              "    </tr>\n",
              "    <tr>\n",
              "      <th>493</th>\n",
              "      <td>576</td>\n",
              "      <td>0</td>\n",
              "      <td>0</td>\n",
              "      <td>31</td>\n",
              "      <td>6729710</td>\n",
              "      <td>-77</td>\n",
              "      <td>347</td>\n",
              "      <td>1</td>\n",
              "      <td>1</td>\n",
              "      <td>-99</td>\n",
              "      <td>...</td>\n",
              "      <td>2023-08-22 07:12:34</td>\n",
              "      <td>0000-00-00 00:00:00</td>\n",
              "      <td>6</td>\n",
              "      <td>16</td>\n",
              "      <td>18</td>\n",
              "      <td>111</td>\n",
              "      <td>172</td>\n",
              "      <td>331</td>\n",
              "      <td>341</td>\n",
              "      <td>347</td>\n",
              "    </tr>\n",
              "    <tr>\n",
              "      <th>494</th>\n",
              "      <td>577</td>\n",
              "      <td>0</td>\n",
              "      <td>0</td>\n",
              "      <td>31</td>\n",
              "      <td>6729710</td>\n",
              "      <td>-77</td>\n",
              "      <td>1436</td>\n",
              "      <td>1</td>\n",
              "      <td>1</td>\n",
              "      <td>estryae@gmail.com</td>\n",
              "      <td>...</td>\n",
              "      <td>2023-08-22 07:56:33</td>\n",
              "      <td>0000-00-00 00:00:00</td>\n",
              "      <td>13</td>\n",
              "      <td>21</td>\n",
              "      <td>55</td>\n",
              "      <td>1103</td>\n",
              "      <td>1229</td>\n",
              "      <td>1377</td>\n",
              "      <td>1426</td>\n",
              "      <td>1436</td>\n",
              "    </tr>\n",
              "    <tr>\n",
              "      <th>495</th>\n",
              "      <td>578</td>\n",
              "      <td>0</td>\n",
              "      <td>0</td>\n",
              "      <td>31</td>\n",
              "      <td>6729710</td>\n",
              "      <td>-77</td>\n",
              "      <td>211</td>\n",
              "      <td>2</td>\n",
              "      <td>2</td>\n",
              "      <td>-99</td>\n",
              "      <td>...</td>\n",
              "      <td>2023-08-22 08:26:39</td>\n",
              "      <td>0000-00-00 00:00:00</td>\n",
              "      <td>12</td>\n",
              "      <td>23</td>\n",
              "      <td>48</td>\n",
              "      <td>79</td>\n",
              "      <td>127</td>\n",
              "      <td>193</td>\n",
              "      <td>205</td>\n",
              "      <td>211</td>\n",
              "    </tr>\n",
              "    <tr>\n",
              "      <th>496</th>\n",
              "      <td>579</td>\n",
              "      <td>0</td>\n",
              "      <td>0</td>\n",
              "      <td>31</td>\n",
              "      <td>6729710</td>\n",
              "      <td>-77</td>\n",
              "      <td>403</td>\n",
              "      <td>2</td>\n",
              "      <td>3</td>\n",
              "      <td>-99</td>\n",
              "      <td>...</td>\n",
              "      <td>2023-08-22 20:28:50</td>\n",
              "      <td>0000-00-00 00:00:00</td>\n",
              "      <td>21</td>\n",
              "      <td>85</td>\n",
              "      <td>140</td>\n",
              "      <td>211</td>\n",
              "      <td>289</td>\n",
              "      <td>362</td>\n",
              "      <td>388</td>\n",
              "      <td>403</td>\n",
              "    </tr>\n",
              "  </tbody>\n",
              "</table>\n",
              "<p>497 rows × 527 columns</p>\n",
              "</div>\n",
              "    <div class=\"colab-df-buttons\">\n",
              "\n",
              "  <div class=\"colab-df-container\">\n",
              "    <button class=\"colab-df-convert\" onclick=\"convertToInteractive('df-95ab50a7-7fce-4404-8457-9b7ed41b482f')\"\n",
              "            title=\"Convert this dataframe to an interactive table.\"\n",
              "            style=\"display:none;\">\n",
              "\n",
              "  <svg xmlns=\"http://www.w3.org/2000/svg\" height=\"24px\" viewBox=\"0 -960 960 960\">\n",
              "    <path d=\"M120-120v-720h720v720H120Zm60-500h600v-160H180v160Zm220 220h160v-160H400v160Zm0 220h160v-160H400v160ZM180-400h160v-160H180v160Zm440 0h160v-160H620v160ZM180-180h160v-160H180v160Zm440 0h160v-160H620v160Z\"/>\n",
              "  </svg>\n",
              "    </button>\n",
              "\n",
              "  <style>\n",
              "    .colab-df-container {\n",
              "      display:flex;\n",
              "      gap: 12px;\n",
              "    }\n",
              "\n",
              "    .colab-df-convert {\n",
              "      background-color: #E8F0FE;\n",
              "      border: none;\n",
              "      border-radius: 50%;\n",
              "      cursor: pointer;\n",
              "      display: none;\n",
              "      fill: #1967D2;\n",
              "      height: 32px;\n",
              "      padding: 0 0 0 0;\n",
              "      width: 32px;\n",
              "    }\n",
              "\n",
              "    .colab-df-convert:hover {\n",
              "      background-color: #E2EBFA;\n",
              "      box-shadow: 0px 1px 2px rgba(60, 64, 67, 0.3), 0px 1px 3px 1px rgba(60, 64, 67, 0.15);\n",
              "      fill: #174EA6;\n",
              "    }\n",
              "\n",
              "    .colab-df-buttons div {\n",
              "      margin-bottom: 4px;\n",
              "    }\n",
              "\n",
              "    [theme=dark] .colab-df-convert {\n",
              "      background-color: #3B4455;\n",
              "      fill: #D2E3FC;\n",
              "    }\n",
              "\n",
              "    [theme=dark] .colab-df-convert:hover {\n",
              "      background-color: #434B5C;\n",
              "      box-shadow: 0px 1px 3px 1px rgba(0, 0, 0, 0.15);\n",
              "      filter: drop-shadow(0px 1px 2px rgba(0, 0, 0, 0.3));\n",
              "      fill: #FFFFFF;\n",
              "    }\n",
              "  </style>\n",
              "\n",
              "    <script>\n",
              "      const buttonEl =\n",
              "        document.querySelector('#df-95ab50a7-7fce-4404-8457-9b7ed41b482f button.colab-df-convert');\n",
              "      buttonEl.style.display =\n",
              "        google.colab.kernel.accessAllowed ? 'block' : 'none';\n",
              "\n",
              "      async function convertToInteractive(key) {\n",
              "        const element = document.querySelector('#df-95ab50a7-7fce-4404-8457-9b7ed41b482f');\n",
              "        const dataTable =\n",
              "          await google.colab.kernel.invokeFunction('convertToInteractive',\n",
              "                                                    [key], {});\n",
              "        if (!dataTable) return;\n",
              "\n",
              "        const docLinkHtml = 'Like what you see? Visit the ' +\n",
              "          '<a target=\"_blank\" href=https://colab.research.google.com/notebooks/data_table.ipynb>data table notebook</a>'\n",
              "          + ' to learn more about interactive tables.';\n",
              "        element.innerHTML = '';\n",
              "        dataTable['output_type'] = 'display_data';\n",
              "        await google.colab.output.renderOutput(dataTable, element);\n",
              "        const docLink = document.createElement('div');\n",
              "        docLink.innerHTML = docLinkHtml;\n",
              "        element.appendChild(docLink);\n",
              "      }\n",
              "    </script>\n",
              "  </div>\n",
              "\n",
              "\n",
              "<div id=\"df-18ab2ef3-2d63-42e7-af5e-4c500215cdcf\">\n",
              "  <button class=\"colab-df-quickchart\" onclick=\"quickchart('df-18ab2ef3-2d63-42e7-af5e-4c500215cdcf')\"\n",
              "            title=\"Suggest charts.\"\n",
              "            style=\"display:none;\">\n",
              "\n",
              "<svg xmlns=\"http://www.w3.org/2000/svg\" height=\"24px\"viewBox=\"0 0 24 24\"\n",
              "     width=\"24px\">\n",
              "    <g>\n",
              "        <path d=\"M19 3H5c-1.1 0-2 .9-2 2v14c0 1.1.9 2 2 2h14c1.1 0 2-.9 2-2V5c0-1.1-.9-2-2-2zM9 17H7v-7h2v7zm4 0h-2V7h2v10zm4 0h-2v-4h2v4z\"/>\n",
              "    </g>\n",
              "</svg>\n",
              "  </button>\n",
              "\n",
              "<style>\n",
              "  .colab-df-quickchart {\n",
              "    background-color: #E8F0FE;\n",
              "    border: none;\n",
              "    border-radius: 50%;\n",
              "    cursor: pointer;\n",
              "    display: none;\n",
              "    fill: #1967D2;\n",
              "    height: 32px;\n",
              "    padding: 0 0 0 0;\n",
              "    width: 32px;\n",
              "  }\n",
              "\n",
              "  .colab-df-quickchart:hover {\n",
              "    background-color: #E2EBFA;\n",
              "    box-shadow: 0px 1px 2px rgba(60, 64, 67, 0.3), 0px 1px 3px 1px rgba(60, 64, 67, 0.15);\n",
              "    fill: #174EA6;\n",
              "  }\n",
              "\n",
              "  [theme=dark] .colab-df-quickchart {\n",
              "    background-color: #3B4455;\n",
              "    fill: #D2E3FC;\n",
              "  }\n",
              "\n",
              "  [theme=dark] .colab-df-quickchart:hover {\n",
              "    background-color: #434B5C;\n",
              "    box-shadow: 0px 1px 3px 1px rgba(0, 0, 0, 0.15);\n",
              "    filter: drop-shadow(0px 1px 2px rgba(0, 0, 0, 0.3));\n",
              "    fill: #FFFFFF;\n",
              "  }\n",
              "</style>\n",
              "\n",
              "  <script>\n",
              "    async function quickchart(key) {\n",
              "      const charts = await google.colab.kernel.invokeFunction(\n",
              "          'suggestCharts', [key], {});\n",
              "    }\n",
              "    (() => {\n",
              "      let quickchartButtonEl =\n",
              "        document.querySelector('#df-18ab2ef3-2d63-42e7-af5e-4c500215cdcf button');\n",
              "      quickchartButtonEl.style.display =\n",
              "        google.colab.kernel.accessAllowed ? 'block' : 'none';\n",
              "    })();\n",
              "  </script>\n",
              "</div>\n",
              "    </div>\n",
              "  </div>\n"
            ]
          },
          "metadata": {},
          "execution_count": 158
        }
      ],
      "source": [
        "overall_size = data_survey.shape[0]\n",
        "data_survey ##.head()\n"
      ]
    },
    {
      "cell_type": "markdown",
      "source": [
        "How long did participants take?"
      ],
      "metadata": {
        "id": "iOlYDZBZSXUW"
      }
    },
    {
      "cell_type": "code",
      "source": [
        "dur_minutes = [i/60 for i in data_survey.duration]\n",
        "\n",
        "print(f\"The average time for responding was {str(np.floor(np.mean(dur_minutes)))} minutes and {(np.mean(dur_minutes) -  np.floor(np.mean(dur_minutes))  ) * 60 } seconds.\")"
      ],
      "metadata": {
        "colab": {
          "base_uri": "https://localhost:8080/"
        },
        "id": "slJIqIbKSoij",
        "outputId": "0b56a263-4614-4da5-c848-3e13b00bfc50"
      },
      "execution_count": null,
      "outputs": [
        {
          "output_type": "stream",
          "name": "stdout",
          "text": [
            "The average time for responding was 6.0 minutes and 57.15291750503019 seconds.\n"
          ]
        }
      ]
    },
    {
      "cell_type": "code",
      "source": [
        "# less than 2.5 minutes\n",
        "\n",
        "print(len([i for i in dur_minutes if i < 2.5])/len(dur_minutes))\n",
        "\n",
        "# less than 3 minutes\n",
        "\n",
        "print(len([i for i in dur_minutes if i < 3])/len(dur_minutes))\n"
      ],
      "metadata": {
        "colab": {
          "base_uri": "https://localhost:8080/"
        },
        "id": "2iG-smi81m5K",
        "outputId": "79c87b77-2a22-4581-c48c-4295f0982729"
      },
      "execution_count": null,
      "outputs": [
        {
          "output_type": "stream",
          "name": "stdout",
          "text": [
            "0.09054325955734406\n",
            "0.1448692152917505\n"
          ]
        }
      ]
    },
    {
      "cell_type": "code",
      "source": [
        "# more than 20 min\n",
        "\n",
        "print(len([i for i in dur_minutes if i > 20])/len(dur_minutes))"
      ],
      "metadata": {
        "colab": {
          "base_uri": "https://localhost:8080/"
        },
        "id": "2z7DXw5by-uD",
        "outputId": "bd6a471d-a347-4d9f-edd7-5d4409c852e1"
      },
      "execution_count": null,
      "outputs": [
        {
          "output_type": "stream",
          "name": "stdout",
          "text": [
            "0.03621730382293763\n"
          ]
        }
      ]
    },
    {
      "cell_type": "code",
      "source": [
        "import matplotlib.pyplot as plt\n",
        "\n",
        "name_to_save = \"distribution_times_survey\"\n",
        "\n",
        "plt.hist(dur_minutes, bins = 60, color = \"darkblue\")\n",
        "plt.xlim(0, 20)\n",
        "plt.xlabel(\"Time in minutes\", fontsize=13)\n",
        "plt.ylabel(\"Absolute frequency\", fontsize=13)\n",
        "plt.xticks(fontsize = 12)\n",
        "plt.yticks(fontsize = 12)\n",
        "plt.savefig(f'/content/gdrive/My Drive/Thesis/Plots/{name_to_save}.png')\n",
        "plt.show()"
      ],
      "metadata": {
        "colab": {
          "base_uri": "https://localhost:8080/",
          "height": 457
        },
        "id": "xoswT45DSaGp",
        "outputId": "1c4f8464-e0dc-4ea9-ca13-aae95f24575a"
      },
      "execution_count": null,
      "outputs": [
        {
          "output_type": "display_data",
          "data": {
            "text/plain": [
              "<Figure size 640x480 with 1 Axes>"
            ],
            "image/png": "[encoded data removed]"
          },
          "metadata": {}
        }
      ]
    },
    {
      "cell_type": "markdown",
      "source": [
        "filtering out participants whi took less than 2.5 minutes and more than 20 minutes."
      ],
      "metadata": {
        "id": "3d7Ji16PTNeC"
      }
    },
    {
      "cell_type": "code",
      "source": [
        "overall_size = data_survey.shape[0]\n",
        "\n",
        "min_time = 2.5*60\n",
        "max_time = 20*60\n",
        "data_survey = data_survey[(data_survey.duration >= min_time) & (data_survey.duration <= max_time)]\n",
        "\n"
      ],
      "metadata": {
        "id": "ZzAtuOllT4lt"
      },
      "execution_count": null,
      "outputs": []
    },
    {
      "cell_type": "code",
      "source": [
        "lost = (overall_size - data_survey.shape[0])/overall_size\n",
        "print(f\"{str(lost*100)} percent of responses needed to be dropped because of unrealisitc time taken for responding.\")\n"
      ],
      "metadata": {
        "colab": {
          "base_uri": "https://localhost:8080/"
        },
        "id": "wSjPzzc5UilT",
        "outputId": "93dd4c5d-8788-4d54-92ca-417a33dd59d0"
      },
      "execution_count": null,
      "outputs": [
        {
          "output_type": "stream",
          "name": "stdout",
          "text": [
            "12.676056338028168 percent of responses needed to be dropped because of unrealisitc time taken for responding.\n"
          ]
        }
      ]
    },
    {
      "cell_type": "markdown",
      "source": [
        "### Removing participants based of filtering questions\n",
        "\n",
        "\n",
        "#### Filtering out participants claiming they can't speak english very well or/and do not know AirBnB\n"
      ],
      "metadata": {
        "id": "s7aZI7_YU1yJ"
      }
    },
    {
      "cell_type": "code",
      "source": [
        "data_survey.v_1.value_counts()"
      ],
      "metadata": {
        "colab": {
          "base_uri": "https://localhost:8080/"
        },
        "outputId": "e8a93e41-c599-4bf0-fa3a-7588d54bd80f",
        "id": "pov-H9WjW3rs"
      },
      "execution_count": null,
      "outputs": [
        {
          "output_type": "execute_result",
          "data": {
            "text/plain": [
              "1    415\n",
              "2     17\n",
              "0      2\n",
              "Name: v_1, dtype: int64"
            ]
          },
          "metadata": {},
          "execution_count": 12
        }
      ]
    },
    {
      "cell_type": "code",
      "source": [
        "data_survey.v_2.value_counts()\n"
      ],
      "metadata": {
        "colab": {
          "base_uri": "https://localhost:8080/"
        },
        "outputId": "d3f30249-8d44-435e-d9a4-4035e18e778b",
        "id": "J34UMzgtW3rw"
      },
      "execution_count": null,
      "outputs": [
        {
          "output_type": "execute_result",
          "data": {
            "text/plain": [
              "1    240\n",
              "2    131\n",
              "3     60\n",
              "0      3\n",
              "Name: v_2, dtype: int64"
            ]
          },
          "metadata": {},
          "execution_count": 13
        }
      ]
    },
    {
      "cell_type": "markdown",
      "source": [
        "60 claim they do not know AirBnB (amounts to 13.8) percent, 3 did not answer.\n",
        "However, not knowing AirBnB should not be reason to not include the correpsnding submissions as participants can still be expectd to state their preferred title as everything is rather self-explanatory."
      ],
      "metadata": {
        "id": "nvN9AGm_m8s8"
      }
    },
    {
      "cell_type": "code",
      "source": [
        "drop_out_bad_english = True\n",
        "drop_out_not_knowing_airbnb = False\n",
        "\n",
        "shape_before = data_survey.shape[0]\n",
        "\n",
        "if drop_out_bad_english == True:\n",
        "  if drop_out_not_knowing_airbnb == True:\n",
        "    data_survey = data_survey[(data_survey.v_1 == 1) & (data_survey.v_2.isin([1,2]))]\n",
        "  else:\n",
        "    data_survey = data_survey[(data_survey.v_1 == 1)]\n",
        "else:\n",
        "  if drop_out_not_knowing_airbnb == True:\n",
        "        data_survey = data_survey[data_survey.v_2.isin(1,2)]\n",
        "  else:\n",
        "    pass"
      ],
      "metadata": {
        "id": "SFS8dkQaWwZx"
      },
      "execution_count": null,
      "outputs": []
    },
    {
      "cell_type": "code",
      "source": [
        "print(f\"This filtering operation lead to {str( ((shape_before-data_survey.shape[0])/shape_before)*100)} percent being dropped.\")"
      ],
      "metadata": {
        "colab": {
          "base_uri": "https://localhost:8080/"
        },
        "id": "lnhZS8B_XncA",
        "outputId": "ef7c8c75-362d-4078-c13b-73da2d014041"
      },
      "execution_count": null,
      "outputs": [
        {
          "output_type": "stream",
          "name": "stdout",
          "text": [
            "This filtering operation lead to 4.377880184331797 percent being dropped.\n"
          ]
        }
      ]
    },
    {
      "cell_type": "markdown",
      "source": [
        "#### Filtering out those who chose an spurious answer for the \"bad example\""
      ],
      "metadata": {
        "id": "GocXg2RcYCuM"
      }
    },
    {
      "cell_type": "code",
      "source": [
        "data_survey.v_53_1.value_counts()"
      ],
      "metadata": {
        "colab": {
          "base_uri": "https://localhost:8080/"
        },
        "id": "1L-9zu0_YICu",
        "outputId": "b4e4868a-5160-4207-b9b7-ccdbe0794d08"
      },
      "execution_count": null,
      "outputs": [
        {
          "output_type": "execute_result",
          "data": {
            "text/plain": [
              "1    225\n",
              "4    182\n",
              "2      6\n",
              "3      1\n",
              "0      1\n",
              "Name: v_53_1, dtype: int64"
            ]
          },
          "metadata": {},
          "execution_count": 30
        }
      ]
    },
    {
      "cell_type": "code",
      "source": [
        "shape_before = data_survey.shape[0]\n",
        "\n",
        "data_survey = data_survey[data_survey.v_53_1.isin([1,4])]\n",
        "print(f\"This filtering operation lead to {str( ((shape_before-data_survey.shape[0])/shape_before)*100)} percent being dropped.\")"
      ],
      "metadata": {
        "colab": {
          "base_uri": "https://localhost:8080/"
        },
        "id": "UkktHPzfYvOW",
        "outputId": "2bb65800-35a6-4a35-8f44-757947d80152"
      },
      "execution_count": null,
      "outputs": [
        {
          "output_type": "stream",
          "name": "stdout",
          "text": [
            "This filtering operation lead to 1.9277108433734942 percent being dropped.\n"
          ]
        }
      ]
    },
    {
      "cell_type": "code",
      "source": [
        "print(f\" {str(data_survey.shape[0])} data points remain for further analysis.\")"
      ],
      "metadata": {
        "colab": {
          "base_uri": "https://localhost:8080/"
        },
        "id": "U-38U9hrZBQ-",
        "outputId": "1ae8af2c-0966-444c-99b0-048090b6c3b0"
      },
      "execution_count": null,
      "outputs": [
        {
          "output_type": "stream",
          "name": "stdout",
          "text": [
            " 407 data points remain for further analysis.\n"
          ]
        }
      ]
    },
    {
      "cell_type": "code",
      "source": [
        "data_survey.index = list(range(data_survey.shape[0]))"
      ],
      "metadata": {
        "id": "ATOOxbYOfbvh"
      },
      "execution_count": null,
      "outputs": []
    },
    {
      "cell_type": "markdown",
      "source": [
        "### Statistical Analysis\n"
      ],
      "metadata": {
        "id": "6f6N-hyNZZgm"
      }
    },
    {
      "cell_type": "markdown",
      "source": [
        "Per thumbnail shown (i.e. if a thumbnails was showm multiple times -> multiple entries), retrieving the favourite title. A DF of a specific build-up is required to call statistical functions (see below).\n",
        "\n",
        "This DF willl thus contain 6 * number of remaining data points rows."
      ],
      "metadata": {
        "id": "XZz7NZudaIFm"
      }
    },
    {
      "cell_type": "code",
      "source": [
        "listings_col = []\n",
        "llama_adapter_col = []\n",
        "llama_adater_all_col = []\n",
        "llama_no_peft_col = []\n",
        "true_names_col = []\n"
      ],
      "metadata": {
        "id": "lZKqBVZrZtoL"
      },
      "execution_count": null,
      "outputs": []
    },
    {
      "cell_type": "code",
      "source": [
        "## first two_questions\n",
        "a = list(data_survey.columns)\n",
        "list_1 = [i for i in a if i.startswith('v_50_')]\n",
        "survey_1 = data_survey[list_1]\n"
      ],
      "metadata": {
        "id": "D3Rthf41bDdo"
      },
      "execution_count": null,
      "outputs": []
    },
    {
      "cell_type": "code",
      "source": [
        "ordering_indication  = 1\n",
        "listings_col, llama_adapter_col, llama_adater_all_col, llama_no_peft_col, true_names_col = append_lists(ordering_indication, survey_1, listings_col, llama_adapter_col, llama_adater_all_col, llama_no_peft_col, true_names_col)"
      ],
      "metadata": {
        "id": "p5FHc53Gg_3Z"
      },
      "execution_count": null,
      "outputs": []
    },
    {
      "cell_type": "code",
      "source": [
        "## second two_questions\n",
        "list_2 = [i for i in a if i.startswith('v_51_')]\n",
        "survey_2 = data_survey[list_2]\n"
      ],
      "metadata": {
        "id": "FVc9vIvKi5IM"
      },
      "execution_count": null,
      "outputs": []
    },
    {
      "cell_type": "code",
      "source": [
        "ordering_indication  = 2\n",
        "listings_col, llama_adapter_col, llama_adater_all_col, llama_no_peft_col, true_names_col = append_lists(ordering_indication, survey_2, listings_col, llama_adapter_col, llama_adater_all_col, llama_no_peft_col, true_names_col)"
      ],
      "metadata": {
        "id": "OPUIlPQTi5IU"
      },
      "execution_count": null,
      "outputs": []
    },
    {
      "cell_type": "code",
      "source": [
        "## third two_questions\n",
        "list_3 = [i for i in a if i.startswith('v_52_')]\n",
        "survey_3 = data_survey[list_3]\n"
      ],
      "metadata": {
        "id": "tSTFuK8Ii586"
      },
      "execution_count": null,
      "outputs": []
    },
    {
      "cell_type": "code",
      "source": [
        "ordering_indication  = 3\n",
        "listings_col, llama_adapter_col, llama_adater_all_col, llama_no_peft_col, true_names_col = append_lists(ordering_indication, survey_3, listings_col, llama_adapter_col, llama_adater_all_col, llama_no_peft_col, true_names_col)"
      ],
      "metadata": {
        "id": "foag9Nwwi588"
      },
      "execution_count": null,
      "outputs": []
    },
    {
      "cell_type": "code",
      "source": [
        "print(f\"In {str(len([i for i in llama_adapter_col if i == 1])/len(llama_adapter_col) * 100)} percent of all cases, the LLama PEFT (trained on 'more successful' listings) generated title was the preferred one.\")\n",
        "print(f\"In {str(len([i for i in llama_adater_all_col if i == 1])/len(llama_adater_all_col) * 100)} percent of all cases, the LLama PEFT (trained on all listings) generated title was the preferred one.\")\n",
        "print(f\"In {str(len([i for i in llama_no_peft_col if i == 1])/len(llama_no_peft_col) * 100)} percent of all cases, the LLama without PEFT generated title was the preferred one.\")\n",
        "print(f\"In {str(len([i for i in true_names_col if i == 1])/len(true_names_col) * 100)} percent of all cases, the true title was the preferred one.\")\n",
        "\n"
      ],
      "metadata": {
        "colab": {
          "base_uri": "https://localhost:8080/"
        },
        "id": "72xOkf9rj2bG",
        "outputId": "464fd85d-a984-4445-8e70-2a05d286cef3"
      },
      "execution_count": null,
      "outputs": [
        {
          "output_type": "stream",
          "name": "stdout",
          "text": [
            "In 40.99099099099099 percent of all cases, the LLama PEFT (trained on 'more successful' listings) generated title was the preferred one.\n",
            "In 19.328419328419326 percent of all cases, the LLama PEFT (trained on all listings) generated title was the preferred one.\n",
            "In 20.024570024570025 percent of all cases, the LLama without PEFT generated title was the preferred one.\n",
            "In 19.45126945126945 percent of all cases, the true title was the preferred one.\n"
          ]
        }
      ]
    },
    {
      "cell_type": "code",
      "source": [
        "dict_freq = {\n",
        "    \"LLaMa-PEFT (1)\": len([i for i in llama_adapter_col if i == 1])/len(llama_adapter_col),\n",
        "    \"LLaMa-PEFT (2)\": len([i for i in llama_adater_all_col if i == 1])/len(llama_adater_all_col),\n",
        "    \"LLaMa-no PEFT\": len([i for i in llama_no_peft_col if i == 1])/len(llama_no_peft_col),\n",
        "    \"True title\": len([i for i in true_names_col if i == 1])/len(true_names_col)\n",
        "  }\n",
        "\n",
        "keys = dict_freq.keys()\n",
        "vals = dict_freq.values()\n",
        "\n",
        "name_to_save = \"survey_results_bar\"\n",
        "\n",
        "plt.figure(figsize=(8, 6))\n",
        "plt.bar(keys, vals, color = \"darkblue\")\n",
        "plt.ylabel(\"Relative frequency\", fontsize=13)\n",
        "plt.xticks(fontsize = 12)\n",
        "plt.yticks(fontsize = 12)\n",
        "plt.savefig(f'/content/gdrive/My Drive/Thesis/Plots/{name_to_save}.png')\n",
        "\n",
        "plt.show()\n"
      ],
      "metadata": {
        "colab": {
          "base_uri": "https://localhost:8080/",
          "height": 526
        },
        "id": "WWm3vSGr-9Wv",
        "outputId": "0a8817f1-86b1-4389-b848-e75114255127"
      },
      "execution_count": null,
      "outputs": [
        {
          "output_type": "display_data",
          "data": {
            "text/plain": [
              "<Figure size 800x600 with 1 Axes>"
            ],
            "image/png": "[encoded data removed]"
          },
          "metadata": {}
        }
      ]
    },
    {
      "cell_type": "code",
      "source": [
        "## setting up df\n",
        "\n",
        "df_survey_results = pd.DataFrame({\"listing\": listings_col, \"llama_adapter\": llama_adapter_col, \"llama_adater_all\": llama_adater_all_col, \"llama_no_peft\": llama_no_peft_col, \"true_names\": true_names_col })\n",
        "df_survey_results.to_csv(\"/content/gdrive/My Drive/Thesis/survey_data/df_survey_results.csv\", index = False)\n"
      ],
      "metadata": {
        "id": "4aKRowGQmy82"
      },
      "execution_count": null,
      "outputs": []
    },
    {
      "cell_type": "code",
      "source": [
        "# asserting that the shape of this DF equals the number of final datapoints times 6!\n",
        "\n",
        "assert df_survey_results.shape[0] == 6 * data_survey.shape[0]\n"
      ],
      "metadata": {
        "id": "hJNA44_u89G_"
      },
      "execution_count": null,
      "outputs": []
    },
    {
      "cell_type": "code",
      "source": [
        "# average number of responses per thumbnail\n",
        "\n",
        "print(f\"The average number of responses for each thumbnail is {df_survey_results.shape[0] / 500}.\")"
      ],
      "metadata": {
        "colab": {
          "base_uri": "https://localhost:8080/"
        },
        "id": "4CKkuvfN9vV2",
        "outputId": "0809e200-1b8c-488f-97dd-1fd18148dc49"
      },
      "execution_count": null,
      "outputs": [
        {
          "output_type": "stream",
          "name": "stdout",
          "text": [
            "The average number of responses for each thumbnail is 4.884.\n"
          ]
        }
      ]
    },
    {
      "cell_type": "markdown",
      "source": [
        "## Statistical testing\n",
        "\n",
        "### ANOVA\n",
        "\n",
        "-> univariate anova - only differing by one dimension\n",
        "\n",
        "-> null hypothesis -> equal means\n",
        "\n",
        "-> comparing means and between group vs within group variation\n",
        "\n",
        "-> both variances are already adjusted for k-1\n",
        "\n",
        "F = between group / within group\n",
        "\n",
        "-> here n-4 (or n-3)  degrees of freedom.\n"
      ],
      "metadata": {
        "id": "L7EXpX1pE5BY"
      }
    },
    {
      "cell_type": "markdown",
      "source": [
        "Thoughts on pre-requisits for ANOVA\n",
        "\n",
        "1. Assumption No. 1 - IID Draws in sample: SATISFIED as Samples are iid, different people have answered the survey. Also no temporal correlation to be expected!\n",
        "2. Assumption No. 2 - per factor group (here type of model that generated the title), the outoe variables is normally distributed: CANNOT BE SATISFIED as output data is binary  --> reduces robustnes of Anova results\n",
        "3. Equal variances of output varaible per factor group: I guess iit will be vialoated as higher mean for Llama-PEFT -> greater deviates sqaured -> greater variance in this case -> can reduce robustness as well (perhaps not using these titles)\n",
        "\n",
        "\n"
      ],
      "metadata": {
        "id": "rEOirwMtPplk"
      }
    },
    {
      "cell_type": "code",
      "source": [
        "## normality of outcomes (by feature) cannot be given as output is binary\n"
      ],
      "metadata": {
        "id": "3EKBStYBN_Gb"
      },
      "execution_count": null,
      "outputs": []
    },
    {
      "cell_type": "code",
      "source": [
        "### 3 -  equal variances\n",
        "\n",
        "print(np.var(df_survey_results.llama_adapter))\n",
        "print(np.var(df_survey_results.llama_adater_all))\n",
        "print(np.var(df_survey_results.llama_no_peft))\n",
        "print(np.var(df_survey_results.true_names))\n"
      ],
      "metadata": {
        "colab": {
          "base_uri": "https://localhost:8080/"
        },
        "id": "lJQerc-cN9V8",
        "outputId": "61107b68-962a-42a0-cb17-a36b905ba355"
      },
      "execution_count": null,
      "outputs": [
        {
          "output_type": "stream",
          "name": "stdout",
          "text": [
            "0.2418837756675594\n",
            "0.15592541391067188\n",
            "0.16014735977880942\n",
            "0.1566775061861057\n"
          ]
        }
      ]
    },
    {
      "cell_type": "code",
      "source": [
        "## Using Levene's test to test this\n",
        "\n",
        "stat_all, p_all = levene(df_survey_results.llama_adapter, df_survey_results.llama_adater_all, df_survey_results.llama_no_peft, df_survey_results.true_names)\n",
        "print(stat_all, p_all)\n",
        "\n",
        "print(\"------\")\n",
        "\n",
        "stat_alt, p_alt = levene(df_survey_results.llama_adater_all, df_survey_results.llama_no_peft, df_survey_results.true_names)\n",
        "print(stat_alt, p_alt)\n"
      ],
      "metadata": {
        "colab": {
          "base_uri": "https://localhost:8080/"
        },
        "id": "loga0wbLPJbb",
        "outputId": "a537bbcf-6a89-4d92-8af4-0d868f2edace"
      },
      "execution_count": null,
      "outputs": [
        {
          "output_type": "stream",
          "name": "stdout",
          "text": [
            "156.4003006209919 5.188180776617384e-99\n",
            "------\n",
            "0.21386593699874634 0.8074616709287924\n"
          ]
        }
      ]
    },
    {
      "cell_type": "markdown",
      "source": [
        "Hence taking ANOVA outcomes with a grain of salt.\n",
        "Also comparing titles without the Llama-PEFT (tuned on successful listings) as this is a more interesting case.\n",
        "If including all 4 types of titles, H0 will be rejected with p close t0 0 anyway :D"
      ],
      "metadata": {
        "id": "ukL3ttfERAY4"
      }
    },
    {
      "cell_type": "code",
      "source": [
        "# ANOVA, which will have a pval of ca. 0 :D\n",
        "f_oneway(df_survey_results.llama_adapter, df_survey_results.llama_adater_all, df_survey_results.llama_no_peft, df_survey_results.true_names)"
      ],
      "metadata": {
        "colab": {
          "base_uri": "https://localhost:8080/"
        },
        "id": "DIAHMkWGJH3b",
        "outputId": "a71a6b1c-7154-4734-eb71-b379bb9edf4e"
      },
      "execution_count": null,
      "outputs": [
        {
          "output_type": "execute_result",
          "data": {
            "text/plain": [
              "F_onewayResult(statistic=156.40030062099186, pvalue=5.188180776617384e-99)"
            ]
          },
          "metadata": {},
          "execution_count": 48
        }
      ]
    },
    {
      "cell_type": "markdown",
      "source": [
        "what a surprise :o"
      ],
      "metadata": {
        "id": "oP6UCwPYRkQ2"
      }
    },
    {
      "cell_type": "code",
      "source": [
        "# ANOVA without the llama_adapter\n",
        "f_oneway(df_survey_results.llama_adater_all, df_survey_results.llama_no_peft, df_survey_results.true_names)\n"
      ],
      "metadata": {
        "colab": {
          "base_uri": "https://localhost:8080/"
        },
        "id": "4zvZi0-rJoFW",
        "outputId": "8040d3b9-f2ea-4840-c28a-f4efa3a85e71"
      },
      "execution_count": null,
      "outputs": [
        {
          "output_type": "execute_result",
          "data": {
            "text/plain": [
              "F_onewayResult(statistic=0.2138659369987464, pvalue=0.8074616709287924)"
            ]
          },
          "metadata": {},
          "execution_count": 49
        }
      ]
    },
    {
      "cell_type": "markdown",
      "source": [
        "This is a more interesting result!"
      ],
      "metadata": {
        "id": "9SAi85l2RoCD"
      }
    },
    {
      "cell_type": "markdown",
      "source": [
        "### (Pairwise) Permutation tests\n",
        "\n",
        "Using such non-parametric tests to avoid issues arising from non-normality\n",
        "of outcome feature.\n",
        "Downside: Only two-way comaparisons are possible."
      ],
      "metadata": {
        "id": "RR2dG3pqSNkr"
      }
    },
    {
      "cell_type": "code",
      "source": [
        "# vs llama model tuned on all listings\n",
        "\n",
        "permutation_test(df_survey_results.llama_adapter, df_survey_results.llama_adater_all, 1000)\n"
      ],
      "metadata": {
        "colab": {
          "base_uri": "https://localhost:8080/"
        },
        "id": "qR42k6t9SbCl",
        "outputId": "252d1f43-6269-4df6-97f0-5d88976c7342"
      },
      "execution_count": null,
      "outputs": [
        {
          "output_type": "execute_result",
          "data": {
            "text/plain": [
              "0.0"
            ]
          },
          "metadata": {},
          "execution_count": 50
        }
      ]
    },
    {
      "cell_type": "code",
      "source": [
        "# vs llama model without peft\n",
        "\n",
        "permutation_test(df_survey_results.llama_adapter, df_survey_results.llama_no_peft, 1000)"
      ],
      "metadata": {
        "colab": {
          "base_uri": "https://localhost:8080/"
        },
        "id": "kvIGrIJYm0lZ",
        "outputId": "2388f282-50f4-4667-b7c0-c7fb2a711988"
      },
      "execution_count": null,
      "outputs": [
        {
          "output_type": "execute_result",
          "data": {
            "text/plain": [
              "0.0"
            ]
          },
          "metadata": {},
          "execution_count": 51
        }
      ]
    },
    {
      "cell_type": "code",
      "source": [
        "# vs true titles\n",
        "\n",
        "permutation_test(df_survey_results.llama_adapter, df_survey_results.true_names, 1000)"
      ],
      "metadata": {
        "colab": {
          "base_uri": "https://localhost:8080/"
        },
        "id": "CVYxHAaBm6OY",
        "outputId": "b3115fc1-d04e-4cec-8216-d1e6bbca0387"
      },
      "execution_count": null,
      "outputs": [
        {
          "output_type": "execute_result",
          "data": {
            "text/plain": [
              "0.0"
            ]
          },
          "metadata": {},
          "execution_count": 52
        }
      ]
    },
    {
      "cell_type": "markdown",
      "source": [
        "#### Further comparisons vs true names"
      ],
      "metadata": {
        "id": "zTcXHaLOnAXE"
      }
    },
    {
      "cell_type": "code",
      "source": [
        "# true vs no peft\n",
        "print(permutation_test(df_survey_results.llama_no_peft, df_survey_results.true_names, 1000))\n"
      ],
      "metadata": {
        "colab": {
          "base_uri": "https://localhost:8080/"
        },
        "id": "XLerCPLBnst9",
        "outputId": "14fbad5f-9948-4c9e-ebf6-1a6e361b1c20"
      },
      "execution_count": null,
      "outputs": [
        {
          "output_type": "stream",
          "name": "stdout",
          "text": [
            "0.576\n"
          ]
        }
      ]
    },
    {
      "cell_type": "code",
      "source": [
        "# true vs llama tuned on all\n",
        "print(permutation_test(df_survey_results.llama_adater_all, df_survey_results.true_names, 1000))\n"
      ],
      "metadata": {
        "colab": {
          "base_uri": "https://localhost:8080/"
        },
        "id": "bZHsvjIjnCyn",
        "outputId": "8446d7e7-f870-4457-b500-cef2a7013bb4"
      },
      "execution_count": null,
      "outputs": [
        {
          "output_type": "stream",
          "name": "stdout",
          "text": [
            "1.0\n"
          ]
        }
      ]
    },
    {
      "cell_type": "markdown",
      "source": [
        "## Collapsing the DF to obtain relative frequencies of each title being chosen per thumbnail\n",
        "\n",
        "As ist likely needed for further model-based evaluation of survey results"
      ],
      "metadata": {
        "id": "JIL-XQcAcd_l"
      }
    },
    {
      "cell_type": "code",
      "source": [
        "# creaging new DF\n",
        "listings =  np.unique(df_survey_results.listing)\n",
        "\n",
        "df_collapsed_results = pd.DataFrame({\"listing\":listings, \t\"llama_adapter\": np.zeros(len(listings)), \t\"llama_adater_all\" : np.zeros(len(listings)),\t\"llama_no_peft\": np.zeros(len(listings)), \t\"true_names\": np.zeros(len(listings))})\n",
        "\n"
      ],
      "metadata": {
        "id": "him_pXjBdKXe"
      },
      "execution_count": null,
      "outputs": []
    },
    {
      "cell_type": "code",
      "source": [
        "df_collapsed_results"
      ],
      "metadata": {
        "colab": {
          "base_uri": "https://localhost:8080/",
          "height": 424
        },
        "id": "PlOfCxIkj5Ms",
        "outputId": "8ff28637-a7cb-4dfc-edf7-615a75dd1d51"
      },
      "execution_count": null,
      "outputs": [
        {
          "output_type": "execute_result",
          "data": {
            "text/plain": [
              "      listing  llama_adapter  llama_adater_all  llama_no_peft  true_names\n",
              "0      v_50_1            0.0               0.0            0.0         0.0\n",
              "1     v_50_10            0.0               0.0            0.0         0.0\n",
              "2    v_50_100            0.0               0.0            0.0         0.0\n",
              "3    v_50_101            0.0               0.0            0.0         0.0\n",
              "4    v_50_102            0.0               0.0            0.0         0.0\n",
              "..        ...            ...               ...            ...         ...\n",
              "481  v_52_428            0.0               0.0            0.0         0.0\n",
              "482  v_52_429            0.0               0.0            0.0         0.0\n",
              "483  v_52_430            0.0               0.0            0.0         0.0\n",
              "484  v_52_431            0.0               0.0            0.0         0.0\n",
              "485  v_52_432            0.0               0.0            0.0         0.0\n",
              "\n",
              "[486 rows x 5 columns]"
            ],
            "text/html": [
              "\n",
              "  <div id=\"df-f43df8e2-bde1-496e-96e5-cef45e2ccb8f\" class=\"colab-df-container\">\n",
              "    <div>\n",
              "<style scoped>\n",
              "    .dataframe tbody tr th:only-of-type {\n",
              "        vertical-align: middle;\n",
              "    }\n",
              "\n",
              "    .dataframe tbody tr th {\n",
              "        vertical-align: top;\n",
              "    }\n",
              "\n",
              "    .dataframe thead th {\n",
              "        text-align: right;\n",
              "    }\n",
              "</style>\n",
              "<table border=\"1\" class=\"dataframe\">\n",
              "  <thead>\n",
              "    <tr style=\"text-align: right;\">\n",
              "      <th></th>\n",
              "      <th>listing</th>\n",
              "      <th>llama_adapter</th>\n",
              "      <th>llama_adater_all</th>\n",
              "      <th>llama_no_peft</th>\n",
              "      <th>true_names</th>\n",
              "    </tr>\n",
              "  </thead>\n",
              "  <tbody>\n",
              "    <tr>\n",
              "      <th>0</th>\n",
              "      <td>v_50_1</td>\n",
              "      <td>0.0</td>\n",
              "      <td>0.0</td>\n",
              "      <td>0.0</td>\n",
              "      <td>0.0</td>\n",
              "    </tr>\n",
              "    <tr>\n",
              "      <th>1</th>\n",
              "      <td>v_50_10</td>\n",
              "      <td>0.0</td>\n",
              "      <td>0.0</td>\n",
              "      <td>0.0</td>\n",
              "      <td>0.0</td>\n",
              "    </tr>\n",
              "    <tr>\n",
              "      <th>2</th>\n",
              "      <td>v_50_100</td>\n",
              "      <td>0.0</td>\n",
              "      <td>0.0</td>\n",
              "      <td>0.0</td>\n",
              "      <td>0.0</td>\n",
              "    </tr>\n",
              "    <tr>\n",
              "      <th>3</th>\n",
              "      <td>v_50_101</td>\n",
              "      <td>0.0</td>\n",
              "      <td>0.0</td>\n",
              "      <td>0.0</td>\n",
              "      <td>0.0</td>\n",
              "    </tr>\n",
              "    <tr>\n",
              "      <th>4</th>\n",
              "      <td>v_50_102</td>\n",
              "      <td>0.0</td>\n",
              "      <td>0.0</td>\n",
              "      <td>0.0</td>\n",
              "      <td>0.0</td>\n",
              "    </tr>\n",
              "    <tr>\n",
              "      <th>...</th>\n",
              "      <td>...</td>\n",
              "      <td>...</td>\n",
              "      <td>...</td>\n",
              "      <td>...</td>\n",
              "      <td>...</td>\n",
              "    </tr>\n",
              "    <tr>\n",
              "      <th>481</th>\n",
              "      <td>v_52_428</td>\n",
              "      <td>0.0</td>\n",
              "      <td>0.0</td>\n",
              "      <td>0.0</td>\n",
              "      <td>0.0</td>\n",
              "    </tr>\n",
              "    <tr>\n",
              "      <th>482</th>\n",
              "      <td>v_52_429</td>\n",
              "      <td>0.0</td>\n",
              "      <td>0.0</td>\n",
              "      <td>0.0</td>\n",
              "      <td>0.0</td>\n",
              "    </tr>\n",
              "    <tr>\n",
              "      <th>483</th>\n",
              "      <td>v_52_430</td>\n",
              "      <td>0.0</td>\n",
              "      <td>0.0</td>\n",
              "      <td>0.0</td>\n",
              "      <td>0.0</td>\n",
              "    </tr>\n",
              "    <tr>\n",
              "      <th>484</th>\n",
              "      <td>v_52_431</td>\n",
              "      <td>0.0</td>\n",
              "      <td>0.0</td>\n",
              "      <td>0.0</td>\n",
              "      <td>0.0</td>\n",
              "    </tr>\n",
              "    <tr>\n",
              "      <th>485</th>\n",
              "      <td>v_52_432</td>\n",
              "      <td>0.0</td>\n",
              "      <td>0.0</td>\n",
              "      <td>0.0</td>\n",
              "      <td>0.0</td>\n",
              "    </tr>\n",
              "  </tbody>\n",
              "</table>\n",
              "<p>486 rows × 5 columns</p>\n",
              "</div>\n",
              "    <div class=\"colab-df-buttons\">\n",
              "\n",
              "  <div class=\"colab-df-container\">\n",
              "    <button class=\"colab-df-convert\" onclick=\"convertToInteractive('df-f43df8e2-bde1-496e-96e5-cef45e2ccb8f')\"\n",
              "            title=\"Convert this dataframe to an interactive table.\"\n",
              "            style=\"display:none;\">\n",
              "\n",
              "  <svg xmlns=\"http://www.w3.org/2000/svg\" height=\"24px\" viewBox=\"0 -960 960 960\">\n",
              "    <path d=\"M120-120v-720h720v720H120Zm60-500h600v-160H180v160Zm220 220h160v-160H400v160Zm0 220h160v-160H400v160ZM180-400h160v-160H180v160Zm440 0h160v-160H620v160ZM180-180h160v-160H180v160Zm440 0h160v-160H620v160Z\"/>\n",
              "  </svg>\n",
              "    </button>\n",
              "\n",
              "  <style>\n",
              "    .colab-df-container {\n",
              "      display:flex;\n",
              "      gap: 12px;\n",
              "    }\n",
              "\n",
              "    .colab-df-convert {\n",
              "      background-color: #E8F0FE;\n",
              "      border: none;\n",
              "      border-radius: 50%;\n",
              "      cursor: pointer;\n",
              "      display: none;\n",
              "      fill: #1967D2;\n",
              "      height: 32px;\n",
              "      padding: 0 0 0 0;\n",
              "      width: 32px;\n",
              "    }\n",
              "\n",
              "    .colab-df-convert:hover {\n",
              "      background-color: #E2EBFA;\n",
              "      box-shadow: 0px 1px 2px rgba(60, 64, 67, 0.3), 0px 1px 3px 1px rgba(60, 64, 67, 0.15);\n",
              "      fill: #174EA6;\n",
              "    }\n",
              "\n",
              "    .colab-df-buttons div {\n",
              "      margin-bottom: 4px;\n",
              "    }\n",
              "\n",
              "    [theme=dark] .colab-df-convert {\n",
              "      background-color: #3B4455;\n",
              "      fill: #D2E3FC;\n",
              "    }\n",
              "\n",
              "    [theme=dark] .colab-df-convert:hover {\n",
              "      background-color: #434B5C;\n",
              "      box-shadow: 0px 1px 3px 1px rgba(0, 0, 0, 0.15);\n",
              "      filter: drop-shadow(0px 1px 2px rgba(0, 0, 0, 0.3));\n",
              "      fill: #FFFFFF;\n",
              "    }\n",
              "  </style>\n",
              "\n",
              "    <script>\n",
              "      const buttonEl =\n",
              "        document.querySelector('#df-f43df8e2-bde1-496e-96e5-cef45e2ccb8f button.colab-df-convert');\n",
              "      buttonEl.style.display =\n",
              "        google.colab.kernel.accessAllowed ? 'block' : 'none';\n",
              "\n",
              "      async function convertToInteractive(key) {\n",
              "        const element = document.querySelector('#df-f43df8e2-bde1-496e-96e5-cef45e2ccb8f');\n",
              "        const dataTable =\n",
              "          await google.colab.kernel.invokeFunction('convertToInteractive',\n",
              "                                                    [key], {});\n",
              "        if (!dataTable) return;\n",
              "\n",
              "        const docLinkHtml = 'Like what you see? Visit the ' +\n",
              "          '<a target=\"_blank\" href=https://colab.research.google.com/notebooks/data_table.ipynb>data table notebook</a>'\n",
              "          + ' to learn more about interactive tables.';\n",
              "        element.innerHTML = '';\n",
              "        dataTable['output_type'] = 'display_data';\n",
              "        await google.colab.output.renderOutput(dataTable, element);\n",
              "        const docLink = document.createElement('div');\n",
              "        docLink.innerHTML = docLinkHtml;\n",
              "        element.appendChild(docLink);\n",
              "      }\n",
              "    </script>\n",
              "  </div>\n",
              "\n",
              "\n",
              "<div id=\"df-511a78d4-25fb-4202-b92a-0ee65e15cecf\">\n",
              "  <button class=\"colab-df-quickchart\" onclick=\"quickchart('df-511a78d4-25fb-4202-b92a-0ee65e15cecf')\"\n",
              "            title=\"Suggest charts.\"\n",
              "            style=\"display:none;\">\n",
              "\n",
              "<svg xmlns=\"http://www.w3.org/2000/svg\" height=\"24px\"viewBox=\"0 0 24 24\"\n",
              "     width=\"24px\">\n",
              "    <g>\n",
              "        <path d=\"M19 3H5c-1.1 0-2 .9-2 2v14c0 1.1.9 2 2 2h14c1.1 0 2-.9 2-2V5c0-1.1-.9-2-2-2zM9 17H7v-7h2v7zm4 0h-2V7h2v10zm4 0h-2v-4h2v4z\"/>\n",
              "    </g>\n",
              "</svg>\n",
              "  </button>\n",
              "\n",
              "<style>\n",
              "  .colab-df-quickchart {\n",
              "    background-color: #E8F0FE;\n",
              "    border: none;\n",
              "    border-radius: 50%;\n",
              "    cursor: pointer;\n",
              "    display: none;\n",
              "    fill: #1967D2;\n",
              "    height: 32px;\n",
              "    padding: 0 0 0 0;\n",
              "    width: 32px;\n",
              "  }\n",
              "\n",
              "  .colab-df-quickchart:hover {\n",
              "    background-color: #E2EBFA;\n",
              "    box-shadow: 0px 1px 2px rgba(60, 64, 67, 0.3), 0px 1px 3px 1px rgba(60, 64, 67, 0.15);\n",
              "    fill: #174EA6;\n",
              "  }\n",
              "\n",
              "  [theme=dark] .colab-df-quickchart {\n",
              "    background-color: #3B4455;\n",
              "    fill: #D2E3FC;\n",
              "  }\n",
              "\n",
              "  [theme=dark] .colab-df-quickchart:hover {\n",
              "    background-color: #434B5C;\n",
              "    box-shadow: 0px 1px 3px 1px rgba(0, 0, 0, 0.15);\n",
              "    filter: drop-shadow(0px 1px 2px rgba(0, 0, 0, 0.3));\n",
              "    fill: #FFFFFF;\n",
              "  }\n",
              "</style>\n",
              "\n",
              "  <script>\n",
              "    async function quickchart(key) {\n",
              "      const charts = await google.colab.kernel.invokeFunction(\n",
              "          'suggestCharts', [key], {});\n",
              "    }\n",
              "    (() => {\n",
              "      let quickchartButtonEl =\n",
              "        document.querySelector('#df-511a78d4-25fb-4202-b92a-0ee65e15cecf button');\n",
              "      quickchartButtonEl.style.display =\n",
              "        google.colab.kernel.accessAllowed ? 'block' : 'none';\n",
              "    })();\n",
              "  </script>\n",
              "</div>\n",
              "    </div>\n",
              "  </div>\n"
            ]
          },
          "metadata": {},
          "execution_count": 21
        }
      ]
    },
    {
      "cell_type": "code",
      "source": [
        "# filing in relative shares\n",
        "\n",
        "rel_shares = df_collapsed_results.listing.apply(lambda x: get_rel_shares(x))\n",
        "\n",
        "for i in range(rel_shares.shape[0]):\n",
        "  df_collapsed_results[\"llama_adapter\"][i] = rel_shares[i][0]\n",
        "  df_collapsed_results[\"llama_adater_all\"][i] = rel_shares[i][1]\n",
        "  df_collapsed_results[\"llama_no_peft\"][i] = rel_shares[i][2]\n",
        "  df_collapsed_results[\"true_names\"][i] = rel_shares[i][3]\n"
      ],
      "metadata": {
        "id": "B49ffMOYg2Tx"
      },
      "execution_count": null,
      "outputs": []
    },
    {
      "cell_type": "code",
      "source": [
        "# saving to drive\n",
        "\n",
        "df_collapsed_results.to_csv(\"/content/gdrive/My Drive/Thesis/survey_data/df_survey_collapsed_results.csv\", index = False)"
      ],
      "metadata": {
        "id": "gSMi8nb-hOWf"
      },
      "execution_count": null,
      "outputs": []
    },
    {
      "cell_type": "markdown",
      "source": [
        "### Figuring out winners of the prize money\n",
        "\n",
        "Rndomly smapling 5 participants who fininshed in a reasonable time\n",
        "and passed the \"test thumbnail\"."
      ],
      "metadata": {
        "id": "0xbBR14YiKFe"
      }
    },
    {
      "cell_type": "code",
      "source": [
        "data_survey = pd.read_csv(\"/content/gdrive/My Drive/Thesis/survey_data/data_project_991419_2023_08_23.csv\", sep = \";\")\n",
        "\n",
        "# reasonable time\n",
        "min_time = 2.5*60\n",
        "max_time = 20*60\n",
        "data_survey = data_survey[(data_survey.duration >= min_time) & (data_survey.duration <= max_time)]\n",
        "\n",
        "# passing tst thubnail\n",
        "data_survey = data_survey[data_survey.v_53_1.isin([1,4])]\n",
        "\n",
        "# those who provided a mail\n",
        "\n",
        "data_survey = data_survey[data_survey.v_54 != \"-99\"]\n",
        "data_survey.shape"
      ],
      "metadata": {
        "colab": {
          "base_uri": "https://localhost:8080/"
        },
        "id": "rvPQ2PitiVHa",
        "outputId": "017fc33f-b562-4b9f-eaec-60f41131d851"
      },
      "execution_count": null,
      "outputs": [
        {
          "output_type": "execute_result",
          "data": {
            "text/plain": [
              "(266, 527)"
            ]
          },
          "metadata": {},
          "execution_count": 106
        }
      ]
    },
    {
      "cell_type": "code",
      "source": [
        "# sampling, using 2023 as random state\n",
        "\n",
        "data_survey.v_54.sample(5, random_state = 2023)\n",
        "\n"
      ],
      "metadata": {
        "id": "nMv3_Ot0j32L"
      },
      "execution_count": null,
      "outputs": []
    },
    {
      "cell_type": "markdown",
      "source": [
        "Importantly, the output will be deleted to ensure privacy!"
      ],
      "metadata": {
        "id": "njhZmgJZlUwp"
      }
    }
  ],
  "metadata": {
    "kernelspec": {
      "display_name": "Python 3",
      "language": "python",
      "name": "python3"
    },
    "language_info": {
      "codemirror_mode": {
        "name": "ipython",
        "version": 3
      },
      "file_extension": ".py",
      "mimetype": "text/x-python",
      "name": "python",
      "nbconvert_exporter": "python",
      "pygments_lexer": "ipython3",
      "version": "3.9.5"
    },
    "orig_nbformat": 4,
    "colab": {
      "provenance": []
    }
  },
  "nbformat": 4,
  "nbformat_minor": 0
}